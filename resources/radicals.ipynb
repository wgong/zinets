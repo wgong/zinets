{
 "cells": [
  {
   "cell_type": "code",
   "execution_count": 14,
   "id": "9d687513",
   "metadata": {},
   "outputs": [],
   "source": [
    "from helper import *"
   ]
  },
  {
   "cell_type": "code",
   "execution_count": 16,
   "id": "913a7b16",
   "metadata": {},
   "outputs": [],
   "source": [
    "from pathlib import Path"
   ]
  },
  {
   "cell_type": "code",
   "execution_count": 18,
   "id": "19ab7add",
   "metadata": {},
   "outputs": [],
   "source": [
    "import pandas as pd "
   ]
  },
  {
   "cell_type": "code",
   "execution_count": 12,
   "id": "e5d4c4ef",
   "metadata": {},
   "outputs": [],
   "source": [
    "DROP_TABLES_FLAG = False"
   ]
  },
  {
   "cell_type": "code",
   "execution_count": 15,
   "id": "957ad028",
   "metadata": {},
   "outputs": [],
   "source": [
    "old_db_file = \"../../old_db/hanzi-20160115.sqlite\""
   ]
  },
  {
   "cell_type": "code",
   "execution_count": 17,
   "id": "5a3ac7e9",
   "metadata": {},
   "outputs": [
    {
     "data": {
      "text/plain": [
       "True"
      ]
     },
     "execution_count": 17,
     "metadata": {},
     "output_type": "execute_result"
    }
   ],
   "source": [
    "Path(old_db_file).exists()"
   ]
  },
  {
   "cell_type": "code",
   "execution_count": 21,
   "id": "6c1c06ae",
   "metadata": {},
   "outputs": [],
   "source": [
    "with DBConn(Path(old_db_file)) as _conn:\n",
    "    sql_select = \"select * from wg_zi_shape order by zi\"\n",
    "    df = pd.read_sql(sql_select, _conn).fillna(\"\")"
   ]
  },
  {
   "cell_type": "code",
   "execution_count": 22,
   "id": "e0ca59e0",
   "metadata": {},
   "outputs": [
    {
     "data": {
      "text/html": [
       "<div>\n",
       "<style scoped>\n",
       "    .dataframe tbody tr th:only-of-type {\n",
       "        vertical-align: middle;\n",
       "    }\n",
       "\n",
       "    .dataframe tbody tr th {\n",
       "        vertical-align: top;\n",
       "    }\n",
       "\n",
       "    .dataframe thead th {\n",
       "        text-align: right;\n",
       "    }\n",
       "</style>\n",
       "<table border=\"1\" class=\"dataframe\">\n",
       "  <thead>\n",
       "    <tr style=\"text-align: right;\">\n",
       "      <th></th>\n",
       "      <th>id</th>\n",
       "      <th>zi</th>\n",
       "      <th>z_back</th>\n",
       "      <th>z_up_left</th>\n",
       "      <th>z_upper</th>\n",
       "      <th>z_up_right</th>\n",
       "      <th>z_left</th>\n",
       "      <th>z_center</th>\n",
       "      <th>z_right</th>\n",
       "      <th>z_low_left</th>\n",
       "      <th>z_lower</th>\n",
       "      <th>z_low_right</th>\n",
       "      <th>z_front</th>\n",
       "      <th>note</th>\n",
       "      <th>z_lowleft</th>\n",
       "      <th>z_upright</th>\n",
       "      <th>z_lowright</th>\n",
       "      <th>z_upleft</th>\n",
       "    </tr>\n",
       "  </thead>\n",
       "  <tbody>\n",
       "    <tr>\n",
       "      <th>0</th>\n",
       "      <td>86</td>\n",
       "      <td></td>\n",
       "      <td></td>\n",
       "      <td></td>\n",
       "      <td></td>\n",
       "      <td></td>\n",
       "      <td></td>\n",
       "      <td></td>\n",
       "      <td></td>\n",
       "      <td></td>\n",
       "      <td></td>\n",
       "      <td></td>\n",
       "      <td></td>\n",
       "      <td></td>\n",
       "      <td></td>\n",
       "      <td></td>\n",
       "      <td></td>\n",
       "      <td></td>\n",
       "    </tr>\n",
       "    <tr>\n",
       "      <th>1</th>\n",
       "      <td>266</td>\n",
       "      <td></td>\n",
       "      <td></td>\n",
       "      <td></td>\n",
       "      <td></td>\n",
       "      <td></td>\n",
       "      <td></td>\n",
       "      <td></td>\n",
       "      <td></td>\n",
       "      <td></td>\n",
       "      <td></td>\n",
       "      <td></td>\n",
       "      <td></td>\n",
       "      <td></td>\n",
       "      <td></td>\n",
       "      <td></td>\n",
       "      <td></td>\n",
       "      <td></td>\n",
       "    </tr>\n",
       "    <tr>\n",
       "      <th>2</th>\n",
       "      <td>866</td>\n",
       "      <td></td>\n",
       "      <td></td>\n",
       "      <td></td>\n",
       "      <td></td>\n",
       "      <td></td>\n",
       "      <td></td>\n",
       "      <td></td>\n",
       "      <td></td>\n",
       "      <td></td>\n",
       "      <td></td>\n",
       "      <td></td>\n",
       "      <td></td>\n",
       "      <td></td>\n",
       "      <td></td>\n",
       "      <td></td>\n",
       "      <td></td>\n",
       "      <td></td>\n",
       "    </tr>\n",
       "    <tr>\n",
       "      <th>3</th>\n",
       "      <td>428</td>\n",
       "      <td>㐬</td>\n",
       "      <td></td>\n",
       "      <td></td>\n",
       "      <td>云</td>\n",
       "      <td></td>\n",
       "      <td></td>\n",
       "      <td></td>\n",
       "      <td></td>\n",
       "      <td></td>\n",
       "      <td>川</td>\n",
       "      <td></td>\n",
       "      <td></td>\n",
       "      <td></td>\n",
       "      <td></td>\n",
       "      <td></td>\n",
       "      <td></td>\n",
       "      <td></td>\n",
       "    </tr>\n",
       "    <tr>\n",
       "      <th>4</th>\n",
       "      <td>841</td>\n",
       "      <td>㒸</td>\n",
       "      <td></td>\n",
       "      <td></td>\n",
       "      <td>丷</td>\n",
       "      <td></td>\n",
       "      <td></td>\n",
       "      <td>豕</td>\n",
       "      <td></td>\n",
       "      <td></td>\n",
       "      <td></td>\n",
       "      <td></td>\n",
       "      <td></td>\n",
       "      <td></td>\n",
       "      <td></td>\n",
       "      <td></td>\n",
       "      <td></td>\n",
       "      <td></td>\n",
       "    </tr>\n",
       "  </tbody>\n",
       "</table>\n",
       "</div>"
      ],
      "text/plain": [
       "    id zi z_back z_up_left z_upper z_up_right z_left z_center z_right  \\\n",
       "0   86                                                                  \n",
       "1  266                                                                  \n",
       "2  866                                                                  \n",
       "3  428  㐬                        云                                      \n",
       "4  841  㒸                        丷                          豕           \n",
       "\n",
       "  z_low_left z_lower z_low_right z_front note z_lowleft z_upright z_lowright  \\\n",
       "0                                                                              \n",
       "1                                                                              \n",
       "2                                                                              \n",
       "3                  川                                                           \n",
       "4                                                                              \n",
       "\n",
       "  z_upleft  \n",
       "0           \n",
       "1           \n",
       "2           \n",
       "3           \n",
       "4           "
      ]
     },
     "execution_count": 22,
     "metadata": {},
     "output_type": "execute_result"
    }
   ],
   "source": [
    "df.head()"
   ]
  },
  {
   "cell_type": "code",
   "execution_count": 23,
   "id": "65f0862f",
   "metadata": {},
   "outputs": [],
   "source": [
    "df.to_csv(\"old_db_zi.csv\", index=False)"
   ]
  },
  {
   "cell_type": "markdown",
   "id": "b7357a69",
   "metadata": {},
   "source": [
    "## create tables "
   ]
  },
  {
   "cell_type": "code",
   "execution_count": 8,
   "id": "bb0b9c40",
   "metadata": {},
   "outputs": [
    {
     "name": "stdout",
     "output_type": "stream",
     "text": [
      "-- table to store zi (unicode), description, and their translations in English (en), Spanish (es)\n",
      "create table if not exists t_zi (\n",
      "    id INTEGER PRIMARY KEY AUTOINCREMENT,\n",
      "\n",
      "    zi text NOT NULL,\n",
      "    desc text,\n",
      "\n",
      "    zi_en text,\n",
      "    desc_en text,\n",
      "\n",
      "    zi_es text,\n",
      "    desc_es text,\n",
      "\n",
      "    pinyin text,\n",
      "    nstrokes INTEGER,\n",
      "\n",
      "    is_radical INTEGER,\n",
      "    is_zi INTEGER,\n",
      "    is_traditional INTEGER,\n",
      "\n",
      "    -- sys_cols\n",
      "    is_active INTEGER,\n",
      "    uid INTEGER,                    -- FK to t_user.id\n",
      "    uid_created INTEGER,\n",
      "    ts text,\n",
      "    ts_created text,\n",
      "\n",
      "    CONSTRAINT uk_zi UNIQUE (zi)\n",
      ");\n",
      "\n",
      "\n",
      "-- table to store disected zi parts\n",
      "create table if not exists  t_zi_part (\n",
      "    id INTEGER PRIMARY KEY AUTOINCREMENT,\n",
      "\n",
      "    zi text NOT NULL,\n",
      "\n",
      "    lu text,  -- left up part\n",
      "    l text,  -- left part\n",
      "    ld text,  -- left down part\n",
      "    u text,  -- up part\n",
      "    m text,  -- mid part\n",
      "    d text,  -- down part\n",
      "    ru text,  -- right up part\n",
      "    r text,  -- right part\n",
      "    rd text,  -- right down part\n",
      "    mf text,  -- mid front\n",
      "    mb text,  -- mid back\n",
      "\n",
      "    -- sys_cols\n",
      "    is_active INTEGER,\n",
      "    uid INTEGER,                    -- FK to t_user.id\n",
      "    uid_created INTEGER,\n",
      "    ts text,\n",
      "    ts_created text,\n",
      "\n",
      "    CONSTRAINT uk_zi UNIQUE (zi)\n",
      ");\n",
      "\n",
      "-- table to store Zi's calligraphy\n",
      "create table if not exists  t_zi_shufa (\n",
      "    id INTEGER PRIMARY KEY AUTOINCREMENT,\n",
      "\n",
      "    zi text NOT NULL,\n",
      "\n",
      "    url_img_1 text,     -- 甲骨 \n",
      "    url_img_2 text,     -- 金 \n",
      "    url_img_3 text,     -- 篆\n",
      "    url_img_4 text,     -- 隶\n",
      "    url_img_5 text,     -- 楷\n",
      "    url_img_6 text,     -- 行\n",
      "    url_img_7 text,     -- 草\n",
      "\n",
      "    -- sys_cols\n",
      "    is_active INTEGER,\n",
      "    uid INTEGER,                    -- FK to t_user.id\n",
      "    uid_created INTEGER,\n",
      "    ts text,\n",
      "    ts_created text,\n",
      "\n",
      "    CONSTRAINT uk_zi UNIQUE (zi)\n",
      ");\n",
      "\n",
      "-- table to store related short 词 word/vocabulary (up to 10 Zi sequence), overflow to t_zi_text if longer\n",
      "create table if not exists  t_zi_word (\n",
      "    id INTEGER PRIMARY KEY AUTOINCREMENT,\n",
      "\n",
      "    zi text NOT NULL,\n",
      "\n",
      "    zi_0 text,  -- FK to t_zi.zi\n",
      "    zi_1 text,\n",
      "    zi_2 text,\n",
      "    zi_3 text,\n",
      "    zi_4 text,\n",
      "    zi_5 text,\n",
      "    zi_6 text,\n",
      "    zi_7 text,\n",
      "    zi_8 text,\n",
      "    zi_9 text,\n",
      "\n",
      "    word_en text,\n",
      "    word_es text,\n",
      "\n",
      "    desc text,\n",
      "    desc_en text,\n",
      "    desc_es text,\n",
      "\n",
      "    -- sys_cols\n",
      "    is_active INTEGER,\n",
      "    uid INTEGER,                    -- FK to t_user.id\n",
      "    uid_created INTEGER,\n",
      "    ts text,\n",
      "    ts_created text,\n",
      "\n",
      "    CONSTRAINT uk_zi UNIQUE (zi)\n",
      ");\n",
      "\n",
      "-- table to store related long phrases/sentences\n",
      "create table if not exists  t_zi_text (\n",
      "    id INTEGER PRIMARY KEY AUTOINCREMENT,\n",
      "\n",
      "    zi text NOT NULL,\n",
      "\n",
      "    desc text,  -- long description\n",
      "    desc_en text,\n",
      "    desc_es text,\n",
      "\n",
      "    -- sys_cols\n",
      "    is_active INTEGER,\n",
      "    uid INTEGER,                    -- FK to t_user.id\n",
      "    uid_created INTEGER,\n",
      "    ts text,\n",
      "    ts_created text,\n",
      "\n",
      "    CONSTRAINT uk_zi UNIQUE (zi)\n",
      ");\n",
      "\n",
      "-- table to store related media resources (url, img, audio, video, book)\n",
      "create table if not exists  t_zi_media (\n",
      "    id INTEGER PRIMARY KEY AUTOINCREMENT,\n",
      "\n",
      "    zi text NOT NULL,\n",
      "\n",
      "    media_type text, -- url, image, audio, video, book\n",
      "    url text,\n",
      "\n",
      "    desc text,  -- long description\n",
      "    desc_en text,\n",
      "    desc_es text,\n",
      "\n",
      "    -- sys_cols\n",
      "    is_active INTEGER,\n",
      "    uid INTEGER,                    -- FK to t_user.id\n",
      "    uid_created INTEGER,\n",
      "    ts text,\n",
      "    ts_created text,\n",
      "\n",
      "    CONSTRAINT uk_zi UNIQUE (zi)\n",
      ");\n",
      "\n",
      "-- store user info\n",
      "create table if not exists  t_user (\n",
      "    id INTEGER PRIMARY KEY AUTOINCREMENT,\n",
      "\n",
      "    user_id text  NOT NULL,     -- email or user_id\n",
      "    pwd text,                   -- encrypted password\n",
      "\n",
      "    role_name text,             -- admin, dev, reviewer, user\n",
      "\n",
      "    country text,\n",
      "    lang text,\n",
      "\n",
      "    -- sys_cols\n",
      "    is_active INTEGER,\n",
      "    uid INTEGER,                    -- FK to t_user.id\n",
      "    uid_created INTEGER,\n",
      "    ts text,\n",
      "    ts_created text,\n",
      "\n",
      "    CONSTRAINT uk_userid UNIQUE (user_id)\n",
      ");\n"
     ]
    }
   ],
   "source": [
    "sql_create = open(\"schema.sql\", encoding=\"utf-8\").read()\n",
    "\n",
    "print(sql_create)"
   ]
  },
  {
   "cell_type": "code",
   "execution_count": 9,
   "id": "5d0e35d9",
   "metadata": {},
   "outputs": [],
   "source": [
    "with DBConn() as _conn:\n",
    "    db_run_sql(sql_create, _conn)"
   ]
  },
  {
   "cell_type": "markdown",
   "id": "aba5d9ea",
   "metadata": {},
   "source": [
    "## verify tables "
   ]
  },
  {
   "cell_type": "code",
   "execution_count": 10,
   "id": "07dc8553",
   "metadata": {},
   "outputs": [
    {
     "name": "stdout",
     "output_type": "stream",
     "text": [
      "Tables: ['t_zi', 't_zi_part', 't_zi_shufa', 't_zi_word', 't_zi_text', 't_zi_media', 't_user']\n"
     ]
    }
   ],
   "source": [
    "with DBConn() as _conn:\n",
    "    sql_select = f\"\"\"\n",
    "        SELECT name FROM sqlite_master WHERE type='table' and name like 't_%';\n",
    "    \"\"\"\n",
    "    df = db_run_sql(sql_select, _conn)\n",
    "    tables = df[\"name\"].to_list()\n",
    "    print(f\"Tables: {tables}\")"
   ]
  },
  {
   "cell_type": "raw",
   "id": "d886220a",
   "metadata": {},
   "source": [
    "Tables: ['t_zi', 't_zi_part', 't_zi_shufa', 't_zi_word', 't_zi_text', 't_zi_media', 't_user']"
   ]
  },
  {
   "cell_type": "markdown",
   "id": "fb85b10d",
   "metadata": {},
   "source": [
    "## drop tables "
   ]
  },
  {
   "cell_type": "code",
   "execution_count": 13,
   "id": "d2c21321",
   "metadata": {},
   "outputs": [],
   "source": [
    "if DROP_TABLES_FLAG:\n",
    "    with DBConn() as _conn:\n",
    "        for t in tables:\n",
    "            sql_drop = f\"\"\"\n",
    "                drop table IF EXISTS {t};\n",
    "            \"\"\"\n",
    "            print(sql_drop)\n",
    "            db_run_sql(sql_drop, _conn)"
   ]
  },
  {
   "cell_type": "code",
   "execution_count": null,
   "id": "c3d8b071",
   "metadata": {},
   "outputs": [],
   "source": []
  },
  {
   "cell_type": "markdown",
   "id": "2a0231d4",
   "metadata": {},
   "source": [
    "## Radicals\n",
    "\n",
    "https://www.wikiwand.com/en/List_of_radicals_in_Unicode"
   ]
  },
  {
   "cell_type": "code",
   "execution_count": 1,
   "id": "1530ab4e",
   "metadata": {},
   "outputs": [],
   "source": [
    "radicals = \"\"\"\n",
    "U+2F0x\t⼀\t⼁\t⼂\t⼃\t⼄\t⼅\t⼆\t⼇\t⼈\t⼉\t⼊\t⼋\t⼌\t⼍\t⼎\t⼏\n",
    "U+2F1x\t⼐\t⼑\t⼒\t⼓\t⼔\t⼕\t⼖\t⼗\t⼘\t⼙\t⼚\t⼛\t⼜\t⼝\t⼞\t⼟\n",
    "U+2F2x\t⼠\t⼡\t⼢\t⼣\t⼤\t⼥\t⼦\t⼧\t⼨\t⼩\t⼪\t⼫\t⼬\t⼭\t⼮\t⼯\n",
    "U+2F3x\t⼰\t⼱\t⼲\t⼳\t⼴\t⼵\t⼶\t⼷\t⼸\t⼹\t⼺\t⼻\t⼼\t⼽\t⼾\t⼿\n",
    "U+2F4x\t⽀\t⽁\t⽂\t⽃\t⽄\t⽅\t⽆\t⽇\t⽈\t⽉\t⽊\t⽋\t⽌\t⽍\t⽎\t⽏\n",
    "U+2F5x\t⽐\t⽑\t⽒\t⽓\t⽔\t⽕\t⽖\t⽗\t⽘\t⽙\t⽚\t⽛\t⽜\t⽝\t⽞\t⽟\n",
    "U+2F6x\t⽠\t⽡\t⽢\t⽣\t⽤\t⽥\t⽦\t⽧\t⽨\t⽩\t⽪\t⽫\t⽬\t⽭\t⽮\t⽯\n",
    "U+2F7x\t⽰\t⽱\t⽲\t⽳\t⽴\t⽵\t⽶\t⽷\t⽸\t⽹\t⽺\t⽻\t⽼\t⽽\t⽾\t⽿\n",
    "U+2F8x\t⾀\t⾁\t⾂\t⾃\t⾄\t⾅\t⾆\t⾇\t⾈\t⾉\t⾊\t⾋\t⾌\t⾍\t⾎\t⾏\n",
    "U+2F9x\t⾐\t⾑\t⾒\t⾓\t⾔\t⾕\t⾖\t⾗\t⾘\t⾙\t⾚\t⾛\t⾜\t⾝\t⾞\t⾟\n",
    "U+2FAx\t⾠\t⾡\t⾢\t⾣\t⾤\t⾥\t⾦\t⾧\t⾨\t⾩\t⾪\t⾫\t⾬\t⾭\t⾮\t⾯\n",
    "U+2FBx\t⾰\t⾱\t⾲\t⾳\t⾴\t⾵\t⾶\t⾷\t⾸\t⾹\t⾺\t⾻\t⾼\t⾽\t⾾\t⾿\n",
    "U+2FCx\t⿀\t⿁\t⿂\t⿃\t⿄\t⿅\t⿆\t⿇\t⿈\t⿉\t⿊\t⿋\t⿌\t⿍\t⿎\t⿏\n",
    "U+2FDx\t⿐\t⿑\t⿒\t⿓\t⿔\t⿕\t\n",
    "\"\"\""
   ]
  },
  {
   "cell_type": "code",
   "execution_count": 2,
   "id": "79f493f7",
   "metadata": {},
   "outputs": [],
   "source": [
    "zi = [i.strip() for i in radicals.split(\"\\n\") if i.strip()]"
   ]
  },
  {
   "cell_type": "code",
   "execution_count": 4,
   "id": "048b0463",
   "metadata": {},
   "outputs": [],
   "source": [
    "rad = []\n",
    "for i in zi:\n",
    "    rad += i.split(\"\\t\")[1:]"
   ]
  },
  {
   "cell_type": "code",
   "execution_count": 5,
   "id": "6cc1c5f3",
   "metadata": {},
   "outputs": [
    {
     "data": {
      "text/plain": [
       "['⼀',\n",
       " '⼁',\n",
       " '⼂',\n",
       " '⼃',\n",
       " '⼄',\n",
       " '⼅',\n",
       " '⼆',\n",
       " '⼇',\n",
       " '⼈',\n",
       " '⼉',\n",
       " '⼊',\n",
       " '⼋',\n",
       " '⼌',\n",
       " '⼍',\n",
       " '⼎',\n",
       " '⼏',\n",
       " '⼐',\n",
       " '⼑',\n",
       " '⼒',\n",
       " '⼓',\n",
       " '⼔',\n",
       " '⼕',\n",
       " '⼖',\n",
       " '⼗',\n",
       " '⼘',\n",
       " '⼙',\n",
       " '⼚',\n",
       " '⼛',\n",
       " '⼜',\n",
       " '⼝',\n",
       " '⼞',\n",
       " '⼟',\n",
       " '⼠',\n",
       " '⼡',\n",
       " '⼢',\n",
       " '⼣',\n",
       " '⼤',\n",
       " '⼥',\n",
       " '⼦',\n",
       " '⼧',\n",
       " '⼨',\n",
       " '⼩',\n",
       " '⼪',\n",
       " '⼫',\n",
       " '⼬',\n",
       " '⼭',\n",
       " '⼮',\n",
       " '⼯',\n",
       " '⼰',\n",
       " '⼱',\n",
       " '⼲',\n",
       " '⼳',\n",
       " '⼴',\n",
       " '⼵',\n",
       " '⼶',\n",
       " '⼷',\n",
       " '⼸',\n",
       " '⼹',\n",
       " '⼺',\n",
       " '⼻',\n",
       " '⼼',\n",
       " '⼽',\n",
       " '⼾',\n",
       " '⼿',\n",
       " '⽀',\n",
       " '⽁',\n",
       " '⽂',\n",
       " '⽃',\n",
       " '⽄',\n",
       " '⽅',\n",
       " '⽆',\n",
       " '⽇',\n",
       " '⽈',\n",
       " '⽉',\n",
       " '⽊',\n",
       " '⽋',\n",
       " '⽌',\n",
       " '⽍',\n",
       " '⽎',\n",
       " '⽏',\n",
       " '⽐',\n",
       " '⽑',\n",
       " '⽒',\n",
       " '⽓',\n",
       " '⽔',\n",
       " '⽕',\n",
       " '⽖',\n",
       " '⽗',\n",
       " '⽘',\n",
       " '⽙',\n",
       " '⽚',\n",
       " '⽛',\n",
       " '⽜',\n",
       " '⽝',\n",
       " '⽞',\n",
       " '⽟',\n",
       " '⽠',\n",
       " '⽡',\n",
       " '⽢',\n",
       " '⽣',\n",
       " '⽤',\n",
       " '⽥',\n",
       " '⽦',\n",
       " '⽧',\n",
       " '⽨',\n",
       " '⽩',\n",
       " '⽪',\n",
       " '⽫',\n",
       " '⽬',\n",
       " '⽭',\n",
       " '⽮',\n",
       " '⽯',\n",
       " '⽰',\n",
       " '⽱',\n",
       " '⽲',\n",
       " '⽳',\n",
       " '⽴',\n",
       " '⽵',\n",
       " '⽶',\n",
       " '⽷',\n",
       " '⽸',\n",
       " '⽹',\n",
       " '⽺',\n",
       " '⽻',\n",
       " '⽼',\n",
       " '⽽',\n",
       " '⽾',\n",
       " '⽿',\n",
       " '⾀',\n",
       " '⾁',\n",
       " '⾂',\n",
       " '⾃',\n",
       " '⾄',\n",
       " '⾅',\n",
       " '⾆',\n",
       " '⾇',\n",
       " '⾈',\n",
       " '⾉',\n",
       " '⾊',\n",
       " '⾋',\n",
       " '⾌',\n",
       " '⾍',\n",
       " '⾎',\n",
       " '⾏',\n",
       " '⾐',\n",
       " '⾑',\n",
       " '⾒',\n",
       " '⾓',\n",
       " '⾔',\n",
       " '⾕',\n",
       " '⾖',\n",
       " '⾗',\n",
       " '⾘',\n",
       " '⾙',\n",
       " '⾚',\n",
       " '⾛',\n",
       " '⾜',\n",
       " '⾝',\n",
       " '⾞',\n",
       " '⾟',\n",
       " '⾠',\n",
       " '⾡',\n",
       " '⾢',\n",
       " '⾣',\n",
       " '⾤',\n",
       " '⾥',\n",
       " '⾦',\n",
       " '⾧',\n",
       " '⾨',\n",
       " '⾩',\n",
       " '⾪',\n",
       " '⾫',\n",
       " '⾬',\n",
       " '⾭',\n",
       " '⾮',\n",
       " '⾯',\n",
       " '⾰',\n",
       " '⾱',\n",
       " '⾲',\n",
       " '⾳',\n",
       " '⾴',\n",
       " '⾵',\n",
       " '⾶',\n",
       " '⾷',\n",
       " '⾸',\n",
       " '⾹',\n",
       " '⾺',\n",
       " '⾻',\n",
       " '⾼',\n",
       " '⾽',\n",
       " '⾾',\n",
       " '⾿',\n",
       " '⿀',\n",
       " '⿁',\n",
       " '⿂',\n",
       " '⿃',\n",
       " '⿄',\n",
       " '⿅',\n",
       " '⿆',\n",
       " '⿇',\n",
       " '⿈',\n",
       " '⿉',\n",
       " '⿊',\n",
       " '⿋',\n",
       " '⿌',\n",
       " '⿍',\n",
       " '⿎',\n",
       " '⿏',\n",
       " '⿐',\n",
       " '⿑',\n",
       " '⿒',\n",
       " '⿓',\n",
       " '⿔',\n",
       " '⿕']"
      ]
     },
     "execution_count": 5,
     "metadata": {},
     "output_type": "execute_result"
    }
   ],
   "source": [
    "rad"
   ]
  },
  {
   "cell_type": "code",
   "execution_count": 6,
   "id": "aa2ae671",
   "metadata": {},
   "outputs": [],
   "source": [
    "data = []\n",
    "for r in rad:\n",
    "    data.append([r, 1, 0])"
   ]
  },
  {
   "cell_type": "code",
   "execution_count": 7,
   "id": "9670a03f",
   "metadata": {},
   "outputs": [],
   "source": [
    "import pandas as pd "
   ]
  },
  {
   "cell_type": "code",
   "execution_count": 8,
   "id": "e385b2d7",
   "metadata": {},
   "outputs": [],
   "source": [
    "df = pd.DataFrame(data, columns=[\"zi\",\"is_radical\",\"is_zi\"])"
   ]
  },
  {
   "cell_type": "code",
   "execution_count": 9,
   "id": "08a416ff",
   "metadata": {},
   "outputs": [
    {
     "data": {
      "text/html": [
       "<div>\n",
       "<style scoped>\n",
       "    .dataframe tbody tr th:only-of-type {\n",
       "        vertical-align: middle;\n",
       "    }\n",
       "\n",
       "    .dataframe tbody tr th {\n",
       "        vertical-align: top;\n",
       "    }\n",
       "\n",
       "    .dataframe thead th {\n",
       "        text-align: right;\n",
       "    }\n",
       "</style>\n",
       "<table border=\"1\" class=\"dataframe\">\n",
       "  <thead>\n",
       "    <tr style=\"text-align: right;\">\n",
       "      <th></th>\n",
       "      <th>zi</th>\n",
       "      <th>is_radical</th>\n",
       "      <th>is_zi</th>\n",
       "    </tr>\n",
       "  </thead>\n",
       "  <tbody>\n",
       "    <tr>\n",
       "      <th>0</th>\n",
       "      <td>⼀</td>\n",
       "      <td>1</td>\n",
       "      <td>0</td>\n",
       "    </tr>\n",
       "    <tr>\n",
       "      <th>1</th>\n",
       "      <td>⼁</td>\n",
       "      <td>1</td>\n",
       "      <td>0</td>\n",
       "    </tr>\n",
       "    <tr>\n",
       "      <th>2</th>\n",
       "      <td>⼂</td>\n",
       "      <td>1</td>\n",
       "      <td>0</td>\n",
       "    </tr>\n",
       "    <tr>\n",
       "      <th>3</th>\n",
       "      <td>⼃</td>\n",
       "      <td>1</td>\n",
       "      <td>0</td>\n",
       "    </tr>\n",
       "    <tr>\n",
       "      <th>4</th>\n",
       "      <td>⼄</td>\n",
       "      <td>1</td>\n",
       "      <td>0</td>\n",
       "    </tr>\n",
       "    <tr>\n",
       "      <th>...</th>\n",
       "      <td>...</td>\n",
       "      <td>...</td>\n",
       "      <td>...</td>\n",
       "    </tr>\n",
       "    <tr>\n",
       "      <th>209</th>\n",
       "      <td>⿑</td>\n",
       "      <td>1</td>\n",
       "      <td>0</td>\n",
       "    </tr>\n",
       "    <tr>\n",
       "      <th>210</th>\n",
       "      <td>⿒</td>\n",
       "      <td>1</td>\n",
       "      <td>0</td>\n",
       "    </tr>\n",
       "    <tr>\n",
       "      <th>211</th>\n",
       "      <td>⿓</td>\n",
       "      <td>1</td>\n",
       "      <td>0</td>\n",
       "    </tr>\n",
       "    <tr>\n",
       "      <th>212</th>\n",
       "      <td>⿔</td>\n",
       "      <td>1</td>\n",
       "      <td>0</td>\n",
       "    </tr>\n",
       "    <tr>\n",
       "      <th>213</th>\n",
       "      <td>⿕</td>\n",
       "      <td>1</td>\n",
       "      <td>0</td>\n",
       "    </tr>\n",
       "  </tbody>\n",
       "</table>\n",
       "<p>214 rows × 3 columns</p>\n",
       "</div>"
      ],
      "text/plain": [
       "    zi  is_radical  is_zi\n",
       "0    ⼀           1      0\n",
       "1    ⼁           1      0\n",
       "2    ⼂           1      0\n",
       "3    ⼃           1      0\n",
       "4    ⼄           1      0\n",
       "..  ..         ...    ...\n",
       "209  ⿑           1      0\n",
       "210  ⿒           1      0\n",
       "211  ⿓           1      0\n",
       "212  ⿔           1      0\n",
       "213  ⿕           1      0\n",
       "\n",
       "[214 rows x 3 columns]"
      ]
     },
     "execution_count": 9,
     "metadata": {},
     "output_type": "execute_result"
    }
   ],
   "source": [
    "df"
   ]
  },
  {
   "cell_type": "code",
   "execution_count": 10,
   "id": "542fda48",
   "metadata": {},
   "outputs": [],
   "source": [
    "df.to_csv(\"radicals.csv\", index=False)"
   ]
  },
  {
   "cell_type": "markdown",
   "id": "ef80a2e7",
   "metadata": {},
   "source": [
    "## convert legacy encoding GB2312 to UTF-8"
   ]
  },
  {
   "cell_type": "code",
   "execution_count": 4,
   "id": "7902e6e5",
   "metadata": {},
   "outputs": [],
   "source": [
    "radicals_2 = open(\"radicals-2.md\", encoding=\"utf-8\").read().split(\"\\n\")"
   ]
  },
  {
   "cell_type": "code",
   "execution_count": 5,
   "id": "b4fc3567",
   "metadata": {
    "scrolled": true
   },
   "outputs": [
    {
     "data": {
      "text/plain": [
       "['# zi (pinyin, meaning)',\n",
       " '一 (yī, one)',\n",
       " '丨 (gùn, line)',\n",
       " '丶 (zhǔ, dot)',\n",
       " '丿 (piě, slash)',\n",
       " '乙 (yǐ, second)',\n",
       " '亅 (gōu, hook)',\n",
       " '二 (èr, two)',\n",
       " '亠 (tóu, lid)',\n",
       " '人 (rén, person)',\n",
       " '儿 (ér, legs)',\n",
       " '入 (rù, enter)',\n",
       " '八 (bā, eight)',\n",
       " '冂 (jiǒng, down box)',\n",
       " '冖 (mì, cover)',\n",
       " '冫 (bīng, ice)',\n",
       " '几 (jī, table)',\n",
       " '凵 (qǔ, open box)',\n",
       " '刀 (dāo, knife)',\n",
       " '刂 (biāo, blade)',\n",
       " '力 (li, strength)',\n",
       " '十 (shí, ten)',\n",
       " '匕 (bǐ, spoon)',\n",
       " '冓 (yǒng, long)',\n",
       " '冖 (mì, cover)',\n",
       " '口 (kǒu, mouth)',\n",
       " '日 (rì, sun)',\n",
       " '月 (yuè, moon)',\n",
       " '木 (mù, tree)',\n",
       " '火 (huǒ, fire)',\n",
       " '土 (tǔ, earth)',\n",
       " '金 (jīn, metal)',\n",
       " '水 (shuǐ, water)',\n",
       " '火 (huǒ, fire)',\n",
       " '艹 (cǎo, grass)',\n",
       " '虫 (chóng, insect)',\n",
       " '彡 (shān, hair)',\n",
       " '彳 (chén, walk)',\n",
       " '亻 (rén, person)',\n",
       " '车 (chē, vehicle)',\n",
       " '衣 (yī, clothing)',\n",
       " '彐 (tiáo, garment)',\n",
       " '彡 (shān, hair)',\n",
       " '米 (mǐ, rice)',\n",
       " '禾 (hé, grain)',\n",
       " '貝 (bèi, shell)',\n",
       " '耒 (li, plow)',\n",
       " '牜 (niú, cow)',\n",
       " '手 (shǒu, hand)',\n",
       " '支 (zhī, branch)',\n",
       " '攴 (pō, strike)',\n",
       " '文 (wén, writing)',\n",
       " '卜 (bǔ, divination)',\n",
       " '示 (shì, show)',\n",
       " '爻 (yáo, line)',\n",
       " '口 (kǒu, mouth)',\n",
       " '田 (tián, field)',\n",
       " '由 (yóu, follow)',\n",
       " '犬 (quǎn, dog)',\n",
       " '馬 (mǎ, horse)',\n",
       " '水 (shuǐ, water)',\n",
       " '火 (huǒ, fire)',\n",
       " '囗 (wāng, enclosure)',\n",
       " '門 (mén, door)',\n",
       " '八 (bā, eight)',\n",
       " '囗 (wāng, enclosure)',\n",
       " '戸 (hù, family)',\n",
       " '手 (shǒu, hand)',\n",
       " '扌 (bǎ, hold)',\n",
       " '日 (rì, sun)',\n",
       " '木 (mù, tree)',\n",
       " '止 (zhǐ, stop)',\n",
       " '歹 (dǎi, bad)',\n",
       " '氵 (shuǐ, water)',\n",
       " '氺 (shuǐ, water)',\n",
       " '火 (huǒ, fire)',\n",
       " '灬 (huǒ, fire)',\n",
       " '艹 (cǎo, grass)',\n",
       " '人 (rén, person)',\n",
       " '子 (zǐ, son)',\n",
       " '丑 (chǒu, ugly)',\n",
       " '十 (shí, ten)',\n",
       " '巾 (jīn, cloth)',\n",
       " '干 (gān, dry)',\n",
       " '幺 (yāo, small)',\n",
       " '广 (guǎng, wide)',\n",
       " '火 (huǒ, fire)',\n",
       " '厶 (sī, heart)',\n",
       " '# This list is based on the Kangxi radical list, which is the most commonly used system for classifying Chinese characters. The radicals are numbered in stroke count order, from 1 to 214.']"
      ]
     },
     "execution_count": 5,
     "metadata": {},
     "output_type": "execute_result"
    }
   ],
   "source": [
    "radicals_2"
   ]
  },
  {
   "cell_type": "code",
   "execution_count": 6,
   "id": "79f3a66f",
   "metadata": {},
   "outputs": [],
   "source": [
    "person_1 = \"⼈\"   # GB2312 encoding\n",
    "person_2 = \"人\"   # UTF-8 encoding"
   ]
  },
  {
   "cell_type": "code",
   "execution_count": 7,
   "id": "fe3acafe",
   "metadata": {},
   "outputs": [
    {
     "data": {
      "text/plain": [
       "False"
      ]
     },
     "execution_count": 7,
     "metadata": {},
     "output_type": "execute_result"
    }
   ],
   "source": [
    "person_1 == person_2"
   ]
  },
  {
   "cell_type": "code",
   "execution_count": 22,
   "id": "ef178c6c",
   "metadata": {},
   "outputs": [
    {
     "data": {
      "text/plain": [
       "(str, str)"
      ]
     },
     "execution_count": 22,
     "metadata": {},
     "output_type": "execute_result"
    }
   ],
   "source": [
    "type(person_1), type(person_2)"
   ]
  },
  {
   "cell_type": "code",
   "execution_count": 23,
   "id": "bdf8eb61",
   "metadata": {},
   "outputs": [
    {
     "ename": "UnicodeEncodeError",
     "evalue": "'gb2312' codec can't encode character '\\u2f08' in position 0: illegal multibyte sequence",
     "output_type": "error",
     "traceback": [
      "\u001b[1;31m---------------------------------------------------------------------------\u001b[0m",
      "\u001b[1;31mUnicodeEncodeError\u001b[0m                        Traceback (most recent call last)",
      "\u001b[1;32m~\\AppData\\Local\\Temp\\ipykernel_8280\\554757453.py\u001b[0m in \u001b[0;36m<module>\u001b[1;34m\u001b[0m\n\u001b[0;32m      1\u001b[0m \u001b[0mucode_1\u001b[0m \u001b[1;33m=\u001b[0m \u001b[0mperson_1\u001b[0m\u001b[1;33m.\u001b[0m\u001b[0mencode\u001b[0m\u001b[1;33m(\u001b[0m\u001b[1;34m\"utf-8\"\u001b[0m\u001b[1;33m)\u001b[0m\u001b[1;33m\u001b[0m\u001b[1;33m\u001b[0m\u001b[0m\n\u001b[1;32m----> 2\u001b[1;33m \u001b[0mucode_1g\u001b[0m \u001b[1;33m=\u001b[0m \u001b[0mperson_1\u001b[0m\u001b[1;33m.\u001b[0m\u001b[0mencode\u001b[0m\u001b[1;33m(\u001b[0m\u001b[1;34m\"gb2312\"\u001b[0m\u001b[1;33m)\u001b[0m\u001b[1;33m\u001b[0m\u001b[1;33m\u001b[0m\u001b[0m\n\u001b[0m\u001b[0;32m      3\u001b[0m \u001b[1;33m\u001b[0m\u001b[0m\n\u001b[0;32m      4\u001b[0m \u001b[0mucode_2\u001b[0m \u001b[1;33m=\u001b[0m \u001b[0mperson_2\u001b[0m\u001b[1;33m.\u001b[0m\u001b[0mencode\u001b[0m\u001b[1;33m(\u001b[0m\u001b[1;34m\"utf-8\"\u001b[0m\u001b[1;33m)\u001b[0m\u001b[1;33m\u001b[0m\u001b[1;33m\u001b[0m\u001b[0m\n\u001b[0;32m      5\u001b[0m \u001b[0mprint\u001b[0m\u001b[1;33m(\u001b[0m\u001b[0mucode_1\u001b[0m\u001b[1;33m,\u001b[0m\u001b[0mucode_1g\u001b[0m\u001b[1;33m,\u001b[0m \u001b[0mucode_2\u001b[0m\u001b[1;33m)\u001b[0m\u001b[1;33m\u001b[0m\u001b[1;33m\u001b[0m\u001b[0m\n",
      "\u001b[1;31mUnicodeEncodeError\u001b[0m: 'gb2312' codec can't encode character '\\u2f08' in position 0: illegal multibyte sequence"
     ]
    }
   ],
   "source": [
    "ucode_1 = person_1.encode(\"utf-8\")\n",
    "# ucode_1g = person_1.encode(\"gb2312\")\n",
    "\n",
    "ucode_2 = person_2.encode(\"utf-8\")\n",
    "print(ucode_1, ucode_2)"
   ]
  },
  {
   "cell_type": "markdown",
   "id": "d9125b3f",
   "metadata": {},
   "source": [
    "Claude AI answers:\n",
    "    \n",
    "```\n",
    "You're absolutely right. The same Chinese character can have different Unicode encodings depending on the encoding form used.\n",
    "\n",
    "The two Unicode encodings you mentioned for the character \"人\" are:\n",
    "\n",
    "b'\\xe2\\xbc\\x88' - This is the Unicode code point U+0088 in the GB2312 encoding.\n",
    "\n",
    "b'\\xe4\\xba\\xba' - This is the code point U+4EBA in the UTF-8 encoding.\n",
    "\n",
    "The reason is that Chinese has tens of thousands of characters, and early encodings like GB2312 could only encode a subset of the most commonly used characters.\n",
    "\n",
    "UTF-8 was later created to be able to encode all Unicode characters, including the entire Chinese character set.\n",
    "\n",
    "So the same Chinese character maps to different code points in legacy encodings like GB2312 vs the unified Unicode encodings like UTF-8.\n",
    "\n",
    "To summarize:\n",
    "\n",
    "```\n",
    "\n",
    "- Same Chinese character can have different Unicode code points in different encodings\n",
    "- Legacy encodings like GB2312 encode only a subset of Chinese characters\n",
    "- UTF-8 encodes the full Unicode character set including all Chinese chars\n",
    "- Always use UTF-8 for Chinese text to ensure consistency\n",
    "\n",
    "The key is to convert any legacy encoding to UTF-8 to unify the encoding for consistent handling of Chinese text in programs.\n",
    "    \n",
    "\n",
    "\n"
   ]
  },
  {
   "cell_type": "code",
   "execution_count": 10,
   "id": "bdc02b39",
   "metadata": {},
   "outputs": [
    {
     "ename": "UnicodeDecodeError",
     "evalue": "'gb2312' codec can't decode byte 0x88 in position 2: incomplete multibyte sequence",
     "output_type": "error",
     "traceback": [
      "\u001b[1;31m---------------------------------------------------------------------------\u001b[0m",
      "\u001b[1;31mUnicodeDecodeError\u001b[0m                        Traceback (most recent call last)",
      "\u001b[1;32m~\\AppData\\Local\\Temp\\ipykernel_8280\\3616142815.py\u001b[0m in \u001b[0;36m<module>\u001b[1;34m\u001b[0m\n\u001b[0;32m      2\u001b[0m \u001b[1;33m\u001b[0m\u001b[0m\n\u001b[0;32m      3\u001b[0m \u001b[1;31m# Decode from GB2312 to Unicode string\u001b[0m\u001b[1;33m\u001b[0m\u001b[1;33m\u001b[0m\u001b[0m\n\u001b[1;32m----> 4\u001b[1;33m \u001b[0municode_string\u001b[0m \u001b[1;33m=\u001b[0m \u001b[0mgb2312_byte_string\u001b[0m\u001b[1;33m.\u001b[0m\u001b[0mdecode\u001b[0m\u001b[1;33m(\u001b[0m\u001b[1;34m'gb2312'\u001b[0m\u001b[1;33m)\u001b[0m\u001b[1;33m\u001b[0m\u001b[1;33m\u001b[0m\u001b[0m\n\u001b[0m\u001b[0;32m      5\u001b[0m \u001b[1;33m\u001b[0m\u001b[0m\n\u001b[0;32m      6\u001b[0m \u001b[1;31m# Encode the Unicode string to UTF-8\u001b[0m\u001b[1;33m\u001b[0m\u001b[1;33m\u001b[0m\u001b[0m\n",
      "\u001b[1;31mUnicodeDecodeError\u001b[0m: 'gb2312' codec can't decode byte 0x88 in position 2: incomplete multibyte sequence"
     ]
    }
   ],
   "source": [
    "gb2312_byte_string = b'\\xe2\\xbc\\x88' \n",
    "\n",
    "# Decode from GB2312 to Unicode string\n",
    "unicode_string = gb2312_byte_string.decode('gb2312')\n",
    "\n",
    "# Encode the Unicode string to UTF-8\n",
    "utf8_byte_string = unicode_string.encode('utf-8')\n",
    "\n",
    "print(utf8_byte_string)"
   ]
  },
  {
   "cell_type": "code",
   "execution_count": 11,
   "id": "db05c00b",
   "metadata": {},
   "outputs": [
    {
     "name": "stdout",
     "output_type": "stream",
     "text": [
      "Windows-1252\n"
     ]
    }
   ],
   "source": [
    "import chardet\n",
    "\n",
    "data = b'\\xe2\\xbc\\x88'\n",
    "encoding = chardet.detect(data)['encoding']\n",
    "\n",
    "print(encoding)"
   ]
  },
  {
   "cell_type": "code",
   "execution_count": 12,
   "id": "43d7ea9e",
   "metadata": {},
   "outputs": [
    {
     "name": "stdout",
     "output_type": "stream",
     "text": [
      "b'\\xc3\\xa2\\xc2\\xbc\\xcb\\x86'\n"
     ]
    }
   ],
   "source": [
    "encoding = chardet.detect(gb2312_byte_string)['encoding']\n",
    "unicode_string = gb2312_byte_string.decode(encoding)\n",
    "utf8_byte_string = unicode_string.encode('utf-8')\n",
    "print(utf8_byte_string)"
   ]
  },
  {
   "cell_type": "code",
   "execution_count": 14,
   "id": "661cf359",
   "metadata": {},
   "outputs": [
    {
     "name": "stdout",
     "output_type": "stream",
     "text": [
      "â¼ˆ\n"
     ]
    }
   ],
   "source": [
    "print(utf8_byte_string.decode(\"utf-8\"))"
   ]
  },
  {
   "cell_type": "code",
   "execution_count": 7,
   "id": "94570336",
   "metadata": {},
   "outputs": [],
   "source": [
    "import codecs\n",
    "\n",
    "def gb2312_to_utf8(string):\n",
    "    return codecs.decode(string, 'gb2312').encode('utf-8')"
   ]
  },
  {
   "cell_type": "code",
   "execution_count": 21,
   "id": "fcff218f",
   "metadata": {},
   "outputs": [
    {
     "ename": "TypeError",
     "evalue": "decoding with 'gb2312' codec failed (TypeError: a bytes-like object is required, not 'str')",
     "output_type": "error",
     "traceback": [
      "\u001b[1;31m---------------------------------------------------------------------------\u001b[0m",
      "\u001b[1;31mTypeError\u001b[0m                                 Traceback (most recent call last)",
      "\u001b[1;31mTypeError\u001b[0m: a bytes-like object is required, not 'str'",
      "\nThe above exception was the direct cause of the following exception:\n",
      "\u001b[1;31mTypeError\u001b[0m                                 Traceback (most recent call last)",
      "\u001b[1;32m~\\AppData\\Local\\Temp\\ipykernel_8280\\3267126766.py\u001b[0m in \u001b[0;36m<module>\u001b[1;34m\u001b[0m\n\u001b[0;32m     14\u001b[0m \u001b[0mgb2312_string\u001b[0m \u001b[1;33m=\u001b[0m \u001b[0mreplace_emoji\u001b[0m\u001b[1;33m(\u001b[0m\u001b[1;34m'你好，世界！'\u001b[0m\u001b[1;33m)\u001b[0m\u001b[1;33m\u001b[0m\u001b[1;33m\u001b[0m\u001b[0m\n\u001b[0;32m     15\u001b[0m \u001b[1;33m\u001b[0m\u001b[0m\n\u001b[1;32m---> 16\u001b[1;33m \u001b[0mutf8_string\u001b[0m \u001b[1;33m=\u001b[0m \u001b[0mgb2312_to_utf8\u001b[0m\u001b[1;33m(\u001b[0m\u001b[0mgb2312_string\u001b[0m\u001b[1;33m)\u001b[0m\u001b[1;33m\u001b[0m\u001b[1;33m\u001b[0m\u001b[0m\n\u001b[0m\u001b[0;32m     17\u001b[0m \u001b[0mprint\u001b[0m\u001b[1;33m(\u001b[0m\u001b[0mutf8_string\u001b[0m\u001b[1;33m)\u001b[0m\u001b[1;33m\u001b[0m\u001b[1;33m\u001b[0m\u001b[0m\n",
      "\u001b[1;32m~\\AppData\\Local\\Temp\\ipykernel_8280\\3267126766.py\u001b[0m in \u001b[0;36mgb2312_to_utf8\u001b[1;34m(string)\u001b[0m\n\u001b[0;32m      2\u001b[0m \u001b[1;33m\u001b[0m\u001b[0m\n\u001b[0;32m      3\u001b[0m \u001b[1;32mdef\u001b[0m \u001b[0mgb2312_to_utf8\u001b[0m\u001b[1;33m(\u001b[0m\u001b[0mstring\u001b[0m\u001b[1;33m)\u001b[0m\u001b[1;33m:\u001b[0m\u001b[1;33m\u001b[0m\u001b[1;33m\u001b[0m\u001b[0m\n\u001b[1;32m----> 4\u001b[1;33m     \u001b[1;32mreturn\u001b[0m \u001b[0mcodecs\u001b[0m\u001b[1;33m.\u001b[0m\u001b[0mdecode\u001b[0m\u001b[1;33m(\u001b[0m\u001b[0mstring\u001b[0m\u001b[1;33m,\u001b[0m \u001b[1;34m'gb2312'\u001b[0m\u001b[1;33m)\u001b[0m\u001b[1;33m.\u001b[0m\u001b[0mencode\u001b[0m\u001b[1;33m(\u001b[0m\u001b[1;34m'utf-8'\u001b[0m\u001b[1;33m)\u001b[0m\u001b[1;33m\u001b[0m\u001b[1;33m\u001b[0m\u001b[0m\n\u001b[0m\u001b[0;32m      5\u001b[0m \u001b[1;33m\u001b[0m\u001b[0m\n\u001b[0;32m      6\u001b[0m \u001b[1;32mimport\u001b[0m \u001b[0mre\u001b[0m\u001b[1;33m\u001b[0m\u001b[1;33m\u001b[0m\u001b[0m\n",
      "\u001b[1;31mTypeError\u001b[0m: decoding with 'gb2312' codec failed (TypeError: a bytes-like object is required, not 'str')"
     ]
    }
   ],
   "source": [
    "import re\n",
    "\n",
    "def replace_emoji(string):\n",
    "    return re.sub(r'[\\U00010000-\\U0010ffff]', '', string)\n",
    "\n",
    "# Example usage:\n",
    "# gb2312_string = \"⼈\".encode(\"gb2312\") # b'\\xe2\\xbc\\x88' # \n",
    "gb2312_string = '你好，世界！'\n",
    "gb2312_string = replace_emoji('你好，世界！')\n",
    "\n",
    "utf8_string = gb2312_to_utf8(gb2312_string)\n",
    "print(utf8_string)"
   ]
  },
  {
   "cell_type": "code",
   "execution_count": 24,
   "id": "f66826a8",
   "metadata": {},
   "outputs": [
    {
     "ename": "TypeError",
     "evalue": "Expected object of type bytes or bytearray, got: <class 'str'>",
     "output_type": "error",
     "traceback": [
      "\u001b[1;31m---------------------------------------------------------------------------\u001b[0m",
      "\u001b[1;31mTypeError\u001b[0m                                 Traceback (most recent call last)",
      "\u001b[1;32m~\\AppData\\Local\\Temp\\ipykernel_8280\\3837185148.py\u001b[0m in \u001b[0;36m<module>\u001b[1;34m\u001b[0m\n\u001b[0;32m      3\u001b[0m \u001b[0mstring\u001b[0m \u001b[1;33m=\u001b[0m \u001b[1;34m\"你好，世界！\"\u001b[0m\u001b[1;33m\u001b[0m\u001b[1;33m\u001b[0m\u001b[0m\n\u001b[0;32m      4\u001b[0m \u001b[1;33m\u001b[0m\u001b[0m\n\u001b[1;32m----> 5\u001b[1;33m \u001b[0mencoding\u001b[0m \u001b[1;33m=\u001b[0m \u001b[0mchardet\u001b[0m\u001b[1;33m.\u001b[0m\u001b[0mdetect\u001b[0m\u001b[1;33m(\u001b[0m\u001b[0mstring\u001b[0m\u001b[1;33m)\u001b[0m\u001b[1;33m\u001b[0m\u001b[1;33m\u001b[0m\u001b[0m\n\u001b[0m\u001b[0;32m      6\u001b[0m \u001b[1;33m\u001b[0m\u001b[0m\n\u001b[0;32m      7\u001b[0m \u001b[0mprint\u001b[0m\u001b[1;33m(\u001b[0m\u001b[0mencoding\u001b[0m\u001b[1;33m[\u001b[0m\u001b[1;34m'encoding'\u001b[0m\u001b[1;33m]\u001b[0m\u001b[1;33m)\u001b[0m\u001b[1;33m\u001b[0m\u001b[1;33m\u001b[0m\u001b[0m\n",
      "\u001b[1;32m~\\anaconda3\\lib\\site-packages\\chardet\\__init__.py\u001b[0m in \u001b[0;36mdetect\u001b[1;34m(byte_str)\u001b[0m\n\u001b[0;32m     34\u001b[0m     \u001b[1;32mif\u001b[0m \u001b[1;32mnot\u001b[0m \u001b[0misinstance\u001b[0m\u001b[1;33m(\u001b[0m\u001b[0mbyte_str\u001b[0m\u001b[1;33m,\u001b[0m \u001b[0mbytearray\u001b[0m\u001b[1;33m)\u001b[0m\u001b[1;33m:\u001b[0m\u001b[1;33m\u001b[0m\u001b[1;33m\u001b[0m\u001b[0m\n\u001b[0;32m     35\u001b[0m         \u001b[1;32mif\u001b[0m \u001b[1;32mnot\u001b[0m \u001b[0misinstance\u001b[0m\u001b[1;33m(\u001b[0m\u001b[0mbyte_str\u001b[0m\u001b[1;33m,\u001b[0m \u001b[0mbytes\u001b[0m\u001b[1;33m)\u001b[0m\u001b[1;33m:\u001b[0m\u001b[1;33m\u001b[0m\u001b[1;33m\u001b[0m\u001b[0m\n\u001b[1;32m---> 36\u001b[1;33m             raise TypeError('Expected object of type bytes or bytearray, got: '\n\u001b[0m\u001b[0;32m     37\u001b[0m                             '{}'.format(type(byte_str)))\n\u001b[0;32m     38\u001b[0m         \u001b[1;32melse\u001b[0m\u001b[1;33m:\u001b[0m\u001b[1;33m\u001b[0m\u001b[1;33m\u001b[0m\u001b[0m\n",
      "\u001b[1;31mTypeError\u001b[0m: Expected object of type bytes or bytearray, got: <class 'str'>"
     ]
    }
   ],
   "source": [
    "import chardet\n",
    "\n",
    "string = \"你好，世界！\"\n",
    "\n",
    "encoding = chardet.detect(string)\n",
    "\n",
    "print(encoding['encoding'])"
   ]
  },
  {
   "cell_type": "code",
   "execution_count": 10,
   "id": "91e6ab3d",
   "metadata": {},
   "outputs": [
    {
     "name": "stdout",
     "output_type": "stream",
     "text": [
      "长 : b'\\xe9\\x95\\xbf' : Windows-1252 : \n",
      "一 : b'\\xe4\\xb8\\x80' : Windows-1252 : \n",
      "一 : b'\\xe4\\xb8\\x80' : Windows-1252 : \n",
      "不 : b'\\xe4\\xb8\\x8d' : utf-8 : \n",
      "上 : b'\\xe4\\xb8\\x8a' : Windows-1252 : \n",
      "⼈ : b'\\xe2\\xbc\\x88' : Windows-1252 : \n",
      "人 : b'\\xe4\\xba\\xba' : ISO-8859-1 : \n",
      "你好 : b'\\xe4\\xbd\\xa0\\xe5\\xa5\\xbd' : utf-8 : \n",
      "⼉ : b'\\xe2\\xbc\\x89' : Windows-1252 : \n",
      "儿 : b'\\xe5\\x84\\xbf' : Windows-1252 : \n"
     ]
    }
   ],
   "source": [
    "import chardet\n",
    "\n",
    "strings = [\"长\", \"一\",\"一\",\"不\", \"上\", \"⼈\", \"人\", \"你好\", \"⼉\", \"儿\"]\n",
    "\n",
    "for s in strings:\n",
    "\n",
    "    # Convert the str object to a bytes object.\n",
    "    bytes_string = s.encode('utf-8')\n",
    "\n",
    "    # Detect the encoding of the bytes object.\n",
    "    encoding = chardet.detect(bytes_string)['encoding']\n",
    "    \n",
    "#     utf8_str  = gb2312_to_utf8(bytes_string)\n",
    "\n",
    "    print(f\"{s} : {bytes_string} : {encoding} : \")"
   ]
  },
  {
   "cell_type": "markdown",
   "id": "0405ae7d",
   "metadata": {},
   "source": [
    "UnicodeDecodeError: 'gb2312' codec can't decode byte 0x80 in position 2: incomplete multibyte sequence\n",
    "\n",
    "\n",
    "\"⼈\" not found in uncode.org Unihan db\n",
    "\n"
   ]
  },
  {
   "cell_type": "code",
   "execution_count": null,
   "id": "24648110",
   "metadata": {},
   "outputs": [],
   "source": []
  }
 ],
 "metadata": {
  "kernelspec": {
   "display_name": "Python 3 (ipykernel)",
   "language": "python",
   "name": "python3"
  },
  "language_info": {
   "codemirror_mode": {
    "name": "ipython",
    "version": 3
   },
   "file_extension": ".py",
   "mimetype": "text/x-python",
   "name": "python",
   "nbconvert_exporter": "python",
   "pygments_lexer": "ipython3",
   "version": "3.9.13"
  },
  "nbTranslate": {
   "displayLangs": [
    "*"
   ],
   "hotkey": "alt-t",
   "langInMainMenu": true,
   "sourceLang": "en",
   "targetLang": "fr",
   "useGoogleTranslate": true
  },
  "toc": {
   "base_numbering": 1,
   "nav_menu": {},
   "number_sections": true,
   "sideBar": true,
   "skip_h1_title": false,
   "title_cell": "Table of Contents",
   "title_sidebar": "Contents",
   "toc_cell": false,
   "toc_position": {},
   "toc_section_display": true,
   "toc_window_display": false
  }
 },
 "nbformat": 4,
 "nbformat_minor": 5
}
