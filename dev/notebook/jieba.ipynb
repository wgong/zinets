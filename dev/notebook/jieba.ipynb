{
 "cells": [
  {
   "cell_type": "code",
   "execution_count": 1,
   "id": "9861bc0c-331c-4542-834b-bff5c95f6b8d",
   "metadata": {},
   "outputs": [
    {
     "name": "stderr",
     "output_type": "stream",
     "text": [
      "C:\\Users\\p2p2l\\anaconda3\\envs\\zinet\\Lib\\site-packages\\paddle\\utils\\cpp_extension\\extension_utils.py:711: UserWarning: No ccache found. Please be aware that recompiling all source files may be required. You can download and install ccache from: https://github.com/ccache/ccache/blob/master/doc/INSTALL.md\n",
      "  warnings.warn(warning_message)\n",
      "Import error, cannot find paddle.fluid and jieba.lac_small.predict module. Now, back to jieba basic cut......\n",
      "[2025-05-15 21:46:30,918] [   DEBUG] _compat.py:50 - Import error, cannot find paddle.fluid and jieba.lac_small.predict module. Now, back to jieba basic cut......\n",
      "Building prefix dict from the default dictionary ...\n",
      "[2025-05-15 21:46:30,920] [   DEBUG] __init__.py:113 - Building prefix dict from the default dictionary ...\n",
      "Dumping model to file cache C:\\Users\\p2p2l\\AppData\\Local\\Temp\\jieba.cache\n",
      "[2025-05-15 21:46:31,758] [   DEBUG] __init__.py:146 - Dumping model to file cache C:\\Users\\p2p2l\\AppData\\Local\\Temp\\jieba.cache\n",
      "Loading model cost 0.916 seconds.\n",
      "[2025-05-15 21:46:31,837] [   DEBUG] __init__.py:164 - Loading model cost 0.916 seconds.\n",
      "Prefix dict has been built successfully.\n",
      "[2025-05-15 21:46:31,838] [   DEBUG] __init__.py:166 - Prefix dict has been built successfully.\n"
     ]
    },
    {
     "name": "stdout",
     "output_type": "stream",
     "text": [
      "Paddle Mode: 我/来到/北京/清华大学\n",
      "Paddle Mode: 乒乓球/拍卖/完/了\n",
      "Paddle Mode: 中国/科学技术/大学\n"
     ]
    }
   ],
   "source": [
    "import jieba\n",
    "\n",
    "jieba.enable_paddle()# 启动paddle模式。 0.40版之后开始支持，早期版本不支持\n",
    "strs=[\"我来到北京清华大学\",\"乒乓球拍卖完了\",\"中国科学技术大学\"]\n",
    "for str in strs:\n",
    "    seg_list = jieba.cut(str,use_paddle=True) # 使用paddle模式\n",
    "    print(\"Paddle Mode: \" + '/'.join(list(seg_list)))"
   ]
  },
  {
   "cell_type": "code",
   "execution_count": null,
   "id": "b35d1f55-bd19-499f-900a-faf81e067fc3",
   "metadata": {},
   "outputs": [],
   "source": [
    "import re\n",
    "\n",
    "def split_chinese_text_into_sentences(text):\n",
    "    # Pattern to match sentence-ending punctuation with any whitespace that follows\n",
    "    pattern = r'([。！？\\.!?]+)[」\"\\'）)』\\s]*'\n",
    "    \n",
    "    # Split the text using the pattern\n",
    "    sentences = re.split(pattern, text)\n",
    "    \n",
    "    # Combine sentences with their punctuation\n",
    "    result = []\n",
    "    i = 0\n",
    "    while i < len(sentences) - 1:\n",
    "        if i + 1 < len(sentences):\n",
    "            # Combine sentence with its punctuation\n",
    "            result.append(sentences[i] + sentences[i+1])\n",
    "            i += 2\n",
    "        else:\n",
    "            # Handle case where there's no punctuation at the end\n",
    "            result.append(sentences[i])\n",
    "            i += 1\n",
    "    \n",
    "    # Add the last part if it exists and isn't empty\n",
    "    if i < len(sentences) and sentences[i].strip():\n",
    "        result.append(sentences[i])\n",
    "    \n",
    "    # Remove empty strings and strip whitespace\n",
    "    return [s.strip() for s in result if s.strip()]"
   ]
  },
  {
   "cell_type": "code",
   "execution_count": 17,
   "id": "03950579-5678-4ba2-82d3-cd07cd949d66",
   "metadata": {},
   "outputs": [
    {
     "name": "stdout",
     "output_type": "stream",
     "text": [
      "Sentence 1: 这是第一个句子。\n",
      "['这是', '第一个', '句子', '。']\n",
      "Sentence 2: 这是第二个句子！\n",
      "['这是', '第二个', '句子', '！']\n",
      "Sentence 3: 你知道吗？\n",
      "['你', '知道', '吗', '？']\n",
      "Sentence 4: 今天天气很好……\n",
      "['今天天气', '很', '好', '…', '…']\n"
     ]
    }
   ],
   "source": [
    "# Example usage\n",
    "text = \"这是第一个句子。这是第二个句子！你知道吗？今天天气很好……\"\n",
    "sentences = split_chinese_text_into_sentences(text)\n",
    "for i, sentence in enumerate(sentences, 1):\n",
    "    print(f\"Sentence {i}: {sentence}\")\n",
    "    seg_list = jieba.cut(sentence,use_paddle=True)\n",
    "    print(list(seg_list))"
   ]
  },
  {
   "cell_type": "code",
   "execution_count": null,
   "id": "6d27a47a-3664-453c-8783-91ffc62142a8",
   "metadata": {},
   "outputs": [],
   "source": []
  }
 ],
 "metadata": {
  "kernelspec": {
   "display_name": "Python 3 (ipykernel)",
   "language": "python",
   "name": "python3"
  },
  "language_info": {
   "codemirror_mode": {
    "name": "ipython",
    "version": 3
   },
   "file_extension": ".py",
   "mimetype": "text/x-python",
   "name": "python",
   "nbconvert_exporter": "python",
   "pygments_lexer": "ipython3",
   "version": "3.12.5"
  }
 },
 "nbformat": 4,
 "nbformat_minor": 5
}
