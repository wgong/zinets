{
 "cells": [
  {
   "cell_type": "code",
   "execution_count": null,
   "id": "70037c44",
   "metadata": {},
   "outputs": [],
   "source": [
    "from d3blocks import D3Blocks\n",
    "\n",
    "# Initialize\n",
    "d3 = D3Blocks(verbose='info', chart='tree', frame=False)\n",
    "\n",
    "# Import example\n",
    "df = d3.import_example('energy')"
   ]
  },
  {
   "cell_type": "code",
   "execution_count": 7,
   "id": "66983288",
   "metadata": {},
   "outputs": [
    {
     "name": "stderr",
     "output_type": "stream",
     "text": [
      "[d3blocks] >INFO> Node properties are set.\n",
      "[d3blocks] >INFO> Edge properties are set.\n",
      "[d3blocks] >INFO> File already exists and will be overwritten: [c:\\\\tmp\\\\tree.html]\n",
      "[d3blocks] >INFO> Open browser: c:\\tmp\\tree.html\n"
     ]
    }
   ],
   "source": [
    "# Set node properties\n",
    "d3.set_node_properties(df)\n",
    "\n",
    "# Set specific properties\n",
    "d3.node_properties.get('Bio-conversion')['size'] = 30\n",
    "d3.node_properties.get('Bio-conversion')['color'] = '#000000'\n",
    "d3.node_properties.get('Bio-conversion')['tooltip'] = 'Title: P Operations<br><img src=\"https://source.unsplash.com/collection/385548/150x100\">'\n",
    "d3.node_properties.get('Bio-conversion')['edge_color'] = '#00FFFF'\n",
    "d3.node_properties.get('Bio-conversion')['edge_size'] = 5\n",
    "d3.node_properties.get('Bio-conversion')['opacity'] = 0.4\n",
    "\n",
    "# Set properties for Losses\n",
    "d3.node_properties.get('Losses')['color'] = '#FF0000'\n",
    "d3.node_properties.get('Losses')['size'] = 15\n",
    "\n",
    "d3.node_properties.get('Losses')['tooltip'] = ''\n",
    "\n",
    "# Set properties for Agriculture\n",
    "d3.node_properties.get('Agriculture')['color'] = '#00FFFF'\n",
    "d3.node_properties.get('Agriculture')['size'] = 5\n",
    "d3.node_properties.get('Agriculture')['tooltip'] = '<img src=\"https://imgs.search.brave.com/LHiQmxOnqaoKlcXJ4EjN45H8LRrGHttJ9Oo59NeyrTY/rs:fit:500:0:0/g:ce/aHR0cHM6Ly9pbWcu/ZnJlZXBpay5jb20v/cHJlbWl1bS1waG90/by9kaXJ0LXJvYWQt/bGFyZ2UtZ3JlZW4t/d2hlYXQtZmllbGQt/YmVhdXRpZnVsLWNs/b3Vkcy1hZ3JpY3Vs/dHVyYWwtbGFuZF81/OTI3MjEtNjg5Lmpw/Zz9zaXplPTYyNiZl/eHQ9anBn\">'\n",
    "d3.node_properties.get('Agriculture')['edge_size'] = 3\n",
    "d3.node_properties.get('Agriculture')['opacity'] = 0.7\n",
    "d3.node_properties.get('Agriculture')['edge_color'] = '#89CFF0'\n",
    "\n",
    "# Set edge properties\n",
    "d3.set_edge_properties(df)\n",
    "\n",
    "d3.show()"
   ]
  },
  {
   "cell_type": "raw",
   "id": "93b94451",
   "metadata": {},
   "source": [
    "# Show chart\n",
    "d3.show(hierarchy=[1, 2, 3, 4, 5, 6, 7, 8], filepath=r'c:\\\\tmp\\\\tree.html')"
   ]
  },
  {
   "cell_type": "code",
   "execution_count": 10,
   "id": "f785d922",
   "metadata": {},
   "outputs": [
    {
     "name": "stdout",
     "output_type": "stream",
     "text": [
      "{'Agricultural waste': {'id': 0, 'label': 'Agricultural waste', 'color': '#D33F6A', 'size': 10, 'tooltip': 'Agricultural waste', 'edge_size': 1, 'edge_color': '#000000', 'opacity': 0.95}, 'Bio-conversion': {'id': 1, 'label': 'Bio-conversion', 'color': '#000000', 'size': 30, 'tooltip': 'Title: P Operations<br><img src=\"https://source.unsplash.com/collection/385548/150x100\">', 'edge_size': 5, 'edge_color': '#00FFFF', 'opacity': 0.4}, 'Liquid': {'id': 2, 'label': 'Liquid', 'color': '#D33F6A', 'size': 10, 'tooltip': 'Liquid', 'edge_size': 1, 'edge_color': '#000000', 'opacity': 0.95}, 'Losses': {'id': 3, 'label': 'Losses', 'color': '#FF0000', 'size': 15, 'tooltip': '', 'edge_size': 1, 'edge_color': '#000000', 'opacity': 0.95}, 'Solid': {'id': 4, 'label': 'Solid', 'color': '#D33F6A', 'size': 10, 'tooltip': 'Solid', 'edge_size': 1, 'edge_color': '#000000', 'opacity': 0.95}, 'Gas': {'id': 5, 'label': 'Gas', 'color': '#D33F6A', 'size': 10, 'tooltip': 'Gas', 'edge_size': 1, 'edge_color': '#000000', 'opacity': 0.95}, 'Biofuel imports': {'id': 6, 'label': 'Biofuel imports', 'color': '#D33F6A', 'size': 10, 'tooltip': 'Biofuel imports', 'edge_size': 1, 'edge_color': '#000000', 'opacity': 0.95}, 'Biomass imports': {'id': 7, 'label': 'Biomass imports', 'color': '#D33F6A', 'size': 10, 'tooltip': 'Biomass imports', 'edge_size': 1, 'edge_color': '#000000', 'opacity': 0.95}, 'Coal imports': {'id': 8, 'label': 'Coal imports', 'color': '#D33F6A', 'size': 10, 'tooltip': 'Coal imports', 'edge_size': 1, 'edge_color': '#000000', 'opacity': 0.95}, 'Coal': {'id': 9, 'label': 'Coal', 'color': '#D33F6A', 'size': 10, 'tooltip': 'Coal', 'edge_size': 1, 'edge_color': '#000000', 'opacity': 0.95}, 'Coal reserves': {'id': 10, 'label': 'Coal reserves', 'color': '#D33F6A', 'size': 10, 'tooltip': 'Coal reserves', 'edge_size': 1, 'edge_color': '#000000', 'opacity': 0.95}, 'District heating': {'id': 11, 'label': 'District heating', 'color': '#D33F6A', 'size': 10, 'tooltip': 'District heating', 'edge_size': 1, 'edge_color': '#000000', 'opacity': 0.95}, 'Industry': {'id': 12, 'label': 'Industry', 'color': '#D33F6A', 'size': 10, 'tooltip': 'Industry', 'edge_size': 1, 'edge_color': '#000000', 'opacity': 0.95}, 'Heating and cooling - commercial': {'id': 13, 'label': 'Heating and cooling - commercial', 'color': '#D33F6A', 'size': 10, 'tooltip': 'Heating and cooling - commercial', 'edge_size': 1, 'edge_color': '#000000', 'opacity': 0.95}, 'Heating and cooling - homes': {'id': 14, 'label': 'Heating and cooling - homes', 'color': '#D33F6A', 'size': 10, 'tooltip': 'Heating and cooling - homes', 'edge_size': 1, 'edge_color': '#000000', 'opacity': 0.95}, 'Electricity grid': {'id': 15, 'label': 'Electricity grid', 'color': '#D33F6A', 'size': 10, 'tooltip': 'Electricity grid', 'edge_size': 1, 'edge_color': '#000000', 'opacity': 0.95}, 'Over generation / exports': {'id': 16, 'label': 'Over generation / exports', 'color': '#D33F6A', 'size': 10, 'tooltip': 'Over generation / exports', 'edge_size': 1, 'edge_color': '#000000', 'opacity': 0.95}, 'H2 conversion': {'id': 17, 'label': 'H2 conversion', 'color': '#D33F6A', 'size': 10, 'tooltip': 'H2 conversion', 'edge_size': 1, 'edge_color': '#000000', 'opacity': 0.95}, 'Road transport': {'id': 18, 'label': 'Road transport', 'color': '#D33F6A', 'size': 10, 'tooltip': 'Road transport', 'edge_size': 1, 'edge_color': '#000000', 'opacity': 0.95}, 'Agriculture': {'id': 19, 'label': 'Agriculture', 'color': '#00FFFF', 'size': 5, 'tooltip': '<img src=\"https://imgs.search.brave.com/LHiQmxOnqaoKlcXJ4EjN45H8LRrGHttJ9Oo59NeyrTY/rs:fit:500:0:0/g:ce/aHR0cHM6Ly9pbWcu/ZnJlZXBpay5jb20v/cHJlbWl1bS1waG90/by9kaXJ0LXJvYWQt/bGFyZ2UtZ3JlZW4t/d2hlYXQtZmllbGQt/YmVhdXRpZnVsLWNs/b3Vkcy1hZ3JpY3Vs/dHVyYWwtbGFuZF81/OTI3MjEtNjg5Lmpw/Zz9zaXplPTYyNiZl/eHQ9anBn\">', 'edge_size': 3, 'edge_color': '#89CFF0', 'opacity': 0.7}, 'Rail transport': {'id': 20, 'label': 'Rail transport', 'color': '#D33F6A', 'size': 10, 'tooltip': 'Rail transport', 'edge_size': 1, 'edge_color': '#000000', 'opacity': 0.95}, 'Lighting & appliances - commercial': {'id': 21, 'label': 'Lighting & appliances - commercial', 'color': '#D33F6A', 'size': 10, 'tooltip': 'Lighting & appliances - commercial', 'edge_size': 1, 'edge_color': '#000000', 'opacity': 0.95}, 'Lighting & appliances - homes': {'id': 22, 'label': 'Lighting & appliances - homes', 'color': '#D33F6A', 'size': 10, 'tooltip': 'Lighting & appliances - homes', 'edge_size': 1, 'edge_color': '#000000', 'opacity': 0.95}, 'Gas imports': {'id': 23, 'label': 'Gas imports', 'color': '#D33F6A', 'size': 10, 'tooltip': 'Gas imports', 'edge_size': 1, 'edge_color': '#000000', 'opacity': 0.95}, 'Ngas': {'id': 24, 'label': 'Ngas', 'color': '#D33F6A', 'size': 10, 'tooltip': 'Ngas', 'edge_size': 1, 'edge_color': '#000000', 'opacity': 0.95}, 'Gas reserves': {'id': 25, 'label': 'Gas reserves', 'color': '#D33F6A', 'size': 10, 'tooltip': 'Gas reserves', 'edge_size': 1, 'edge_color': '#000000', 'opacity': 0.95}, 'Thermal generation': {'id': 26, 'label': 'Thermal generation', 'color': '#D33F6A', 'size': 10, 'tooltip': 'Thermal generation', 'edge_size': 1, 'edge_color': '#000000', 'opacity': 0.95}, 'Geothermal': {'id': 27, 'label': 'Geothermal', 'color': '#D33F6A', 'size': 10, 'tooltip': 'Geothermal', 'edge_size': 1, 'edge_color': '#000000', 'opacity': 0.95}, 'H2': {'id': 28, 'label': 'H2', 'color': '#D33F6A', 'size': 10, 'tooltip': 'H2', 'edge_size': 1, 'edge_color': '#000000', 'opacity': 0.95}, 'Hydro': {'id': 29, 'label': 'Hydro', 'color': '#D33F6A', 'size': 10, 'tooltip': 'Hydro', 'edge_size': 1, 'edge_color': '#000000', 'opacity': 0.95}, 'International shipping': {'id': 30, 'label': 'International shipping', 'color': '#D33F6A', 'size': 10, 'tooltip': 'International shipping', 'edge_size': 1, 'edge_color': '#000000', 'opacity': 0.95}, 'Domestic aviation': {'id': 31, 'label': 'Domestic aviation', 'color': '#D33F6A', 'size': 10, 'tooltip': 'Domestic aviation', 'edge_size': 1, 'edge_color': '#000000', 'opacity': 0.95}, 'International aviation': {'id': 32, 'label': 'International aviation', 'color': '#D33F6A', 'size': 10, 'tooltip': 'International aviation', 'edge_size': 1, 'edge_color': '#000000', 'opacity': 0.95}, 'National navigation': {'id': 33, 'label': 'National navigation', 'color': '#D33F6A', 'size': 10, 'tooltip': 'National navigation', 'edge_size': 1, 'edge_color': '#000000', 'opacity': 0.95}, 'Marine algae': {'id': 34, 'label': 'Marine algae', 'color': '#D33F6A', 'size': 10, 'tooltip': 'Marine algae', 'edge_size': 1, 'edge_color': '#000000', 'opacity': 0.95}, 'Nuclear': {'id': 35, 'label': 'Nuclear', 'color': '#D33F6A', 'size': 10, 'tooltip': 'Nuclear', 'edge_size': 1, 'edge_color': '#000000', 'opacity': 0.95}, 'Oil imports': {'id': 36, 'label': 'Oil imports', 'color': '#D33F6A', 'size': 10, 'tooltip': 'Oil imports', 'edge_size': 1, 'edge_color': '#000000', 'opacity': 0.95}, 'Oil': {'id': 37, 'label': 'Oil', 'color': '#D33F6A', 'size': 10, 'tooltip': 'Oil', 'edge_size': 1, 'edge_color': '#000000', 'opacity': 0.95}, 'Oil reserves': {'id': 38, 'label': 'Oil reserves', 'color': '#D33F6A', 'size': 10, 'tooltip': 'Oil reserves', 'edge_size': 1, 'edge_color': '#000000', 'opacity': 0.95}, 'Other waste': {'id': 39, 'label': 'Other waste', 'color': '#D33F6A', 'size': 10, 'tooltip': 'Other waste', 'edge_size': 1, 'edge_color': '#000000', 'opacity': 0.95}, 'Pumped heat': {'id': 40, 'label': 'Pumped heat', 'color': '#D33F6A', 'size': 10, 'tooltip': 'Pumped heat', 'edge_size': 1, 'edge_color': '#000000', 'opacity': 0.95}, 'Solar PV': {'id': 41, 'label': 'Solar PV', 'color': '#D33F6A', 'size': 10, 'tooltip': 'Solar PV', 'edge_size': 1, 'edge_color': '#000000', 'opacity': 0.95}, 'Solar Thermal': {'id': 42, 'label': 'Solar Thermal', 'color': '#D33F6A', 'size': 10, 'tooltip': 'Solar Thermal', 'edge_size': 1, 'edge_color': '#000000', 'opacity': 0.95}, 'Solar': {'id': 43, 'label': 'Solar', 'color': '#D33F6A', 'size': 10, 'tooltip': 'Solar', 'edge_size': 1, 'edge_color': '#000000', 'opacity': 0.95}, 'Tidal': {'id': 44, 'label': 'Tidal', 'color': '#D33F6A', 'size': 10, 'tooltip': 'Tidal', 'edge_size': 1, 'edge_color': '#000000', 'opacity': 0.95}, 'UK land based bioenergy': {'id': 45, 'label': 'UK land based bioenergy', 'color': '#D33F6A', 'size': 10, 'tooltip': 'UK land based bioenergy', 'edge_size': 1, 'edge_color': '#000000', 'opacity': 0.95}, 'Wave': {'id': 46, 'label': 'Wave', 'color': '#D33F6A', 'size': 10, 'tooltip': 'Wave', 'edge_size': 1, 'edge_color': '#000000', 'opacity': 0.95}, 'Wind': {'id': 47, 'label': 'Wind', 'color': '#D33F6A', 'size': 10, 'tooltip': 'Wind', 'edge_size': 1, 'edge_color': '#000000', 'opacity': 0.95}}\n"
     ]
    }
   ],
   "source": [
    "print(d3.node_properties)"
   ]
  },
  {
   "cell_type": "code",
   "execution_count": 9,
   "id": "d5616407",
   "metadata": {},
   "outputs": [],
   "source": [
    "d3.tree?"
   ]
  },
  {
   "cell_type": "code",
   "execution_count": null,
   "id": "0118748a",
   "metadata": {},
   "outputs": [],
   "source": []
  }
 ],
 "metadata": {
  "kernelspec": {
   "display_name": "Python 3 (ipykernel)",
   "language": "python",
   "name": "python3"
  },
  "language_info": {
   "codemirror_mode": {
    "name": "ipython",
    "version": 3
   },
   "file_extension": ".py",
   "mimetype": "text/x-python",
   "name": "python",
   "nbconvert_exporter": "python",
   "pygments_lexer": "ipython3",
   "version": "3.9.13"
  },
  "nbTranslate": {
   "displayLangs": [
    "*"
   ],
   "hotkey": "alt-t",
   "langInMainMenu": true,
   "sourceLang": "en",
   "targetLang": "fr",
   "useGoogleTranslate": true
  },
  "toc": {
   "base_numbering": 1,
   "nav_menu": {},
   "number_sections": true,
   "sideBar": true,
   "skip_h1_title": false,
   "title_cell": "Table of Contents",
   "title_sidebar": "Contents",
   "toc_cell": false,
   "toc_position": {},
   "toc_section_display": true,
   "toc_window_display": false
  }
 },
 "nbformat": 4,
 "nbformat_minor": 5
}
