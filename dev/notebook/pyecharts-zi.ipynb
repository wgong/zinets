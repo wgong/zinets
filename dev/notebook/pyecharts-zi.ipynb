{
 "cells": [
  {
   "cell_type": "code",
   "execution_count": 1,
   "id": "1f59180b",
   "metadata": {},
   "outputs": [],
   "source": [
    "from pyecharts import options as opts\n",
    "from pyecharts.charts import Tree"
   ]
  },
  {
   "cell_type": "raw",
   "id": "5fab9871",
   "metadata": {},
   "source": [
    "from IPython.core.display import HTML"
   ]
  },
  {
   "cell_type": "code",
   "execution_count": 2,
   "id": "107e1349",
   "metadata": {},
   "outputs": [],
   "source": [
    "data_藻 = [\n",
    "    {\n",
    "        \"name\": \"藻\",\n",
    "        \"children\": [\n",
    "            {\"name\": \"艹\"},\n",
    "            {\n",
    "                \"name\": \"喿\",\n",
    "                \"children\": [\n",
    "                    {\n",
    "                        \"name\": \"品\",\n",
    "                        \"children\": [\n",
    "                            {\"name\": \"口\"},\n",
    "                            {\"name\": \"口\"},\n",
    "                            {\"name\": \"口\"},\n",
    "                        ], \n",
    "                    }, \n",
    "                    {\"name\": \"木\"},\n",
    "                ],\n",
    "            },\n",
    "        ],\n",
    "    }\n",
    "]"
   ]
  },
  {
   "cell_type": "code",
   "execution_count": 38,
   "id": "ad2acfa5",
   "metadata": {},
   "outputs": [],
   "source": [
    "def traverse_dict(data, key_filter=[\"name\"]):\n",
    "    \"\"\"\n",
    "    Traverses a dictionary of unlimited depth and width, yielding key-value pairs\n",
    "    where the value is a string and optionally matches specific keys.\n",
    "\n",
    "    Args:\n",
    "        data: The dictionary to traverse.\n",
    "        keys_filter (list, optional): A list of keys to filter for. If None,\n",
    "            all string values are yielded. Defaults to None.\n",
    "\n",
    "    Yields:\n",
    "        tuple: A tuple containing the key and value from the dictionary.\n",
    "        \n",
    "    Example usage:\n",
    "        my_dict = {\n",
    "            \"a\": 1,\n",
    "            \"b\": {\n",
    "                \"name\": \"Alice\",\n",
    "                \"c\": \"hello\",\n",
    "                \"d\": [3, {\"description\": \"world\"}]\n",
    "            },\n",
    "            \"f\": [5, \"world\"]\n",
    "        }\n",
    "\n",
    "        # Extract all string values:\n",
    "        for key, value in traverse_dict(my_dict):\n",
    "            print(f\"{key}: {value}\")\n",
    "\n",
    "        # Extract specific keys:\n",
    "        for key, value in traverse_dict(my_dict, [\"name\", \"description\"]):\n",
    "            print(f\"{key}: {value}\")\n",
    "    \n",
    "    \"\"\"    \n",
    "    if isinstance(data, dict):\n",
    "        for key, value in data.items():\n",
    "            if isinstance(value,str):\n",
    "                if (not key_filter or key in key_filter):\n",
    "                    yield key, value\n",
    "            else:\n",
    "                yield from traverse_dict(value, key_filter)  # Recursively traverse nested values\n",
    "    elif isinstance(data, list):\n",
    "        for item in data:\n",
    "            yield from traverse_dict(item, key_filter)  # Handle lists within the dictionary\n",
    "#     else:\n",
    "#         pass # yield data  # Yield non-iterable values directly"
   ]
  },
  {
   "cell_type": "raw",
   "id": "0076edde",
   "metadata": {},
   "source": [
    "my_dict = {\n",
    "    \"a\": 1,\n",
    "    \"b\": {\n",
    "        \"name\": \"Alice\",\n",
    "        \"c\": \"hello\",\n",
    "        \"d\": [3, {\"description\": \"world\"}]\n",
    "    },\n",
    "    \"f\": [5, \"world\"]\n",
    "}\n",
    "\n",
    "for x in traverse_dict(my_dict):\n",
    "    print(f\"{x}\")"
   ]
  },
  {
   "cell_type": "code",
   "execution_count": 45,
   "id": "0ab55ce0",
   "metadata": {},
   "outputs": [
    {
     "name": "stdout",
     "output_type": "stream",
     "text": [
      "藻, 艹, 喿, 品, 口, 木\n"
     ]
    }
   ],
   "source": [
    "zi_parts = []\n",
    "for z in traverse_dict(data_藻):\n",
    "    if z[1] not in zi_parts:\n",
    "        zi_parts.append(z[1])\n",
    "part_str = \", \".join(zi_parts)\n",
    "print(part_str)"
   ]
  },
  {
   "cell_type": "code",
   "execution_count": 46,
   "id": "45387185",
   "metadata": {},
   "outputs": [],
   "source": [
    "# label_opts = opts.LabelOpts(font_size=50)\n",
    "label_opts = opts.LabelOpts(font_size=50, color=\"red\")\n",
    "file_html = \"tree_zi_藻.html\"\n",
    "c = (\n",
    "    Tree()\n",
    "    .add(\"\", data_藻, symbol=\"rect\", symbol_size=60, label_opts=label_opts)\n",
    "    .set_global_opts(title_opts=opts.TitleOpts(title=part_str))\n",
    "    .render(file_html)\n",
    ")"
   ]
  },
  {
   "cell_type": "code",
   "execution_count": 47,
   "id": "49c006f5",
   "metadata": {},
   "outputs": [
    {
     "name": "stdout",
     "output_type": "stream",
     "text": [
      "C:\\Users\\p2p2l\\projects\\d3graph\\notebooks\n"
     ]
    }
   ],
   "source": [
    "!cd"
   ]
  },
  {
   "cell_type": "code",
   "execution_count": null,
   "id": "d808e9e9",
   "metadata": {},
   "outputs": [],
   "source": []
  }
 ],
 "metadata": {
  "kernelspec": {
   "display_name": "Python 3 (ipykernel)",
   "language": "python",
   "name": "python3"
  },
  "language_info": {
   "codemirror_mode": {
    "name": "ipython",
    "version": 3
   },
   "file_extension": ".py",
   "mimetype": "text/x-python",
   "name": "python",
   "nbconvert_exporter": "python",
   "pygments_lexer": "ipython3",
   "version": "3.9.13"
  },
  "nbTranslate": {
   "displayLangs": [
    "*"
   ],
   "hotkey": "alt-t",
   "langInMainMenu": true,
   "sourceLang": "en",
   "targetLang": "fr",
   "useGoogleTranslate": true
  },
  "toc": {
   "base_numbering": 1,
   "nav_menu": {},
   "number_sections": true,
   "sideBar": true,
   "skip_h1_title": false,
   "title_cell": "Table of Contents",
   "title_sidebar": "Contents",
   "toc_cell": false,
   "toc_position": {},
   "toc_section_display": true,
   "toc_window_display": false
  }
 },
 "nbformat": 4,
 "nbformat_minor": 5
}
