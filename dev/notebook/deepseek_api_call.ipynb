{
 "cells": [
  {
   "cell_type": "markdown",
   "id": "aff01805",
   "metadata": {},
   "source": [
    "https://api-docs.deepseek.com/"
   ]
  },
  {
   "cell_type": "raw",
   "id": "03f6f0ed",
   "metadata": {},
   "source": [
    "!pip show openai "
   ]
  },
  {
   "cell_type": "raw",
   "id": "9df25f30",
   "metadata": {},
   "source": [
    "!pip install  openai \n",
    "\n",
    "# Successfully installed annotated-types-0.7.0 anyio-4.8.0 distro-1.9.0 h11-0.14.0 httpcore-1.0.7 httpx-0.28.1 jiter-0.8.2 openai-1.59.7 pydantic-2.10.5 pydantic-core-2.27.2 sniffio-1.3.1 tqdm-4.67.1"
   ]
  },
  {
   "cell_type": "code",
   "execution_count": 1,
   "id": "999e8747",
   "metadata": {},
   "outputs": [],
   "source": [
    "import os\n",
    "from dotenv import load_dotenv\n",
    "\n",
    "# Please install OpenAI SDK first: `pip3 install openai`\n",
    "\n",
    "from openai import OpenAI "
   ]
  },
  {
   "cell_type": "code",
   "execution_count": 2,
   "id": "21170da9",
   "metadata": {},
   "outputs": [],
   "source": [
    "# Load environment variables from .env file\n",
    "load_dotenv()\n",
    "API_KEY = os.getenv('DEEPSEEK_API_KEY')"
   ]
  },
  {
   "cell_type": "code",
   "execution_count": null,
   "id": "73c4b44f",
   "metadata": {},
   "outputs": [],
   "source": [
    "client = OpenAI(api_key=API_KEY, base_url=\"https://api.deepseek.com\")"
   ]
  },
  {
   "cell_type": "code",
   "execution_count": 3,
   "id": "95f0b7a1",
   "metadata": {},
   "outputs": [
    {
     "name": "stdout",
     "output_type": "stream",
     "text": [
      "Deeplink Seek (DeekSeek) is not a widely recognized or standard API, so it's possible that you might be referring to a specific service or tool that uses this name. However, if you are referring to a general concept of deep linking or a specific API that allows you to create or manage deep links, I can provide some general guidance on how to use APIs for deep linking.\n",
      "\n",
      "### General Steps to Use an API for Deep Linking\n",
      "\n",
      "1. **Get API Access:**\n",
      "   - Sign up for the service that provides the deep linking API.\n",
      "   - Obtain your API key or token, which is usually required for authentication.\n",
      "\n",
      "2. **Read the Documentation:**\n",
      "   - Review the API documentation provided by the service. This will include details on endpoints, request methods, parameters, and response formats.\n",
      "\n",
      "3. **Set Up Your Environment:**\n",
      "   - Ensure you have the necessary tools and libraries to make HTTP requests (e.g., `curl`, Postman, or a programming language like Python with the `requests` library).\n",
      "\n",
      "4. **Make API Requests:**\n",
      "   - Use the appropriate HTTP method (GET, POST, PUT, DELETE) to interact with the API.\n",
      "   - Include your API key or token in the request headers for authentication.\n",
      "   - Send the required parameters in the request body or query string.\n",
      "\n",
      "5. **Handle the Response:**\n",
      "   - Parse the response (usually in JSON format) to extract the information you need.\n",
      "   - Handle any errors or exceptions as per the API documentation.\n",
      "\n",
      "### Example Using Python and `requests` Library\n",
      "\n",
      "Here’s a hypothetical example of how you might use a deep linking API in Python:\n",
      "\n",
      "```python\n",
      "import requests\n",
      "\n",
      "# Replace with your actual API endpoint and key\n",
      "API_URL = \"https://api.deekseek.com/v1/links\"\n",
      "API_KEY = \"your_api_key_here\"\n",
      "\n",
      "# Headers for authentication\n",
      "headers = {\n",
      "    \"Authorization\": f\"Bearer {API_KEY}\",\n",
      "    \"Content-Type\": \"application/json\"\n",
      "}\n",
      "\n",
      "# Payload for creating a deep link\n",
      "payload = {\n",
      "    \"url\": \"https://example.com\",\n",
      "    \"deep_link\": \"myapp://example\",\n",
      "    \"description\": \"Example deep link\"\n",
      "}\n",
      "\n",
      "# Make a POST request to create a deep link\n",
      "response = requests.post(API_URL, json=payload, headers=headers)\n",
      "\n",
      "# Check the response\n",
      "if response.status_code == 201:\n",
      "    print(\"Deep link created successfully!\")\n",
      "    print(response.json())\n",
      "else:\n",
      "    print(f\"Failed to create deep link. Status code: {response.status_code}\")\n",
      "    print(response.text)\n",
      "```\n",
      "\n",
      "### Example Using `curl`\n",
      "\n",
      "If you prefer using `curl` from the command line:\n",
      "\n",
      "```bash\n",
      "curl -X POST \"https://api.deekseek.com/v1/links\" \\\n",
      "     -H \"Authorization: Bearer your_api_key_here\" \\\n",
      "     -H \"Content-Type: application/json\" \\\n",
      "     -d '{\n",
      "           \"url\": \"https://example.com\",\n",
      "           \"deep_link\": \"myapp://example\",\n",
      "           \"description\": \"Example deep link\"\n",
      "         }'\n",
      "```\n",
      "\n",
      "### Key Points to Remember\n",
      "\n",
      "- **Authentication:** Always include your API key or token in the request headers.\n",
      "- **Endpoints:** Use the correct API endpoint as specified in the documentation.\n",
      "- **Parameters:** Ensure you include all required parameters in your request.\n",
      "- **Error Handling:** Check the response status code and handle errors appropriately.\n",
      "\n",
      "If \"DeekSeek\" refers to a specific service or API, please provide more details or refer to their official documentation for precise instructions.\n"
     ]
    }
   ],
   "source": [
    "response = client.chat.completions.create(\n",
    "    model=\"deepseek-chat\",\n",
    "    messages=[\n",
    "        {\"role\": \"system\", \"content\": \"You are a helpful assistant\"},\n",
    "        {\"role\": \"user\", \"content\": \"how to use DeepSeek API call\"},\n",
    "    ],\n",
    "    stream=False\n",
    ")\n",
    "\n",
    "print(response.choices[0].message.content)"
   ]
  },
  {
   "cell_type": "code",
   "execution_count": 4,
   "id": "a7894718",
   "metadata": {},
   "outputs": [
    {
     "name": "stdout",
     "output_type": "stream",
     "text": [
      "To use the DeepSeek API, you typically need to follow these steps:\n",
      "\n",
      "### 1. **Get API Access:**\n",
      "   - **Sign Up:** First, you need to sign up for an account on the DeepSeek platform (if you haven't already).\n",
      "   - **API Key:** Once registered, you will receive an API key. This key is used to authenticate your requests to the DeepSeek API.\n",
      "\n",
      "### 2. **Read the Documentation:**\n",
      "   - **API Documentation:** DeepSeek should provide API documentation that outlines the available endpoints, request formats, and response structures. Make sure to read this documentation thoroughly to understand how to structure your requests and what to expect in the responses.\n",
      "\n",
      "### 3. **Make API Requests:**\n",
      "   - **Base URL:** The API documentation will specify the base URL for the API. All your requests will be made to this URL.\n",
      "   - **Endpoints:** Depending on what you want to do (e.g., search, retrieve data, etc.), you will use different endpoints provided by the API.\n",
      "   - **Authentication:** Include your API key in the request headers for authentication. This is usually done by adding an `Authorization` header with your API key.\n",
      "\n",
      "   Example of a simple API request using `curl`:\n",
      "\n",
      "   ```bash\n",
      "   curl -X GET \"https://api.deepseek.com/v1/endpoint\" \\\n",
      "   -H \"Authorization: Bearer YOUR_API_KEY\" \\\n",
      "   -H \"Content-Type: application/json\"\n",
      "   ```\n",
      "\n",
      "   Replace `YOUR_API_KEY` with your actual API key and `https://api.deepseek.com/v1/endpoint` with the actual endpoint you want to access.\n",
      "\n",
      "### 4. **Handle Responses:**\n",
      "   - **JSON Responses:** Most APIs return data in JSON format. You will need to parse this JSON in your application to extract the information you need.\n",
      "   - **Error Handling:** Check for errors in the response. The API documentation should specify how errors are returned (e.g., HTTP status codes, error messages in the response body).\n",
      "\n",
      "### 5. **Rate Limits and Quotas:**\n",
      "   - **Rate Limits:** Be aware of any rate limits imposed by the API. These limits control how many requests you can make in a given time period.\n",
      "   - **Quotas:** Some APIs have usage quotas, which limit the total number of requests you can make in a day or month.\n",
      "\n",
      "### 6. **Testing and Debugging:**\n",
      "   - **Testing:** Use tools like Postman or cURL to test your API requests before integrating them into your application.\n",
      "   - **Debugging:** If something goes wrong, check the API logs (if available) and review the error messages returned by the API.\n",
      "\n",
      "### 7. **Integration:**\n",
      "   - **Integrate into Your Application:** Once you have successfully tested your API calls, you can integrate them into your application. This might involve writing code in a programming language like Python, JavaScript, etc., to make the API requests and handle the responses.\n",
      "\n",
      "### Example in Python:\n",
      "\n",
      "```python\n",
      "import requests\n",
      "\n",
      "url = \"https://api.deepseek.com/v1/endpoint\"\n",
      "headers = {\n",
      "    \"Authorization\": \"Bearer YOUR_API_KEY\",\n",
      "    \"Content-Type\": \"application/json\"\n",
      "}\n",
      "\n",
      "response = requests.get(url, headers=headers)\n",
      "\n",
      "if response.status_code == 200:\n",
      "    data = response.json()\n",
      "    print(data)\n",
      "else:\n",
      "    print(f\"Error: {response.status_code}\")\n",
      "    print(response.text)\n",
      "```\n",
      "\n",
      "Replace `YOUR_API_KEY` with your actual API key and `https://api.deepseek.com/v1/endpoint` with the actual endpoint you want to access.\n",
      "\n",
      "### 8. **Monitor Usage:**\n",
      "   - **Usage Monitoring:** Keep an eye on your API usage to ensure you stay within the allowed limits and quotas.\n",
      "\n",
      "### 9. **Stay Updated:**\n",
      "   - **API Updates:** APIs can change over time. Make sure to stay updated with any changes to the API by regularly checking the documentation or subscribing to any update notifications provided by DeepSeek.\n",
      "\n",
      "### 10. **Support:**\n",
      "   - **Support:** If you encounter any issues or have questions, reach out to DeepSeek’s support team for assistance.\n",
      "\n",
      "By following these steps, you should be able to effectively use the DeepSeek API in your applications.\n"
     ]
    }
   ],
   "source": [
    "response = client.chat.completions.create(\n",
    "    model=\"deepseek-chat\",\n",
    "    messages=[\n",
    "        {\"role\": \"system\", \"content\": \"You are a helpful assistant\"},\n",
    "        {\"role\": \"user\", \"content\": \"how to use DeepSeek API call\"},\n",
    "    ],\n",
    "    stream=False\n",
    ")\n",
    "\n",
    "print(response.choices[0].message.content)"
   ]
  },
  {
   "cell_type": "code",
   "execution_count": null,
   "id": "26db7c13",
   "metadata": {},
   "outputs": [],
   "source": []
  }
 ],
 "metadata": {
  "kernelspec": {
   "display_name": "Python 3 (ipykernel)",
   "language": "python",
   "name": "python3"
  },
  "language_info": {
   "codemirror_mode": {
    "name": "ipython",
    "version": 3
   },
   "file_extension": ".py",
   "mimetype": "text/x-python",
   "name": "python",
   "nbconvert_exporter": "python",
   "pygments_lexer": "ipython3",
   "version": "3.9.13"
  },
  "nbTranslate": {
   "displayLangs": [
    "*"
   ],
   "hotkey": "alt-t",
   "langInMainMenu": true,
   "sourceLang": "en",
   "targetLang": "fr",
   "useGoogleTranslate": true
  },
  "toc": {
   "base_numbering": 1,
   "nav_menu": {},
   "number_sections": true,
   "sideBar": true,
   "skip_h1_title": false,
   "title_cell": "Table of Contents",
   "title_sidebar": "Contents",
   "toc_cell": false,
   "toc_position": {},
   "toc_section_display": true,
   "toc_window_display": false
  }
 },
 "nbformat": 4,
 "nbformat_minor": 5
}
