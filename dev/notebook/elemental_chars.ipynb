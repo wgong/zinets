{
 "cells": [
  {
   "cell_type": "markdown",
   "id": "c6ebc79a",
   "metadata": {},
   "source": [
    "### 元字 (418)"
   ]
  },
  {
   "cell_type": "code",
   "execution_count": null,
   "id": "99c212b2",
   "metadata": {},
   "outputs": [],
   "source": [
    "import pandas as pd "
   ]
  },
  {
   "cell_type": "code",
   "execution_count": 6,
   "id": "763efa2c",
   "metadata": {},
   "outputs": [],
   "source": [
    "s = \"\"\"\n",
    "|[ 1 ]| 一丨乛丶丿乀乁乙乚亅 |[ 2 ]| 二亠人亻儿入八丷冂讠冖冫几凵刂刁刀乃力丁了乂龴勹匕匚匸十九七卜卩㔾厂厶又⺀⺁ |[ 3 ]| 氵兀乡已犭纟艹辶阝门⻏飞饣马三丸坙才习勺刃叉乞千万下上亡亏久丈于口也及囗个之土与义士夂亍夊夕大女子宀寸小⺌⺍尢尸屮山川巛工己巾干幺广廴廾弋弓彐彑么彡彳忄扌丬 |[ 4 ]| 毛氏气水火灬爪爫父爻爿片牙牛牜⺧犬王瓦礻禸罓耂月见贝车长韦风斥云天冈井丰夫仓勾公区友匀元六五今中内午分丑少不巨勿凶升太为尺匹乌亢介屯巴尤专以开办毋⺩心戈户戶手支攴攵文斗斤方无犭旡日曰朩木欠止歹殳 |[ 5 ]| 比氺玄玉瓜甘生用田疋𤴔疒癶白皮皿目矛矢石示禾穴立罒衤钅巨鸟龙且旦电本兄头布乐令台包术业市击四古央北东冬由出失申正半宁平未戋末只丘占句必可去乍并它甲丙尼刍乎兰斥⺪卡另匹母 |[ 6 ]| ⺮竹米糸缶网羊⺶⺷羽而耒耳聿肉臣自至臼舌舟艮色虍虫血行衣覀并幷西页齐屰共曲庄向交吉各合尧囟吕式寺 |[ 7 ]| 坙舛角言谷豆豕豸赤走足身辛辰邑酉釆里卤麦龟员良甫肙孚佥夆呙奂㐬㕻 |[ 8 ]| 東金阜隶隹雨青非鱼黾齿易其尚奉幷责龺 |[ 9 ]| 面革韭音食首香骨鬼畐咸柬畏\n",
    "\"\"\""
   ]
  },
  {
   "cell_type": "code",
   "execution_count": 15,
   "id": "de8af64c",
   "metadata": {},
   "outputs": [
    {
     "name": "stdout",
     "output_type": "stream",
     "text": [
      " 1 ]| 一丨乛丶丿乀乁乙乚亅 \n",
      "[' 1 ', ' 一丨乛丶丿乀乁乙乚亅 ']\n",
      " 2 ]| 二亠人亻儿入八丷冂讠冖冫几凵刂刁刀乃力丁了乂龴勹匕匚匸十\n",
      "九七卜卩㔾厂厶又⺀⺁ \n",
      "[' 2 ', ' 二亠人亻儿入八丷冂讠冖冫几凵刂刁刀乃力丁了乂龴勹匕匚匸十\\n九七卜卩㔾厂厶又⺀⺁ ']\n",
      " 3 ]| 氵兀乡已犭纟艹辶阝门⻏飞饣马三丸坙才习勺刃叉乞千万下上亡亏\n",
      "久丈于口也及囗个之土与义士夂亍夊夕大女子宀寸小⺌⺍尢尸屮山川巛工己巾干幺广廴廾弋\n",
      "弓彐彑么彡彳忄扌丬 \n",
      "[' 3 ', ' 氵兀乡已犭纟艹辶阝门⻏飞饣马三丸坙才习勺刃叉乞千万下上亡亏\\n久丈于口也及囗个之土与义士夂亍夊夕大女子宀寸小⺌⺍尢尸屮山川巛工己巾干幺广廴廾弋\\n弓彐彑么彡彳忄扌丬 ']\n",
      " 4 ]| 毛氏气水火灬爪爫父爻爿片牙牛牜⺧犬王瓦礻禸罓耂月见贝车长韦风\n",
      "斥云天冈井丰夫仓勾公区友匀元六五今中内午分丑少不巨勿凶升太为尺匹乌亢介屯巴尤专以\n",
      "开办毋⺩心戈户戶手支攴攵文斗斤方无犭旡日曰朩木欠止歹殳 \n",
      "[' 4 ', ' 毛氏气水火灬爪爫父爻爿片牙牛牜⺧犬王瓦礻禸罓耂月见贝车长韦风\\n斥云天冈井丰夫仓勾公区友匀元六五今中内午分丑少不巨勿凶升太为尺匹乌亢介屯巴尤专以\\n开办毋⺩心戈户戶手支攴攵文斗斤方无犭旡日曰朩木欠止歹殳 ']\n",
      " 5 ]| 比氺玄玉瓜甘生用田疋𤴔疒\n",
      "癶白皮皿目矛矢石示禾穴立罒衤钅巨鸟龙且旦电本兄头布乐令台包术业市击四古央北东冬由\n",
      "出失申正半宁平未戋末只丘占句必可去乍并它甲丙尼刍乎兰斥⺪卡另匹母 \n",
      "[' 5 ', ' 比氺玄玉瓜甘生用田疋𤴔疒\\n癶白皮皿目矛矢石示禾穴立罒衤钅巨鸟龙且旦电本兄头布乐令台包术业市击四古央北东冬由\\n出失申正半宁平未戋末只丘占句必可去乍并它甲丙尼刍乎兰斥⺪卡另匹母 ']\n",
      " 6 ]| ⺮竹米糸缶网羊\n",
      "⺶⺷羽而耒耳聿肉臣自至臼舌舟艮色虍虫血行衣覀并幷西页齐屰共曲庄向交吉各合尧囟吕式\n",
      "寺 \n",
      "[' 6 ', ' ⺮竹米糸缶网羊\\n⺶⺷羽而耒耳聿肉臣自至臼舌舟艮色虍虫血行衣覀并幷西页齐屰共曲庄向交吉各合尧囟吕式\\n寺 ']\n",
      " 7 ]| 坙舛角言谷豆豕豸赤走足身辛辰邑酉釆里卤麦龟员良甫肙孚佥夆呙奂㐬㕻 \n",
      "[' 7 ', ' 坙舛角言谷豆豕豸赤走足身辛辰邑酉釆里卤麦龟员良甫肙孚佥夆呙奂㐬㕻 ']\n",
      " 8 ]| 東金阜隶隹\n",
      "雨青非鱼黾齿易其尚奉幷责龺 \n",
      "[' 8 ', ' 東金阜隶隹\\n雨青非鱼黾齿易其尚奉幷责龺 ']\n",
      " 9 ]| 面革韭音食首香骨鬼畐咸柬畏\n",
      "\n",
      "[' 9 ', ' 面革韭音食首香骨鬼畐咸柬畏\\n']\n"
     ]
    }
   ],
   "source": [
    "strokes = {}\n",
    "for x in s.split(\"|[\"):\n",
    "    if not x.strip(): continue \n",
    "#     print(x)\n",
    "#     print(x.split(\"]|\"))\n",
    "    n, l = x.split(\"]|\")\n",
    "    strokes[n.strip()] = l.strip().replace(\"\\n\",\"\")"
   ]
  },
  {
   "cell_type": "code",
   "execution_count": 16,
   "id": "202b17a0",
   "metadata": {},
   "outputs": [
    {
     "data": {
      "text/plain": [
       "{'1': '一丨乛丶丿乀乁乙乚亅',\n",
       " '2': '二亠人亻儿入八丷冂讠冖冫几凵刂刁刀乃力丁了乂龴勹匕匚匸十九七卜卩㔾厂厶又⺀⺁',\n",
       " '3': '氵兀乡已犭纟艹辶阝门⻏飞饣马三丸坙才习勺刃叉乞千万下上亡亏久丈于口也及囗个之土与义士夂亍夊夕大女子宀寸小⺌⺍尢尸屮山川巛工己巾干幺广廴廾弋弓彐彑么彡彳忄扌丬',\n",
       " '4': '毛氏气水火灬爪爫父爻爿片牙牛牜⺧犬王瓦礻禸罓耂月见贝车长韦风斥云天冈井丰夫仓勾公区友匀元六五今中内午分丑少不巨勿凶升太为尺匹乌亢介屯巴尤专以开办毋⺩心戈户戶手支攴攵文斗斤方无犭旡日曰朩木欠止歹殳',\n",
       " '5': '比氺玄玉瓜甘生用田疋𤴔疒癶白皮皿目矛矢石示禾穴立罒衤钅巨鸟龙且旦电本兄头布乐令台包术业市击四古央北东冬由出失申正半宁平未戋末只丘占句必可去乍并它甲丙尼刍乎兰斥⺪卡另匹母',\n",
       " '6': '⺮竹米糸缶网羊⺶⺷羽而耒耳聿肉臣自至臼舌舟艮色虍虫血行衣覀并幷西页齐屰共曲庄向交吉各合尧囟吕式寺',\n",
       " '7': '坙舛角言谷豆豕豸赤走足身辛辰邑酉釆里卤麦龟员良甫肙孚佥夆呙奂㐬㕻',\n",
       " '8': '東金阜隶隹雨青非鱼黾齿易其尚奉幷责龺',\n",
       " '9': '面革韭音食首香骨鬼畐咸柬畏'}"
      ]
     },
     "execution_count": 16,
     "metadata": {},
     "output_type": "execute_result"
    }
   ],
   "source": [
    "strokes"
   ]
  },
  {
   "cell_type": "code",
   "execution_count": 24,
   "id": "048a3056",
   "metadata": {},
   "outputs": [],
   "source": [
    "data = []\n",
    "for k in strokes.keys():\n",
    "    for i in strokes[k]:\n",
    "        data.append([i, k, \"\", \"\"])"
   ]
  },
  {
   "cell_type": "code",
   "execution_count": 25,
   "id": "6cb9e023",
   "metadata": {},
   "outputs": [],
   "source": [
    "cols = [\"zi\",\"strokes\", 'fib_family', 'note']\n",
    "df = pd.DataFrame(data, columns=cols)"
   ]
  },
  {
   "cell_type": "code",
   "execution_count": 28,
   "id": "2823ea4e",
   "metadata": {},
   "outputs": [],
   "source": [
    "df.to_csv(\"elemental_zi.csv\", index=False)"
   ]
  },
  {
   "cell_type": "code",
   "execution_count": 30,
   "id": "28a1cc62",
   "metadata": {},
   "outputs": [
    {
     "name": "stdout",
     "output_type": "stream",
     "text": [
      "C:\\Users\\p2p2l\\projects\\wgong\\zistory\\zinets\\dev\\notebook\n"
     ]
    }
   ],
   "source": [
    "!cd "
   ]
  },
  {
   "cell_type": "code",
   "execution_count": 31,
   "id": "99e0edb0",
   "metadata": {},
   "outputs": [],
   "source": [
    "s = \"“人”字的普通话读音为“rén”。\""
   ]
  },
  {
   "cell_type": "code",
   "execution_count": 32,
   "id": "3ec114c0",
   "metadata": {},
   "outputs": [
    {
     "name": "stdout",
     "output_type": "stream",
     "text": [
      "“人”字的普通话读音为“rén”。\n"
     ]
    }
   ],
   "source": [
    "print(s)"
   ]
  },
  {
   "cell_type": "code",
   "execution_count": null,
   "id": "7b90902c",
   "metadata": {},
   "outputs": [],
   "source": []
  }
 ],
 "metadata": {
  "kernelspec": {
   "display_name": "Python 3 (ipykernel)",
   "language": "python",
   "name": "python3"
  },
  "language_info": {
   "codemirror_mode": {
    "name": "ipython",
    "version": 3
   },
   "file_extension": ".py",
   "mimetype": "text/x-python",
   "name": "python",
   "nbconvert_exporter": "python",
   "pygments_lexer": "ipython3",
   "version": "3.9.13"
  },
  "nbTranslate": {
   "displayLangs": [
    "*"
   ],
   "hotkey": "alt-t",
   "langInMainMenu": true,
   "sourceLang": "en",
   "targetLang": "fr",
   "useGoogleTranslate": true
  },
  "toc": {
   "base_numbering": 1,
   "nav_menu": {},
   "number_sections": true,
   "sideBar": true,
   "skip_h1_title": false,
   "title_cell": "Table of Contents",
   "title_sidebar": "Contents",
   "toc_cell": false,
   "toc_position": {},
   "toc_section_display": true,
   "toc_window_display": false
  }
 },
 "nbformat": 4,
 "nbformat_minor": 5
}
