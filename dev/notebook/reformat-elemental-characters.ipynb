{
 "cells": [
  {
   "cell_type": "code",
   "execution_count": 1,
   "id": "dccd1223-155b-49ec-974e-f37504d2b877",
   "metadata": {},
   "outputs": [],
   "source": [
    "s = \"\"\"\n",
    "毛氏气水火灬爪爫父爻爿片牙牛牜⺧犬王瓦礻禸罓耂月见贝车长韦风\n",
    "斥云天冈井丰夫仓勾公区友匀元六五今中内午分丑少不巨勿凶升太为尺匹乌亢介屯巴尤专以\n",
    "开办毋⺩心戈户戶手支攴攵文斗斤方无犭旡日曰朩木欠止歹殳\n",
    "\"\"\""
   ]
  },
  {
   "cell_type": "code",
   "execution_count": 3,
   "id": "d224f15c-e4b6-407b-9403-84d79fe03e0a",
   "metadata": {},
   "outputs": [
    {
     "data": {
      "text/plain": [
       "'毛 氏 气 水 火 灬 爪 爫 父 爻 爿 片 牙 牛 牜 ⺧ 犬 王 瓦 礻 禸 罓 耂 月 见 贝 车 长 韦 风 斥 云 天 冈 井 丰 夫 仓 勾 公 区 友 匀 元 六 五 今 中 内 午 分 丑 少 不 巨 勿 凶 升 太 为 尺 匹 乌 亢 介 屯 巴 尤 专 以 开 办 毋 ⺩ 心 戈 户 戶 手 支 攴 攵 文 斗 斤 方 无 犭 旡 日 曰 朩 木 欠 止 歹 殳'"
      ]
     },
     "execution_count": 3,
     "metadata": {},
     "output_type": "execute_result"
    }
   ],
   "source": [
    "l = [x.strip() for x in s if x.strip()]\n",
    "\" \".join(l)"
   ]
  },
  {
   "cell_type": "code",
   "execution_count": 4,
   "id": "ff88f75e-29b1-4c20-8b33-5b7d0254b2f2",
   "metadata": {},
   "outputs": [
    {
     "name": "stdout",
     "output_type": "stream",
     "text": [
      "/home/gongai/projects/wgong/zistory/zinets/dev/notebook\n"
     ]
    }
   ],
   "source": [
    "!pwd"
   ]
  },
  {
   "cell_type": "code",
   "execution_count": null,
   "id": "293bb817-373c-470c-9898-199be5a8e110",
   "metadata": {},
   "outputs": [],
   "source": []
  }
 ],
 "metadata": {
  "kernelspec": {
   "display_name": "Python 3 (ipykernel)",
   "language": "python",
   "name": "python3"
  },
  "language_info": {
   "codemirror_mode": {
    "name": "ipython",
    "version": 3
   },
   "file_extension": ".py",
   "mimetype": "text/x-python",
   "name": "python",
   "nbconvert_exporter": "python",
   "pygments_lexer": "ipython3",
   "version": "3.10.12"
  }
 },
 "nbformat": 4,
 "nbformat_minor": 5
}
