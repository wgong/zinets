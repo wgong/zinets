{
 "cells": [
  {
   "cell_type": "code",
   "execution_count": 1,
   "id": "149bef06",
   "metadata": {},
   "outputs": [],
   "source": [
    "import pandas as pd"
   ]
  },
  {
   "cell_type": "code",
   "execution_count": 18,
   "id": "33921128",
   "metadata": {},
   "outputs": [],
   "source": [
    "def convert_d3graph_to_tree_select(d3graph_data):\n",
    "    \"\"\"Converts d3graph data structure to streamlit_tree_select node structure.\"\"\"\n",
    "\n",
    "    # Create a dictionary to store nodes and their children\n",
    "    nodes = {}\n",
    "    for source, target in d3graph_df.itertuples(index=False):\n",
    "        nodes[source] = nodes.get(source, []) + [target]\n",
    "\n",
    "    # Build the tree structure recursively\n",
    "    root = get_root_note(nodes)\n",
    "    return build_tree(root, nodes)\n",
    "\n",
    "def get_root_note(nodes):\n",
    "    children_nodes = []\n",
    "    for node in nodes:\n",
    "        children_nodes.extend(nodes[node])\n",
    "    for node in nodes:\n",
    "        if node in children_nodes:\n",
    "            continue\n",
    "        return node\n",
    "\n",
    "# Build the tree structure recursively\n",
    "def build_tree(node, nodes):\n",
    "    children = nodes.get(node, [])\n",
    "    if not children:\n",
    "        return {\"label\": node, \"value\": node}\n",
    "    tree_node = {\"label\": node, \"value\": node, \"children\": []}\n",
    "    for child in children:\n",
    "        tree_node[\"children\"].append(build_tree(child, nodes))\n",
    "    return tree_node"
   ]
  },
  {
   "cell_type": "code",
   "execution_count": 19,
   "id": "cac16791",
   "metadata": {},
   "outputs": [],
   "source": [
    "d3graph_df = pd.read_csv(\"d3graph_data.csv\")"
   ]
  },
  {
   "cell_type": "code",
   "execution_count": 20,
   "id": "f15490ff",
   "metadata": {},
   "outputs": [
    {
     "data": {
      "text/html": [
       "<div>\n",
       "<style scoped>\n",
       "    .dataframe tbody tr th:only-of-type {\n",
       "        vertical-align: middle;\n",
       "    }\n",
       "\n",
       "    .dataframe tbody tr th {\n",
       "        vertical-align: top;\n",
       "    }\n",
       "\n",
       "    .dataframe thead th {\n",
       "        text-align: right;\n",
       "    }\n",
       "</style>\n",
       "<table border=\"1\" class=\"dataframe\">\n",
       "  <thead>\n",
       "    <tr style=\"text-align: right;\">\n",
       "      <th></th>\n",
       "      <th>source</th>\n",
       "      <th>target</th>\n",
       "    </tr>\n",
       "  </thead>\n",
       "  <tbody>\n",
       "    <tr>\n",
       "      <th>0</th>\n",
       "      <td>node1</td>\n",
       "      <td>node2</td>\n",
       "    </tr>\n",
       "    <tr>\n",
       "      <th>1</th>\n",
       "      <td>node1</td>\n",
       "      <td>node3</td>\n",
       "    </tr>\n",
       "    <tr>\n",
       "      <th>2</th>\n",
       "      <td>node3</td>\n",
       "      <td>node4</td>\n",
       "    </tr>\n",
       "    <tr>\n",
       "      <th>3</th>\n",
       "      <td>node3</td>\n",
       "      <td>node6</td>\n",
       "    </tr>\n",
       "    <tr>\n",
       "      <th>4</th>\n",
       "      <td>node4</td>\n",
       "      <td>node5-1</td>\n",
       "    </tr>\n",
       "    <tr>\n",
       "      <th>5</th>\n",
       "      <td>node4</td>\n",
       "      <td>node5-2</td>\n",
       "    </tr>\n",
       "    <tr>\n",
       "      <th>6</th>\n",
       "      <td>node4</td>\n",
       "      <td>node5-3</td>\n",
       "    </tr>\n",
       "  </tbody>\n",
       "</table>\n",
       "</div>"
      ],
      "text/plain": [
       "  source   target\n",
       "0  node1    node2\n",
       "1  node1    node3\n",
       "2  node3    node4\n",
       "3  node3    node6\n",
       "4  node4  node5-1\n",
       "5  node4  node5-2\n",
       "6  node4  node5-3"
      ]
     },
     "execution_count": 20,
     "metadata": {},
     "output_type": "execute_result"
    }
   ],
   "source": [
    "d3graph_df"
   ]
  },
  {
   "cell_type": "code",
   "execution_count": 21,
   "id": "6b1d8904",
   "metadata": {},
   "outputs": [
    {
     "data": {
      "text/plain": [
       "{'label': 'node1',\n",
       " 'value': 'node1',\n",
       " 'children': [{'label': 'node2', 'value': 'node2'},\n",
       "  {'label': 'node3',\n",
       "   'value': 'node3',\n",
       "   'children': [{'label': 'node4',\n",
       "     'value': 'node4',\n",
       "     'children': [{'label': 'node5-1', 'value': 'node5-1'},\n",
       "      {'label': 'node5-2', 'value': 'node5-2'},\n",
       "      {'label': 'node5-3', 'value': 'node5-3'}]},\n",
       "    {'label': 'node6', 'value': 'node6'}]}]}"
      ]
     },
     "execution_count": 21,
     "metadata": {},
     "output_type": "execute_result"
    }
   ],
   "source": [
    "convert_d3graph_to_tree_select(d3graph_df)"
   ]
  },
  {
   "cell_type": "raw",
   "id": "7980bfff",
   "metadata": {},
   "source": [
    "{'label': 'node1',\n",
    " 'value': 'node1',\n",
    " 'children': [{'label': 'node2', 'value': 'node2'},\n",
    "  {'label': 'node3',\n",
    "   'value': 'node3',\n",
    "   'children': [{'label': 'node4',\n",
    "     'value': 'node4',\n",
    "     'children': [{'label': 'node5-1', 'value': 'node5-1'},\n",
    "      {'label': 'node5-2', 'value': 'node5-2'},\n",
    "      {'label': 'node5-3', 'value': 'node5-3'}]},\n",
    "    {'label': 'node6', 'value': 'node6'}]}]}"
   ]
  },
  {
   "cell_type": "code",
   "execution_count": 22,
   "id": "e1ff8854",
   "metadata": {},
   "outputs": [
    {
     "name": "stdout",
     "output_type": "stream",
     "text": [
      "C:\\Users\\p2p2l\\projects\\d3graph\\notebooks\n"
     ]
    }
   ],
   "source": [
    "!cd "
   ]
  },
  {
   "cell_type": "code",
   "execution_count": null,
   "id": "df873771",
   "metadata": {},
   "outputs": [],
   "source": []
  }
 ],
 "metadata": {
  "kernelspec": {
   "display_name": "Python 3 (ipykernel)",
   "language": "python",
   "name": "python3"
  },
  "language_info": {
   "codemirror_mode": {
    "name": "ipython",
    "version": 3
   },
   "file_extension": ".py",
   "mimetype": "text/x-python",
   "name": "python",
   "nbconvert_exporter": "python",
   "pygments_lexer": "ipython3",
   "version": "3.9.13"
  },
  "nbTranslate": {
   "displayLangs": [
    "*"
   ],
   "hotkey": "alt-t",
   "langInMainMenu": true,
   "sourceLang": "en",
   "targetLang": "fr",
   "useGoogleTranslate": true
  },
  "toc": {
   "base_numbering": 1,
   "nav_menu": {},
   "number_sections": true,
   "sideBar": true,
   "skip_h1_title": false,
   "title_cell": "Table of Contents",
   "title_sidebar": "Contents",
   "toc_cell": false,
   "toc_position": {},
   "toc_section_display": true,
   "toc_window_display": false
  }
 },
 "nbformat": 4,
 "nbformat_minor": 5
}
