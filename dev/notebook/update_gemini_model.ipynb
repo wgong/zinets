{
 "cells": [
  {
   "cell_type": "code",
   "execution_count": 4,
   "id": "80bcacec-e206-4fa4-95ec-177af3eb46c2",
   "metadata": {},
   "outputs": [],
   "source": [
    "# Assuming models_to_try is defined elsewhere in your script\n",
    "# Example:\n",
    "# models_to_try = [\n",
    "#     \"gemini-2.5-pro\",\n",
    "#     \"gemini-2.5-flash\",\n",
    "#     \"gemini-2.0-flash\",\n",
    "#     'gemini-1.5-flash',\n",
    "# ]\n",
    "\n",
    "from typing import List\n",
    "\n",
    "def update_gemini_models(model_name: str, models: List[str]) -> List[str]:\n",
    "    \"\"\"\n",
    "    Updates the list of models by moving the specified model_name to the\n",
    "    front if found, or inserting it at the front if not found.\n",
    "\n",
    "    Args:\n",
    "        model_name: The name of the model to move or insert.\n",
    "        models: The list of model names to update.\n",
    "\n",
    "    Returns:\n",
    "        The updated list of model names.\n",
    "    \"\"\"\n",
    "    if model_name in models:\n",
    "        # Remove the model from its current position\n",
    "        models.remove(model_name)\n",
    "    # Insert the model at the front of the list\n",
    "    models.insert(0, model_name)\n",
    "\n",
    "    return models"
   ]
  },
  {
   "cell_type": "code",
   "execution_count": 5,
   "id": "7ba674ef-872c-4449-a635-c2094884c5b9",
   "metadata": {},
   "outputs": [
    {
     "name": "stdout",
     "output_type": "stream",
     "text": [
      "Initial list: ['gemini-1.0-pro', 'gemini-2.5-pro', 'gemini-2.5-flash', 'gemini-2.0-flash', 'gemini-1.5-flash']\n"
     ]
    }
   ],
   "source": [
    "# Example usage:\n",
    "\n",
    "# Initial list\n",
    "models_list_example = [\n",
    "    'gemini-1.0-pro',\n",
    "    \"gemini-2.5-pro\",\n",
    "    \"gemini-2.5-flash\",\n",
    "    \"gemini-2.0-flash\",\n",
    "    'gemini-1.5-flash',\n",
    "]\n",
    "\n",
    "print(f\"Initial list: {models_list_example}\")"
   ]
  },
  {
   "cell_type": "code",
   "execution_count": 6,
   "id": "92bda5e7-9106-4bfe-ba78-d54dccdec791",
   "metadata": {},
   "outputs": [
    {
     "name": "stdout",
     "output_type": "stream",
     "text": [
      "After moving 'gemini-2.0-flash' to front: ['gemini-2.0-flash', 'gemini-1.0-pro', 'gemini-2.5-pro', 'gemini-2.5-flash', 'gemini-1.5-flash']\n"
     ]
    }
   ],
   "source": [
    "# Scenario 1: Model is in the list\n",
    "update_gemini_models(\"gemini-2.0-flash\", models_list_example)\n",
    "print(f\"After moving 'gemini-2.0-flash' to front: {models_list_example}\")\n",
    "# Expected output: ['gemini-2.0-flash', 'gemini-2.5-pro', 'gemini-2.5-flash', 'gemini-1.5-flash']"
   ]
  },
  {
   "cell_type": "code",
   "execution_count": 7,
   "id": "44b99526-ec7f-4b99-af8f-60dfa03cb1f8",
   "metadata": {},
   "outputs": [
    {
     "name": "stdout",
     "output_type": "stream",
     "text": [
      "After inserting 'gemini-1.0-pro' at front: ['gemini-2.5-pro-preview', 'gemini-2.0-flash', 'gemini-1.0-pro', 'gemini-2.5-pro', 'gemini-2.5-flash', 'gemini-1.5-flash']\n"
     ]
    }
   ],
   "source": [
    "# Scenario 2: Model is not in the list\n",
    "update_gemini_models(\"gemini-2.5-pro-preview\", models_list_example)\n",
    "print(f\"After inserting 'gemini-1.0-pro' at front: {models_list_example}\")\n",
    "# Expected output: ['gemini-1.0-pro', 'gemini-2.0-flash', 'gemini-2.5-pro', 'gemini-2.5-flash', 'gemini-1.5-flash']"
   ]
  },
  {
   "cell_type": "code",
   "execution_count": 8,
   "id": "9737a003-a80b-4078-a515-ee57ce32811d",
   "metadata": {},
   "outputs": [
    {
     "name": "stdout",
     "output_type": "stream",
     "text": [
      "After trying to move 'gemini-1.0-pro' (already at front): ['gemini-1.0-pro', 'gemini-2.5-pro-preview', 'gemini-2.0-flash', 'gemini-2.5-pro', 'gemini-2.5-flash', 'gemini-1.5-flash']\n"
     ]
    }
   ],
   "source": [
    "# Scenario 3: Model is already at the front (should remain there)\n",
    "update_gemini_models(\"gemini-1.0-pro\", models_list_example)\n",
    "print(f\"After trying to move 'gemini-1.0-pro' (already at front): {models_list_example}\")\n",
    "# Expected output: ['gemini-1.0-pro', 'gemini-2.0-flash', 'gemini-2.5-pro', 'gemini-2.5-flash', 'gemini-1.5-flash']"
   ]
  },
  {
   "cell_type": "markdown",
   "id": "9799f7f3-1969-466e-a702-235349b2dabe",
   "metadata": {},
   "source": [
    "## List Gemini Models"
   ]
  },
  {
   "cell_type": "code",
   "execution_count": 18,
   "id": "5dfc4981-06f2-44b1-924d-6b49a33a9804",
   "metadata": {},
   "outputs": [],
   "source": [
    "import google.generativeai as genai\n",
    "import os"
   ]
  },
  {
   "cell_type": "code",
   "execution_count": 21,
   "id": "8a4d1217-07eb-4f54-9073-ee2ce5ab4ac9",
   "metadata": {},
   "outputs": [],
   "source": [
    "def list_gemini_models():\n",
    "    \n",
    "    gemini_models = []\n",
    "    \n",
    "    if not api_key:\n",
    "        print(\"[ERROR] GEMINI_API_KEY not found in environment variables. Cannot list models.\")\n",
    "    else:\n",
    "        genai.configure(api_key=os.environ.get('GEMINI_API_KEY'))\n",
    "        print(\"Attempting to list available Gemini models supporting generateContent:\")\n",
    "        try:\n",
    "            # Iterate through all available models\n",
    "            for model in genai.list_models():\n",
    "                # Check if the model supports the 'generateContent' method\n",
    "                if 'generateContent' in model.supported_generation_methods:\n",
    "                    # print(f\"- {model.name} (Display Name: {model.display_name})\")\n",
    "                    gemini_models.append(model.name)\n",
    "    \n",
    "        except Exception as e:\n",
    "            print(f\"Error listing models: {e}\")\n",
    "    \n",
    "    gemini_model_name_list = [i.split('/')[-1] for i in sorted(gemini_models)]\n",
    "    return gemini_model_name_list"
   ]
  },
  {
   "cell_type": "code",
   "execution_count": 22,
   "id": "e9c9cfd5-5d41-4322-a09f-e6d5c2028668",
   "metadata": {},
   "outputs": [
    {
     "name": "stdout",
     "output_type": "stream",
     "text": [
      "Attempting to list available Gemini models supporting generateContent:\n",
      "gemini-1.0-pro-vision-latest\n",
      "gemini-1.5-flash\n",
      "gemini-1.5-flash-001\n",
      "gemini-1.5-flash-001-tuning\n",
      "gemini-1.5-flash-002\n",
      "gemini-1.5-flash-8b\n",
      "gemini-1.5-flash-8b-001\n",
      "gemini-1.5-flash-8b-exp-0827\n",
      "gemini-1.5-flash-8b-exp-0924\n",
      "gemini-1.5-flash-8b-latest\n",
      "gemini-1.5-flash-latest\n",
      "gemini-1.5-pro\n",
      "gemini-1.5-pro-001\n",
      "gemini-1.5-pro-002\n",
      "gemini-1.5-pro-latest\n",
      "gemini-2.0-flash\n",
      "gemini-2.0-flash-001\n",
      "gemini-2.0-flash-exp\n",
      "gemini-2.0-flash-exp-image-generation\n",
      "gemini-2.0-flash-lite\n",
      "gemini-2.0-flash-lite-001\n",
      "gemini-2.0-flash-lite-preview\n",
      "gemini-2.0-flash-lite-preview-02-05\n",
      "gemini-2.0-flash-preview-image-generation\n",
      "gemini-2.0-flash-thinking-exp\n",
      "gemini-2.0-flash-thinking-exp-01-21\n",
      "gemini-2.0-flash-thinking-exp-1219\n",
      "gemini-2.0-pro-exp\n",
      "gemini-2.0-pro-exp-02-05\n",
      "gemini-2.5-flash-preview-04-17\n",
      "gemini-2.5-flash-preview-04-17-thinking\n",
      "gemini-2.5-pro-exp-03-25\n",
      "gemini-2.5-pro-preview-03-25\n",
      "gemini-2.5-pro-preview-05-06\n",
      "gemini-exp-1206\n",
      "gemini-pro-vision\n",
      "gemma-3-12b-it\n",
      "gemma-3-1b-it\n",
      "gemma-3-27b-it\n",
      "gemma-3-4b-it\n",
      "learnlm-2.0-flash-experimental\n"
     ]
    }
   ],
   "source": [
    "x = list_gemini_models()\n",
    "\n",
    "print('\\n'.join(x))"
   ]
  },
  {
   "cell_type": "code",
   "execution_count": null,
   "id": "2d56e74a-e9f8-4de3-9211-4da3f892363c",
   "metadata": {},
   "outputs": [],
   "source": []
  }
 ],
 "metadata": {
  "kernelspec": {
   "display_name": "Python 3 (ipykernel)",
   "language": "python",
   "name": "python3"
  },
  "language_info": {
   "codemirror_mode": {
    "name": "ipython",
    "version": 3
   },
   "file_extension": ".py",
   "mimetype": "text/x-python",
   "name": "python",
   "nbconvert_exporter": "python",
   "pygments_lexer": "ipython3",
   "version": "3.12.5"
  }
 },
 "nbformat": 4,
 "nbformat_minor": 5
}
