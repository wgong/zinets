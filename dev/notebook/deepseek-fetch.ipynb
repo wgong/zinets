{
 "cells": [
  {
   "cell_type": "code",
   "execution_count": 51,
   "id": "a644dfa6",
   "metadata": {},
   "outputs": [],
   "source": [
    "import requests\n",
    "import json\n",
    "from time import time, sleep \n",
    "from openai import OpenAI \n",
    "import os\n",
    "from dotenv import load_dotenv\n",
    "\n",
    "# Load environment variables from .env file\n",
    "load_dotenv()\n",
    "\n",
    "# Replace with your actual DeepSeek API endpoint and API key\n",
    "DEEPSEEK_API_URL = \"https://api.deepseek.com\"\n",
    "DEEPSEEK_API_KEY = os.getenv('DEEPSEEK_API_KEY')"
   ]
  },
  {
   "cell_type": "code",
   "execution_count": 2,
   "id": "ac011bd4",
   "metadata": {},
   "outputs": [],
   "source": [
    "deepseek_client = OpenAI(api_key=DEEPSEEK_API_KEY, base_url=DEEPSEEK_API_URL)"
   ]
  },
  {
   "cell_type": "code",
   "execution_count": null,
   "id": "3ec8855e",
   "metadata": {},
   "outputs": [],
   "source": [
    "def generate_custom_prompt(character):\n",
    "    \"\"\"\n",
    "    Generates a custom prompt for the DeepSeek API based on your template.\n",
    "\n",
    "    Args:\n",
    "        character (str): The Chinese character to query.\n",
    "\n",
    "    Returns:\n",
    "        str: A formatted prompt for the API.\n",
    "    \"\"\"\n",
    "    prompt = f\"\"\"\n",
    "    You are an expert in Chinese language. \n",
    "    Generate a holistic view on the Chinese character '{character}' \n",
    "    in terms of the following attributes:\n",
    "\n",
    "    1. 含义 (meaning): Explain its meaning.\n",
    "    2. 字形 (character structure): Describe its structure.\n",
    "    3. 读音 (pronunciation): Provide its pronunciation.\n",
    "    4. 字源 (etymology): Explain its origin.\n",
    "    5. 含此字的字 (composite characters): List characters that contain '{character}'.\n",
    "    6. 同音字 (homophone characters): List other characters that sound like '{character}'.\n",
    "    7. 常用词组 (common phrases): Provide common phrases containing '{character}' (often 2-characters).\n",
    "    8. 成语 (idioms): List idioms containing '{character}' (often 4-characters).\n",
    "    9. 例句 (example sentences): Provide example short sentences or famous quotes using '{character}'.\n",
    "    10. 短故事 (short stories): Share 1-2 short stories related to '{character}'.\n",
    "    11. 诗词 (poetry): Include 1-2 famous poems containing and describing '{character}'.\n",
    "    12. 图片 (images): Suggest simple images illustrating '{character}'.\n",
    "    13. 音频 (audio): Suggest short audio clips illustrating '{character}'.\n",
    "    14. 视频 (video): Suggest short video clips illustrating '{character}'.\n",
    "    15. 电影 (movies): List famous movies related to '{character}' or movie titles containing '{character}'.\n",
    "    16. 参考资料 (references): Provide additional popular reference materials.\n",
    "    17. 有趣网站 (interesting websites): Suggest popular websites related to '{character}'.\n",
    "\n",
    "    Format the output as a valid JSON object.\n",
    "    \"\"\"\n",
    "    return prompt.strip()"
   ]
  },
  {
   "cell_type": "code",
   "execution_count": 28,
   "id": "5312ae82",
   "metadata": {},
   "outputs": [],
   "source": [
    "def extract_json_string(response):\n",
    "    # Find the start and end of the JSON string\n",
    "    start = response.find(\"```json\") + len(\"```json\")\n",
    "    end = response.find(\"```\", start)\n",
    "\n",
    "    # Extract the JSON string and strip any leading/trailing whitespace\n",
    "    json_str = response[start:end].strip()\n",
    "\n",
    "    return json_str"
   ]
  },
  {
   "cell_type": "code",
   "execution_count": 22,
   "id": "502f4994",
   "metadata": {},
   "outputs": [],
   "source": [
    "def call_deepseek_api(prompt, system_message = \"You are a helpful assistant\", client=None):\n",
    "    if client is None:\n",
    "        client = OpenAI(api_key=DEEPSEEK_API_KEY, base_url=DEEPSEEK_API_URL)\n",
    "    ts_start = time()\n",
    "    response = client.chat.completions.create(\n",
    "        model=\"deepseek-chat\",\n",
    "        messages=[\n",
    "            {\"role\": \"system\", \"content\": system_message},\n",
    "            {\"role\": \"user\", \"content\": prompt},\n",
    "        ],\n",
    "        stream=False\n",
    "    )\n",
    "    ts_stop = time()\n",
    "\n",
    "    return response.choices[0].message.content, (ts_stop-ts_start)"
   ]
  },
  {
   "cell_type": "code",
   "execution_count": 53,
   "id": "77437e30",
   "metadata": {},
   "outputs": [],
   "source": [
    "def main(character = \"子\", test_flag=False, debug_flag=False):\n",
    "    # Call the DeepSeek API\n",
    "    if test_flag:\n",
    "        prompt = \"What is 10! in math\"\n",
    "    else: \n",
    "        prompt = generate_custom_prompt(character)\n",
    "    if debug_flag: \n",
    "        print(f\"Prompt:\\n{prompt}\\n\")\n",
    "\n",
    "    response, ts_delta = call_deepseek_api(prompt, client=deepseek_client)\n",
    "    json_str = extract_json_string(response)\n",
    "    json_obj = json.loads(json_str)\n",
    "    json_out = json.dumps(json_obj, indent=2, ensure_ascii=False)\n",
    "    file_json = f\"deepseek/{character}-1.json\"\n",
    "    if debug_flag: \n",
    "        print(f\"API call completed in {ts_delta} sec, \\n Response (JSON):\\n {json_out} \\n written to {file_json}\")\n",
    "    else: \n",
    "        print(f\"API call for {character} completed in {ts_delta} sec, \\n output written to {file_json}\")\n",
    "    with open(file_json, \"w\", encoding=\"utf-8\") as f:\n",
    "        f.write(json_out)\n",
    "            \n",
    "\n",
    "# if __name__ == \"__main__\":\n",
    "#     main()"
   ]
  },
  {
   "cell_type": "code",
   "execution_count": 7,
   "id": "3d8790ba",
   "metadata": {},
   "outputs": [
    {
     "name": "stdout",
     "output_type": "stream",
     "text": [
      "Generated Prompt:\n",
      "You are an expert in Chinese language. \n",
      "    Generate a holistic view on the Chinese character '人' \n",
      "    in terms of the following attributes:\n",
      "\n",
      "    1. 含义 (meaning): Explain its meaning.\n",
      "    2. 字形 (character structure): Describe its structure.\n",
      "    3. 读音 (pronunciation): Provide its pronunciation.\n",
      "    4. 字源 (etymology): Explain its origin.\n",
      "    5. 含此字的字 (composite characters): List characters that contain '人'.\n",
      "    6. 同音字 (homophone characters): List other characters that sound like '人'.\n",
      "    7. 常用词组 (common phrases): Provide common phrases containing '人' (often 2-characters).\n",
      "    8. 成语 (idioms): List idioms containing '人' (often 4-characters).\n",
      "    9. 例句 (example sentences): Provide example short sentences or famous quotes using '人'.\n",
      "    10. 短故事 (short stories): Share 1-2 short stories related to '人'.\n",
      "    11. 诗词 (poetry): Include 1-2 famous poems containing and describing '人'.\n",
      "    12. 图片 (images): Suggest simple images illustrating '人'.\n",
      "    13. 音频 (audio): Suggest short audio clips illustrating '人'.\n",
      "    14. 视频 (video): Suggest short video clips illustrating '人'.\n",
      "    15. 电影 (movies): List famous movies related to '人' or movie titles containing '人'.\n",
      "    16. 参考资料 (references): Provide additional popular reference materials.\n",
      "    17. 有趣网站 (interesting websites): Suggest popular websites related to '人'.\n",
      "\n",
      "    Format the output as a valid JSON object.\n",
      "\n",
      "API Response (JSON):\n",
      "\"```json\\n{\\n  \\\"含义\\\": \\\"The character '人' means 'person' or 'human being'. It represents the concept of a human individual or humanity in general.\\\",\\n  \\\"字形\\\": \\\"The character '人' is composed of two strokes: a downward stroke to the left and a downward stroke to the right, resembling a person standing with legs apart.\\\",\\n  \\\"读音\\\": \\\"The pronunciation of '人' is 'rén' in Mandarin Chinese.\\\",\\n  \\\"字源\\\": \\\"The character '人' originated from a pictograph of a person standing. Over time, it evolved into its current simplified form.\\\",\\n  \\\"含此字的字\\\": [\\n    \\\"从\\\",\\n    \\\"众\\\",\\n    \\\"休\\\",\\n    \\\"你\\\",\\n    \\\"他\\\",\\n    \\\"们\\\",\\n    \\\"位\\\",\\n    \\\"住\\\",\\n    \\\"作\\\",\\n    \\\"代\\\"\\n  ],\\n  \\\"同音字\\\": [\\n    \\\"仁\\\",\\n    \\\"壬\\\",\\n    \\\"忍\\\",\\n    \\\"认\\\",\\n    \\\"任\\\"\\n  ],\\n  \\\"常用词组\\\": [\\n    \\\"人民\\\",\\n    \\\"人类\\\",\\n    \\\"人生\\\",\\n    \\\"人物\\\",\\n    \\\"人才\\\",\\n    \\\"人口\\\",\\n    \\\"人性\\\",\\n    \\\"人情\\\",\\n    \\\"人工\\\",\\n    \\\"人事\\\"\\n  ],\\n  \\\"成语\\\": [\\n    \\\"人山人海\\\",\\n    \\\"人杰地灵\\\",\\n    \\\"人浮于事\\\",\\n    \\\"人面兽心\\\",\\n    \\\"人财两空\\\",\\n    \\\"人微言轻\\\",\\n    \\\"人定胜天\\\",\\n    \\\"人云亦云\\\",\\n    \\\"人老珠黄\\\",\\n    \\\"人困马乏\\\"\\n  ],\\n  \\\"例句\\\": [\\n    \\\"他是一个好人。\\\",\\n    \\\"人生如梦。\\\",\\n    \\\"人民的力量是无穷的。\\\",\\n    \\\"人无远虑，必有近忧。\\\"\\n  ],\\n  \\\"短故事\\\": [\\n    \\\"从前，有一个村庄里住着许多人。他们和睦相处，互相帮助。有一天，村庄遭遇了洪水，大家齐心协力，最终战胜了灾难。这个故事告诉我们，团结就是力量。\\\",\\n    \\\"在一个遥远的国度，有一位智者。他常说：'人之所以为人，是因为有爱和智慧。' 这句话深深地影响了很多人，让他们明白了做人的真谛。\\\"\\n  ],\\n  \\\"诗词\\\": [\\n    \\\"《静夜思》 - 李白\\\\n床前明月光，\\\\n疑是地上霜。\\\\n举头望明月，\\\\n低头思故乡。\\\",\\n    \\\"《登鹳雀楼》 - 王之涣\\\\n白日依山尽，\\\\n黄河入海流。\\\\n欲穷千里目，\\\\n更上一层楼。\\\"\\n  ],\\n  \\\"图片\\\": [\\n    \\\"https://example.com/image1.png\\\",\\n    \\\"https://example.com/image2.png\\\"\\n  ],\\n  \\\"音频\\\": [\\n    \\\"https://example.com/audio1.mp3\\\",\\n    \\\"https://example.com/audio2.mp3\\\"\\n  ],\\n  \\\"视频\\\": [\\n    \\\"https://example.com/video1.mp4\\\",\\n    \\\"https://example.com/video2.mp4\\\"\\n  ],\\n  \\\"电影\\\": [\\n    \\\"《人鬼情未了》\\\",\\n    \\\"《人间失格》\\\",\\n    \\\"《人民的名义》\\\",\\n    \\\"《人生》\\\"\\n  ],\\n  \\\"参考资料\\\": [\\n    \\\"《现代汉语词典》\\\",\\n    \\\"《汉字源流字典》\\\",\\n    \\\"《成语大辞典》\\\"\\n  ],\\n  \\\"有趣网站\\\": [\\n    \\\"https://www.zdic.net/\\\",\\n    \\\"https://www.chineseetymology.org/\\\",\\n    \\\"https://www.yellowbridge.com/\\\"\\n  ]\\n}\\n```\"\n"
     ]
    }
   ],
   "source": [
    "main(character = \"人\")"
   ]
  },
  {
   "cell_type": "code",
   "execution_count": 14,
   "id": "0aadfebb",
   "metadata": {},
   "outputs": [
    {
     "name": "stdout",
     "output_type": "stream",
     "text": [
      "Generated Prompt:\n",
      "You are an expert in Chinese language. \n",
      "    Generate a holistic view on the Chinese character '子' \n",
      "    in terms of the following attributes:\n",
      "\n",
      "    1. 含义 (meaning): Explain its meaning.\n",
      "    2. 字形 (character structure): Describe its structure.\n",
      "    3. 读音 (pronunciation): Provide its pronunciation.\n",
      "    4. 字源 (etymology): Explain its origin.\n",
      "    5. 含此字的字 (composite characters): List characters that contain '子'.\n",
      "    6. 同音字 (homophone characters): List other characters that sound like '子'.\n",
      "    7. 常用词组 (common phrases): Provide common phrases containing '子' (often 2-characters).\n",
      "    8. 成语 (idioms): List idioms containing '子' (often 4-characters).\n",
      "    9. 例句 (example sentences): Provide example short sentences or famous quotes using '子'.\n",
      "    10. 短故事 (short stories): Share 1-2 short stories related to '子'.\n",
      "    11. 诗词 (poetry): Include 1-2 famous poems containing and describing '子'.\n",
      "    12. 图片 (images): Suggest simple images illustrating '子'.\n",
      "    13. 音频 (audio): Suggest short audio clips illustrating '子'.\n",
      "    14. 视频 (video): Suggest short video clips illustrating '子'.\n",
      "    15. 电影 (movies): List famous movies related to '子' or movie titles containing '子'.\n",
      "    16. 参考资料 (references): Provide additional popular reference materials.\n",
      "    17. 有趣网站 (interesting websites): Suggest popular websites related to '子'.\n",
      "\n",
      "    Format the output as a valid JSON object.\n",
      "\n",
      "API call completed in 24.15856623649597 sec, \n",
      " Response (JSON):\n",
      " \"```json\\n{\\n  \\\"含义\\\": \\\"The character '子' (zǐ) has multiple meanings in Chinese. It can mean 'child,' 'son,' or 'seed.' It is also used as a respectful title for ancient philosophers, such as Confucius (孔子, Kǒngzǐ). Additionally, '子' can denote a small object or a particle in certain contexts.\\\",\\n  \\\"字形\\\": \\\"The character '子' is a simple character consisting of three strokes. It resembles a child with outstretched arms. The top horizontal stroke represents the head, the middle stroke represents the body, and the bottom stroke represents the legs.\\\",\\n  \\\"读音\\\": \\\"The character '子' is pronounced as 'zǐ' in Mandarin Chinese, with the third tone.\\\",\\n  \\\"字源\\\": \\\"The character '子' originated from ancient pictographs depicting a child. Over time, its form evolved into the simplified version used today. It is one of the oldest Chinese characters, with its earliest forms dating back to oracle bone script.\\\",\\n  \\\"含此字的字\\\": [\\n    \\\"好 (hǎo - good)\\\",\\n    \\\"字 (zì - character)\\\",\\n    \\\"学 (xué - study)\\\",\\n    \\\"孩 (hái - child)\\\",\\n    \\\"孙 (sūn - grandson)\\\"\\n  ],\\n  \\\"同音字\\\": [\\n    \\\"紫 (zǐ - purple)\\\",\\n    \\\"仔 (zǐ - young)\\\",\\n    \\\"籽 (zǐ - seed)\\\",\\n    \\\"姊 (zǐ - elder sister)\\\"\\n  ],\\n  \\\"常用词组\\\": [\\n    \\\"孩子 (háizi - child)\\\",\\n    \\\"儿子 (érzi - son)\\\",\\n    \\\"女子 (nǚzǐ - woman)\\\",\\n    \\\"男子 (nánzǐ - man)\\\",\\n    \\\"种子 (zhǒngzi - seed)\\\"\\n  ],\\n  \\\"成语\\\": [\\n    \\\"子虚乌有 (zǐxū wūyǒu - fabricated, nonexistent)\\\",\\n    \\\"子承父业 (zǐ chéng fù yè - a son inherits his father's business)\\\",\\n    \\\"子子孙孙 (zǐzǐ sūnsūn - descendants, generations)\\\",\\n    \\\"子丑寅卯 (zǐ chǒu yín mǎo - the first four earthly branches, representing order)\\\"\\n  ],\\n  \\\"例句\\\": [\\n    \\\"孔子是中国古代伟大的思想家。 (Kǒngzǐ shì Zhōngguó gǔdài wěidà de sīxiǎngjiā. - Confucius was a great ancient Chinese philosopher.)\\\",\\n    \\\"这个孩子很聪明。 (Zhège háizi hěn cōngmíng. - This child is very smart.)\\\",\\n    \\\"他是我儿子。 (Tā shì wǒ érzi. - He is my son.)\\\"\\n  ],\\n  \\\"短故事\\\": [\\n    \\\"In ancient China, '子' was often used to refer to respected scholars. Confucius, known as 孔子 (Kǒngzǐ), was one of the most influential philosophers in Chinese history. His teachings emphasized morality, justice, and proper social relationships, and his ideas continue to influence Chinese culture today.\\\",\\n    \\\"Another story involves the character '子' in the context of family. In traditional Chinese families, the eldest son (长子, chángzǐ) held significant responsibility for carrying on the family lineage and traditions, reflecting the importance of '子' in familial and societal structures.\\\"\\n  ],\\n  \\\"诗词\\\": [\\n    \\\"《静夜思》 - 李白 (Jìng Yè Sī - Lǐ Bái):\\\\n床前明月光，疑是地上霜。\\\\n举头望明月，低头思故乡。\\\\n(The poem reflects on the poet's longing for home under the moonlight, where '子' is not directly used but evokes the theme of family and belonging.)\\\",\\n    \\\"《子夜吴歌》 - 李白 (Zǐyè Wú Gē - Lǐ Bái):\\\\n长安一片月，万户捣衣声。\\\\n秋风吹不尽，总是玉关情。\\\\n(This poem describes the longing of women for their husbands during wartime, with '子夜' (midnight) symbolizing the depth of their emotions.)\\\"\\n  ],\\n  \\\"图片\\\": [\\n    \\\"An illustration of a child with outstretched arms, resembling the character '子.'\\\",\\n    \\\"A calligraphy artwork of the character '子' in traditional Chinese script.\\\"\\n  ],\\n  \\\"音频\\\": [\\n    \\\"A short audio clip of the pronunciation 'zǐ' in Mandarin Chinese.\\\",\\n    \\\"A recitation of a famous quote or poem containing the character '子.'\\\"\\n  ],\\n  \\\"视频\\\": [\\n    \\\"A short video demonstrating the stroke order for writing the character '子.'\\\",\\n    \\\"A video explaining the historical and cultural significance of '子' in Chinese society.\\\"\\n  ],\\n  \\\"电影\\\": [\\n    \\\"《孔子》 (Kǒngzǐ - Confucius): A biographical film about the life and teachings of Confucius.\\\",\\n    \\\"《鬼子来了》 (Guǐzi Láile - Devils on the Doorstep): A historical drama film set during the Second Sino-Japanese War.\\\"\\n  ],\\n  \\\"参考资料\\\": [\\n    \\\"《说文解字》 (Shuōwén Jiězì - Explaining Simple and Analyzing Compound Characters): An ancient Chinese dictionary that explains the origins and meanings of characters.\\\",\\n    \\\"《现代汉语词典》 (Xiàndài Hànyǔ Cídiǎn - Modern Chinese Dictionary): A comprehensive dictionary of modern Chinese language.\\\"\\n  ],\\n  \\\"有趣网站\\\": [\\n    \\\"https://www.zdic.net/ - An online Chinese dictionary with detailed explanations of characters, including '子.'\\\",\\n    \\\"https://www.chinese-tools.com/ - A resource for learning Chinese characters, phrases, and culture.\\\"\\n  ]\\n}\\n```\" \n",
      " written to 子-1.json\n"
     ]
    }
   ],
   "source": [
    "main(character = \"子\")"
   ]
  },
  {
   "cell_type": "code",
   "execution_count": 16,
   "id": "e4e38cac",
   "metadata": {},
   "outputs": [
    {
     "name": "stdout",
     "output_type": "stream",
     "text": [
      "Prompt:\n",
      "What is 10! in math\n",
      "\n",
      "API call completed in 6.957432270050049 sec, \n",
      " Response (JSON):\n",
      " \"To calculate \\\\(10!\\\\) (10 factorial) in mathematics, you multiply all positive integers from 1 to 10 together:\\n\\n\\\\[\\n10! = 10 \\\\times 9 \\\\times 8 \\\\times 7 \\\\times 6 \\\\times 5 \\\\times 4 \\\\times 3 \\\\times 2 \\\\times 1\\n\\\\]\\n\\nLet's compute it step by step:\\n\\n\\\\[\\n\\\\begin{align*}\\n10! &= 10 \\\\times 9 \\\\times 8 \\\\times 7 \\\\times 6 \\\\times 5 \\\\times 4 \\\\times 3 \\\\times 2 \\\\times 1 \\\\\\\\\\n&= 90 \\\\times 8 \\\\times 7 \\\\times 6 \\\\times 5 \\\\times 4 \\\\times 3 \\\\times 2 \\\\times 1 \\\\\\\\\\n&= 720 \\\\times 7 \\\\times 6 \\\\times 5 \\\\times 4 \\\\times 3 \\\\times 2 \\\\times 1 \\\\\\\\\\n&= 5040 \\\\times 6 \\\\times 5 \\\\times 4 \\\\times 3 \\\\times 2 \\\\times 1 \\\\\\\\\\n&= 30240 \\\\times 5 \\\\times 4 \\\\times 3 \\\\times 2 \\\\times 1 \\\\\\\\\\n&= 151200 \\\\times 4 \\\\times 3 \\\\times 2 \\\\times 1 \\\\\\\\\\n&= 604800 \\\\times 3 \\\\times 2 \\\\times 1 \\\\\\\\\\n&= 1814400 \\\\times 2 \\\\times 1 \\\\\\\\\\n&= 3628800 \\\\times 1 \\\\\\\\\\n&= 3628800\\n\\\\end{align*}\\n\\\\]\\n\\nSo, \\\\(10! = 3,628,800\\\\).\" \n",
      " written to 子-1.json\n"
     ]
    }
   ],
   "source": [
    "main(test_flag=True)"
   ]
  },
  {
   "cell_type": "code",
   "execution_count": 44,
   "id": "1744124c",
   "metadata": {},
   "outputs": [
    {
     "name": "stdout",
     "output_type": "stream",
     "text": [
      "API call for 子 completed in 26.212156534194946 sec, \n",
      " output written to deepseek/子-1.json\n"
     ]
    }
   ],
   "source": [
    "main(character = \"子\")"
   ]
  },
  {
   "cell_type": "code",
   "execution_count": 46,
   "id": "b8039f33",
   "metadata": {},
   "outputs": [],
   "source": [
    "import pandas as pd "
   ]
  },
  {
   "cell_type": "code",
   "execution_count": 48,
   "id": "75ca0c36",
   "metadata": {},
   "outputs": [],
   "source": [
    "df = pd.read_csv(\"elemental_zi_no_radical.csv\")"
   ]
  },
  {
   "cell_type": "code",
   "execution_count": 49,
   "id": "9d648250",
   "metadata": {},
   "outputs": [
    {
     "data": {
      "text/plain": [
       "Index(['zi', 'strokes', 'fib_family', 'note'], dtype='object')"
      ]
     },
     "execution_count": 49,
     "metadata": {},
     "output_type": "execute_result"
    }
   ],
   "source": [
    "df.columns "
   ]
  },
  {
   "cell_type": "code",
   "execution_count": 50,
   "id": "e223845c",
   "metadata": {},
   "outputs": [],
   "source": [
    "zis = df[\"zi\"].to_list()"
   ]
  },
  {
   "cell_type": "code",
   "execution_count": 52,
   "id": "2d0250a2",
   "metadata": {},
   "outputs": [
    {
     "data": {
      "text/plain": [
       "(312, ['一', '乙', '二', '人', '儿', '入', '八', '几', '刁', '刀'])"
      ]
     },
     "execution_count": 52,
     "metadata": {},
     "output_type": "execute_result"
    }
   ],
   "source": [
    "len(zis), zis[:10]"
   ]
  },
  {
   "cell_type": "code",
   "execution_count": null,
   "id": "f0a98ae7",
   "metadata": {},
   "outputs": [],
   "source": [
    "processed = []"
   ]
  },
  {
   "cell_type": "raw",
   "id": "a7bfec5c",
   "metadata": {},
   "source": [
    "API call for 一 completed in 22.690592050552368 sec, \n",
    " output written to deepseek/一-1.json\n",
    "API call for 乙 completed in 17.17748737335205 sec, \n",
    " output written to deepseek/乙-1.json"
   ]
  },
  {
   "cell_type": "code",
   "execution_count": null,
   "id": "59ecfb8a",
   "metadata": {},
   "outputs": [
    {
     "name": "stdout",
     "output_type": "stream",
     "text": [
      "API call for 二 completed in 15.694165706634521 sec, \n",
      " output written to deepseek/二-1.json\n",
      "API call for 人 completed in 26.498515129089355 sec, \n",
      " output written to deepseek/人-1.json\n",
      "API call for 儿 completed in 14.086272954940796 sec, \n",
      " output written to deepseek/儿-1.json\n",
      "API call for 入 completed in 15.613361597061157 sec, \n",
      " output written to deepseek/入-1.json\n",
      "API call for 八 completed in 16.348150730133057 sec, \n",
      " output written to deepseek/八-1.json\n",
      "API call for 几 completed in 15.041701555252075 sec, \n",
      " output written to deepseek/几-1.json\n",
      "API call for 刁 completed in 13.612976551055908 sec, \n",
      " output written to deepseek/刁-1.json\n",
      "API call for 刀 completed in 21.008795022964478 sec, \n",
      " output written to deepseek/刀-1.json\n",
      "API call for 乃 completed in 14.373852968215942 sec, \n",
      " output written to deepseek/乃-1.json\n",
      "API call for 力 completed in 22.555760383605957 sec, \n",
      " output written to deepseek/力-1.json\n",
      "API call for 丁 completed in 15.013811111450195 sec, \n",
      " output written to deepseek/丁-1.json\n",
      "API call for 了 completed in 21.840496301651 sec, \n",
      " output written to deepseek/了-1.json\n",
      "API call for 乂 completed in 13.796227216720581 sec, \n",
      " output written to deepseek/乂-1.json\n",
      "API call for 匕 completed in 14.14054536819458 sec, \n",
      " output written to deepseek/匕-1.json\n",
      "API call for 十 completed in 18.5301570892334 sec, \n",
      " output written to deepseek/十-1.json\n",
      "API call for 九 completed in 19.70138716697693 sec, \n",
      " output written to deepseek/九-1.json\n",
      "API call for 七 completed in 13.98621654510498 sec, \n",
      " output written to deepseek/七-1.json\n",
      "API call for 卜 completed in 17.96648931503296 sec, \n",
      " output written to deepseek/卜-1.json\n",
      "API call for 厂 completed in 16.92759418487549 sec, \n",
      " output written to deepseek/厂-1.json\n",
      "API call for 又 completed in 18.20653772354126 sec, \n",
      " output written to deepseek/又-1.json\n",
      "API call for 兀 completed in 15.627071380615234 sec, \n",
      " output written to deepseek/兀-1.json\n",
      "API call for 乡 completed in 21.850910663604736 sec, \n",
      " output written to deepseek/乡-1.json\n",
      "API call for 已 completed in 18.74609875679016 sec, \n",
      " output written to deepseek/已-1.json\n",
      "API call for 门 completed in 19.903838634490967 sec, \n",
      " output written to deepseek/门-1.json\n",
      "API call for 飞 completed in 19.961636304855347 sec, \n",
      " output written to deepseek/飞-1.json\n",
      "API call for 马 completed in 22.92789077758789 sec, \n",
      " output written to deepseek/马-1.json\n",
      "API call for 三 completed in 23.709259748458862 sec, \n",
      " output written to deepseek/三-1.json\n",
      "API call for 丸 completed in 18.800512075424194 sec, \n",
      " output written to deepseek/丸-1.json\n",
      "API call for 才 completed in 19.828511714935303 sec, \n",
      " output written to deepseek/才-1.json\n",
      "API call for 习 completed in 17.823389291763306 sec, \n",
      " output written to deepseek/习-1.json\n",
      "API call for 勺 completed in 21.267611265182495 sec, \n",
      " output written to deepseek/勺-1.json\n",
      "API call for 刃 completed in 14.08082365989685 sec, \n",
      " output written to deepseek/刃-1.json\n",
      "API call for 叉 completed in 17.017621755599976 sec, \n",
      " output written to deepseek/叉-1.json\n",
      "API call for 乞 completed in 18.97029685974121 sec, \n",
      " output written to deepseek/乞-1.json\n",
      "API call for 千 completed in 21.797292709350586 sec, \n",
      " output written to deepseek/千-1.json\n",
      "API call for 万 completed in 18.00018882751465 sec, \n",
      " output written to deepseek/万-1.json\n",
      "API call for 下 completed in 13.139243841171265 sec, \n",
      " output written to deepseek/下-1.json\n",
      "API call for 上 completed in 25.229899644851685 sec, \n",
      " output written to deepseek/上-1.json\n",
      "API call for 亡 completed in 15.847642421722412 sec, \n",
      " output written to deepseek/亡-1.json\n",
      "API call for 亏 completed in 17.8935809135437 sec, \n",
      " output written to deepseek/亏-1.json\n",
      "API call for 久 completed in 18.132721424102783 sec, \n",
      " output written to deepseek/久-1.json\n",
      "API call for 丈 completed in 16.9773530960083 sec, \n",
      " output written to deepseek/丈-1.json\n",
      "API call for 于 completed in 19.330759048461914 sec, \n",
      " output written to deepseek/于-1.json\n",
      "API call for 口 completed in 27.820972681045532 sec, \n",
      " output written to deepseek/口-1.json\n",
      "API call for 也 completed in 19.537680864334106 sec, \n",
      " output written to deepseek/也-1.json\n",
      "API call for 及 completed in 21.692049264907837 sec, \n",
      " output written to deepseek/及-1.json\n",
      "API call for 个 completed in 18.777567625045776 sec, \n",
      " output written to deepseek/个-1.json\n",
      "API call for 之 completed in 22.986034154891968 sec, \n",
      " output written to deepseek/之-1.json\n",
      "API call for 土 completed in 19.758808612823486 sec, \n",
      " output written to deepseek/土-1.json\n",
      "API call for 与 completed in 17.92670702934265 sec, \n",
      " output written to deepseek/与-1.json\n",
      "API call for 义 completed in 22.869030475616455 sec, \n",
      " output written to deepseek/义-1.json\n",
      "API call for 士 completed in 31.347320079803467 sec, \n",
      " output written to deepseek/士-1.json\n",
      "API call for 夕 completed in 25.64640498161316 sec, \n",
      " output written to deepseek/夕-1.json\n",
      "API call for 大 completed in 21.36453604698181 sec, \n",
      " output written to deepseek/大-1.json\n",
      "API call for 女 completed in 24.48077368736267 sec, \n",
      " output written to deepseek/女-1.json\n",
      "API call for 子 completed in 19.2890727519989 sec, \n",
      " output written to deepseek/子-1.json\n",
      "API call for 寸 completed in 14.94391655921936 sec, \n",
      " output written to deepseek/寸-1.json\n",
      "API call for 小 completed in 18.245168447494507 sec, \n",
      " output written to deepseek/小-1.json\n",
      "API call for 尸 completed in 21.14950394630432 sec, \n",
      " output written to deepseek/尸-1.json\n",
      "API call for 山 completed in 26.726567029953003 sec, \n",
      " output written to deepseek/山-1.json\n",
      "API call for 川 completed in 20.547297477722168 sec, \n",
      " output written to deepseek/川-1.json\n",
      "API call for 工 completed in 21.670087337493896 sec, \n",
      " output written to deepseek/工-1.json\n",
      "API call for 己 completed in 18.54245114326477 sec, \n",
      " output written to deepseek/己-1.json\n",
      "API call for 巾 completed in 21.832699060440063 sec, \n",
      " output written to deepseek/巾-1.json\n",
      "API call for 干 completed in 21.155072689056396 sec, \n",
      " output written to deepseek/干-1.json\n",
      "API call for 幺 completed in 15.36486554145813 sec, \n",
      " output written to deepseek/幺-1.json\n",
      "API call for 广 completed in 18.40623116493225 sec, \n",
      " output written to deepseek/广-1.json\n",
      "API call for 弋 completed in 16.25131392478943 sec, \n",
      " output written to deepseek/弋-1.json\n",
      "API call for 弓 completed in 19.318077325820923 sec, \n",
      " output written to deepseek/弓-1.json\n",
      "API call for 么 completed in 16.908033847808838 sec, \n",
      " output written to deepseek/么-1.json\n",
      "API call for 毛 completed in 23.130390882492065 sec, \n",
      " output written to deepseek/毛-1.json\n",
      "API call for 氏 completed in 18.009613275527954 sec, \n",
      " output written to deepseek/氏-1.json\n"
     ]
    }
   ],
   "source": [
    "for zi in zis[2:]:\n",
    "    try:\n",
    "        main(character = zi)\n",
    "        processed.append(zi)\n",
    "    except Exception as e: \n",
    "        print(f\"Failed to process {zi}:\\n str(e)\")"
   ]
  },
  {
   "cell_type": "code",
   "execution_count": 55,
   "id": "7c4ea22c",
   "metadata": {},
   "outputs": [
    {
     "data": {
      "text/plain": [
       "['一', '乙']"
      ]
     },
     "execution_count": 55,
     "metadata": {},
     "output_type": "execute_result"
    }
   ],
   "source": [
    "processed"
   ]
  },
  {
   "cell_type": "code",
   "execution_count": null,
   "id": "3b0754c9",
   "metadata": {},
   "outputs": [],
   "source": []
  },
  {
   "cell_type": "code",
   "execution_count": 37,
   "id": "1dbcefd8",
   "metadata": {},
   "outputs": [
    {
     "name": "stdout",
     "output_type": "stream",
     "text": [
      "C:\\Users\\p2p2l\\projects\\wgong\\zistory\\zinets\\dev\\notebook\n"
     ]
    }
   ],
   "source": [
    "!cd "
   ]
  },
  {
   "cell_type": "code",
   "execution_count": 45,
   "id": "01748ddf",
   "metadata": {},
   "outputs": [
    {
     "data": {
      "text/plain": [
       "2880.0"
      ]
     },
     "execution_count": 45,
     "metadata": {},
     "output_type": "execute_result"
    }
   ],
   "source": [
    "24*60*60 / 30 "
   ]
  },
  {
   "cell_type": "code",
   "execution_count": null,
   "id": "17484a05",
   "metadata": {},
   "outputs": [],
   "source": []
  },
  {
   "cell_type": "code",
   "execution_count": null,
   "id": "c6a7f4bf",
   "metadata": {},
   "outputs": [],
   "source": []
  },
  {
   "cell_type": "code",
   "execution_count": 39,
   "id": "e141e83c",
   "metadata": {},
   "outputs": [],
   "source": [
    "x1 = \"{\\n  \\\"含义\\\": \\\"The character '子' (zǐ) has multiple meanings, including 'child', 'son', 'seed', 'a person', or a respectful title for a learned or virtuous person (e.g., Confucius is often referred to as '孔子'). It can also denote something small or a part of something larger.\\\",\\n  \\\"字形\\\": \\\"The character '子' is a simple, two-stroke character. It consists of a horizontal stroke at the top and a vertical stroke that curves slightly to the right at the bottom, resembling a small child or a seed.\\\",\\n  \\\"读音\\\": \\\"The pronunciation of '子' is 'zǐ' in Mandarin Chinese, with the third tone.\\\",\\n  \\\"字源\\\": \\\"The character '子' originated from a pictograph of a small child or a seed. In ancient oracle bone script, it depicted a baby with arms outstretched. Over time, it evolved into its current simplified form.\\\",\\n  \\\"含此字的字\\\": [\\n    \\\"好 (hǎo - good)\\\",\\n    \\\"字 (zì - character)\\\",\\n    \\\"学 (xué - study)\\\",\\n    \\\"孩 (hái - child)\\\",\\n    \\\"孙 (sūn - grandson)\\\",\\n    \\\"孔 (kǒng - hole, also part of Confucius's name)\\\"\\n  ],\\n  \\\"同音字\\\": [\\n    \\\"紫 (zǐ - purple)\\\",\\n    \\\"仔 (zǐ - young, small)\\\",\\n    \\\"籽 (zǐ - seed)\\\",\\n    \\\"姊 (zǐ - elder sister)\\\"\\n  ],\\n  \\\"常用词组\\\": [\\n    \\\"孩子 (háizi - child)\\\",\\n    \\\"儿子 (érzi - son)\\\",\\n    \\\"女子 (nǚzǐ - woman)\\\",\\n    \\\"男子 (nánzǐ - man)\\\",\\n    \\\"种子 (zhǒngzi - seed)\\\"\\n  ],\\n  \\\"成语\\\": [\\n    \\\"君子之交 (jūnzǐ zhī jiāo - friendship between gentlemen)\\\",\\n    \\\"望子成龙 (wàng zǐ chéng lóng - to hope one's child becomes successful)\\\",\\n    \\\"子虚乌有 (zǐxū wūyǒu - purely fictitious)\\\"\\n  ],\\n  \\\"例句\\\": [\\n    \\\"孔子是中国古代著名的思想家。 (Kǒngzǐ shì Zhōngguó gǔdài zhùmíng de sīxiǎngjiā. - Confucius was a famous ancient Chinese philosopher.)\\\",\\n    \\\"这个孩子很聪明。 (Zhège háizi hěn cōngmíng. - This child is very smart.)\\\"\\n  ],\\n  \\\"短故事\\\": [\\n    \\\"In ancient China, '子' was often used as a respectful title for scholars. Confucius, known as '孔子', was one of the most revered figures in Chinese history. His teachings emphasized morality, justice, and sincerity, and his influence continues to this day.\\\",\\n    \\\"In another story, '子' represents the beginning of life. A farmer once planted a seed ('子') in his field, nurturing it with care. Over time, it grew into a strong tree, symbolizing the potential within every small beginning.\\\"\\n  ],\\n  \\\"诗词\\\": [\\n    \\\"《静夜思》 - 李白 (Jìng Yè Sī - Lǐ Bái):\\\\n床前明月光，疑是地上霜。\\\\n举头望明月，低头思故乡。\\\\n(The poem reflects on the moon and homesickness, with '子' not explicitly mentioned but often associated with themes of family and home.)\\\",\\n    \\\"《游子吟》 - 孟郊 (Yóu Zǐ Yín - Mèng Jiāo):\\\\n慈母手中线，游子身上衣。\\\\n临行密密缝，意恐迟迟归。\\\\n(This poem describes a mother's love for her traveling son, using '子' to represent the child.)\\\"\\n  ],\\n  \\\"图片\\\": [\\n    \\\"An image of a small child with outstretched arms, representing the original pictograph of '子'.\\\",\\n    \\\"A seed sprouting from the ground, symbolizing the meaning of '子' as a seed or beginning.\\\"\\n  ],\\n  \\\"音频\\\": [\\n    \\\"A short audio clip of the pronunciation 'zǐ' in Mandarin.\\\",\\n    \\\"A recording of a Chinese teacher explaining the meaning and usage of '子'.\\\"\\n  ],\\n  \\\"视频\\\": [\\n    \\\"A short animation showing the evolution of the character '子' from ancient script to modern form.\\\",\\n    \\\"A video of a Chinese calligrapher writing the character '子' with a brush.\\\"\\n  ],\\n  \\\"电影\\\": [\\n    \\\"《孔子》 (Kǒngzǐ - Confucius): A biographical film about the life of Confucius.\\\",\\n    \\\"《鬼子来了》 (Guǐzi Láile - Devils on the Doorstep): A historical drama film.\\\"\\n  ],\\n  \\\"参考资料\\\": [\\n    \\\"《说文解字》 (Shuōwén Jiězì - Explaining Simple and Analyzing Compound Characters): An ancient Chinese dictionary.\\\",\\n    \\\"《现代汉语词典》 (Xiàndài Hànyǔ Cídiǎn - Modern Chinese Dictionary): A comprehensive modern Chinese dictionary.\\\"\\n  ],\\n  \\\"有趣网站\\\": [\\n    \\\"https://www.zdic.net/ - An online Chinese dictionary with detailed explanations of characters.\\\",\\n    \\\"https://www.chinese-tools.com/ - A resource for learning Chinese characters and culture.\\\"\\n  ]\\n}\""
   ]
  },
  {
   "cell_type": "code",
   "execution_count": 40,
   "id": "7285af30",
   "metadata": {},
   "outputs": [],
   "source": [
    "x1_json = json.loads(x1)"
   ]
  },
  {
   "cell_type": "code",
   "execution_count": 41,
   "id": "82a29ffa",
   "metadata": {},
   "outputs": [
    {
     "data": {
      "text/plain": [
       "{'含义': \"The character '子' (zǐ) has multiple meanings, including 'child', 'son', 'seed', 'a person', or a respectful title for a learned or virtuous person (e.g., Confucius is often referred to as '孔子'). It can also denote something small or a part of something larger.\",\n",
       " '字形': \"The character '子' is a simple, two-stroke character. It consists of a horizontal stroke at the top and a vertical stroke that curves slightly to the right at the bottom, resembling a small child or a seed.\",\n",
       " '读音': \"The pronunciation of '子' is 'zǐ' in Mandarin Chinese, with the third tone.\",\n",
       " '字源': \"The character '子' originated from a pictograph of a small child or a seed. In ancient oracle bone script, it depicted a baby with arms outstretched. Over time, it evolved into its current simplified form.\",\n",
       " '含此字的字': ['好 (hǎo - good)',\n",
       "  '字 (zì - character)',\n",
       "  '学 (xué - study)',\n",
       "  '孩 (hái - child)',\n",
       "  '孙 (sūn - grandson)',\n",
       "  \"孔 (kǒng - hole, also part of Confucius's name)\"],\n",
       " '同音字': ['紫 (zǐ - purple)',\n",
       "  '仔 (zǐ - young, small)',\n",
       "  '籽 (zǐ - seed)',\n",
       "  '姊 (zǐ - elder sister)'],\n",
       " '常用词组': ['孩子 (háizi - child)',\n",
       "  '儿子 (érzi - son)',\n",
       "  '女子 (nǚzǐ - woman)',\n",
       "  '男子 (nánzǐ - man)',\n",
       "  '种子 (zhǒngzi - seed)'],\n",
       " '成语': ['君子之交 (jūnzǐ zhī jiāo - friendship between gentlemen)',\n",
       "  \"望子成龙 (wàng zǐ chéng lóng - to hope one's child becomes successful)\",\n",
       "  '子虚乌有 (zǐxū wūyǒu - purely fictitious)'],\n",
       " '例句': ['孔子是中国古代著名的思想家。 (Kǒngzǐ shì Zhōngguó gǔdài zhùmíng de sīxiǎngjiā. - Confucius was a famous ancient Chinese philosopher.)',\n",
       "  '这个孩子很聪明。 (Zhège háizi hěn cōngmíng. - This child is very smart.)'],\n",
       " '短故事': [\"In ancient China, '子' was often used as a respectful title for scholars. Confucius, known as '孔子', was one of the most revered figures in Chinese history. His teachings emphasized morality, justice, and sincerity, and his influence continues to this day.\",\n",
       "  \"In another story, '子' represents the beginning of life. A farmer once planted a seed ('子') in his field, nurturing it with care. Over time, it grew into a strong tree, symbolizing the potential within every small beginning.\"],\n",
       " '诗词': [\"《静夜思》 - 李白 (Jìng Yè Sī - Lǐ Bái):\\n床前明月光，疑是地上霜。\\n举头望明月，低头思故乡。\\n(The poem reflects on the moon and homesickness, with '子' not explicitly mentioned but often associated with themes of family and home.)\",\n",
       "  \"《游子吟》 - 孟郊 (Yóu Zǐ Yín - Mèng Jiāo):\\n慈母手中线，游子身上衣。\\n临行密密缝，意恐迟迟归。\\n(This poem describes a mother's love for her traveling son, using '子' to represent the child.)\"],\n",
       " '图片': [\"An image of a small child with outstretched arms, representing the original pictograph of '子'.\",\n",
       "  \"A seed sprouting from the ground, symbolizing the meaning of '子' as a seed or beginning.\"],\n",
       " '音频': [\"A short audio clip of the pronunciation 'zǐ' in Mandarin.\",\n",
       "  \"A recording of a Chinese teacher explaining the meaning and usage of '子'.\"],\n",
       " '视频': [\"A short animation showing the evolution of the character '子' from ancient script to modern form.\",\n",
       "  \"A video of a Chinese calligrapher writing the character '子' with a brush.\"],\n",
       " '电影': ['《孔子》 (Kǒngzǐ - Confucius): A biographical film about the life of Confucius.',\n",
       "  '《鬼子来了》 (Guǐzi Láile - Devils on the Doorstep): A historical drama film.'],\n",
       " '参考资料': ['《说文解字》 (Shuōwén Jiězì - Explaining Simple and Analyzing Compound Characters): An ancient Chinese dictionary.',\n",
       "  '《现代汉语词典》 (Xiàndài Hànyǔ Cídiǎn - Modern Chinese Dictionary): A comprehensive modern Chinese dictionary.'],\n",
       " '有趣网站': ['https://www.zdic.net/ - An online Chinese dictionary with detailed explanations of characters.',\n",
       "  'https://www.chinese-tools.com/ - A resource for learning Chinese characters and culture.']}"
      ]
     },
     "execution_count": 41,
     "metadata": {},
     "output_type": "execute_result"
    }
   ],
   "source": [
    "x1_json"
   ]
  },
  {
   "cell_type": "code",
   "execution_count": 30,
   "id": "eea50e2e",
   "metadata": {},
   "outputs": [],
   "source": [
    "json_str = \"```json\\n{\\n  \\\"含义\\\": \\\"The character '子' (zǐ) has multiple meanings, including 'child', 'son', 'seed', 'a person', or a respectful title for a learned or virtuous person, such as Confucius (孔子). It can also denote something small or a part of a larger whole.\\\",\\n  \\\"字形\\\": \\\"'子' is a simple character consisting of three strokes. It resembles a child with outstretched arms. The top horizontal stroke represents the head, the middle stroke the body, and the bottom stroke the legs.\\\",\\n  \\\"读音\\\": \\\"The pronunciation of '子' is 'zǐ' in Mandarin, with the third tone.\\\",\\n  \\\"字源\\\": \\\"The character '子' originated from ancient pictographs depicting a child. Over time, its form simplified into the modern version. It is one of the oldest Chinese characters, appearing in oracle bone inscriptions.\\\",\\n  \\\"含此字的字\\\": [\\n    \\\"好 (hǎo - good)\\\",\\n    \\\"学 (xué - study)\\\",\\n    \\\"孩 (hái - child)\\\",\\n    \\\"孔 (kǒng - hole, also part of Confucius's name)\\\",\\n    \\\"孙 (sūn - grandson)\\\"\\n  ],\\n  \\\"同音字\\\": [\\n    \\\"字 (zì - character)\\\",\\n    \\\"自 (zì - self)\\\",\\n    \\\"紫 (zǐ - purple)\\\",\\n    \\\"籽 (zǐ - seed)\\\"\\n  ],\\n  \\\"常用词组\\\": [\\n    \\\"孩子 (hái zi - child)\\\",\\n    \\\"儿子 (ér zi - son)\\\",\\n    \\\"女子 (nǚ zǐ - woman)\\\",\\n    \\\"男子 (nán zǐ - man)\\\",\\n    \\\"种子 (zhǒng zi - seed)\\\"\\n  ],\\n  \\\"成语\\\": [\\n    \\\"君子之交 (jūn zǐ zhī jiāo - friendship between gentlemen)\\\",\\n    \\\"望子成龙 (wàng zǐ chéng lóng - to hope one's child becomes successful)\\\",\\n    \\\"子虚乌有 (zǐ xū wū yǒu - purely fictitious)\\\"\\n  ],\\n  \\\"例句\\\": [\\n    \\\"孔子是中国古代伟大的思想家。 (Kǒng zǐ shì zhōng guó gǔ dài wěi dà de sī xiǎng jiā. - Confucius was a great ancient Chinese thinker.)\\\",\\n    \\\"这个孩子很聪明。 (Zhè gè hái zi hěn cōng míng. - This child is very smart.)\\\"\\n  ],\\n  \\\"短故事\\\": [\\n    \\\"In ancient China, '子' was often used as a respectful title for scholars. Confucius, known as 孔子 (Kǒng zǐ), was one such scholar whose teachings shaped Chinese culture for centuries.\\\",\\n    \\\"The character '子' is also associated with the concept of 'seed' or 'origin'. In Daoist philosophy, the 'Dao' is often described as the 'mother of all things', and '子' represents the beginning of life.\\\"\\n  ],\\n  \\\"诗词\\\": [\\n    \\\"《静夜思》 - 李白 (Jìng yè sī - Li Bai): '床前明月光，疑是地上霜。举头望明月，低头思故乡。' (The moonlight before my bed, I suspect it is frost on the ground. I raise my head to gaze at the bright moon, and lower it to think of my hometown.)\\\",\\n    \\\"《子夜歌》 - 无名氏 (Zǐ yè gē - Anonymous): '子夜四时歌，春歌动地来。' (The midnight song of the four seasons, the spring song shakes the earth.)\\\"\\n  ],\\n  \\\"图片\\\": [\\n    \\\"An illustration of a child with outstretched arms.\\\",\\n    \\\"A calligraphy of the character '子' in traditional brush strokes.\\\"\\n  ],\\n  \\\"音频\\\": [\\n    \\\"A pronunciation guide for '子' in Mandarin.\\\",\\n    \\\"A recitation of a poem containing '子'.\\\"\\n  ],\\n  \\\"视频\\\": [\\n    \\\"A short video explaining the history and meaning of '子'.\\\",\\n    \\\"A calligraphy demonstration of writing '子'.\\\"\\n  ],\\n  \\\"电影\\\": [\\n    \\\"《孔子》 (Confucius) - A biographical film about Confucius.\\\",\\n    \\\"《鬼子来了》 (Devils on the Doorstep) - A film title containing '子'.\\\"\\n  ],\\n  \\\"参考资料\\\": [\\n    \\\"《说文解字》 (Shuōwén Jiězì) - An ancient Chinese dictionary.\\\",\\n    \\\"《汉字源流字典》 (Hànzì Yuánliú Zìdiǎn) - A dictionary on the origin of Chinese characters.\\\"\\n  ],\\n  \\\"有趣网站\\\": [\\n    \\\"https://www.zdic.net/ - An online Chinese dictionary.\\\",\\n    \\\"https://www.chineseetymology.org/ - A website exploring the etymology of Chinese characters.\\\"\\n  ]\\n}\\n```\" "
   ]
  },
  {
   "cell_type": "code",
   "execution_count": 31,
   "id": "a349631f",
   "metadata": {},
   "outputs": [],
   "source": [
    "x = extract_json_string(json_str)"
   ]
  },
  {
   "cell_type": "code",
   "execution_count": 32,
   "id": "cf708e16",
   "metadata": {},
   "outputs": [
    {
     "data": {
      "text/plain": [
       "'{\\n  \"含义\": \"The character \\'子\\' (zǐ) has multiple meanings, including \\'child\\', \\'son\\', \\'seed\\', \\'a person\\', or a respectful title for a learned or virtuous person, such as Confucius (孔子). It can also denote something small or a part of a larger whole.\",\\n  \"字形\": \"\\'子\\' is a simple character consisting of three strokes. It resembles a child with outstretched arms. The top horizontal stroke represents the head, the middle stroke the body, and the bottom stroke the legs.\",\\n  \"读音\": \"The pronunciation of \\'子\\' is \\'zǐ\\' in Mandarin, with the third tone.\",\\n  \"字源\": \"The character \\'子\\' originated from ancient pictographs depicting a child. Over time, its form simplified into the modern version. It is one of the oldest Chinese characters, appearing in oracle bone inscriptions.\",\\n  \"含此字的字\": [\\n    \"好 (hǎo - good)\",\\n    \"学 (xué - study)\",\\n    \"孩 (hái - child)\",\\n    \"孔 (kǒng - hole, also part of Confucius\\'s name)\",\\n    \"孙 (sūn - grandson)\"\\n  ],\\n  \"同音字\": [\\n    \"字 (zì - character)\",\\n    \"自 (zì - self)\",\\n    \"紫 (zǐ - purple)\",\\n    \"籽 (zǐ - seed)\"\\n  ],\\n  \"常用词组\": [\\n    \"孩子 (hái zi - child)\",\\n    \"儿子 (ér zi - son)\",\\n    \"女子 (nǚ zǐ - woman)\",\\n    \"男子 (nán zǐ - man)\",\\n    \"种子 (zhǒng zi - seed)\"\\n  ],\\n  \"成语\": [\\n    \"君子之交 (jūn zǐ zhī jiāo - friendship between gentlemen)\",\\n    \"望子成龙 (wàng zǐ chéng lóng - to hope one\\'s child becomes successful)\",\\n    \"子虚乌有 (zǐ xū wū yǒu - purely fictitious)\"\\n  ],\\n  \"例句\": [\\n    \"孔子是中国古代伟大的思想家。 (Kǒng zǐ shì zhōng guó gǔ dài wěi dà de sī xiǎng jiā. - Confucius was a great ancient Chinese thinker.)\",\\n    \"这个孩子很聪明。 (Zhè gè hái zi hěn cōng míng. - This child is very smart.)\"\\n  ],\\n  \"短故事\": [\\n    \"In ancient China, \\'子\\' was often used as a respectful title for scholars. Confucius, known as 孔子 (Kǒng zǐ), was one such scholar whose teachings shaped Chinese culture for centuries.\",\\n    \"The character \\'子\\' is also associated with the concept of \\'seed\\' or \\'origin\\'. In Daoist philosophy, the \\'Dao\\' is often described as the \\'mother of all things\\', and \\'子\\' represents the beginning of life.\"\\n  ],\\n  \"诗词\": [\\n    \"《静夜思》 - 李白 (Jìng yè sī - Li Bai): \\'床前明月光，疑是地上霜。举头望明月，低头思故乡。\\' (The moonlight before my bed, I suspect it is frost on the ground. I raise my head to gaze at the bright moon, and lower it to think of my hometown.)\",\\n    \"《子夜歌》 - 无名氏 (Zǐ yè gē - Anonymous): \\'子夜四时歌，春歌动地来。\\' (The midnight song of the four seasons, the spring song shakes the earth.)\"\\n  ],\\n  \"图片\": [\\n    \"An illustration of a child with outstretched arms.\",\\n    \"A calligraphy of the character \\'子\\' in traditional brush strokes.\"\\n  ],\\n  \"音频\": [\\n    \"A pronunciation guide for \\'子\\' in Mandarin.\",\\n    \"A recitation of a poem containing \\'子\\'.\"\\n  ],\\n  \"视频\": [\\n    \"A short video explaining the history and meaning of \\'子\\'.\",\\n    \"A calligraphy demonstration of writing \\'子\\'.\"\\n  ],\\n  \"电影\": [\\n    \"《孔子》 (Confucius) - A biographical film about Confucius.\",\\n    \"《鬼子来了》 (Devils on the Doorstep) - A film title containing \\'子\\'.\"\\n  ],\\n  \"参考资料\": [\\n    \"《说文解字》 (Shuōwén Jiězì) - An ancient Chinese dictionary.\",\\n    \"《汉字源流字典》 (Hànzì Yuánliú Zìdiǎn) - A dictionary on the origin of Chinese characters.\"\\n  ],\\n  \"有趣网站\": [\\n    \"https://www.zdic.net/ - An online Chinese dictionary.\",\\n    \"https://www.chineseetymology.org/ - A website exploring the etymology of Chinese characters.\"\\n  ]\\n}'"
      ]
     },
     "execution_count": 32,
     "metadata": {},
     "output_type": "execute_result"
    }
   ],
   "source": [
    "x "
   ]
  },
  {
   "cell_type": "code",
   "execution_count": 33,
   "id": "89e27eb2",
   "metadata": {},
   "outputs": [],
   "source": [
    "with open(\"tst-1.json\", \"w\", encoding=\"utf-8\") as f: \n",
    "    f.write(x)"
   ]
  },
  {
   "cell_type": "code",
   "execution_count": 25,
   "id": "d283f729",
   "metadata": {},
   "outputs": [
    {
     "name": "stdout",
     "output_type": "stream",
     "text": [
      "C:\\Users\\p2p2l\\projects\\wgong\\zistory\\zinets\\dev\\notebook\n"
     ]
    }
   ],
   "source": [
    "!cd "
   ]
  },
  {
   "cell_type": "raw",
   "id": "b8646e6d",
   "metadata": {},
   "source": [
    "def call_deepseek_api(prompt, max_tokens=250, temperature=0.4):\n",
    "    \"\"\"\n",
    "    Calls the DeepSeek v3 API with a given prompt and returns the generated response in JSON format.\n",
    "\n",
    "    Args:\n",
    "        prompt (str): The input prompt for the API.\n",
    "        max_tokens (int): The maximum number of tokens to generate.\n",
    "        temperature (float): Controls the randomness of the output (lower = more deterministic).\n",
    "\n",
    "    Returns:\n",
    "        dict: The API response in JSON format.\n",
    "    \"\"\"\n",
    "    headers = {\n",
    "        \"Authorization\": f\"Bearer {API_KEY}\",\n",
    "        \"Content-Type\": \"application/json\"\n",
    "    }\n",
    "\n",
    "    data = {\n",
    "        \"prompt\": prompt,\n",
    "        \"max_tokens\": max_tokens,\n",
    "        \"temperature\": temperature,\n",
    "        \"response_format\": \"json\"  # Ensure the output is in JSON format\n",
    "    }\n",
    "\n",
    "    try:\n",
    "        response = requests.post(DEEPSEEK_API_URL, headers=headers, json=data)\n",
    "        response.raise_for_status()  # Raise an error for bad status codes\n",
    "        return response.json()  # Return the API response as a JSON object\n",
    "\n",
    "    except requests.exceptions.RequestException as e:\n",
    "        return {\"error\": f\"Error calling DeepSeek API: {e}\"}"
   ]
  }
 ],
 "metadata": {
  "kernelspec": {
   "display_name": "Python 3 (ipykernel)",
   "language": "python",
   "name": "python3"
  },
  "language_info": {
   "codemirror_mode": {
    "name": "ipython",
    "version": 3
   },
   "file_extension": ".py",
   "mimetype": "text/x-python",
   "name": "python",
   "nbconvert_exporter": "python",
   "pygments_lexer": "ipython3",
   "version": "3.9.13"
  },
  "nbTranslate": {
   "displayLangs": [
    "*"
   ],
   "hotkey": "alt-t",
   "langInMainMenu": true,
   "sourceLang": "en",
   "targetLang": "fr",
   "useGoogleTranslate": true
  },
  "toc": {
   "base_numbering": 1,
   "nav_menu": {},
   "number_sections": true,
   "sideBar": true,
   "skip_h1_title": false,
   "title_cell": "Table of Contents",
   "title_sidebar": "Contents",
   "toc_cell": false,
   "toc_position": {},
   "toc_section_display": true,
   "toc_window_display": false
  }
 },
 "nbformat": 4,
 "nbformat_minor": 5
}
