{
 "cells": [
  {
   "cell_type": "code",
   "execution_count": 1,
   "id": "9d687513",
   "metadata": {},
   "outputs": [],
   "source": [
    "from helper import *"
   ]
  },
  {
   "cell_type": "code",
   "execution_count": 9,
   "id": "843494cb",
   "metadata": {},
   "outputs": [],
   "source": [
    "DROP_TABLES_FLAG = False # True  # False"
   ]
  },
  {
   "cell_type": "markdown",
   "id": "8a4cb22a",
   "metadata": {},
   "source": [
    "## create tables "
   ]
  },
  {
   "cell_type": "code",
   "execution_count": 7,
   "id": "bb0b9c40",
   "metadata": {},
   "outputs": [
    {
     "name": "stdout",
     "output_type": "stream",
     "text": [
      "-- table to store zi (unicode), description, and their translations in English (en), Spanish (es)\n",
      "-- Extend support for additional target language(s) by adding columns\n",
      "create table if not exists t_zi (\n",
      "    id INTEGER PRIMARY KEY AUTOINCREMENT,\n",
      "\n",
      "    zi text NOT NULL,\n",
      "    desc text,\n",
      "\n",
      "    zi_en text,\n",
      "    desc_en text,\n",
      "\n",
      "    zi_es text,\n",
      "    desc_es text,\n",
      "\n",
      "    pinyin text,\n",
      "    nstrokes INTEGER,\n",
      "\n",
      "    is_radical INTEGER,\n",
      "    is_zi INTEGER,\n",
      "    is_traditional INTEGER,\n",
      "\n",
      "    -- sys_cols\n",
      "    is_active INTEGER default 0,\n",
      "    uid INTEGER REFERENCES t_user (id) ON DELETE CASCADE,\n",
      "    uid_created INTEGER REFERENCES t_user (id) ON DELETE CASCADE,\n",
      "    ts text,\n",
      "    ts_created text,\n",
      "\n",
      "\n",
      "    CONSTRAINT uk_zi UNIQUE (zi)\n",
      ");\n",
      "\n",
      "\n",
      "-- table to store disected zi parts\n",
      "create table if not exists  t_zi_part (\n",
      "    id INTEGER PRIMARY KEY AUTOINCREMENT,\n",
      "\n",
      "    zi text NOT NULL,\n",
      "\n",
      "    lu text,  -- left up part\n",
      "    l text,  -- left part\n",
      "    ld text,  -- left down part\n",
      "    u text,  -- up part\n",
      "    m text,  -- mid part\n",
      "    d text,  -- down part\n",
      "    ru text,  -- right up part\n",
      "    r text,  -- right part\n",
      "    rd text,  -- right down part\n",
      "    mf text,  -- mid front\n",
      "    mb text,  -- mid back\n",
      "\n",
      "    -- sys_cols\n",
      "    is_active INTEGER default 0,\n",
      "    uid INTEGER REFERENCES t_user (id) ON DELETE CASCADE,\n",
      "    uid_created INTEGER REFERENCES t_user (id) ON DELETE CASCADE,\n",
      "    ts text,\n",
      "    ts_created text,\n",
      "\n",
      "\n",
      "    CONSTRAINT uk_zi UNIQUE (zi)\n",
      ");\n",
      "\n",
      "-- table to store Zi's calligraphy\n",
      "create table if not exists  t_zi_shufa (\n",
      "    id INTEGER PRIMARY KEY AUTOINCREMENT,\n",
      "\n",
      "    zi text NOT NULL,\n",
      "\n",
      "    url_img_1 text,     -- 甲骨 \n",
      "    url_img_2 text,     -- 金 \n",
      "    url_img_3 text,     -- 篆\n",
      "    url_img_4 text,     -- 隶\n",
      "    url_img_5 text,     -- 楷\n",
      "    url_img_6 text,     -- 行\n",
      "    url_img_7 text,     -- 草\n",
      "\n",
      "    -- sys_cols\n",
      "    is_active INTEGER default 0,\n",
      "    uid INTEGER REFERENCES t_user (id) ON DELETE CASCADE,\n",
      "    uid_created INTEGER REFERENCES t_user (id) ON DELETE CASCADE,\n",
      "    ts text,\n",
      "    ts_created text,\n",
      "\n",
      "\n",
      "    CONSTRAINT uk_zi UNIQUE (zi)\n",
      ");\n",
      "\n",
      "-- table to store related short 词 word/vocabulary (up to 10 Zi sequence), overflow to t_zi_text if longer\n",
      "create table if not exists  t_zi_word (\n",
      "    id INTEGER PRIMARY KEY AUTOINCREMENT,\n",
      "\n",
      "    zi text NOT NULL,\n",
      "\n",
      "    zi_0 text,  -- FK to t_zi.zi\n",
      "    zi_1 text,\n",
      "    zi_2 text,\n",
      "    zi_3 text,\n",
      "    zi_4 text,\n",
      "    zi_5 text,\n",
      "    zi_6 text,\n",
      "    zi_7 text,\n",
      "    zi_8 text,\n",
      "    zi_9 text,\n",
      "\n",
      "    word_en text,\n",
      "    word_es text,\n",
      "\n",
      "    desc text,\n",
      "    desc_en text,\n",
      "    desc_es text,\n",
      "\n",
      "    -- sys_cols\n",
      "    is_active INTEGER default 0,\n",
      "    uid INTEGER REFERENCES t_user (id) ON DELETE CASCADE,\n",
      "    uid_created INTEGER REFERENCES t_user (id) ON DELETE CASCADE,\n",
      "    ts text,\n",
      "    ts_created text,\n",
      "\n",
      "\n",
      "    CONSTRAINT uk_zi UNIQUE (zi)\n",
      ");\n",
      "\n",
      "-- table to store related long phrases/sentences\n",
      "create table if not exists  t_zi_text (\n",
      "    id INTEGER PRIMARY KEY AUTOINCREMENT,\n",
      "\n",
      "    zi text NOT NULL,\n",
      "\n",
      "    desc text,  -- long description\n",
      "    desc_en text,\n",
      "    desc_es text,\n",
      "\n",
      "    -- sys_cols\n",
      "    is_active INTEGER default 0,\n",
      "    uid INTEGER REFERENCES t_user (id) ON DELETE CASCADE,\n",
      "    uid_created INTEGER REFERENCES t_user (id) ON DELETE CASCADE,\n",
      "    ts text,\n",
      "    ts_created text,\n",
      "\n",
      "\n",
      "    CONSTRAINT uk_zi UNIQUE (zi)\n",
      ");\n",
      "\n",
      "-- table to store related media resources (url, img, audio, video, book)\n",
      "create table if not exists  t_zi_media (\n",
      "    id INTEGER PRIMARY KEY AUTOINCREMENT,\n",
      "\n",
      "    zi text NOT NULL,\n",
      "\n",
      "    media_type text, -- url, image, audio, video, book\n",
      "    url text,\n",
      "\n",
      "    desc text,  -- long description\n",
      "    desc_en text,\n",
      "    desc_es text,\n",
      "\n",
      "    -- sys_cols\n",
      "    is_active INTEGER default 0,\n",
      "    uid INTEGER REFERENCES t_user (id) ON DELETE CASCADE,\n",
      "    uid_created INTEGER REFERENCES t_user (id) ON DELETE CASCADE,\n",
      "    ts text,\n",
      "    ts_created text,\n",
      "\n",
      "    CONSTRAINT uk_zi UNIQUE (zi)\n",
      ");\n",
      "\n",
      "-- store user info\n",
      "create table if not exists  t_user (\n",
      "    id INTEGER PRIMARY KEY AUTOINCREMENT,\n",
      "\n",
      "    user_id text  NOT NULL,     -- email or user_id\n",
      "    pwd text,                   -- encrypted password\n",
      "\n",
      "    role_name text,             -- admin, dev, reviewer, user\n",
      "\n",
      "    countries text,             -- user countries of origin\n",
      "    languages text,             -- user languages spoken \n",
      "\n",
      "    -- sys_cols\n",
      "    is_active INTEGER default 0,\n",
      "    uid INTEGER REFERENCES t_user (id) ON DELETE CASCADE,\n",
      "    uid_created INTEGER REFERENCES t_user (id) ON DELETE CASCADE,\n",
      "    ts text,\n",
      "    ts_created text,\n",
      "\n",
      "    CONSTRAINT uk_userid UNIQUE (user_id)\n",
      ");\n"
     ]
    }
   ],
   "source": [
    "sql_create = open(\"schema.sql\", encoding=\"utf-8\").read()\n",
    "\n",
    "print(sql_create)"
   ]
  },
  {
   "cell_type": "code",
   "execution_count": 8,
   "id": "5d0e35d9",
   "metadata": {},
   "outputs": [],
   "source": [
    "with DBConn() as _conn:\n",
    "    db_run_sql(sql_create, _conn)"
   ]
  },
  {
   "cell_type": "markdown",
   "id": "e2227fcc",
   "metadata": {},
   "source": [
    "## verify tables "
   ]
  },
  {
   "cell_type": "code",
   "execution_count": 5,
   "id": "79099a90",
   "metadata": {},
   "outputs": [
    {
     "name": "stdout",
     "output_type": "stream",
     "text": [
      "Tables: ['t_zi', 't_zi_part', 't_zi_shufa', 't_zi_word', 't_zi_text', 't_zi_media', 't_user']\n"
     ]
    }
   ],
   "source": [
    "with DBConn() as _conn:\n",
    "    sql_select = f\"\"\"\n",
    "        SELECT name FROM sqlite_master WHERE type='table' and name like 't_%';\n",
    "    \"\"\"\n",
    "    df = db_run_sql(sql_select, _conn)\n",
    "    tables = df[\"name\"].to_list()\n",
    "    print(f\"Tables: {tables}\")"
   ]
  },
  {
   "cell_type": "raw",
   "id": "fb07b0bb",
   "metadata": {},
   "source": [
    "Tables: ['t_zi', 't_zi_part', 't_zi_shufa', 't_zi_word', 't_zi_text', 't_zi_media', 't_user']"
   ]
  },
  {
   "cell_type": "markdown",
   "id": "b81f3377",
   "metadata": {},
   "source": [
    "## drop tables "
   ]
  },
  {
   "cell_type": "code",
   "execution_count": 6,
   "id": "d2c21321",
   "metadata": {},
   "outputs": [
    {
     "name": "stdout",
     "output_type": "stream",
     "text": [
      "\n",
      "                drop table IF EXISTS t_zi;\n",
      "            \n",
      "\n",
      "                drop table IF EXISTS t_zi_part;\n",
      "            \n",
      "\n",
      "                drop table IF EXISTS t_zi_shufa;\n",
      "            \n",
      "\n",
      "                drop table IF EXISTS t_zi_word;\n",
      "            \n",
      "\n",
      "                drop table IF EXISTS t_zi_text;\n",
      "            \n",
      "\n",
      "                drop table IF EXISTS t_zi_media;\n",
      "            \n",
      "\n",
      "                drop table IF EXISTS t_user;\n",
      "            \n"
     ]
    }
   ],
   "source": [
    "if DROP_TABLES_FLAG:\n",
    "    with DBConn() as _conn:\n",
    "        for t in tables:\n",
    "            sql_drop = f\"\"\"\n",
    "                drop table IF EXISTS {t};\n",
    "            \"\"\"\n",
    "            print(sql_drop)\n",
    "            db_run_sql(sql_drop, _conn)"
   ]
  },
  {
   "cell_type": "code",
   "execution_count": null,
   "id": "1530ab4e",
   "metadata": {},
   "outputs": [],
   "source": []
  }
 ],
 "metadata": {
  "kernelspec": {
   "display_name": "Python 3 (ipykernel)",
   "language": "python",
   "name": "python3"
  },
  "language_info": {
   "codemirror_mode": {
    "name": "ipython",
    "version": 3
   },
   "file_extension": ".py",
   "mimetype": "text/x-python",
   "name": "python",
   "nbconvert_exporter": "python",
   "pygments_lexer": "ipython3",
   "version": "3.9.13"
  },
  "nbTranslate": {
   "displayLangs": [
    "*"
   ],
   "hotkey": "alt-t",
   "langInMainMenu": true,
   "sourceLang": "en",
   "targetLang": "fr",
   "useGoogleTranslate": true
  },
  "toc": {
   "base_numbering": 1,
   "nav_menu": {},
   "number_sections": true,
   "sideBar": true,
   "skip_h1_title": false,
   "title_cell": "Table of Contents",
   "title_sidebar": "Contents",
   "toc_cell": false,
   "toc_position": {},
   "toc_section_display": true,
   "toc_window_display": false
  }
 },
 "nbformat": 4,
 "nbformat_minor": 5
}
