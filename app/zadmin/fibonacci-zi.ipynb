{
 "cells": [
  {
   "cell_type": "code",
   "execution_count": 16,
   "id": "36af6cbe",
   "metadata": {},
   "outputs": [],
   "source": [
    "def fibonacci_sum(target):\n",
    "  \"\"\"\n",
    "  Lists the Fibonacci series up to the point where the sum exceeds the target.\n",
    "\n",
    "  Args:\n",
    "    target: The maximum sum allowed.\n",
    "\n",
    "  Returns:\n",
    "    A list containing the Fibonacci numbers whose sum is less than the target.\n",
    "  \"\"\"\n",
    "\n",
    "  fib_series = [0, 1]\n",
    "  fib_sum = 1\n",
    "#   i = 2  # Index of the current Fibonacci number\n",
    "\n",
    "  while fib_sum < target:\n",
    "    next_fib = fib_series[-1] + fib_series[-2]\n",
    "    fib_series.append(next_fib)\n",
    "    fib_sum += next_fib\n",
    "#     i += 1\n",
    "\n",
    "  # Remove the last element if it caused the sum to exceed the target\n",
    "  if fib_sum > target:\n",
    "    x = fib_series.pop()\n",
    "    fib_sum -= x\n",
    "#     i -= 1\n",
    "\n",
    "  return fib_series[1:], fib_sum  # Return both the series and its length"
   ]
  },
  {
   "cell_type": "code",
   "execution_count": 26,
   "id": "89fcac9d",
   "metadata": {},
   "outputs": [
    {
     "name": "stdout",
     "output_type": "stream",
     "text": [
      "fib_list, length, fib_sum = [1, 1, 2, 3, 5, 8, 13, 21, 34, 55, 89, 144, 233, 377, 610, 987, 1597, 2584, 4181, 6765], 20, 17710\n"
     ]
    }
   ],
   "source": [
    "# Example usage:\n",
    "target_sum = 20000\n",
    "fib_list, fib_sum = fibonacci_sum(target_sum)\n",
    "length= len(fib_list)\n",
    "print(f\"fib_list, length, fib_sum = {fib_list}, {length}, {fib_sum}\")\n",
    "\n",
    "# to verify\n",
    "fib_sum_1 = sum(fib_list)\n",
    "assert fib_sum == fib_sum_1"
   ]
  },
  {
   "cell_type": "code",
   "execution_count": 27,
   "id": "159d56a2",
   "metadata": {},
   "outputs": [
    {
     "name": "stdout",
     "output_type": "stream",
     "text": [
      "[i, sum, fib_list]  1     1 [1]\n",
      "[i, sum, fib_list]  2     2 [1, 1]\n",
      "[i, sum, fib_list]  3     4 [1, 1, 2]\n",
      "[i, sum, fib_list]  4     7 [1, 1, 2, 3]\n",
      "[i, sum, fib_list]  5    12 [1, 1, 2, 3, 5]\n",
      "[i, sum, fib_list]  6    20 [1, 1, 2, 3, 5, 8]\n",
      "[i, sum, fib_list]  7    33 [1, 1, 2, 3, 5, 8, 13]\n",
      "[i, sum, fib_list]  8    54 [1, 1, 2, 3, 5, 8, 13, 21]\n",
      "[i, sum, fib_list]  9    88 [1, 1, 2, 3, 5, 8, 13, 21, 34]\n",
      "[i, sum, fib_list] 10   143 [1, 1, 2, 3, 5, 8, 13, 21, 34, 55]\n",
      "[i, sum, fib_list] 11   232 [1, 1, 2, 3, 5, 8, 13, 21, 34, 55, 89]\n",
      "[i, sum, fib_list] 12   376 [1, 1, 2, 3, 5, 8, 13, 21, 34, 55, 89, 144]\n",
      "[i, sum, fib_list] 13   609 [1, 1, 2, 3, 5, 8, 13, 21, 34, 55, 89, 144, 233]\n",
      "[i, sum, fib_list] 14   986 [1, 1, 2, 3, 5, 8, 13, 21, 34, 55, 89, 144, 233, 377]\n",
      "[i, sum, fib_list] 15  1596 [1, 1, 2, 3, 5, 8, 13, 21, 34, 55, 89, 144, 233, 377, 610]\n",
      "[i, sum, fib_list] 16  2583 [1, 1, 2, 3, 5, 8, 13, 21, 34, 55, 89, 144, 233, 377, 610, 987]\n",
      "[i, sum, fib_list] 17  4180 [1, 1, 2, 3, 5, 8, 13, 21, 34, 55, 89, 144, 233, 377, 610, 987, 1597]\n",
      "[i, sum, fib_list] 18  6764 [1, 1, 2, 3, 5, 8, 13, 21, 34, 55, 89, 144, 233, 377, 610, 987, 1597, 2584]\n",
      "[i, sum, fib_list] 19 10945 [1, 1, 2, 3, 5, 8, 13, 21, 34, 55, 89, 144, 233, 377, 610, 987, 1597, 2584, 4181]\n",
      "[i, sum, fib_list] 20 17710 [1, 1, 2, 3, 5, 8, 13, 21, 34, 55, 89, 144, 233, 377, 610, 987, 1597, 2584, 4181, 6765]\n",
      "[1, 1, 2, 3, 5, 8, 13, 21, 34, 55, 89, 144, 233, 377, 610, 987, 1597, 2584, 4181, 6765]\n"
     ]
    }
   ],
   "source": [
    "fib_numbers = []\n",
    "for i in range(1, length+1):\n",
    "    sub_fib = fib_list[:i]\n",
    "    fib_sum = sum(sub_fib)\n",
    "    print(f\"[i, sum, fib_list] {i:2d} {fib_sum:5d} {sub_fib}\")\n",
    "\n",
    "    fib_numbers.append(sub_fib[-1])\n",
    "    \n",
    "print(fib_numbers)"
   ]
  },
  {
   "cell_type": "code",
   "execution_count": 28,
   "id": "02151fe2",
   "metadata": {},
   "outputs": [],
   "source": [
    "fib_num = [str(i) for i in fib_numbers]"
   ]
  },
  {
   "cell_type": "code",
   "execution_count": 29,
   "id": "69239b56",
   "metadata": {},
   "outputs": [
    {
     "name": "stdout",
     "output_type": "stream",
     "text": [
      "['1', '1', '2', '3', '5', '8', '13', '21', '34', '55', '89', '144', '233', '377', '610', '987', '1597', '2584', '4181', '6765']\n"
     ]
    }
   ],
   "source": [
    "print(fib_num)"
   ]
  },
  {
   "cell_type": "code",
   "execution_count": null,
   "id": "19af08be",
   "metadata": {},
   "outputs": [],
   "source": []
  }
 ],
 "metadata": {
  "kernelspec": {
   "display_name": "Python 3 (ipykernel)",
   "language": "python",
   "name": "python3"
  },
  "language_info": {
   "codemirror_mode": {
    "name": "ipython",
    "version": 3
   },
   "file_extension": ".py",
   "mimetype": "text/x-python",
   "name": "python",
   "nbconvert_exporter": "python",
   "pygments_lexer": "ipython3",
   "version": "3.9.13"
  },
  "nbTranslate": {
   "displayLangs": [
    "*"
   ],
   "hotkey": "alt-t",
   "langInMainMenu": true,
   "sourceLang": "en",
   "targetLang": "fr",
   "useGoogleTranslate": true
  },
  "toc": {
   "base_numbering": 1,
   "nav_menu": {},
   "number_sections": true,
   "sideBar": true,
   "skip_h1_title": false,
   "title_cell": "Table of Contents",
   "title_sidebar": "Contents",
   "toc_cell": false,
   "toc_position": {},
   "toc_section_display": true,
   "toc_window_display": false
  }
 },
 "nbformat": 4,
 "nbformat_minor": 5
}
