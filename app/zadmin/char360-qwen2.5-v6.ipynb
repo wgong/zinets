{
 "cells": [
  {
   "cell_type": "markdown",
   "id": "82a91fd7-6581-494f-b77b-0dbb55afb706",
   "metadata": {},
   "source": [
    "The following Zi failed\n",
    "```\n",
    "儿 猴 龙 头 死 毛 皮 眉 耳 肉 一 午 四 寅 甲 癸 零 丿 彡 攵 氵犭\n",
    "```"
   ]
  },
  {
   "cell_type": "code",
   "execution_count": 1,
   "id": "dbe1e6d6-b492-4e1a-b435-86273600c0db",
   "metadata": {},
   "outputs": [],
   "source": [
    "from time import time\n",
    "from datetime import datetime\n",
    "import re\n",
    "from pathlib import Path\n",
    "\n",
    "import pandas as pd \n",
    "\n",
    "import ollama\n",
    "\n",
    "from utils import *"
   ]
  },
  {
   "cell_type": "code",
   "execution_count": 2,
   "id": "e6d4c594-70ca-493e-81ae-28061c09a8ba",
   "metadata": {},
   "outputs": [],
   "source": [
    "model_name = \"qwen2.5\"  # \"llama3.1\"\n",
    "pattern = r'```json\\s*(.*?)\\s*```'\n",
    "file_log = \"char360-qwen2.5.log\""
   ]
  },
  {
   "cell_type": "code",
   "execution_count": 3,
   "id": "df2d42d8-4e9b-48c0-8206-27c3b324ee1a",
   "metadata": {},
   "outputs": [],
   "source": [
    "prompt_zi = \"\"\"\n",
    "You are an expert in Chinese language, \n",
    "\n",
    "can you generate a holistic view on this chinese character  {zi}\n",
    "in terms of the following attributes:\n",
    "含义\n",
    "字形\n",
    "读音 \n",
    "字源\n",
    "常用词组\n",
    "成语\n",
    "例句\n",
    "短故事\n",
    "诗词\n",
    "图片\n",
    "音频 \n",
    "视频 \n",
    "电影\n",
    "参考资料\n",
    "有趣网站\n",
    "\n",
    "(1) give the answer in Chinese \n",
    "(2) format the answer in valid json and ensure quotes are properly escaped (specifically avoid double-quotes nested in doube-quotes)\n",
    "(3) whenever possible, give 5 or more examples for the following attributes:\n",
    "\n",
    "常用词组\n",
    "成语\n",
    "例句\n",
    "短故事\n",
    "诗词\n",
    "图片\n",
    "音频 \n",
    "视频 \n",
    "电影\n",
    "参考资料\n",
    "有趣网站\n",
    "\n",
    "\"\"\""
   ]
  },
  {
   "cell_type": "raw",
   "id": "817cc339-076f-4e59-950c-ad28eb2b2a30",
   "metadata": {},
   "source": [
    "zi = '气'"
   ]
  },
  {
   "cell_type": "code",
   "execution_count": 4,
   "id": "adbdf9ee-2644-42a5-9c7d-cc4fc5efbc5d",
   "metadata": {},
   "outputs": [],
   "source": [
    "df = pd.read_csv(\"char360_fib_num.csv\")\n",
    "zi_fib_nums = df.to_dict(\"records\")"
   ]
  },
  {
   "cell_type": "raw",
   "id": "5f98f049-4c5f-43fb-99d9-3c0bd0de8ae6",
   "metadata": {},
   "source": [
    "prompt_zi.format(zi=zi)"
   ]
  },
  {
   "cell_type": "raw",
   "id": "a896bce0-3fee-49ce-9e98-a0e3391ec1bc",
   "metadata": {},
   "source": [
    "fib_num = 100\n",
    "str(fib_num).zfill(4)"
   ]
  },
  {
   "cell_type": "raw",
   "id": "2afee0ec-fc98-4738-bae2-d7eead595705",
   "metadata": {},
   "source": [
    "# Example usage:\n",
    "# log_msg(\"This is a test message\")\n",
    "log_msg(\"[ERROR] No JSON extracted: 犭\", \"char360-qwen2.5.log\")"
   ]
  },
  {
   "cell_type": "code",
   "execution_count": 5,
   "id": "46b875eb-1672-45a7-8aa5-4dad41cd95e3",
   "metadata": {},
   "outputs": [
    {
     "name": "stdout",
     "output_type": "stream",
     "text": [
      "Processing 杉 ...\n",
      "[2024-09-20 22:40:38.426159] Completed 杉 in 141.521 sec\n",
      "[ERROR] No JSON extracted: 杉\n",
      "Processing 林 ...\n",
      "[2024-09-20 22:42:59.948176] Completed 林 in 146.401 sec\n",
      "Processing 声 ...\n",
      "[2024-09-20 22:45:26.352043] Completed 声 in 187.838 sec\n",
      "Processing 尽 ...\n",
      "[2024-09-20 22:48:34.190280] Completed 尽 in 71.563 sec\n",
      "Processing 数 ...\n",
      "[2024-09-20 22:49:45.754381] Completed 数 in 101.751 sec\n",
      "Processing 晓 ...\n",
      "[2024-09-20 22:51:27.506749] Completed 晓 in 121.551 sec\n",
      "[ERROR] No JSON extracted: 晓\n",
      "Processing 柳 ...\n",
      "[2024-09-20 22:53:29.058670] Completed 柳 in 203.997 sec\n",
      "Processing 灵 ...\n",
      "[2024-09-20 22:56:53.055768] Completed 灵 in 74.413 sec\n",
      "Processing 矛 ...\n",
      "[2024-09-20 22:58:07.470374] Completed 矛 in 143.922 sec\n",
      "Processing 老 ...\n",
      "[2024-09-20 23:00:31.392375] Completed 老 in 91.865 sec\n",
      "Processing 者 ...\n",
      "[2024-09-20 23:02:03.258399] Completed 者 in 135.151 sec\n",
      "Processing 臣 ...\n",
      "[2024-09-20 23:04:18.410741] Completed 臣 in 118.529 sec\n",
      "Processing 芽 ...\n",
      "[2024-09-20 23:06:16.940207] Completed 芽 in 200.266 sec\n",
      "Processing 茎 ...\n",
      "[2024-09-20 23:09:37.207647] Completed 茎 in 122.137 sec\n",
      "Processing 象 ...\n",
      "[2024-09-20 23:11:39.345801] Completed 象 in 170.012 sec\n",
      "Processing 量 ...\n",
      "[2024-09-20 23:14:29.358960] Completed 量 in 168.475 sec\n",
      "Processing 除 ...\n",
      "[2024-09-20 23:17:17.834722] Completed 除 in 134.319 sec\n",
      "Processing 饮 ...\n",
      "[2024-09-20 23:19:32.154823] Completed 饮 in 96.779 sec\n",
      "Processing 高 ...\n",
      "[2024-09-20 23:21:08.934175] Completed 高 in 83.831 sec\n",
      "Processing 鹿 ...\n",
      "[2024-09-20 23:22:32.766223] Completed 鹿 in 148.184 sec\n",
      "[ERROR] No JSON extracted: 鹿\n",
      "Processing 麦 ...\n",
      "[2024-09-20 23:25:00.951144] Completed 麦 in 65.663 sec\n",
      "Processing 黄 ...\n",
      "[2024-09-20 23:26:06.614603] Completed 黄 in 98.861 sec\n"
     ]
    }
   ],
   "source": [
    "for xx in zi_fib_nums:\n",
    "    zi, fib_num = xx['zi'], xx['fib_num']\n",
    "    fib_num_str = str(fib_num).zfill(4)\n",
    "    fp = Path(f\"./llm_models/{model_name}\") / f\"{fib_num_str}-{zi}-1.json\"    \n",
    "    if fp.exists():\n",
    "        # log_msg(f\"SKIP {zi}: Already processed - {fp} \", file_log)\n",
    "        continue\n",
    "\n",
    "    print(f\"Processing {zi} ...\")\n",
    "    \n",
    "    ts_now = datetime.now()   \n",
    "    ts_1 = time()\n",
    "    try:\n",
    "        resp = ollama.generate(model=model_name, prompt=prompt_zi.format(zi=zi))\n",
    "    except Exception as e:\n",
    "        log_msg(f\"[ERROR] {zi} : Failed to call ollama.generate()\", file_log)\n",
    "        continue\n",
    "        \n",
    "    ts_2 = time()\n",
    "    del_t = ts_2 - ts_1\n",
    "    del_t_str = f\"{del_t:.3f}\"\n",
    "    json_raw = resp.get('response', \"\")\n",
    "    if not json_raw: \n",
    "        log_msg(f\"[ERROR] No LLM response: {zi}\", file_log)\n",
    "        continue\n",
    "\n",
    "    log_msg(f\"[{str(ts_now)}] Completed {zi} in {del_t_str} sec\")\n",
    "\n",
    "    match = re.search(pattern, json_raw, re.DOTALL)\n",
    "\n",
    "    if match:\n",
    "        json_string = match.group(1)\n",
    "        if not json_string:\n",
    "            log_msg(f\"[WARN] No JSON extracted: {zi}\")\n",
    "            continue\n",
    "            \n",
    "        with open(fp, \"w\", encoding=\"utf-8\") as f:\n",
    "            f.write(json_string)\n",
    "    else:\n",
    "        log_msg(f\"[ERROR] No JSON extracted: {zi}\", file_log)"
   ]
  },
  {
   "cell_type": "code",
   "execution_count": null,
   "id": "1b6bc198-6f1c-48a4-8b54-d2339da5556f",
   "metadata": {},
   "outputs": [],
   "source": []
  },
  {
   "cell_type": "code",
   "execution_count": null,
   "id": "b1f07dcd-1843-460a-9736-73910de156ca",
   "metadata": {},
   "outputs": [],
   "source": []
  },
  {
   "cell_type": "code",
   "execution_count": null,
   "id": "5d4f35e8-5019-49e7-899a-caeb93e866b0",
   "metadata": {},
   "outputs": [],
   "source": []
  },
  {
   "cell_type": "raw",
   "id": "03f94dc9-d8c2-47e1-b4a6-6ccca601a767",
   "metadata": {},
   "source": [
    "response = ollama.chat(model=model_name, messages=[\n",
    "  {\n",
    "    'role': 'user',\n",
    "    'content': prompt_zi.format(zi=zi),\n",
    "  },\n",
    "])\n",
    "print(response['message']['content'])"
   ]
  },
  {
   "cell_type": "raw",
   "id": "6b97e3f5-d66f-4280-82a8-7985a784b45d",
   "metadata": {},
   "source": [
    "json_raw = \"\"\"```json\n",
    "{\n",
    "    \"汉字\": \"气\",\n",
    "    \"含义\": \"1. 氧气, 空气 2. 能量, 力量 3. 性情, 心态 4. 名声, 声望 5. 气息\",\n",
    "    \"字形\": \"由三部分组成，上面是'云', 中间是一个'又', 下面是'口'\",\n",
    "    \"读音\": \"qi4\",\n",
    "    \"字源\": \"象形字。甲骨文中的'气'字像一缕上升的烟雾形状。\",\n",
    "    \"常用词组\": [\"气体\", \"气质\", \"生气\", \"人气\", \"风气\"],\n",
    "    \"成语\": [\"气息奄奄\", \"气吞山河\", \"气急败坏\", \"气宇轩昂\", \"气贯长虹\"],\n",
    "    \"例句\": [\"天气转凉，出门要多穿衣服。qi4 ti4 zhuan3 liang2 ，chu1 men2 yao5 duo3 chuan1 yi1 fu4 。\", \"他的气质很吸引人。ta de qi4 zhi4 hen3 xiang1 jin1 ren2 。\", \"你别生气了，气坏身体。ni3 bei4 qi1 hai4 shen1 ti3 。\"],\n",
    "    \"短故事\": [\"从前有一座山，山上住着一位老道长。每当他修炼到极致时，就会有一股强大的力量从他的身体中涌出。这股力量就是'气'。一次，他在山顶上练功时，不小心将周围的石头都吹飞了。\",\n",
    "    \"一天夜里，一个年轻的小道士来找他学艺，但见山下起雾了，就问师父：‘师父，我们现在要去哪修炼呢？’老道长回答说：‘就在这里，雾就是我们的气。’小道士听后，豁然开朗，明白了师父的教诲。\"],\n",
    "    \"诗词\": [\"唐·李白《将进酒》：“君不见黄河之水天上来,奔流到海不复回. 须知一樽还一笑,人生长恨水长东.”中'一樽还一笑',这里'笑'即有精神充沛之意，也与'气'相关。\"],\n",
    "    \"图片\": [\"http://example.com/qi4_image1.jpg\", \"http://example.com/qi4_image2.png\", \"http://example.com/qi4_image3.jpeg\"],\n",
    "    \"音频\": [\"http://example.com/qi4_audio1.mp3\", \"http://example.com/qi4_audio2.wav\", \"http://example.com/qi4_audio3.aac\"],\n",
    "    \"视频\": [\"http://example.com/qi4_video1.mp4\", \"http://example.com/qi4_video2.webm\", \"http://example.com/qi4_video3.flv\"],\n",
    "    \"电影\": [\"《卧虎藏龙》\", \"《英雄》\", \"《无极》\"],\n",
    "    \"参考资料\": [\"https://www.zdic.net/hans/%E6%B0%94\", \"https://baike.baidu.com/item/%E6%B0%98\"],\n",
    "    \"有趣网站\": [\"http://www.cihai.com/qi4\", \"https://dict.cn/zi/qi\"]\n",
    "}\n",
    "```\"\"\""
   ]
  },
  {
   "cell_type": "code",
   "execution_count": null,
   "id": "2fd1846c-f0d2-410b-9556-1c1d7783eee6",
   "metadata": {},
   "outputs": [],
   "source": []
  }
 ],
 "metadata": {
  "kernelspec": {
   "display_name": "Python 3 (ipykernel)",
   "language": "python",
   "name": "python3"
  },
  "language_info": {
   "codemirror_mode": {
    "name": "ipython",
    "version": 3
   },
   "file_extension": ".py",
   "mimetype": "text/x-python",
   "name": "python",
   "nbconvert_exporter": "python",
   "pygments_lexer": "ipython3",
   "version": "3.10.12"
  }
 },
 "nbformat": 4,
 "nbformat_minor": 5
}
