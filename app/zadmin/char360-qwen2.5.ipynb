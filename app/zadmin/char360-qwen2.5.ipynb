{
 "cells": [
  {
   "cell_type": "code",
   "execution_count": 1,
   "id": "dbe1e6d6-b492-4e1a-b435-86273600c0db",
   "metadata": {},
   "outputs": [],
   "source": [
    "from time import time\n",
    "import re\n",
    "from pathlib import Path\n",
    "\n",
    "import pandas as pd \n",
    "\n",
    "import ollama\n",
    "\n",
    "from utils import *"
   ]
  },
  {
   "cell_type": "code",
   "execution_count": 2,
   "id": "e6d4c594-70ca-493e-81ae-28061c09a8ba",
   "metadata": {},
   "outputs": [],
   "source": [
    "model_name = \"qwen2.5\"  # \"llama3.1\"\n",
    "pattern = r'```json\\s*(.*?)\\s*```'"
   ]
  },
  {
   "cell_type": "code",
   "execution_count": 3,
   "id": "df2d42d8-4e9b-48c0-8206-27c3b324ee1a",
   "metadata": {},
   "outputs": [],
   "source": [
    "prompt_zi = \"\"\"\n",
    "You are an expert in Chinese language, \n",
    "\n",
    "can you generate a holistic view on this chinese character  {zi}\n",
    "in terms of the following attributes:\n",
    "含义\n",
    "字形\n",
    "读音 \n",
    "字源\n",
    "常用词组\n",
    "成语\n",
    "例句\n",
    "短故事\n",
    "诗词\n",
    "图片\n",
    "音频 \n",
    "视频 \n",
    "电影\n",
    "参考资料\n",
    "有趣网站\n",
    "\n",
    "(1) give the answer in Chinese \n",
    "(2) format the answer in valid json and ensure quotes are properly escaped (specifically avoid double-quotes nested in doube-quotes)\n",
    "(3) whenever possible, give 5 or more examples for the following attributes:\n",
    "\n",
    "常用词组\n",
    "成语\n",
    "例句\n",
    "短故事\n",
    "诗词\n",
    "图片\n",
    "音频 \n",
    "视频 \n",
    "电影\n",
    "参考资料\n",
    "有趣网站\n",
    "\n",
    "\"\"\""
   ]
  },
  {
   "cell_type": "raw",
   "id": "817cc339-076f-4e59-950c-ad28eb2b2a30",
   "metadata": {},
   "source": [
    "zi = '气'"
   ]
  },
  {
   "cell_type": "code",
   "execution_count": 4,
   "id": "adbdf9ee-2644-42a5-9c7d-cc4fc5efbc5d",
   "metadata": {},
   "outputs": [],
   "source": [
    "df = pd.read_csv(\"char360_fib_num.csv\")\n",
    "zi_fib_nums = df.to_dict(\"records\")"
   ]
  },
  {
   "cell_type": "raw",
   "id": "5f98f049-4c5f-43fb-99d9-3c0bd0de8ae6",
   "metadata": {},
   "source": [
    "prompt_zi.format(zi=zi)"
   ]
  },
  {
   "cell_type": "raw",
   "id": "a896bce0-3fee-49ce-9e98-a0e3391ec1bc",
   "metadata": {},
   "source": [
    "fib_num = 100\n",
    "str(fib_num).zfill(4)"
   ]
  },
  {
   "cell_type": "code",
   "execution_count": null,
   "id": "46b875eb-1672-45a7-8aa5-4dad41cd95e3",
   "metadata": {},
   "outputs": [
    {
     "name": "stdout",
     "output_type": "stream",
     "text": [
      "Processing 气 ...\n",
      "... Completed 气 in 155.168 sec\n",
      "Processing 炁 ...\n",
      "... Completed 炁 in 112.290 sec\n",
      "Processing 空 ...\n",
      "... Completed 空 in 93.135 sec\n",
      "Processing 心 ...\n",
      "... Completed 心 in 101.023 sec\n",
      "Processing 日 ...\n",
      "... Completed 日 in 183.890 sec\n",
      "Processing 月 ...\n",
      "... Completed 月 in 94.961 sec\n",
      "Processing 阳 ...\n",
      "... Completed 阳 in 124.519 sec\n",
      "Processing 阴 ...\n",
      "... Completed 阴 in 147.412 sec\n",
      "Processing 人 ...\n",
      "... Completed 人 in 70.126 sec\n",
      "Processing 儿 ...\n"
     ]
    }
   ],
   "source": [
    "for xx in zi_fib_nums:\n",
    "    zi, fib_num = xx['zi'], xx['fib_num']\n",
    "    print(f\"Processing {zi} ...\")\n",
    "    ts_1 = time()\n",
    "    try:\n",
    "        resp = ollama.generate(model=model_name, prompt=prompt_zi.format(zi=zi))\n",
    "    except Exception as e:\n",
    "        print(f\"[ERROR] {zi} : Failed to call ollama.generate()\")\n",
    "        continue\n",
    "        \n",
    "    ts_2 = time()\n",
    "    del_t = ts_2 - ts_1\n",
    "    del_t_str = f\"{del_t:.3f}\"\n",
    "    json_raw = resp.get('response', \"\")\n",
    "    if not json_raw: \n",
    "        print(f\"[ERROR] No LLM response: {zi}\")\n",
    "        continue\n",
    "\n",
    "    print(f\"... Completed {zi} in {del_t_str} sec\")\n",
    "\n",
    "    match = re.search(pattern, json_raw, re.DOTALL)\n",
    "    fib_num_str = str(fib_num).zfill(4)\n",
    "    fp = Path(f\"./llm_models/{model_name}\") / f\"{fib_num_str}-{zi}-1.json\"\n",
    "    if match:\n",
    "        json_string = match.group(1)\n",
    "        if not json_string:\n",
    "            print(f\"[WARN] No JSON extracted: {zi}\")\n",
    "            continue\n",
    "            \n",
    "        # print(json_string)\n",
    "        with open(fp, \"w\", encoding=\"utf-8\") as f:\n",
    "            f.write(json_string)\n",
    "    else:\n",
    "        print(f\"[ERROR] No JSON extracted: {zi}\")"
   ]
  },
  {
   "cell_type": "code",
   "execution_count": null,
   "id": "1b6bc198-6f1c-48a4-8b54-d2339da5556f",
   "metadata": {},
   "outputs": [],
   "source": []
  },
  {
   "cell_type": "code",
   "execution_count": null,
   "id": "b1f07dcd-1843-460a-9736-73910de156ca",
   "metadata": {},
   "outputs": [],
   "source": []
  },
  {
   "cell_type": "code",
   "execution_count": null,
   "id": "5d4f35e8-5019-49e7-899a-caeb93e866b0",
   "metadata": {},
   "outputs": [],
   "source": []
  },
  {
   "cell_type": "raw",
   "id": "03f94dc9-d8c2-47e1-b4a6-6ccca601a767",
   "metadata": {},
   "source": [
    "response = ollama.chat(model=model_name, messages=[\n",
    "  {\n",
    "    'role': 'user',\n",
    "    'content': prompt_zi.format(zi=zi),\n",
    "  },\n",
    "])\n",
    "print(response['message']['content'])"
   ]
  },
  {
   "cell_type": "raw",
   "id": "6b97e3f5-d66f-4280-82a8-7985a784b45d",
   "metadata": {},
   "source": [
    "json_raw = \"\"\"```json\n",
    "{\n",
    "    \"汉字\": \"气\",\n",
    "    \"含义\": \"1. 氧气, 空气 2. 能量, 力量 3. 性情, 心态 4. 名声, 声望 5. 气息\",\n",
    "    \"字形\": \"由三部分组成，上面是'云', 中间是一个'又', 下面是'口'\",\n",
    "    \"读音\": \"qi4\",\n",
    "    \"字源\": \"象形字。甲骨文中的'气'字像一缕上升的烟雾形状。\",\n",
    "    \"常用词组\": [\"气体\", \"气质\", \"生气\", \"人气\", \"风气\"],\n",
    "    \"成语\": [\"气息奄奄\", \"气吞山河\", \"气急败坏\", \"气宇轩昂\", \"气贯长虹\"],\n",
    "    \"例句\": [\"天气转凉，出门要多穿衣服。qi4 ti4 zhuan3 liang2 ，chu1 men2 yao5 duo3 chuan1 yi1 fu4 。\", \"他的气质很吸引人。ta de qi4 zhi4 hen3 xiang1 jin1 ren2 。\", \"你别生气了，气坏身体。ni3 bei4 qi1 hai4 shen1 ti3 。\"],\n",
    "    \"短故事\": [\"从前有一座山，山上住着一位老道长。每当他修炼到极致时，就会有一股强大的力量从他的身体中涌出。这股力量就是'气'。一次，他在山顶上练功时，不小心将周围的石头都吹飞了。\",\n",
    "    \"一天夜里，一个年轻的小道士来找他学艺，但见山下起雾了，就问师父：‘师父，我们现在要去哪修炼呢？’老道长回答说：‘就在这里，雾就是我们的气。’小道士听后，豁然开朗，明白了师父的教诲。\"],\n",
    "    \"诗词\": [\"唐·李白《将进酒》：“君不见黄河之水天上来,奔流到海不复回. 须知一樽还一笑,人生长恨水长东.”中'一樽还一笑',这里'笑'即有精神充沛之意，也与'气'相关。\"],\n",
    "    \"图片\": [\"http://example.com/qi4_image1.jpg\", \"http://example.com/qi4_image2.png\", \"http://example.com/qi4_image3.jpeg\"],\n",
    "    \"音频\": [\"http://example.com/qi4_audio1.mp3\", \"http://example.com/qi4_audio2.wav\", \"http://example.com/qi4_audio3.aac\"],\n",
    "    \"视频\": [\"http://example.com/qi4_video1.mp4\", \"http://example.com/qi4_video2.webm\", \"http://example.com/qi4_video3.flv\"],\n",
    "    \"电影\": [\"《卧虎藏龙》\", \"《英雄》\", \"《无极》\"],\n",
    "    \"参考资料\": [\"https://www.zdic.net/hans/%E6%B0%94\", \"https://baike.baidu.com/item/%E6%B0%98\"],\n",
    "    \"有趣网站\": [\"http://www.cihai.com/qi4\", \"https://dict.cn/zi/qi\"]\n",
    "}\n",
    "```\"\"\""
   ]
  },
  {
   "cell_type": "code",
   "execution_count": null,
   "id": "2fd1846c-f0d2-410b-9556-1c1d7783eee6",
   "metadata": {},
   "outputs": [],
   "source": []
  }
 ],
 "metadata": {
  "kernelspec": {
   "display_name": "Python 3 (ipykernel)",
   "language": "python",
   "name": "python3"
  },
  "language_info": {
   "codemirror_mode": {
    "name": "ipython",
    "version": 3
   },
   "file_extension": ".py",
   "mimetype": "text/x-python",
   "name": "python",
   "nbconvert_exporter": "python",
   "pygments_lexer": "ipython3",
   "version": "3.10.12"
  }
 },
 "nbformat": 4,
 "nbformat_minor": 5
}
