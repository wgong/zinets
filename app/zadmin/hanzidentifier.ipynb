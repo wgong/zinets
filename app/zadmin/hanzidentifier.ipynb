{
 "cells": [
  {
   "cell_type": "markdown",
   "id": "07bd596b-0c67-4a6f-87d3-c17552fe937b",
   "metadata": {},
   "source": [
    "- https://pypi.org/project/hanzidentifier/\n",
    "- https://github.com/cburgmer/cjklib\n",
    "- http://cjklib.org/\n",
    "- https://hanzicraft.com/character/%E5%AE%89"
   ]
  },
  {
   "cell_type": "code",
   "execution_count": 1,
   "id": "f242987b-48da-4a6d-a74a-c3828c9b30b9",
   "metadata": {},
   "outputs": [
    {
     "name": "stdout",
     "output_type": "stream",
     "text": [
      "Collecting hanzidentifier\n",
      "  Downloading hanzidentifier-1.3.0-py3-none-any.whl.metadata (4.1 kB)\n",
      "Collecting zhon~=2.1 (from hanzidentifier)\n",
      "  Downloading zhon-2.1.1-py3-none-any.whl.metadata (3.4 kB)\n",
      "Downloading hanzidentifier-1.3.0-py3-none-any.whl (4.8 kB)\n",
      "Downloading zhon-2.1.1-py3-none-any.whl (83 kB)\n",
      "Installing collected packages: zhon, hanzidentifier\n",
      "Successfully installed hanzidentifier-1.3.0 zhon-2.1.1\n"
     ]
    }
   ],
   "source": [
    "!pip install hanzidentifier"
   ]
  },
  {
   "cell_type": "code",
   "execution_count": 7,
   "id": "9a8815c3-eee4-4f79-b643-bddf24881a36",
   "metadata": {},
   "outputs": [
    {
     "name": "stdout",
     "output_type": "stream",
     "text": [
      "Requirement already satisfied: zhon in c:\\users\\p2p2l\\anaconda3\\envs\\zinet\\lib\\site-packages (2.1.1)\n"
     ]
    }
   ],
   "source": [
    "! pip install zhon"
   ]
  },
  {
   "cell_type": "code",
   "execution_count": null,
   "id": "1b5f14a9-9515-4ed3-bfa0-e6e213c9b7fb",
   "metadata": {},
   "outputs": [],
   "source": [
    "pip install cjklib"
   ]
  },
  {
   "cell_type": "code",
   "execution_count": null,
   "id": "59e8f5e7-5dcd-498c-ab12-95772de8525c",
   "metadata": {},
   "outputs": [],
   "source": [
    "import hanzidentifier"
   ]
  },
  {
   "cell_type": "code",
   "execution_count": null,
   "id": "46fa7596-c911-40d6-8178-ee1f7d53c357",
   "metadata": {},
   "outputs": [],
   "source": [
    "x = hanzidentifier.has_chinese('Hello my name is John.')\n",
    "# False\n",
    "print(x) "
   ]
  },
  {
   "cell_type": "code",
   "execution_count": 4,
   "id": "a4b3ea4b-22f7-4b1a-ae1c-b8b816b6bc3c",
   "metadata": {},
   "outputs": [
    {
     "name": "stdout",
     "output_type": "stream",
     "text": [
      "True\n",
      "True\n",
      "True\n"
     ]
    }
   ],
   "source": [
    "x = hanzidentifier.is_simplified('John说：你好！')\n",
    "# True\n",
    "print(x) \n",
    "x = hanzidentifier.is_traditional('John說：你好！')\n",
    "# True\n",
    "print(x) \n",
    "x = hanzidentifier.has_chinese('Country in Simplified: 国家. Country in Traditional: 國家.')\n",
    "# True\n",
    "print(x) "
   ]
  },
  {
   "cell_type": "code",
   "execution_count": 3,
   "id": "812a7d24-1c8f-4885-8b14-04215270fe6d",
   "metadata": {},
   "outputs": [
    {
     "name": "stdout",
     "output_type": "stream",
     "text": [
      "True\n",
      "True\n",
      "True\n",
      "True\n",
      "True\n"
     ]
    }
   ],
   "source": [
    "x = hanzidentifier.identify('Hello my name is Thomas.') is hanzidentifier.UNKNOWN\n",
    "# True\n",
    "print(x)\n",
    "\n",
    "x = hanzidentifier.identify('Thomas 说：你好！') is hanzidentifier.SIMPLIFIED\n",
    "# True\n",
    "print(x)\n",
    "\n",
    "x = hanzidentifier.identify('Thomas 說：你好！') is hanzidentifier.TRADITIONAL\n",
    "# True\n",
    "print(x)\n",
    "\n",
    "x = hanzidentifier.identify('你好！') is hanzidentifier.BOTH\n",
    "# True\n",
    "print(x)\n",
    "\n",
    "x = hanzidentifier.identify('Country in Simplified: 国家. Country in Traditional: 國家.' ) is hanzidentifier.MIXED\n",
    "# True\n",
    "print(x)"
   ]
  },
  {
   "cell_type": "code",
   "execution_count": 6,
   "id": "da64e8c2-ce32-4f17-a6ee-79faac6a822c",
   "metadata": {},
   "outputs": [
    {
     "data": {
      "text/plain": [
       "3"
      ]
     },
     "execution_count": 6,
     "metadata": {},
     "output_type": "execute_result"
    }
   ],
   "source": [
    "hanzidentifier.identify('你好！')"
   ]
  },
  {
   "cell_type": "code",
   "execution_count": 5,
   "id": "09a513b5-88db-40b1-8a0f-5823ec889f46",
   "metadata": {},
   "outputs": [
    {
     "name": "stdout",
     "output_type": "stream",
     "text": [
      "3\n"
     ]
    }
   ],
   "source": [
    "from hanzidentifier import identify\n",
    "\n",
    "tai_components = identify(\"台\")  # Output: ['厶', '口']\n",
    "print(tai_components)"
   ]
  },
  {
   "cell_type": "markdown",
   "id": "521c0bf2-8b15-4e48-ab5d-9485c1d07559",
   "metadata": {},
   "source": [
    "## [HanziCraft](https://www.hanzicraft.com/?spm=a2ty_o01.29997173.0.0.3962c921Pl0UsQ)"
   ]
  },
  {
   "cell_type": "code",
   "execution_count": 10,
   "id": "801aa782-349a-42d1-ad99-56ae0a6f2dcb",
   "metadata": {},
   "outputs": [],
   "source": [
    "import requests\n",
    "\n",
    "# Query HanziCraft API for decomposition\n",
    "character = \"台\"\n",
    "response = requests.get(f\"https://www.hanzicraft.com/api/character/{character}\")"
   ]
  },
  {
   "cell_type": "code",
   "execution_count": 11,
   "id": "a47dc3de-a179-4c23-8de6-b6e8e8c5f2c3",
   "metadata": {},
   "outputs": [
    {
     "data": {
      "text/plain": [
       "<Response [404]>"
      ]
     },
     "execution_count": 11,
     "metadata": {},
     "output_type": "execute_result"
    }
   ],
   "source": [
    "response"
   ]
  },
  {
   "cell_type": "code",
   "execution_count": null,
   "id": "a4030505-1d75-4ce1-9def-feff8665c315",
   "metadata": {},
   "outputs": [
    {
     "ename": "JSONDecodeError",
     "evalue": "Expecting value: line 1 column 1 (char 0)",
     "output_type": "error",
     "traceback": [
      "\u001b[1;31m---------------------------------------------------------------------------\u001b[0m",
      "\u001b[1;31mJSONDecodeError\u001b[0m                           Traceback (most recent call last)",
      "File \u001b[1;32m~\\anaconda3\\envs\\zinet\\Lib\\site-packages\\requests\\models.py:974\u001b[0m, in \u001b[0;36mResponse.json\u001b[1;34m(self, **kwargs)\u001b[0m\n\u001b[0;32m    973\u001b[0m \u001b[38;5;28;01mtry\u001b[39;00m:\n\u001b[1;32m--> 974\u001b[0m     \u001b[38;5;28;01mreturn\u001b[39;00m \u001b[43mcomplexjson\u001b[49m\u001b[38;5;241;43m.\u001b[39;49m\u001b[43mloads\u001b[49m\u001b[43m(\u001b[49m\u001b[38;5;28;43mself\u001b[39;49m\u001b[38;5;241;43m.\u001b[39;49m\u001b[43mtext\u001b[49m\u001b[43m,\u001b[49m\u001b[43m \u001b[49m\u001b[38;5;241;43m*\u001b[39;49m\u001b[38;5;241;43m*\u001b[39;49m\u001b[43mkwargs\u001b[49m\u001b[43m)\u001b[49m\n\u001b[0;32m    975\u001b[0m \u001b[38;5;28;01mexcept\u001b[39;00m JSONDecodeError \u001b[38;5;28;01mas\u001b[39;00m e:\n\u001b[0;32m    976\u001b[0m     \u001b[38;5;66;03m# Catch JSON-related errors and raise as requests.JSONDecodeError\u001b[39;00m\n\u001b[0;32m    977\u001b[0m     \u001b[38;5;66;03m# This aliases json.JSONDecodeError and simplejson.JSONDecodeError\u001b[39;00m\n",
      "File \u001b[1;32m~\\anaconda3\\envs\\zinet\\Lib\\site-packages\\simplejson\\__init__.py:514\u001b[0m, in \u001b[0;36mloads\u001b[1;34m(s, encoding, cls, object_hook, parse_float, parse_int, parse_constant, object_pairs_hook, use_decimal, allow_nan, **kw)\u001b[0m\n\u001b[0;32m    510\u001b[0m \u001b[38;5;28;01mif\u001b[39;00m (\u001b[38;5;28mcls\u001b[39m \u001b[38;5;129;01mis\u001b[39;00m \u001b[38;5;28;01mNone\u001b[39;00m \u001b[38;5;129;01mand\u001b[39;00m encoding \u001b[38;5;129;01mis\u001b[39;00m \u001b[38;5;28;01mNone\u001b[39;00m \u001b[38;5;129;01mand\u001b[39;00m object_hook \u001b[38;5;129;01mis\u001b[39;00m \u001b[38;5;28;01mNone\u001b[39;00m \u001b[38;5;129;01mand\u001b[39;00m\n\u001b[0;32m    511\u001b[0m         parse_int \u001b[38;5;129;01mis\u001b[39;00m \u001b[38;5;28;01mNone\u001b[39;00m \u001b[38;5;129;01mand\u001b[39;00m parse_float \u001b[38;5;129;01mis\u001b[39;00m \u001b[38;5;28;01mNone\u001b[39;00m \u001b[38;5;129;01mand\u001b[39;00m\n\u001b[0;32m    512\u001b[0m         parse_constant \u001b[38;5;129;01mis\u001b[39;00m \u001b[38;5;28;01mNone\u001b[39;00m \u001b[38;5;129;01mand\u001b[39;00m object_pairs_hook \u001b[38;5;129;01mis\u001b[39;00m \u001b[38;5;28;01mNone\u001b[39;00m\n\u001b[0;32m    513\u001b[0m         \u001b[38;5;129;01mand\u001b[39;00m \u001b[38;5;129;01mnot\u001b[39;00m use_decimal \u001b[38;5;129;01mand\u001b[39;00m \u001b[38;5;129;01mnot\u001b[39;00m allow_nan \u001b[38;5;129;01mand\u001b[39;00m \u001b[38;5;129;01mnot\u001b[39;00m kw):\n\u001b[1;32m--> 514\u001b[0m     \u001b[38;5;28;01mreturn\u001b[39;00m \u001b[43m_default_decoder\u001b[49m\u001b[38;5;241;43m.\u001b[39;49m\u001b[43mdecode\u001b[49m\u001b[43m(\u001b[49m\u001b[43ms\u001b[49m\u001b[43m)\u001b[49m\n\u001b[0;32m    515\u001b[0m \u001b[38;5;28;01mif\u001b[39;00m \u001b[38;5;28mcls\u001b[39m \u001b[38;5;129;01mis\u001b[39;00m \u001b[38;5;28;01mNone\u001b[39;00m:\n",
      "File \u001b[1;32m~\\anaconda3\\envs\\zinet\\Lib\\site-packages\\simplejson\\decoder.py:386\u001b[0m, in \u001b[0;36mJSONDecoder.decode\u001b[1;34m(self, s, _w, _PY3)\u001b[0m\n\u001b[0;32m    385\u001b[0m     s \u001b[38;5;241m=\u001b[39m \u001b[38;5;28mstr\u001b[39m(s, \u001b[38;5;28mself\u001b[39m\u001b[38;5;241m.\u001b[39mencoding)\n\u001b[1;32m--> 386\u001b[0m obj, end \u001b[38;5;241m=\u001b[39m \u001b[38;5;28;43mself\u001b[39;49m\u001b[38;5;241;43m.\u001b[39;49m\u001b[43mraw_decode\u001b[49m\u001b[43m(\u001b[49m\u001b[43ms\u001b[49m\u001b[43m)\u001b[49m\n\u001b[0;32m    387\u001b[0m end \u001b[38;5;241m=\u001b[39m _w(s, end)\u001b[38;5;241m.\u001b[39mend()\n",
      "File \u001b[1;32m~\\anaconda3\\envs\\zinet\\Lib\\site-packages\\simplejson\\decoder.py:416\u001b[0m, in \u001b[0;36mJSONDecoder.raw_decode\u001b[1;34m(self, s, idx, _w, _PY3)\u001b[0m\n\u001b[0;32m    415\u001b[0m         idx \u001b[38;5;241m+\u001b[39m\u001b[38;5;241m=\u001b[39m \u001b[38;5;241m3\u001b[39m\n\u001b[1;32m--> 416\u001b[0m \u001b[38;5;28;01mreturn\u001b[39;00m \u001b[38;5;28;43mself\u001b[39;49m\u001b[38;5;241;43m.\u001b[39;49m\u001b[43mscan_once\u001b[49m\u001b[43m(\u001b[49m\u001b[43ms\u001b[49m\u001b[43m,\u001b[49m\u001b[43m \u001b[49m\u001b[43midx\u001b[49m\u001b[38;5;241;43m=\u001b[39;49m\u001b[43m_w\u001b[49m\u001b[43m(\u001b[49m\u001b[43ms\u001b[49m\u001b[43m,\u001b[49m\u001b[43m \u001b[49m\u001b[43midx\u001b[49m\u001b[43m)\u001b[49m\u001b[38;5;241;43m.\u001b[39;49m\u001b[43mend\u001b[49m\u001b[43m(\u001b[49m\u001b[43m)\u001b[49m\u001b[43m)\u001b[49m\n",
      "\u001b[1;31mJSONDecodeError\u001b[0m: Expecting value: line 1 column 1 (char 0)",
      "\nDuring handling of the above exception, another exception occurred:\n",
      "\u001b[1;31mJSONDecodeError\u001b[0m                           Traceback (most recent call last)",
      "Cell \u001b[1;32mIn[9], line 6\u001b[0m\n\u001b[0;32m      4\u001b[0m character \u001b[38;5;241m=\u001b[39m \u001b[38;5;124m\"\u001b[39m\u001b[38;5;124m台\u001b[39m\u001b[38;5;124m\"\u001b[39m\n\u001b[0;32m      5\u001b[0m response \u001b[38;5;241m=\u001b[39m requests\u001b[38;5;241m.\u001b[39mget(\u001b[38;5;124mf\u001b[39m\u001b[38;5;124m\"\u001b[39m\u001b[38;5;124mhttps://www.hanzicraft.com/api/character/\u001b[39m\u001b[38;5;132;01m{\u001b[39;00mcharacter\u001b[38;5;132;01m}\u001b[39;00m\u001b[38;5;124m\"\u001b[39m)\n\u001b[1;32m----> 6\u001b[0m data \u001b[38;5;241m=\u001b[39m \u001b[43mresponse\u001b[49m\u001b[38;5;241;43m.\u001b[39;49m\u001b[43mjson\u001b[49m\u001b[43m(\u001b[49m\u001b[43m)\u001b[49m\n",
      "File \u001b[1;32m~\\anaconda3\\envs\\zinet\\Lib\\site-packages\\requests\\models.py:978\u001b[0m, in \u001b[0;36mResponse.json\u001b[1;34m(self, **kwargs)\u001b[0m\n\u001b[0;32m    974\u001b[0m     \u001b[38;5;28;01mreturn\u001b[39;00m complexjson\u001b[38;5;241m.\u001b[39mloads(\u001b[38;5;28mself\u001b[39m\u001b[38;5;241m.\u001b[39mtext, \u001b[38;5;241m*\u001b[39m\u001b[38;5;241m*\u001b[39mkwargs)\n\u001b[0;32m    975\u001b[0m \u001b[38;5;28;01mexcept\u001b[39;00m JSONDecodeError \u001b[38;5;28;01mas\u001b[39;00m e:\n\u001b[0;32m    976\u001b[0m     \u001b[38;5;66;03m# Catch JSON-related errors and raise as requests.JSONDecodeError\u001b[39;00m\n\u001b[0;32m    977\u001b[0m     \u001b[38;5;66;03m# This aliases json.JSONDecodeError and simplejson.JSONDecodeError\u001b[39;00m\n\u001b[1;32m--> 978\u001b[0m     \u001b[38;5;28;01mraise\u001b[39;00m RequestsJSONDecodeError(e\u001b[38;5;241m.\u001b[39mmsg, e\u001b[38;5;241m.\u001b[39mdoc, e\u001b[38;5;241m.\u001b[39mpos)\n",
      "\u001b[1;31mJSONDecodeError\u001b[0m: Expecting value: line 1 column 1 (char 0)"
     ]
    }
   ],
   "source": [
    "data = response.json()"
   ]
  },
  {
   "cell_type": "code",
   "execution_count": null,
   "id": "ea88fa35-2425-476d-82fd-c3a4a86c8754",
   "metadata": {},
   "outputs": [],
   "source": [
    "# Extract components\n",
    "if 'decomposition' in data:\n",
    "    print(data['decomposition'])"
   ]
  }
 ],
 "metadata": {
  "kernelspec": {
   "display_name": "Python 3 (ipykernel)",
   "language": "python",
   "name": "python3"
  },
  "language_info": {
   "codemirror_mode": {
    "name": "ipython",
    "version": 3
   },
   "file_extension": ".py",
   "mimetype": "text/x-python",
   "name": "python",
   "nbconvert_exporter": "python",
   "pygments_lexer": "ipython3",
   "version": "3.12.5"
  }
 },
 "nbformat": 4,
 "nbformat_minor": 5
}
