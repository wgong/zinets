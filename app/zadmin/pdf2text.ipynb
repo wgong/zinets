{
 "cells": [
  {
   "cell_type": "markdown",
   "id": "65cc9028-f2dd-4ca5-9f99-8e9e2fb07469",
   "metadata": {},
   "source": [
    "PyPDF2 doesn't handle tables well. When extracting text from PDFs that contain tables, PyPDF2 typically:\n",
    "\n",
    "1. Loses the table structure completely\n",
    "2. Extracts text in an unpredictable reading order\n",
    "3. Fails to maintain column alignment\n",
    "4. Often merges cells that should be separate\n",
    "\n",
    "For PDFs with tables, you would be better off using one of these alternatives:\n",
    "\n",
    "1. **Tabula-py**: A Python wrapper for Tabula, which is specifically designed for table extraction from PDFs\n",
    "   ```\n",
    "   pip install tabula-py\n",
    "   ```\n",
    "\n",
    "2. **Camelot**: Excellent for complex tables with merged cells and spanning columns\n",
    "   ```\n",
    "   pip install camelot-py[cv]\n",
    "   ```\n",
    "\n",
    "3. **PyMuPDF (fitz)**: Better overall text extraction with some table structure preservation\n",
    "   ```\n",
    "   pip install pymupdf\n",
    "   ```\n",
    "\n",
    "4. **pdf-table-extract**: Specialized for table extraction\n",
    "   ```\n",
    "   pip install pdf-table-extract\n",
    "   ```\n",
    "\n",
    "If tables are critical to your use case, I'd recommend using Camelot or Tabula-py as they're specifically designed for table extraction. They can output the tables as pandas DataFrames, which makes further processing much easier."
   ]
  },
  {
   "cell_type": "markdown",
   "id": "ea465646-9ccb-40ca-8543-1830db1e53c8",
   "metadata": {},
   "source": [
    "https://claude.ai/chat/e1daab8c-9373-4bc1-8eef-50e956d56135"
   ]
  },
  {
   "cell_type": "code",
   "execution_count": 1,
   "id": "91087ff0-19cd-4ead-a51b-d2e173906b43",
   "metadata": {},
   "outputs": [
    {
     "name": "stdout",
     "output_type": "stream",
     "text": [
      "^C\n"
     ]
    }
   ],
   "source": [
    "!pip uninstall tabula-py"
   ]
  },
  {
   "cell_type": "code",
   "execution_count": 2,
   "id": "8133976f-d397-4cd6-bb49-72d2b1cef04c",
   "metadata": {},
   "outputs": [
    {
     "name": "stdout",
     "output_type": "stream",
     "text": [
      "Requirement already satisfied: pymupdf in c:\\users\\p2p2l\\anaconda3\\envs\\zinet\\lib\\site-packages (1.24.2)\n",
      "Requirement already satisfied: PyMuPDFb==1.24.1 in c:\\users\\p2p2l\\anaconda3\\envs\\zinet\\lib\\site-packages (from pymupdf) (1.24.1)\n",
      "Note: you may need to restart the kernel to use updated packages.\n"
     ]
    }
   ],
   "source": [
    "pip install pymupdf"
   ]
  },
  {
   "cell_type": "code",
   "execution_count": 9,
   "id": "4206bcec-4923-457a-8e0f-d48dfa535b27",
   "metadata": {},
   "outputs": [
    {
     "name": "stdout",
     "output_type": "stream",
     "text": [
      "Collecting pdf-table-extract\n",
      "  Downloading pdf-table-extract-0.2.tar.gz (9.1 kB)\n",
      "  Preparing metadata (setup.py): started\n",
      "  Preparing metadata (setup.py): finished with status 'done'\n",
      "Requirement already satisfied: numpy in c:\\users\\p2p2l\\anaconda3\\envs\\zinet\\lib\\site-packages (from pdf-table-extract) (2.1.1)\n",
      "Building wheels for collected packages: pdf-table-extract\n",
      "  Building wheel for pdf-table-extract (setup.py): started\n",
      "  Building wheel for pdf-table-extract (setup.py): finished with status 'done'\n",
      "  Created wheel for pdf-table-extract: filename=pdf_table_extract-0.2-py3-none-any.whl size=12087 sha256=d1ce2784f7b88392a1a893620cbd9d77a1fe7a3accd5011a62311d1d57176c79\n",
      "  Stored in directory: c:\\users\\p2p2l\\appdata\\local\\pip\\cache\\wheels\\46\\97\\20\\b9e353ddb4094a2a13d8e88a87d7fbfb66560b18e3d5b2288f\n",
      "Successfully built pdf-table-extract\n",
      "Installing collected packages: pdf-table-extract\n",
      "Successfully installed pdf-table-extract-0.2\n",
      "Note: you may need to restart the kernel to use updated packages.\n"
     ]
    }
   ],
   "source": [
    "pip install pdf-table-extract"
   ]
  },
  {
   "cell_type": "code",
   "execution_count": 14,
   "id": "94a735dd-7272-419f-a406-5dd59cbf26db",
   "metadata": {},
   "outputs": [
    {
     "name": "stdout",
     "output_type": "stream",
     "text": [
      "Collecting pdfplumber\n",
      "  Downloading pdfplumber-0.11.6-py3-none-any.whl.metadata (42 kB)\n",
      "Collecting pdfminer.six==20250327 (from pdfplumber)\n",
      "  Downloading pdfminer_six-20250327-py3-none-any.whl.metadata (4.1 kB)\n",
      "Requirement already satisfied: Pillow>=9.1 in c:\\users\\p2p2l\\anaconda3\\envs\\zinet\\lib\\site-packages (from pdfplumber) (11.0.0)\n",
      "Collecting pypdfium2>=4.18.0 (from pdfplumber)\n",
      "  Using cached pypdfium2-4.30.1-py3-none-win_amd64.whl.metadata (48 kB)\n",
      "Requirement already satisfied: charset-normalizer>=2.0.0 in c:\\users\\p2p2l\\anaconda3\\envs\\zinet\\lib\\site-packages (from pdfminer.six==20250327->pdfplumber) (3.4.0)\n",
      "Requirement already satisfied: cryptography>=36.0.0 in c:\\users\\p2p2l\\anaconda3\\envs\\zinet\\lib\\site-packages (from pdfminer.six==20250327->pdfplumber) (44.0.1)\n",
      "Requirement already satisfied: cffi>=1.12 in c:\\users\\p2p2l\\anaconda3\\envs\\zinet\\lib\\site-packages (from cryptography>=36.0.0->pdfminer.six==20250327->pdfplumber) (1.17.1)\n",
      "Requirement already satisfied: pycparser in c:\\users\\p2p2l\\anaconda3\\envs\\zinet\\lib\\site-packages (from cffi>=1.12->cryptography>=36.0.0->pdfminer.six==20250327->pdfplumber) (2.22)\n",
      "Downloading pdfplumber-0.11.6-py3-none-any.whl (60 kB)\n",
      "Downloading pdfminer_six-20250327-py3-none-any.whl (5.6 MB)\n",
      "   ---------------------------------------- 0.0/5.6 MB ? eta -:--:--\n",
      "   ----------------------------- ---------- 4.2/5.6 MB 22.9 MB/s eta 0:00:01\n",
      "   ---------------------------------------- 5.6/5.6 MB 20.1 MB/s eta 0:00:00\n",
      "Using cached pypdfium2-4.30.1-py3-none-win_amd64.whl (3.0 MB)\n",
      "Installing collected packages: pypdfium2, pdfminer.six, pdfplumber\n",
      "Successfully installed pdfminer.six-20250327 pdfplumber-0.11.6 pypdfium2-4.30.1\n",
      "Note: you may need to restart the kernel to use updated packages.\n"
     ]
    }
   ],
   "source": [
    "pip install pdfplumber"
   ]
  },
  {
   "cell_type": "code",
   "execution_count": 7,
   "id": "3d15bff6-322a-45a9-bb7e-b7ed7d716cfc",
   "metadata": {},
   "outputs": [
    {
     "name": "stdout",
     "output_type": "stream",
     "text": [
      "Requirement already satisfied: pdfminer.six in c:\\users\\p2p2l\\anaconda3\\envs\\zinet\\lib\\site-packages (20250327)\n",
      "Requirement already satisfied: charset-normalizer>=2.0.0 in c:\\users\\p2p2l\\anaconda3\\envs\\zinet\\lib\\site-packages (from pdfminer.six) (3.4.0)\n",
      "Requirement already satisfied: cryptography>=36.0.0 in c:\\users\\p2p2l\\anaconda3\\envs\\zinet\\lib\\site-packages (from pdfminer.six) (44.0.1)\n",
      "Requirement already satisfied: cffi>=1.12 in c:\\users\\p2p2l\\anaconda3\\envs\\zinet\\lib\\site-packages (from cryptography>=36.0.0->pdfminer.six) (1.17.1)\n",
      "Requirement already satisfied: pycparser in c:\\users\\p2p2l\\anaconda3\\envs\\zinet\\lib\\site-packages (from cffi>=1.12->cryptography>=36.0.0->pdfminer.six) (2.22)\n",
      "Note: you may need to restart the kernel to use updated packages.\n"
     ]
    }
   ],
   "source": [
    "pip install pdfminer.six"
   ]
  },
  {
   "cell_type": "code",
   "execution_count": 5,
   "id": "2cfe2eb5-6b4f-4e36-b7f5-8a1ce203a1e8",
   "metadata": {},
   "outputs": [
    {
     "name": "stdout",
     "output_type": "stream",
     "text": [
      "Collecting camelot-py[cv]\n",
      "  Downloading camelot_py-1.0.0-py3-none-any.whl.metadata (9.4 kB)\n",
      "Requirement already satisfied: click>=8.0.1 in c:\\users\\p2p2l\\anaconda3\\envs\\zinet\\lib\\site-packages (from camelot-py[cv]) (8.1.7)\n",
      "Collecting chardet>=5.1.0 (from camelot-py[cv])\n",
      "  Downloading chardet-5.2.0-py3-none-any.whl.metadata (3.4 kB)\n",
      "Requirement already satisfied: numpy>=1.26.1 in c:\\users\\p2p2l\\anaconda3\\envs\\zinet\\lib\\site-packages (from camelot-py[cv]) (2.1.1)\n",
      "Requirement already satisfied: openpyxl>=3.1.0 in c:\\users\\p2p2l\\anaconda3\\envs\\zinet\\lib\\site-packages (from camelot-py[cv]) (3.1.5)\n",
      "Requirement already satisfied: pdfminer-six>=20240706 in c:\\users\\p2p2l\\anaconda3\\envs\\zinet\\lib\\site-packages (from camelot-py[cv]) (20250327)\n",
      "Collecting pypdf<6.0,>=4.0 (from camelot-py[cv])\n",
      "  Using cached pypdf-5.4.0-py3-none-any.whl.metadata (7.3 kB)\n",
      "Requirement already satisfied: pandas>=2.2.2 in c:\\users\\p2p2l\\anaconda3\\envs\\zinet\\lib\\site-packages (from camelot-py[cv]) (2.2.2)\n",
      "Collecting tabulate>=0.9.0 (from camelot-py[cv])\n",
      "  Using cached tabulate-0.9.0-py3-none-any.whl.metadata (34 kB)\n",
      "Collecting opencv-python-headless>=4.7.0.68 (from camelot-py[cv])\n",
      "  Using cached opencv_python_headless-4.11.0.86-cp37-abi3-win_amd64.whl.metadata (20 kB)\n",
      "Requirement already satisfied: pypdfium2>=4 in c:\\users\\p2p2l\\anaconda3\\envs\\zinet\\lib\\site-packages (from camelot-py[cv]) (4.30.1)\n",
      "Requirement already satisfied: colorama in c:\\users\\p2p2l\\anaconda3\\envs\\zinet\\lib\\site-packages (from click>=8.0.1->camelot-py[cv]) (0.4.6)\n",
      "Requirement already satisfied: et-xmlfile in c:\\users\\p2p2l\\anaconda3\\envs\\zinet\\lib\\site-packages (from openpyxl>=3.1.0->camelot-py[cv]) (2.0.0)\n",
      "Requirement already satisfied: python-dateutil>=2.8.2 in c:\\users\\p2p2l\\anaconda3\\envs\\zinet\\lib\\site-packages (from pandas>=2.2.2->camelot-py[cv]) (2.9.0)\n",
      "Requirement already satisfied: pytz>=2020.1 in c:\\users\\p2p2l\\anaconda3\\envs\\zinet\\lib\\site-packages (from pandas>=2.2.2->camelot-py[cv]) (2024.2)\n",
      "Requirement already satisfied: tzdata>=2022.7 in c:\\users\\p2p2l\\anaconda3\\envs\\zinet\\lib\\site-packages (from pandas>=2.2.2->camelot-py[cv]) (2024.1)\n",
      "Requirement already satisfied: charset-normalizer>=2.0.0 in c:\\users\\p2p2l\\anaconda3\\envs\\zinet\\lib\\site-packages (from pdfminer-six>=20240706->camelot-py[cv]) (3.4.0)\n",
      "Requirement already satisfied: cryptography>=36.0.0 in c:\\users\\p2p2l\\anaconda3\\envs\\zinet\\lib\\site-packages (from pdfminer-six>=20240706->camelot-py[cv]) (44.0.1)\n",
      "Requirement already satisfied: cffi>=1.12 in c:\\users\\p2p2l\\anaconda3\\envs\\zinet\\lib\\site-packages (from cryptography>=36.0.0->pdfminer-six>=20240706->camelot-py[cv]) (1.17.1)\n",
      "Requirement already satisfied: six>=1.5 in c:\\users\\p2p2l\\anaconda3\\envs\\zinet\\lib\\site-packages (from python-dateutil>=2.8.2->pandas>=2.2.2->camelot-py[cv]) (1.16.0)\n",
      "Requirement already satisfied: pycparser in c:\\users\\p2p2l\\anaconda3\\envs\\zinet\\lib\\site-packages (from cffi>=1.12->cryptography>=36.0.0->pdfminer-six>=20240706->camelot-py[cv]) (2.22)\n",
      "Downloading chardet-5.2.0-py3-none-any.whl (199 kB)\n",
      "Using cached opencv_python_headless-4.11.0.86-cp37-abi3-win_amd64.whl (39.4 MB)\n",
      "Using cached pypdf-5.4.0-py3-none-any.whl (302 kB)\n",
      "Using cached tabulate-0.9.0-py3-none-any.whl (35 kB)\n",
      "Downloading camelot_py-1.0.0-py3-none-any.whl (66 kB)\n",
      "Installing collected packages: tabulate, pypdf, opencv-python-headless, chardet, camelot-py\n",
      "Successfully installed camelot-py-1.0.0 chardet-5.2.0 opencv-python-headless-4.11.0.86 pypdf-5.4.0 tabulate-0.9.0\n",
      "Note: you may need to restart the kernel to use updated packages.\n"
     ]
    },
    {
     "name": "stderr",
     "output_type": "stream",
     "text": [
      "WARNING: camelot-py 1.0.0 does not provide the extra 'cv'\n"
     ]
    }
   ],
   "source": [
    "pip install camelot-py[cv]"
   ]
  },
  {
   "cell_type": "code",
   "execution_count": 1,
   "id": "3a00cc29-487a-4fcd-8229-cb9c82d712b8",
   "metadata": {},
   "outputs": [],
   "source": [
    "# import fitz  # PyMuPDF\n",
    "# import pdfplumber\n",
    "import pandas as pd\n",
    "import os"
   ]
  },
  {
   "cell_type": "code",
   "execution_count": 2,
   "id": "91ed6097-16ce-4487-bf41-e9c6e65a66b1",
   "metadata": {},
   "outputs": [],
   "source": [
    "file_path = r\"C:\\Users\\p2p2l\\projects\\digital-duck\\zinets\\docs\\research\\simplified-characters\\通用规范汉字表.pdf\""
   ]
  },
  {
   "cell_type": "code",
   "execution_count": 3,
   "id": "52e74da0-172a-4029-adfa-3ae9f9f78568",
   "metadata": {},
   "outputs": [],
   "source": [
    "def pdf2text(file_path: str, page_range: tuple = None) -> str:\n",
    "    \"\"\"\n",
    "    Extract text from a PDF file with better support for Chinese text using pdfminer.six.\n",
    "    \n",
    "    Args:\n",
    "        file_path (str): Path to the PDF file\n",
    "        page_range (tuple, optional): Tuple of (start_page, end_page) for extraction (inclusive).\n",
    "                                     Page numbers are 1-indexed.\n",
    "                                     None means all pages. Default is None.\n",
    "        \n",
    "    Returns:\n",
    "        str: Extracted text from the PDF\n",
    "    \"\"\"\n",
    "    try:\n",
    "        import os\n",
    "        from pdfminer.high_level import extract_pages, extract_text\n",
    "        from pdfminer.layout import LAParams\n",
    "        \n",
    "        # Check if file exists\n",
    "        if not os.path.exists(file_path):\n",
    "            return f\"Error: File not found at {file_path}\"\n",
    "        \n",
    "        if page_range is None:\n",
    "            # Extract all pages\n",
    "            text = extract_text(file_path, laparams=LAParams(line_margin=0.5))\n",
    "            return text\n",
    "        else:\n",
    "            if len(page_range) != 2:\n",
    "                return \"Error: page_range must be a tuple of (start_page, end_page)\"\n",
    "            \n",
    "            # Convert 1-indexed input to 0-indexed for internal use\n",
    "            start_page, end_page = page_range[0] - 1, page_range[1] - 1\n",
    "            \n",
    "            if start_page < 0:\n",
    "                return \"Error: Page numbers must be positive integers\"\n",
    "            \n",
    "            # Extract specified page range\n",
    "            text = \"\"\n",
    "            for i, page_layout in enumerate(extract_pages(file_path, laparams=LAParams(line_margin=0.5))):\n",
    "                if start_page <= i <= end_page:\n",
    "                    page_text = \"\"\n",
    "                    for element in page_layout:\n",
    "                        if hasattr(element, \"get_text\"):\n",
    "                            page_text += element.get_text()\n",
    "                    \n",
    "                    text += f\"--- Page {i + 1} ---\\n{page_text}\\n\\n\"\n",
    "                \n",
    "                if i > end_page:\n",
    "                    break\n",
    "            \n",
    "            return text\n",
    "    \n",
    "    except ImportError:\n",
    "        return \"Error: pdfminer.six library not installed. Install it using 'pip install pdfminer.six'.\"\n",
    "    except Exception as e:\n",
    "        return f\"Error extracting text from PDF: {str(e)}\""
   ]
  },
  {
   "cell_type": "raw",
   "id": "7afa1b9b-3e85-44fe-bad6-efe54f66ae23",
   "metadata": {},
   "source": [
    "def pdf2text_2(file_path: str, page_range: tuple = None) -> str:\n",
    "    \"\"\"\n",
    "    Extract text and tables from a PDF file using pdf-table-extract.\n",
    "    Particularly useful for PDFs with Chinese text.\n",
    "    \n",
    "    Args:\n",
    "        file_path (str): Path to the PDF file\n",
    "        page_range (tuple, optional): Tuple of (start_page, end_page) for extraction (inclusive).\n",
    "                                     Page numbers are 1-indexed.\n",
    "                                     None means all pages. Default is None.\n",
    "        \n",
    "    Returns:\n",
    "        str: Extracted text from the PDF\n",
    "    \"\"\"\n",
    "    try:\n",
    "        import pdfplumber\n",
    "        import os\n",
    "        \n",
    "        # Check if file exists\n",
    "        if not os.path.exists(file_path):\n",
    "            return f\"Error: File not found at {file_path}\"\n",
    "        \n",
    "        # Open the PDF\n",
    "        with pdfplumber.open(file_path) as pdf:\n",
    "            total_pages = len(pdf.pages)\n",
    "            \n",
    "            # Set page range (note: pdfplumber is 0-indexed internally)\n",
    "            start_page = 0\n",
    "            end_page = total_pages - 1\n",
    "            \n",
    "            if page_range is not None:\n",
    "                if len(page_range) != 2:\n",
    "                    return \"Error: page_range must be a tuple of (start_page, end_page)\"\n",
    "                \n",
    "                # Convert 1-indexed input to 0-indexed for internal use\n",
    "                start_page, end_page = page_range[0] - 1, page_range[1] - 1\n",
    "                \n",
    "                # Validate page range\n",
    "                if not (0 <= start_page <= end_page < total_pages):\n",
    "                    return f\"Error: Invalid page range. Valid range is 1 to {total_pages}\"\n",
    "            \n",
    "            text = \"\"\n",
    "            \n",
    "            # Extract text from specified pages\n",
    "            for page_num in range(start_page, end_page + 1):\n",
    "                page = pdf.pages[page_num]\n",
    "                \n",
    "                # Extract text with better CJK character support\n",
    "                page_text = page.extract_text(x_tolerance=3, y_tolerance=3)\n",
    "                \n",
    "                # Try to extract tables\n",
    "                tables = page.extract_tables()\n",
    "                table_text = \"\"\n",
    "                \n",
    "                if tables:\n",
    "                    for i, table in enumerate(tables):\n",
    "                        table_text += f\"\\nTable {i+1} on Page {page_num + 1}:\\n\"\n",
    "                        for row in table:\n",
    "                            # Filter out None values and join with tabs\n",
    "                            cleaned_row = [str(cell) if cell is not None else \"\" for cell in row]\n",
    "                            table_text += \"\\t\".join(cleaned_row) + \"\\n\"\n",
    "                        table_text += \"\\n\"\n",
    "                \n",
    "                text += f\"--- Page {page_num + 1} ---\\n{page_text}\\n{table_text}\\n\"\n",
    "            \n",
    "            return text\n",
    "    \n",
    "    except ImportError:\n",
    "        return \"Error: Required libraries not installed. Install them using 'pip install pdfplumber'.\"\n",
    "    except Exception as e:\n",
    "        return f\"Error extracting text from PDF: {str(e)}\""
   ]
  },
  {
   "cell_type": "raw",
   "id": "a7d5e347-0885-441c-8f16-8267aeea9220",
   "metadata": {},
   "source": [
    "def pdf2text_1(file_path: str, page_range: tuple = None) -> str:\n",
    "    \"\"\"\n",
    "    Extract text and tables from a PDF file using PyMuPDF (fitz).\n",
    "    \n",
    "    Args:\n",
    "        file_path (str): Path to the PDF file\n",
    "        page_range (tuple, optional): Tuple of (start_page, end_page) for extraction (inclusive).\n",
    "                                     Page numbers are 0-indexed.\n",
    "                                     None means all pages. Default is None.\n",
    "        \n",
    "    Returns:\n",
    "        str: Extracted text from the PDF with better table structure preservation\n",
    "    \"\"\"\n",
    "    try:\n",
    "        import fitz  # PyMuPDF\n",
    "        import os\n",
    "        \n",
    "        # Check if file exists\n",
    "        if not os.path.exists(file_path):\n",
    "            return f\"Error: File not found at {file_path}\"\n",
    "        \n",
    "        # Open the PDF\n",
    "        doc = fitz.open(file_path)\n",
    "        text = \"\"\n",
    "        \n",
    "        # Set page range\n",
    "        start_page = 0\n",
    "        end_page = len(doc) - 1\n",
    "        \n",
    "        if page_range is not None:\n",
    "            if len(page_range) != 2:\n",
    "                return \"Error: page_range must be a tuple of (start_page, end_page)\"\n",
    "            \n",
    "            start_page, end_page = page_range\n",
    "            \n",
    "            # Validate page range\n",
    "            if not (0 <= start_page <= end_page < len(doc)):\n",
    "                return f\"Error: Invalid page range. Valid range is 0 to {len(doc) - 1}\"\n",
    "        \n",
    "        # Extract text from specified pages\n",
    "        for page_num in range(start_page, end_page + 1):\n",
    "            page = doc.load_page(page_num)\n",
    "            \n",
    "            # Extract text with options that better preserve tables\n",
    "            page_text = page.get_text(\"text\", flags=fitz.TEXT_PRESERVE_LIGATURES | fitz.TEXT_PRESERVE_WHITESPACE)\n",
    "            text += f\"--- Page {page_num + 1} ---\\n{page_text}\\n\\n\"\n",
    "        \n",
    "        doc.close()\n",
    "        return text\n",
    "    \n",
    "    except ImportError:\n",
    "        return \"Error: PyMuPDF library not installed. Install it using 'pip install pymupdf'.\"\n",
    "    except Exception as e:\n",
    "        return f\"Error extracting text from PDF: {str(e)}\""
   ]
  },
  {
   "cell_type": "code",
   "execution_count": 4,
   "id": "7accba48-1bff-4c43-b7dc-98d6b719d7f0",
   "metadata": {},
   "outputs": [
    {
     "data": {
      "text/plain": [
       "'--- Page 46 ---\\n\\n\\n--- Page 47 ---\\n\\n\\n'"
      ]
     },
     "execution_count": 4,
     "metadata": {},
     "output_type": "execute_result"
    }
   ],
   "source": [
    "p47 = pdf2text(file_path, page_range=(46,47))\n",
    "p47\n",
    "\n",
    "# '--- Page 46 ---\\n\\n\\n--- Page 47 ---\\n\\n\\n'"
   ]
  },
  {
   "cell_type": "code",
   "execution_count": null,
   "id": "691a4c4d-87ed-40c9-814a-318362489232",
   "metadata": {},
   "outputs": [],
   "source": []
  }
 ],
 "metadata": {
  "kernelspec": {
   "display_name": "Python 3 (ipykernel)",
   "language": "python",
   "name": "python3"
  },
  "language_info": {
   "codemirror_mode": {
    "name": "ipython",
    "version": 3
   },
   "file_extension": ".py",
   "mimetype": "text/x-python",
   "name": "python",
   "nbconvert_exporter": "python",
   "pygments_lexer": "ipython3",
   "version": "3.12.5"
  }
 },
 "nbformat": 4,
 "nbformat_minor": 5
}
