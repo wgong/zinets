{
 "cells": [
  {
   "cell_type": "code",
   "execution_count": null,
   "id": "6dbae1dd",
   "metadata": {},
   "outputs": [],
   "source": [
    "import json\n",
    "import re\n",
    "\n",
    "def fix_nested_quotes(json_string):\n",
    "    # Step 1: Temporarily replace outer quotes of each string with a unique marker\n",
    "    outer_quote_marker = \"OUTER_QUOTE_MARKER\"\n",
    "    pattern = r'\"([^\"\\\\]*(?:\\\\.[^\"\\\\]*)*)\"'\n",
    "    marked_json = re.sub(pattern, f'{outer_quote_marker}\\\\1{outer_quote_marker}', json_string)\n",
    "    \n",
    "    # Step 2: Replace remaining double quotes with escaped quotes\n",
    "    marked_json = marked_json.replace('\"', '\\\\\"')\n",
    "    \n",
    "    # Step 3: Restore outer quotes\n",
    "    fixed_json = marked_json.replace(outer_quote_marker, '\"')\n",
    "    \n",
    "    return fixed_json\n",
    "\n",
    "def process_json(input_json):\n",
    "    # Fix nested quotes\n",
    "    fixed_json_string = fix_nested_quotes(input_json)\n",
    "    \n",
    "    # Parse and re-serialize to ensure valid JSON and proper formatting\n",
    "    try:\n",
    "        parsed_json = json.loads(fixed_json_string)\n",
    "        return json.dumps(parsed_json, ensure_ascii=False, indent=2)\n",
    "    except json.JSONDecodeError as e:\n",
    "        print(f\"Error: Unable to parse JSON after fixing quotes. {str(e)}\")\n",
    "        return None\n",
    "\n",
    "# Example usage\n",
    "input_json = \"\"\"YOUR_JSON_STRING_HERE\"\"\"  # Replace with your JSON string\n",
    "\n",
    "output_json = process_json(input_json)\n",
    "\n",
    "if output_json:\n",
    "    print(\"Fixed JSON:\")\n",
    "    print(output_json)\n",
    "    \n",
    "    # Optionally, write to a file\n",
    "    with open('fixed_json.json', 'w', encoding='utf-8') as f:\n",
    "        f.write(output_json)\n",
    "    print(\"Fixed JSON has been written to 'fixed_json.json'\")\n",
    "else:\n",
    "    print(\"Failed to fix JSON.\")"
   ]
  }
 ],
 "metadata": {
  "kernelspec": {
   "display_name": "Python 3 (ipykernel)",
   "language": "python",
   "name": "python3"
  },
  "language_info": {
   "codemirror_mode": {
    "name": "ipython",
    "version": 3
   },
   "file_extension": ".py",
   "mimetype": "text/x-python",
   "name": "python",
   "nbconvert_exporter": "python",
   "pygments_lexer": "ipython3",
   "version": "3.9.13"
  },
  "nbTranslate": {
   "displayLangs": [
    "*"
   ],
   "hotkey": "alt-t",
   "langInMainMenu": true,
   "sourceLang": "en",
   "targetLang": "fr",
   "useGoogleTranslate": true
  },
  "toc": {
   "base_numbering": 1,
   "nav_menu": {},
   "number_sections": true,
   "sideBar": true,
   "skip_h1_title": false,
   "title_cell": "Table of Contents",
   "title_sidebar": "Contents",
   "toc_cell": false,
   "toc_position": {},
   "toc_section_display": true,
   "toc_window_display": false
  }
 },
 "nbformat": 4,
 "nbformat_minor": 5
}
