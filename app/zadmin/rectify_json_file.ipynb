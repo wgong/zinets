{
 "cells": [
  {
   "cell_type": "markdown",
   "id": "201cc5c6",
   "metadata": {},
   "source": [
    "JSON output given by Claude Sonnet is not always valid json file \n",
    "\n",
    "This notebook will develop logic to rectify them\n",
    "\n",
    "Approach:\n",
    "\n",
    "fix line by line, then do json-parsing "
   ]
  },
  {
   "cell_type": "code",
   "execution_count": 50,
   "id": "16e8bb79",
   "metadata": {},
   "outputs": [],
   "source": [
    "import json\n",
    "import re\n",
    "import os "
   ]
  },
  {
   "cell_type": "code",
   "execution_count": 53,
   "id": "8658b7c1",
   "metadata": {},
   "outputs": [
    {
     "data": {
      "text/plain": [
       "('json-1', '.txt')"
      ]
     },
     "execution_count": 53,
     "metadata": {},
     "output_type": "execute_result"
    }
   ],
   "source": [
    "file_txt = \"json-1.txt\"\n",
    "basename, extension = os.path.splitext(file_txt)\n",
    "basename, extension"
   ]
  },
  {
   "cell_type": "code",
   "execution_count": 54,
   "id": "807b9733",
   "metadata": {},
   "outputs": [],
   "source": [
    "input_string = open(file_txt,encoding=\"utf-8\").read()"
   ]
  },
  {
   "cell_type": "code",
   "execution_count": 55,
   "id": "ee9cec7d",
   "metadata": {},
   "outputs": [
    {
     "data": {
      "text/plain": [
       "'      \"李清照《如梦令》：\\\\n\"常记溪亭日暮，沉醉不知归路。\\\\n兴尽晚回舟，误入藕花深处。\\\\n争渡，争渡，惊起一滩鸥鹭。\"（此词虽然没有直接用\"丁\"字，但描绘了一个丁香般幽雅的意境）\"'"
      ]
     },
     "execution_count": 55,
     "metadata": {},
     "output_type": "execute_result"
    }
   ],
   "source": [
    "input_string"
   ]
  },
  {
   "cell_type": "code",
   "execution_count": 56,
   "id": "ae62fb53",
   "metadata": {},
   "outputs": [
    {
     "name": "stdout",
     "output_type": "stream",
     "text": [
      "      \"李清照《如梦令》：\\n\"常记溪亭日暮，沉醉不知归路。\\n兴尽晚回舟，误入藕花深处。\\n争渡，争渡，惊起一滩鸥鹭。\"（此词虽然没有直接用\"丁\"字，但描绘了一个丁香般幽雅的意境）\"\n"
     ]
    }
   ],
   "source": [
    "print(input_string)"
   ]
  },
  {
   "cell_type": "code",
   "execution_count": 57,
   "id": "f2916599",
   "metadata": {},
   "outputs": [],
   "source": [
    "def rectify_json_01(input_string):\n",
    "    x = input_string.split('\"')\n",
    "    if x[-1] == ',':\n",
    "        x = x[:-1]\n",
    "    # x = [i.strip() for i in x if i.strip()]\n",
    "    return \" \".join(x).strip()"
   ]
  },
  {
   "cell_type": "code",
   "execution_count": 45,
   "id": "961cbf05",
   "metadata": {},
   "outputs": [],
   "source": [
    "data = {\"key\" : rectify_json_01(input_string)}"
   ]
  },
  {
   "cell_type": "code",
   "execution_count": 47,
   "id": "cc1f5785",
   "metadata": {},
   "outputs": [
    {
     "data": {
      "text/plain": [
       "'{\\n  \"key\": \"李清照《如梦令》：\\\\\\\\n 常记溪亭日暮，沉醉不知归路。\\\\\\\\n兴尽晚回舟，误入藕花深处。\\\\\\\\n争渡，争渡，惊起一滩鸥鹭。 （此词虽然没有直接用 丁 字，但描绘了一个丁香般幽雅的意境）\"\\n}'"
      ]
     },
     "execution_count": 47,
     "metadata": {},
     "output_type": "execute_result"
    }
   ],
   "source": [
    "json.dumps(data, ensure_ascii=False, indent=2)"
   ]
  },
  {
   "cell_type": "code",
   "execution_count": 48,
   "id": "f560c644",
   "metadata": {},
   "outputs": [],
   "source": [
    "with open(f\"{basename}.json\", \"w\", encoding=\"utf-8\") as f:\n",
    "    f.write(json.dumps(data, ensure_ascii=False, indent=2))"
   ]
  },
  {
   "cell_type": "code",
   "execution_count": 58,
   "id": "9b6b80eb",
   "metadata": {},
   "outputs": [],
   "source": [
    "input_string = \"\"\" \"李白《春夜洛城闻笛》：\\n\"谁家玉笛暗飞声，散入春风满洛城。\\n此夜曲中闻折柳，何人不起故园情。\"\", \"\"\""
   ]
  },
  {
   "cell_type": "code",
   "execution_count": 59,
   "id": "7092e374",
   "metadata": {},
   "outputs": [],
   "source": [
    "x = input_string.strip()"
   ]
  },
  {
   "cell_type": "code",
   "execution_count": 60,
   "id": "6f7acca6",
   "metadata": {},
   "outputs": [
    {
     "data": {
      "text/plain": [
       "'\"李白《春夜洛城闻笛》：\\n\"谁家玉笛暗飞声，散入春风满洛城。\\n此夜曲中闻折柳，何人不起故园情。\"\",'"
      ]
     },
     "execution_count": 60,
     "metadata": {},
     "output_type": "execute_result"
    }
   ],
   "source": [
    "x "
   ]
  },
  {
   "cell_type": "code",
   "execution_count": 63,
   "id": "58b3a1f7",
   "metadata": {},
   "outputs": [
    {
     "name": "stdout",
     "output_type": "stream",
     "text": [
      "李白《春夜洛城闻笛》：\n",
      "\"谁家玉笛暗飞声，散入春风满洛城。\n",
      "此夜曲中闻折柳，何人不起故园情。\"\n"
     ]
    }
   ],
   "source": [
    "if x[0] == '\"' and x[-1] == '\"': \n",
    "    x_no_quote = x[1:-1]\n",
    "elif x[0] == '\"' and x[-2:] == '\",': \n",
    "    x_no_quote = x[1:-2]\n",
    "else: \n",
    "    x_no_quote = x\n",
    "    \n",
    "print(x_no_quote)"
   ]
  },
  {
   "cell_type": "code",
   "execution_count": 64,
   "id": "59610b89",
   "metadata": {},
   "outputs": [
    {
     "data": {
      "text/plain": [
       "<re.Match object; span=(0, 47), match='李白《春夜洛城闻笛》：\\n\"谁家玉笛暗飞声，散入春风满洛城。\\n此夜曲中闻折柳，何人不起故园情。\">"
      ]
     },
     "execution_count": 64,
     "metadata": {},
     "output_type": "execute_result"
    }
   ],
   "source": [
    "pattern = r'.+\".+'  # nested quote\n",
    "# Search for the pattern in the text\n",
    "match = re.search(pattern, x_no_quote, re.DOTALL)\n",
    "match "
   ]
  },
  {
   "cell_type": "code",
   "execution_count": 66,
   "id": "d9006b39",
   "metadata": {},
   "outputs": [
    {
     "data": {
      "text/plain": [
       "True"
      ]
     },
     "execution_count": 66,
     "metadata": {},
     "output_type": "execute_result"
    }
   ],
   "source": [
    "x_no_quote.endswith('\"') and not x_no_quote.startswith('\"')   # unpaired quotes"
   ]
  },
  {
   "cell_type": "markdown",
   "id": "5ffe291b",
   "metadata": {},
   "source": [
    "when above conditions are met, we replace '\"' with \" \""
   ]
  },
  {
   "cell_type": "code",
   "execution_count": 67,
   "id": "4b7b2ae9",
   "metadata": {},
   "outputs": [],
   "source": [
    "input_string = \"\"\"    \"读音\": \"拼音：yā (第一声)；注音：ㄧㄚ\",\"\"\" "
   ]
  },
  {
   "cell_type": "code",
   "execution_count": 68,
   "id": "3bdd69e1",
   "metadata": {},
   "outputs": [
    {
     "name": "stdout",
     "output_type": "stream",
     "text": [
      "<re.Match object; span=(0, 26), match='\"读音\": \"拼音：yā (第一声)；注音：ㄧㄚ\",'>\n"
     ]
    }
   ],
   "source": [
    "pattern = r'\".+\":\\s+\".+\",'  # ignore\n",
    "z = re.match(pattern, input_string.strip())\n",
    "print(z)"
   ]
  },
  {
   "cell_type": "code",
   "execution_count": 74,
   "id": "b65826ab",
   "metadata": {},
   "outputs": [],
   "source": [
    "input_string = \"\"\"    \"音频\": [\"\"\"   "
   ]
  },
  {
   "cell_type": "code",
   "execution_count": 75,
   "id": "ab2496bf",
   "metadata": {},
   "outputs": [
    {
     "name": "stdout",
     "output_type": "stream",
     "text": [
      "<re.Match object; span=(0, 7), match='\"音频\": ['>\n"
     ]
    }
   ],
   "source": [
    "pattern = r'\".+\":\\s+\\['  # ignore\n",
    "z = re.match(pattern, input_string.strip())\n",
    "print(z)"
   ]
  },
  {
   "cell_type": "code",
   "execution_count": 78,
   "id": "61973a96",
   "metadata": {},
   "outputs": [
    {
     "name": "stdout",
     "output_type": "stream",
     "text": [
      "<re.Match object; span=(0, 1), match='}'>\n"
     ]
    }
   ],
   "source": [
    "input_string = \"\"\"  { \"\"\"  \n",
    "input_string = \"\"\"  } \"\"\"  \n",
    "pattern = r'\\{|\\}'  # ignore\n",
    "z = re.match(pattern, input_string.strip())\n",
    "print(z)"
   ]
  },
  {
   "cell_type": "code",
   "execution_count": null,
   "id": "c1a06089",
   "metadata": {},
   "outputs": [],
   "source": []
  }
 ],
 "metadata": {
  "kernelspec": {
   "display_name": "Python 3 (ipykernel)",
   "language": "python",
   "name": "python3"
  },
  "language_info": {
   "codemirror_mode": {
    "name": "ipython",
    "version": 3
   },
   "file_extension": ".py",
   "mimetype": "text/x-python",
   "name": "python",
   "nbconvert_exporter": "python",
   "pygments_lexer": "ipython3",
   "version": "3.9.13"
  },
  "nbTranslate": {
   "displayLangs": [
    "*"
   ],
   "hotkey": "alt-t",
   "langInMainMenu": true,
   "sourceLang": "en",
   "targetLang": "fr",
   "useGoogleTranslate": true
  },
  "toc": {
   "base_numbering": 1,
   "nav_menu": {},
   "number_sections": true,
   "sideBar": true,
   "skip_h1_title": false,
   "title_cell": "Table of Contents",
   "title_sidebar": "Contents",
   "toc_cell": false,
   "toc_position": {},
   "toc_section_display": true,
   "toc_window_display": false
  }
 },
 "nbformat": 4,
 "nbformat_minor": 5
}
