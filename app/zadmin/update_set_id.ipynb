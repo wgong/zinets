{
 "cells": [
  {
   "cell_type": "markdown",
   "id": "1aeba55d",
   "metadata": {},
   "source": [
    "Update 100 most commonly used parts or simple Zis"
   ]
  },
  {
   "cell_type": "code",
   "execution_count": 5,
   "id": "34ff12c8",
   "metadata": {},
   "outputs": [],
   "source": [
    "import pandas as pd \n",
    "from utils import *"
   ]
  },
  {
   "cell_type": "code",
   "execution_count": 1,
   "id": "e702db64",
   "metadata": {},
   "outputs": [],
   "source": [
    "file_xlsx = r\"C:\\Users\\p2p2l\\projects\\wgong\\zistory\\acap-book\\docs\\most-often-used-parts.xlsx\""
   ]
  },
  {
   "cell_type": "code",
   "execution_count": 3,
   "id": "10574854",
   "metadata": {},
   "outputs": [],
   "source": [
    "df2 = pd.read_excel(file_xlsx, sheet_name=\"zi-100\").fillna(\"\") "
   ]
  },
  {
   "cell_type": "code",
   "execution_count": 4,
   "id": "af0ffc08",
   "metadata": {},
   "outputs": [
    {
     "data": {
      "text/html": [
       "<div>\n",
       "<style scoped>\n",
       "    .dataframe tbody tr th:only-of-type {\n",
       "        vertical-align: middle;\n",
       "    }\n",
       "\n",
       "    .dataframe tbody tr th {\n",
       "        vertical-align: top;\n",
       "    }\n",
       "\n",
       "    .dataframe thead th {\n",
       "        text-align: right;\n",
       "    }\n",
       "</style>\n",
       "<table border=\"1\" class=\"dataframe\">\n",
       "  <thead>\n",
       "    <tr style=\"text-align: right;\">\n",
       "      <th></th>\n",
       "      <th>part</th>\n",
       "    </tr>\n",
       "  </thead>\n",
       "  <tbody>\n",
       "    <tr>\n",
       "      <th>0</th>\n",
       "      <td>氵</td>\n",
       "    </tr>\n",
       "    <tr>\n",
       "      <th>1</th>\n",
       "      <td>水</td>\n",
       "    </tr>\n",
       "    <tr>\n",
       "      <th>2</th>\n",
       "      <td>木</td>\n",
       "    </tr>\n",
       "    <tr>\n",
       "      <th>3</th>\n",
       "      <td>艹</td>\n",
       "    </tr>\n",
       "    <tr>\n",
       "      <th>4</th>\n",
       "      <td>草</td>\n",
       "    </tr>\n",
       "    <tr>\n",
       "      <th>...</th>\n",
       "      <td>...</td>\n",
       "    </tr>\n",
       "    <tr>\n",
       "      <th>117</th>\n",
       "      <td>士</td>\n",
       "    </tr>\n",
       "    <tr>\n",
       "      <th>118</th>\n",
       "      <td>由</td>\n",
       "    </tr>\n",
       "    <tr>\n",
       "      <th>119</th>\n",
       "      <td>占</td>\n",
       "    </tr>\n",
       "    <tr>\n",
       "      <th>120</th>\n",
       "      <td>小</td>\n",
       "    </tr>\n",
       "    <tr>\n",
       "      <th>121</th>\n",
       "      <td>令</td>\n",
       "    </tr>\n",
       "  </tbody>\n",
       "</table>\n",
       "<p>122 rows × 1 columns</p>\n",
       "</div>"
      ],
      "text/plain": [
       "    part\n",
       "0      氵\n",
       "1      水\n",
       "2      木\n",
       "3     艹 \n",
       "4      草\n",
       "..   ...\n",
       "117    士\n",
       "118    由\n",
       "119    占\n",
       "120    小\n",
       "121    令\n",
       "\n",
       "[122 rows x 1 columns]"
      ]
     },
     "execution_count": 4,
     "metadata": {},
     "output_type": "execute_result"
    }
   ],
   "source": [
    "df2 "
   ]
  },
  {
   "cell_type": "code",
   "execution_count": 6,
   "id": "1d65c35b",
   "metadata": {},
   "outputs": [],
   "source": [
    "zi_100 = df2[\"part\"].to_list()"
   ]
  },
  {
   "cell_type": "code",
   "execution_count": 7,
   "id": "76db1b7b",
   "metadata": {},
   "outputs": [
    {
     "data": {
      "text/plain": [
       "['氵',\n",
       " '水',\n",
       " '木',\n",
       " '艹 ',\n",
       " '草',\n",
       " '口',\n",
       " '扌',\n",
       " '手',\n",
       " '亻',\n",
       " '人',\n",
       " '阝',\n",
       " '城',\n",
       " '月',\n",
       " '土 ',\n",
       " '地',\n",
       " '女',\n",
       " '虫',\n",
       " '忄',\n",
       " '心',\n",
       " '日',\n",
       " '王',\n",
       " '⺮ ',\n",
       " '竹',\n",
       " '纟',\n",
       " '讠',\n",
       " '言',\n",
       " '辶',\n",
       " '钅',\n",
       " '金',\n",
       " '火',\n",
       " '心',\n",
       " '目',\n",
       " '禾',\n",
       " '足',\n",
       " '疒',\n",
       " ' 病',\n",
       " '石',\n",
       " '一',\n",
       " '又',\n",
       " '山',\n",
       " '宀 ',\n",
       " '家',\n",
       " '鸟',\n",
       " '攵',\n",
       " '贝',\n",
       " '巾',\n",
       " '车',\n",
       " '衤',\n",
       " '衣',\n",
       " '犭',\n",
       " '力',\n",
       " '米',\n",
       " '隹',\n",
       " '十',\n",
       " '田',\n",
       " '酉',\n",
       " '页',\n",
       " '马',\n",
       " '大',\n",
       " '刂 ',\n",
       " '刀',\n",
       " '羽',\n",
       " '欠',\n",
       " '广',\n",
       " '人',\n",
       " '穴',\n",
       " '丿',\n",
       " '礻',\n",
       " '示',\n",
       " '羊',\n",
       " '殳',\n",
       " '言',\n",
       " '冖',\n",
       " '革',\n",
       " '罒',\n",
       " '白',\n",
       " '饣',\n",
       " '食',\n",
       " '刀',\n",
       " '厂',\n",
       " '耳',\n",
       " '立',\n",
       " '寸',\n",
       " '糸',\n",
       " '戈',\n",
       " '非',\n",
       " '皿',\n",
       " '子',\n",
       " '冫',\n",
       " '雨',\n",
       " '八',\n",
       " '彳',\n",
       " '亠',\n",
       " '尸',\n",
       " '方',\n",
       " '丷',\n",
       " '衣',\n",
       " '丶',\n",
       " '夫',\n",
       " '分',\n",
       " '且',\n",
       " '鬼',\n",
       " '几',\n",
       " '工',\n",
       " '丨',\n",
       " '彡',\n",
       " '走',\n",
       " '鱼',\n",
       " '斤',\n",
       " '黑',\n",
       " '厶',\n",
       " '弓',\n",
       " '犬',\n",
       " '囗',\n",
       " '干',\n",
       " '门',\n",
       " '甫',\n",
       " '士',\n",
       " '由',\n",
       " '占',\n",
       " '小',\n",
       " '令']"
      ]
     },
     "execution_count": 7,
     "metadata": {},
     "output_type": "execute_result"
    }
   ],
   "source": [
    "zi_100"
   ]
  },
  {
   "cell_type": "code",
   "execution_count": 13,
   "id": "bdda312d",
   "metadata": {},
   "outputs": [],
   "source": [
    "char1 = '草'\n",
    "\n",
    "with DBConn() as _conn:\n",
    "    sql_stmt = f\"select zi, baidu_url, set_id from t_zi where zi='{char1}' ; \"\n",
    "    df = pd.read_sql(sql_stmt, _conn).fillna(\"\")"
   ]
  },
  {
   "cell_type": "code",
   "execution_count": 14,
   "id": "be3c8e2b",
   "metadata": {},
   "outputs": [
    {
     "data": {
      "text/html": [
       "<div>\n",
       "<style scoped>\n",
       "    .dataframe tbody tr th:only-of-type {\n",
       "        vertical-align: middle;\n",
       "    }\n",
       "\n",
       "    .dataframe tbody tr th {\n",
       "        vertical-align: top;\n",
       "    }\n",
       "\n",
       "    .dataframe thead th {\n",
       "        text-align: right;\n",
       "    }\n",
       "</style>\n",
       "<table border=\"1\" class=\"dataframe\">\n",
       "  <thead>\n",
       "    <tr style=\"text-align: right;\">\n",
       "      <th></th>\n",
       "      <th>zi</th>\n",
       "      <th>baidu_url</th>\n",
       "      <th>set_id</th>\n",
       "    </tr>\n",
       "  </thead>\n",
       "  <tbody>\n",
       "    <tr>\n",
       "      <th>0</th>\n",
       "      <td>草</td>\n",
       "      <td>https://baike.baidu.com/item/%E8%8D%89/2774607</td>\n",
       "      <td>100</td>\n",
       "    </tr>\n",
       "  </tbody>\n",
       "</table>\n",
       "</div>"
      ],
      "text/plain": [
       "  zi                                       baidu_url set_id\n",
       "0  草  https://baike.baidu.com/item/%E8%8D%89/2774607    100"
      ]
     },
     "execution_count": 14,
     "metadata": {},
     "output_type": "execute_result"
    }
   ],
   "source": [
    "df "
   ]
  },
  {
   "cell_type": "code",
   "execution_count": 15,
   "id": "dc03b9a1",
   "metadata": {},
   "outputs": [],
   "source": [
    "with DBConn() as _conn:\n",
    "    for x in zi_100:\n",
    "        \n",
    "        # f x != char1: continue \n",
    "\n",
    "        sql_stmt = f\"\"\"\n",
    "            update t_zi \n",
    "            set set_id = 100\n",
    "                where zi='{x}' and (set_id is null or set_id = '' or set_id > 100) \n",
    "            ;\n",
    "        \"\"\"\n",
    "        db_run_sql(sql_stmt, _conn, debug=False)  #  ) #"
   ]
  },
  {
   "cell_type": "code",
   "execution_count": 18,
   "id": "822d2bcc",
   "metadata": {},
   "outputs": [],
   "source": [
    "zi_10 = [ '女','亻','人','子',\n",
    " '钅', '金',\n",
    " '木',\n",
    "'冫','氵', '水',\n",
    " '火',\n",
    " '土 ', '地','天']"
   ]
  },
  {
   "cell_type": "code",
   "execution_count": 19,
   "id": "d59a34e8",
   "metadata": {},
   "outputs": [],
   "source": [
    "with DBConn() as _conn:\n",
    "    for x in zi_10:\n",
    "        \n",
    "        # f x != char1: continue \n",
    "\n",
    "        sql_stmt = f\"\"\"\n",
    "            update t_zi \n",
    "            set set_id = 10\n",
    "                where zi='{x}' and (set_id is null or set_id = '' or set_id > 10) \n",
    "            ;\n",
    "        \"\"\"\n",
    "        db_run_sql(sql_stmt, _conn, debug=False)  #  ) #"
   ]
  },
  {
   "cell_type": "code",
   "execution_count": 21,
   "id": "d817573e",
   "metadata": {},
   "outputs": [],
   "source": [
    "zi_30_str= \"\"\"风\n",
    "雨\n",
    "川\n",
    "山\n",
    "石\n",
    "光\n",
    "电\n",
    "云\n",
    "古\n",
    "今\n",
    "年\n",
    "春\n",
    "夏\n",
    "秋\n",
    "冬\n",
    "宇\n",
    "宙\n",
    "世\n",
    "界\n",
    "东\n",
    "西\n",
    "南\n",
    "北\n",
    "中\n",
    "一\n",
    "二\n",
    "三\n",
    "四\n",
    "五\n",
    "六\n",
    "七\n",
    "八\n",
    "九\n",
    "十\n",
    "百\n",
    "千\n",
    "万\n",
    "\"\"\""
   ]
  },
  {
   "cell_type": "code",
   "execution_count": 22,
   "id": "b308e894",
   "metadata": {},
   "outputs": [
    {
     "data": {
      "text/plain": [
       "37"
      ]
     },
     "execution_count": 22,
     "metadata": {},
     "output_type": "execute_result"
    }
   ],
   "source": [
    "zi_30 = [x.strip() for x in zi_30_str.split(\"\\n\") if x.strip()]\n",
    "len(zi_30)"
   ]
  },
  {
   "cell_type": "code",
   "execution_count": 23,
   "id": "26e6ec39",
   "metadata": {},
   "outputs": [],
   "source": [
    "with DBConn() as _conn:\n",
    "    for x in zi_30:\n",
    "        \n",
    "        # f x != char1: continue \n",
    "\n",
    "        sql_stmt = f\"\"\"\n",
    "            update t_zi \n",
    "            set set_id = 30\n",
    "                where zi='{x}' and (set_id is null or set_id = '' or set_id > 30) \n",
    "            ;\n",
    "        \"\"\"\n",
    "        db_run_sql(sql_stmt, _conn, debug=False)  #  ) #"
   ]
  },
  {
   "cell_type": "code",
   "execution_count": null,
   "id": "d3b36483",
   "metadata": {},
   "outputs": [],
   "source": []
  }
 ],
 "metadata": {
  "kernelspec": {
   "display_name": "Python 3 (ipykernel)",
   "language": "python",
   "name": "python3"
  },
  "language_info": {
   "codemirror_mode": {
    "name": "ipython",
    "version": 3
   },
   "file_extension": ".py",
   "mimetype": "text/x-python",
   "name": "python",
   "nbconvert_exporter": "python",
   "pygments_lexer": "ipython3",
   "version": "3.9.13"
  },
  "nbTranslate": {
   "displayLangs": [
    "*"
   ],
   "hotkey": "alt-t",
   "langInMainMenu": true,
   "sourceLang": "en",
   "targetLang": "fr",
   "useGoogleTranslate": true
  },
  "toc": {
   "base_numbering": 1,
   "nav_menu": {},
   "number_sections": true,
   "sideBar": true,
   "skip_h1_title": false,
   "title_cell": "Table of Contents",
   "title_sidebar": "Contents",
   "toc_cell": false,
   "toc_position": {},
   "toc_section_display": true,
   "toc_window_display": false
  }
 },
 "nbformat": 4,
 "nbformat_minor": 5
}
