{
 "cells": [
  {
   "cell_type": "markdown",
   "id": "030d3b4f-1a6b-46a9-9089-c46d7918307f",
   "metadata": {},
   "source": [
    "## cross-LLM model comparisons\n"
   ]
  },
  {
   "cell_type": "code",
   "execution_count": 5,
   "id": "7cb92c5d-f27e-4c79-bf7b-231c7cdfc185",
   "metadata": {},
   "outputs": [],
   "source": [
    "llm_models = [\n",
    "    \"qwen2.5\", \"llama3.1\", \"mistral\", \"nemotron-mini\",\n",
    "    \"phi3.5\", \"gemma2\"\n",
    "]"
   ]
  },
  {
   "cell_type": "code",
   "execution_count": 2,
   "id": "4e316689-4126-4114-a50a-e3ddee1b30e9",
   "metadata": {},
   "outputs": [],
   "source": [
    "from time import time\n",
    "from datetime import datetime\n",
    "import re\n",
    "from pathlib import Path\n",
    "\n",
    "import pandas as pd \n",
    "\n",
    "import ollama\n",
    "\n",
    "from utils import *"
   ]
  },
  {
   "cell_type": "code",
   "execution_count": 3,
   "id": "0315667a-1339-4f0a-b63c-43d60c7cff9e",
   "metadata": {},
   "outputs": [],
   "source": [
    "pattern = r'```json\\s*(.*?)\\s*```'\n",
    "file_log = \"cross-llm-compare.log\"\n",
    "zi = \"字\"  # \"心\""
   ]
  },
  {
   "cell_type": "code",
   "execution_count": 4,
   "id": "ebd765a5-caa7-4461-a8d8-7cb242ef4f60",
   "metadata": {},
   "outputs": [
    {
     "name": "stdout",
     "output_type": "stream",
     "text": [
      "Calling qwen2.5 ...\n",
      "[2024-09-21 08:25:11.575225] Completed 字 - qwen2.5 in 77.495 sec\n",
      "Calling llama3.1 ...\n",
      "[2024-09-21 08:26:29.071513] Completed 字 - llama3.1 in 122.702 sec\n",
      "Calling mistral ...\n",
      "[2024-09-21 08:28:31.775095] Completed 字 - mistral in 172.855 sec\n",
      "Calling nemotron-mini ...\n",
      "[2024-09-21 08:31:24.631128] Completed 字 - nemotron-mini in 43.070 sec\n",
      "Calling phi3.5 ...\n",
      "[2024-09-21 08:32:07.702502] Completed 字 - phi3.5 in 132.282 sec\n",
      "SKIP 字 - phi3.5 : Already processed - llm_models/zi-字-phi3.5-1.txt \n",
      "Calling gemma2 ...\n",
      "[2024-09-21 08:34:19.984795] Completed 字 - gemma2 in 219.596 sec\n"
     ]
    }
   ],
   "source": [
    "for model_name in llm_models:\n",
    "    fp = Path(f\"./llm_models\") / f\"zi-{zi}-{model_name}-1.txt\"    \n",
    "    if fp.exists():\n",
    "        log_msg(f\"SKIP {zi} - {model_name} : Already processed - {fp} \", file_log)\n",
    "        continue\n",
    "\n",
    "    print(f\"Calling {model_name} ...\")\n",
    "    \n",
    "    ts_now = datetime.now()\n",
    "    ts_1 = time()\n",
    "    try:\n",
    "        resp = ollama.generate(model=model_name, prompt=LLM_PROMPT_ZI.format(zi=zi))\n",
    "    except Exception as e:\n",
    "        log_msg(f\"[ERROR] {zi} - {model_name} : Failed to call ollama.generate()\", file_log)\n",
    "        continue\n",
    "        \n",
    "    ts_2 = time()\n",
    "    del_t = ts_2 - ts_1\n",
    "    del_t_str = f\"{del_t:.3f}\"\n",
    "    json_raw = resp.get('response', \"\")\n",
    "    if not json_raw: \n",
    "        log_msg(f\"[ERROR] No LLM response: {zi} - {model_name}\", file_log)\n",
    "        continue\n",
    "\n",
    "    log_msg(f\"[{str(ts_now)}] Completed {zi} - {model_name} in {del_t_str} sec\")\n",
    "    with open(fp, \"w\", encoding=\"utf-8\") as f:\n",
    "        f.write(json_raw)\n",
    "\n",
    "    \n",
    "    # match = re.search(pattern, json_raw, re.DOTALL)\n",
    "\n",
    "    # if match:\n",
    "    #     json_string = match.group(1)\n",
    "    #     if not json_string:\n",
    "    #         log_msg(f\"[WARN] No JSON extracted: {zi}\")\n",
    "    #         continue\n",
    "            \n",
    "    #     with open(fp, \"w\", encoding=\"utf-8\") as f:\n",
    "    #         f.write(json_string)\n",
    "    # else:\n",
    "    #     log_msg(f\"[ERROR] No JSON extracted: {zi}\", file_log)"
   ]
  },
  {
   "cell_type": "code",
   "execution_count": null,
   "id": "5ae53ff6-1e2c-412d-910a-c929486a1d19",
   "metadata": {},
   "outputs": [],
   "source": []
  },
  {
   "cell_type": "code",
   "execution_count": null,
   "id": "6fb713c7-aa48-4f42-8fd0-c18dc850a835",
   "metadata": {},
   "outputs": [],
   "source": []
  }
 ],
 "metadata": {
  "kernelspec": {
   "display_name": "Python 3 (ipykernel)",
   "language": "python",
   "name": "python3"
  },
  "language_info": {
   "codemirror_mode": {
    "name": "ipython",
    "version": 3
   },
   "file_extension": ".py",
   "mimetype": "text/x-python",
   "name": "python",
   "nbconvert_exporter": "python",
   "pygments_lexer": "ipython3",
   "version": "3.10.12"
  }
 },
 "nbformat": 4,
 "nbformat_minor": 5
}
