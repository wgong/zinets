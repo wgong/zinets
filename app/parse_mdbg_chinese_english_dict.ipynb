{
 "cells": [
  {
   "cell_type": "code",
   "execution_count": 2,
   "id": "5e69b57f",
   "metadata": {},
   "outputs": [],
   "source": [
    "import re\n",
    "\n",
    "def parse_cc_cedict(line):\n",
    "    pattern = r'^(.+) (.+) \\[([^\\]]+)\\] (/.+/)'\n",
    "    match = re.match(pattern, line)\n",
    "\n",
    "    if match:\n",
    "        traditional = match.group(1)\n",
    "        simplified = match.group(2) \n",
    "        pinyin = match.group(3)\n",
    "        english = match.group(4).strip('/')\n",
    "\n",
    "        return {\n",
    "          'traditional': traditional,\n",
    "          'simplified': simplified,\n",
    "          'pinyin': pinyin,\n",
    "          'english': english\n",
    "        }\n",
    "\n",
    "    else:\n",
    "        raise ValueError('Line does not match expected pattern:')"
   ]
  },
  {
   "cell_type": "code",
   "execution_count": 3,
   "id": "13ddc146",
   "metadata": {},
   "outputs": [
    {
     "name": "stdout",
     "output_type": "stream",
     "text": [
      "龜\n",
      "龟\n",
      "gui1\n",
      "tortoise/turtle\n"
     ]
    }
   ],
   "source": [
    "line = '龜 龟 [gui1] /tortoise/turtle/'\n",
    "entry = parse_cc_cedict(line)\n",
    "\n",
    "print(entry['traditional']) # 龜\n",
    "print(entry['simplified']) # 龟\n",
    "print(entry['pinyin']) # gui1\n",
    "print(entry['english']) # tortoise/turtle"
   ]
  },
  {
   "cell_type": "code",
   "execution_count": 4,
   "id": "6c2a545a",
   "metadata": {},
   "outputs": [
    {
     "name": "stdout",
     "output_type": "stream",
     "text": [
      "<re.Match object; span=(0, 102), match='# CC-CEDICT Chinese-English Dictionary Data [http>\n",
      "<re.Match object; span=(0, 30), match='% Data generated on 2022-06-11'>\n",
      "None\n"
     ]
    }
   ],
   "source": [
    "import re\n",
    "\n",
    "pattern = r'^[%#].*'\n",
    "\n",
    "line1 = '# CC-CEDICT Chinese-English Dictionary Data [http://www.mdbg.net/chindict/chindict.php?page=cc-cedict]'\n",
    "line2 = '% Data generated on 2022-06-11'\n",
    "line3 = '龜 龟 [gui1] /tortoise/turtle/'\n",
    "\n",
    "print(re.match(pattern, line1)) # <re.Match object> \n",
    "print(re.match(pattern, line2)) # <re.Match object>\n",
    "print(re.match(pattern, line3)) # None"
   ]
  },
  {
   "cell_type": "code",
   "execution_count": null,
   "id": "2a175d4b",
   "metadata": {},
   "outputs": [],
   "source": []
  }
 ],
 "metadata": {
  "kernelspec": {
   "display_name": "Python 3 (ipykernel)",
   "language": "python",
   "name": "python3"
  },
  "language_info": {
   "codemirror_mode": {
    "name": "ipython",
    "version": 3
   },
   "file_extension": ".py",
   "mimetype": "text/x-python",
   "name": "python",
   "nbconvert_exporter": "python",
   "pygments_lexer": "ipython3",
   "version": "3.9.13"
  },
  "nbTranslate": {
   "displayLangs": [
    "*"
   ],
   "hotkey": "alt-t",
   "langInMainMenu": true,
   "sourceLang": "en",
   "targetLang": "fr",
   "useGoogleTranslate": true
  },
  "toc": {
   "base_numbering": 1,
   "nav_menu": {},
   "number_sections": true,
   "sideBar": true,
   "skip_h1_title": false,
   "title_cell": "Table of Contents",
   "title_sidebar": "Contents",
   "toc_cell": false,
   "toc_position": {},
   "toc_section_display": true,
   "toc_window_display": false
  }
 },
 "nbformat": 4,
 "nbformat_minor": 5
}
