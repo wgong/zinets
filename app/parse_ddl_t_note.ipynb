{
 "cells": [
  {
   "cell_type": "code",
   "execution_count": 1,
   "id": "4adb59b3",
   "metadata": {},
   "outputs": [],
   "source": [
    "from utils import *"
   ]
  },
  {
   "cell_type": "code",
   "execution_count": 2,
   "id": "7f85ea10",
   "metadata": {},
   "outputs": [],
   "source": [
    "ddl_str = \"\"\"\n",
    "-- note: note-taking: journal/resource\n",
    "-- similar to watchetf app table: notes\n",
    "drop table if exists t_note;\n",
    "create table if not exists t_note\n",
    "(\n",
    "    title text NOT NULL,\n",
    "    u_id text,          -- number in string\n",
    "    note_type text,     -- REF/JOURNAL\n",
    "    note text,\n",
    "    link_url text,\n",
    "    tags text,\n",
    "    ts text,\n",
    "    is_active text default 'Y'\n",
    ");\n",
    "\"\"\""
   ]
  },
  {
   "cell_type": "code",
   "execution_count": 3,
   "id": "a3208dfe",
   "metadata": {},
   "outputs": [],
   "source": [
    "col_defn = parse_ddl(ddl_str)\n",
    "col_props = prepare_column_props(col_defn)"
   ]
  },
  {
   "cell_type": "code",
   "execution_count": 4,
   "id": "0c65fe3f",
   "metadata": {},
   "outputs": [
    {
     "data": {
      "text/plain": [
       "{'t_note': {'title': 'text',\n",
       "  'u_id': 'text',\n",
       "  'note_type': 'text',\n",
       "  'note': 'text',\n",
       "  'link_url': 'text',\n",
       "  'tags': 'text',\n",
       "  'ts': 'text',\n",
       "  'is_active': 'text'}}"
      ]
     },
     "execution_count": 4,
     "metadata": {},
     "output_type": "execute_result"
    }
   ],
   "source": [
    "col_defn"
   ]
  },
  {
   "cell_type": "code",
   "execution_count": 5,
   "id": "1a44963f",
   "metadata": {},
   "outputs": [
    {
     "data": {
      "text/plain": [
       "{'t_note': {'title': {'is_system_col': False,\n",
       "   'is_user_key': False,\n",
       "   'is_required': False,\n",
       "   'is_visible': False,\n",
       "   'is_editable': False,\n",
       "   'is_clickable': False,\n",
       "   'datatype': 'text',\n",
       "   'form_column': 'COL_1-1',\n",
       "   'widget_type': 'text_input',\n",
       "   'label_text': 'Title'},\n",
       "  'u_id': {'is_system_col': False,\n",
       "   'is_user_key': False,\n",
       "   'is_required': False,\n",
       "   'is_visible': False,\n",
       "   'is_editable': False,\n",
       "   'is_clickable': False,\n",
       "   'datatype': 'text',\n",
       "   'form_column': 'COL_1-1',\n",
       "   'widget_type': 'text_input',\n",
       "   'label_text': 'U Id'},\n",
       "  'note_type': {'is_system_col': False,\n",
       "   'is_user_key': False,\n",
       "   'is_required': False,\n",
       "   'is_visible': False,\n",
       "   'is_editable': False,\n",
       "   'is_clickable': False,\n",
       "   'datatype': 'text',\n",
       "   'form_column': 'COL_1-1',\n",
       "   'widget_type': 'text_input',\n",
       "   'label_text': 'Note Type'},\n",
       "  'note': {'is_system_col': False,\n",
       "   'is_user_key': False,\n",
       "   'is_required': False,\n",
       "   'is_visible': False,\n",
       "   'is_editable': False,\n",
       "   'is_clickable': False,\n",
       "   'datatype': 'text',\n",
       "   'form_column': 'COL_1-1',\n",
       "   'widget_type': 'text_input',\n",
       "   'label_text': 'Note'},\n",
       "  'link_url': {'is_system_col': False,\n",
       "   'is_user_key': False,\n",
       "   'is_required': False,\n",
       "   'is_visible': False,\n",
       "   'is_editable': False,\n",
       "   'is_clickable': False,\n",
       "   'datatype': 'text',\n",
       "   'form_column': 'COL_1-1',\n",
       "   'widget_type': 'text_input',\n",
       "   'label_text': 'Link Url'},\n",
       "  'tags': {'is_system_col': False,\n",
       "   'is_user_key': False,\n",
       "   'is_required': False,\n",
       "   'is_visible': False,\n",
       "   'is_editable': False,\n",
       "   'is_clickable': False,\n",
       "   'datatype': 'text',\n",
       "   'form_column': 'COL_1-1',\n",
       "   'widget_type': 'text_input',\n",
       "   'label_text': 'Tags'},\n",
       "  'ts': {'is_system_col': False,\n",
       "   'is_user_key': False,\n",
       "   'is_required': False,\n",
       "   'is_visible': False,\n",
       "   'is_editable': False,\n",
       "   'is_clickable': False,\n",
       "   'datatype': 'text',\n",
       "   'form_column': 'COL_1-1',\n",
       "   'widget_type': 'text_input',\n",
       "   'label_text': 'Ts'},\n",
       "  'is_active': {'is_system_col': False,\n",
       "   'is_user_key': False,\n",
       "   'is_required': False,\n",
       "   'is_visible': False,\n",
       "   'is_editable': False,\n",
       "   'is_clickable': False,\n",
       "   'datatype': 'text',\n",
       "   'form_column': 'COL_1-1',\n",
       "   'widget_type': 'selectbox',\n",
       "   'label_text': 'Is Active'}}}"
      ]
     },
     "execution_count": 5,
     "metadata": {},
     "output_type": "execute_result"
    }
   ],
   "source": [
    "col_props"
   ]
  },
  {
   "cell_type": "code",
   "execution_count": null,
   "id": "b3f6dbd6",
   "metadata": {},
   "outputs": [],
   "source": []
  }
 ],
 "metadata": {
  "kernelspec": {
   "display_name": "Python 3 (ipykernel)",
   "language": "python",
   "name": "python3"
  },
  "language_info": {
   "codemirror_mode": {
    "name": "ipython",
    "version": 3
   },
   "file_extension": ".py",
   "mimetype": "text/x-python",
   "name": "python",
   "nbconvert_exporter": "python",
   "pygments_lexer": "ipython3",
   "version": "3.9.13"
  },
  "nbTranslate": {
   "displayLangs": [
    "*"
   ],
   "hotkey": "alt-t",
   "langInMainMenu": true,
   "sourceLang": "en",
   "targetLang": "fr",
   "useGoogleTranslate": true
  },
  "toc": {
   "base_numbering": 1,
   "nav_menu": {},
   "number_sections": true,
   "sideBar": true,
   "skip_h1_title": false,
   "title_cell": "Table of Contents",
   "title_sidebar": "Contents",
   "toc_cell": false,
   "toc_position": {},
   "toc_section_display": true,
   "toc_window_display": false
  }
 },
 "nbformat": 4,
 "nbformat_minor": 5
}
