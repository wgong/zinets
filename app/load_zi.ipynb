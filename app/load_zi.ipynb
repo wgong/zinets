{
 "cells": [
  {
   "cell_type": "code",
   "execution_count": 1,
   "id": "a5c0b7ec",
   "metadata": {},
   "outputs": [],
   "source": [
    "import pickle\n",
    "\n",
    "from utils import *\n",
    "import pandas as pd "
   ]
  },
  {
   "cell_type": "code",
   "execution_count": 2,
   "id": "984e0007",
   "metadata": {},
   "outputs": [],
   "source": [
    "with open('hsk-all.pkl', 'rb') as fo:\n",
    "    data = pickle.load(fo)"
   ]
  },
  {
   "cell_type": "code",
   "execution_count": 3,
   "id": "b4b9687a",
   "metadata": {
    "scrolled": true
   },
   "outputs": [
    {
     "data": {
      "text/plain": [
       "[['啊', 'https://hanzi.unihan.com.cn/Search?key=%E5%95%8A', 'HSK-1'],\n",
       " ['矮', 'https://hanzi.unihan.com.cn/Search?key=%E7%9F%AE', 'HSK-1'],\n",
       " ['爱', 'https://hanzi.unihan.com.cn/Search?key=%E7%88%B1', 'HSK-1'],\n",
       " ['安', 'https://hanzi.unihan.com.cn/Search?key=%E5%AE%89', 'HSK-1'],\n",
       " ['吧', 'https://hanzi.unihan.com.cn/Search?key=%E5%90%A7', 'HSK-1'],\n",
       " ['八', 'https://hanzi.unihan.com.cn/Search?key=%E5%85%AB', 'HSK-1'],\n",
       " ['把', 'https://hanzi.unihan.com.cn/Search?key=%E6%8A%8A', 'HSK-1'],\n",
       " ['爸', 'https://hanzi.unihan.com.cn/Search?key=%E7%88%B8', 'HSK-1'],\n",
       " ['白', 'https://hanzi.unihan.com.cn/Search?key=%E7%99%BD', 'HSK-1'],\n",
       " ['百', 'https://hanzi.unihan.com.cn/Search?key=%E7%99%BE', 'HSK-1'],\n",
       " ['摆', 'https://hanzi.unihan.com.cn/Search?key=%E6%91%86', 'HSK-1'],\n",
       " ['班', 'https://hanzi.unihan.com.cn/Search?key=%E7%8F%AD', 'HSK-1'],\n",
       " ['搬', 'https://hanzi.unihan.com.cn/Search?key=%E6%90%AC', 'HSK-1'],\n",
       " ['般', 'https://hanzi.unihan.com.cn/Search?key=%E8%88%AC', 'HSK-1'],\n",
       " ['板', 'https://hanzi.unihan.com.cn/Search?key=%E6%9D%BF', 'HSK-1'],\n",
       " ['半', 'https://hanzi.unihan.com.cn/Search?key=%E5%8D%8A', 'HSK-1'],\n",
       " ['办', 'https://hanzi.unihan.com.cn/Search?key=%E5%8A%9E', 'HSK-1'],\n",
       " ['帮', 'https://hanzi.unihan.com.cn/Search?key=%E5%B8%AE', 'HSK-1'],\n",
       " ['包', 'https://hanzi.unihan.com.cn/Search?key=%E5%8C%85', 'HSK-1'],\n",
       " ['饱', 'https://hanzi.unihan.com.cn/Search?key=%E9%A5%B1', 'HSK-1'],\n",
       " ['抱', 'https://hanzi.unihan.com.cn/Search?key=%E6%8A%B1', 'HSK-1'],\n",
       " ['报', 'https://hanzi.unihan.com.cn/Search?key=%E6%8A%A5', 'HSK-1'],\n",
       " ['杯', 'https://hanzi.unihan.com.cn/Search?key=%E6%9D%AF', 'HSK-1'],\n",
       " ['北', 'https://hanzi.unihan.com.cn/Search?key=%E5%8C%97', 'HSK-1'],\n",
       " ['倍', 'https://hanzi.unihan.com.cn/Search?key=%E5%80%8D', 'HSK-1'],\n",
       " ['备', 'https://hanzi.unihan.com.cn/Search?key=%E5%A4%87', 'HSK-1'],\n",
       " ['被', 'https://hanzi.unihan.com.cn/Search?key=%E8%A2%AB', 'HSK-1'],\n",
       " ['本', 'https://hanzi.unihan.com.cn/Search?key=%E6%9C%AC', 'HSK-1'],\n",
       " ['比', 'https://hanzi.unihan.com.cn/Search?key=%E6%AF%94', 'HSK-1'],\n",
       " ['笔', 'https://hanzi.unihan.com.cn/Search?key=%E7%AC%94', 'HSK-1'],\n",
       " ['必', 'https://hanzi.unihan.com.cn/Search?key=%E5%BF%85', 'HSK-1'],\n",
       " ['边', 'https://hanzi.unihan.com.cn/Search?key=%E8%BE%B9', 'HSK-1'],\n",
       " ['便', 'https://hanzi.unihan.com.cn/Search?key=%E4%BE%BF', 'HSK-1'],\n",
       " ['变', 'https://hanzi.unihan.com.cn/Search?key=%E5%8F%98', 'HSK-1'],\n",
       " ['遍', 'https://hanzi.unihan.com.cn/Search?key=%E9%81%8D', 'HSK-1'],\n",
       " ['表', 'https://hanzi.unihan.com.cn/Search?key=%E8%A1%A8', 'HSK-1'],\n",
       " ['别', 'https://hanzi.unihan.com.cn/Search?key=%E5%88%AB', 'HSK-1'],\n",
       " ['病', 'https://hanzi.unihan.com.cn/Search?key=%E7%97%85', 'HSK-1'],\n",
       " ['播', 'https://hanzi.unihan.com.cn/Search?key=%E6%92%AD', 'HSK-1'],\n",
       " ['不', 'https://hanzi.unihan.com.cn/Search?key=%E4%B8%8D', 'HSK-1'],\n",
       " ['布', 'https://hanzi.unihan.com.cn/Search?key=%E5%B8%83', 'HSK-1'],\n",
       " ['步', 'https://hanzi.unihan.com.cn/Search?key=%E6%AD%A5', 'HSK-1'],\n",
       " ['部', 'https://hanzi.unihan.com.cn/Search?key=%E9%83%A8', 'HSK-1'],\n",
       " ['擦', 'https://hanzi.unihan.com.cn/Search?key=%E6%93%A6', 'HSK-1'],\n",
       " ['才', 'https://hanzi.unihan.com.cn/Search?key=%E6%89%8D', 'HSK-1'],\n",
       " ['彩', 'https://hanzi.unihan.com.cn/Search?key=%E5%BD%A9', 'HSK-1'],\n",
       " ['菜', 'https://hanzi.unihan.com.cn/Search?key=%E8%8F%9C', 'HSK-1'],\n",
       " ['参', 'https://hanzi.unihan.com.cn/Search?key=%E5%8F%82', 'HSK-1'],\n",
       " ['操', 'https://hanzi.unihan.com.cn/Search?key=%E6%93%8D', 'HSK-1'],\n",
       " ['草', 'https://hanzi.unihan.com.cn/Search?key=%E8%8D%89', 'HSK-1'],\n",
       " ['层', 'https://hanzi.unihan.com.cn/Search?key=%E5%B1%82', 'HSK-1'],\n",
       " ['茶', 'https://hanzi.unihan.com.cn/Search?key=%E8%8C%B6', 'HSK-1'],\n",
       " ['查', 'https://hanzi.unihan.com.cn/Search?key=%E6%9F%A5', 'HSK-1'],\n",
       " ['差', 'https://hanzi.unihan.com.cn/Search?key=%E5%B7%AE', 'HSK-1'],\n",
       " ['产', 'https://hanzi.unihan.com.cn/Search?key=%E4%BA%A7', 'HSK-1'],\n",
       " ['常', 'https://hanzi.unihan.com.cn/Search?key=%E5%B8%B8', 'HSK-1'],\n",
       " ['长', 'https://hanzi.unihan.com.cn/Search?key=%E9%95%BF', 'HSK-1'],\n",
       " ['厂', 'https://hanzi.unihan.com.cn/Search?key=%E5%8E%82', 'HSK-1'],\n",
       " ['场', 'https://hanzi.unihan.com.cn/Search?key=%E5%9C%BA', 'HSK-1'],\n",
       " ['唱', 'https://hanzi.unihan.com.cn/Search?key=%E5%94%B1', 'HSK-1'],\n",
       " ['朝', 'https://hanzi.unihan.com.cn/Search?key=%E6%9C%9D', 'HSK-1'],\n",
       " ['车', 'https://hanzi.unihan.com.cn/Search?key=%E8%BD%A6', 'HSK-1'],\n",
       " ['晨', 'https://hanzi.unihan.com.cn/Search?key=%E6%99%A8', 'HSK-1'],\n",
       " ['城', 'https://hanzi.unihan.com.cn/Search?key=%E5%9F%8E', 'HSK-1'],\n",
       " ['成', 'https://hanzi.unihan.com.cn/Search?key=%E6%88%90', 'HSK-1'],\n",
       " ['吃', 'https://hanzi.unihan.com.cn/Search?key=%E5%90%83', 'HSK-1'],\n",
       " ['持', 'https://hanzi.unihan.com.cn/Search?key=%E6%8C%81', 'HSK-1'],\n",
       " ['迟', 'https://hanzi.unihan.com.cn/Search?key=%E8%BF%9F', 'HSK-1'],\n",
       " ['抽', 'https://hanzi.unihan.com.cn/Search?key=%E6%8A%BD', 'HSK-1'],\n",
       " ['初', 'https://hanzi.unihan.com.cn/Search?key=%E5%88%9D', 'HSK-1'],\n",
       " ['出', 'https://hanzi.unihan.com.cn/Search?key=%E5%87%BA', 'HSK-1'],\n",
       " ['除', 'https://hanzi.unihan.com.cn/Search?key=%E9%99%A4', 'HSK-1'],\n",
       " ['楚', 'https://hanzi.unihan.com.cn/Search?key=%E6%A5%9A', 'HSK-1'],\n",
       " ['础', 'https://hanzi.unihan.com.cn/Search?key=%E7%A1%80', 'HSK-1'],\n",
       " ['处', 'https://hanzi.unihan.com.cn/Search?key=%E5%A4%84', 'HSK-1'],\n",
       " ['穿', 'https://hanzi.unihan.com.cn/Search?key=%E7%A9%BF', 'HSK-1'],\n",
       " ['船', 'https://hanzi.unihan.com.cn/Search?key=%E8%88%B9', 'HSK-1'],\n",
       " ['窗', 'https://hanzi.unihan.com.cn/Search?key=%E7%AA%97', 'HSK-1'],\n",
       " ['床', 'https://hanzi.unihan.com.cn/Search?key=%E5%BA%8A', 'HSK-1'],\n",
       " ['吹', 'https://hanzi.unihan.com.cn/Search?key=%E5%90%B9', 'HSK-1'],\n",
       " ['春', 'https://hanzi.unihan.com.cn/Search?key=%E6%98%A5', 'HSK-1'],\n",
       " ['磁', 'https://hanzi.unihan.com.cn/Search?key=%E7%A3%81', 'HSK-1'],\n",
       " ['词', 'https://hanzi.unihan.com.cn/Search?key=%E8%AF%8D', 'HSK-1'],\n",
       " ['次', 'https://hanzi.unihan.com.cn/Search?key=%E6%AC%A1', 'HSK-1'],\n",
       " ['从', 'https://hanzi.unihan.com.cn/Search?key=%E4%BB%8E', 'HSK-1'],\n",
       " ['村', 'https://hanzi.unihan.com.cn/Search?key=%E6%9D%91', 'HSK-1'],\n",
       " ['错', 'https://hanzi.unihan.com.cn/Search?key=%E9%94%99', 'HSK-1'],\n",
       " ['答', 'https://hanzi.unihan.com.cn/Search?key=%E7%AD%94', 'HSK-1'],\n",
       " ['打', 'https://hanzi.unihan.com.cn/Search?key=%E6%89%93', 'HSK-1'],\n",
       " ['大', 'https://hanzi.unihan.com.cn/Search?key=%E5%A4%A7', 'HSK-1'],\n",
       " ['戴', 'https://hanzi.unihan.com.cn/Search?key=%E6%88%B4', 'HSK-1'],\n",
       " ['带', 'https://hanzi.unihan.com.cn/Search?key=%E5%B8%A6', 'HSK-1'],\n",
       " ['代', 'https://hanzi.unihan.com.cn/Search?key=%E4%BB%A3', 'HSK-1'],\n",
       " ['单', 'https://hanzi.unihan.com.cn/Search?key=%E5%8D%95', 'HSK-1'],\n",
       " ['但', 'https://hanzi.unihan.com.cn/Search?key=%E4%BD%86', 'HSK-1'],\n",
       " ['蛋', 'https://hanzi.unihan.com.cn/Search?key=%E8%9B%8B', 'HSK-1'],\n",
       " ['当', 'https://hanzi.unihan.com.cn/Search?key=%E5%BD%93', 'HSK-1'],\n",
       " ['刀', 'https://hanzi.unihan.com.cn/Search?key=%E5%88%80', 'HSK-1'],\n",
       " ['倒', 'https://hanzi.unihan.com.cn/Search?key=%E5%80%92', 'HSK-1'],\n",
       " ['导', 'https://hanzi.unihan.com.cn/Search?key=%E5%AF%BC', 'HSK-1']]"
      ]
     },
     "execution_count": 3,
     "metadata": {},
     "output_type": "execute_result"
    }
   ],
   "source": [
    "data[:100]"
   ]
  },
  {
   "cell_type": "code",
   "execution_count": 4,
   "id": "6ddde125",
   "metadata": {},
   "outputs": [
    {
     "data": {
      "text/plain": [
       "6405"
      ]
     },
     "execution_count": 4,
     "metadata": {},
     "output_type": "execute_result"
    }
   ],
   "source": [
    "len(data)  # 6405"
   ]
  },
  {
   "cell_type": "code",
   "execution_count": 5,
   "id": "393720fd",
   "metadata": {},
   "outputs": [],
   "source": [
    "with open('hsk-unique.pkl', 'rb') as fo:\n",
    "    zi_dict = pickle.load(fo)"
   ]
  },
  {
   "cell_type": "code",
   "execution_count": 6,
   "id": "28ce38b1",
   "metadata": {
    "scrolled": true
   },
   "outputs": [
    {
     "name": "stdout",
     "output_type": "stream",
     "text": [
      "啊 ['https://hanzi.unihan.com.cn/Search?key=%E5%95%8A', 'Common-10']\n",
      "矮 ['https://hanzi.unihan.com.cn/Search?key=%E7%9F%AE', 'Common-14']\n",
      "爱 ['https://hanzi.unihan.com.cn/Search?key=%E7%88%B1', 'Common-10']\n",
      "安 ['https://hanzi.unihan.com.cn/Search?key=%E5%AE%89', 'Common-4']\n",
      "吧 ['https://hanzi.unihan.com.cn/Search?key=%E5%90%A7', 'Common-4']\n",
      "八 ['https://hanzi.unihan.com.cn/Search?key=%E5%85%AB', 'Common-1']\n",
      "把 ['https://hanzi.unihan.com.cn/Search?key=%E6%8A%8A', 'Common-4']\n",
      "爸 ['https://hanzi.unihan.com.cn/Search?key=%E7%88%B8', 'Common-7']\n",
      "白 ['https://hanzi.unihan.com.cn/Search?key=%E7%99%BD', 'Common-2']\n",
      "百 ['https://hanzi.unihan.com.cn/Search?key=%E7%99%BE', 'Common-3']\n",
      "摆 ['https://hanzi.unihan.com.cn/Search?key=%E6%91%86', 'Common-14']\n",
      "班 ['https://hanzi.unihan.com.cn/Search?key=%E7%8F%AD', 'Common-9']\n",
      "搬 ['https://hanzi.unihan.com.cn/Search?key=%E6%90%AC', 'Common-14']\n",
      "般 ['https://hanzi.unihan.com.cn/Search?key=%E8%88%AC', 'Common-10']\n",
      "板 ['https://hanzi.unihan.com.cn/Search?key=%E6%9D%BF', 'Common-6']\n",
      "半 ['https://hanzi.unihan.com.cn/Search?key=%E5%8D%8A', 'Common-2']\n",
      "办 ['https://hanzi.unihan.com.cn/Search?key=%E5%8A%9E', 'Common-2']\n",
      "帮 ['https://hanzi.unihan.com.cn/Search?key=%E5%B8%AE', 'Common-7']\n",
      "包 ['https://hanzi.unihan.com.cn/Search?key=%E5%8C%85', 'Common-2']\n",
      "饱 ['https://hanzi.unihan.com.cn/Search?key=%E9%A5%B1', 'Common-7']\n",
      "抱 ['https://hanzi.unihan.com.cn/Search?key=%E6%8A%B1', 'Common-6']\n",
      "报 ['https://hanzi.unihan.com.cn/Search?key=%E6%8A%A5', 'Common-4']\n",
      "杯 ['https://hanzi.unihan.com.cn/Search?key=%E6%9D%AF', 'Common-6']\n",
      "北 ['https://hanzi.unihan.com.cn/Search?key=%E5%8C%97', 'Common-2']\n",
      "倍 ['https://hanzi.unihan.com.cn/Search?key=%E5%80%8D', 'Common-10']\n",
      "备 ['https://hanzi.unihan.com.cn/Search?key=%E5%A4%87', 'Common-7']\n",
      "被 ['https://hanzi.unihan.com.cn/Search?key=%E8%A2%AB', 'Common-11']\n",
      "本 ['https://hanzi.unihan.com.cn/Search?key=%E6%9C%AC', 'Common-2']\n",
      "比 ['https://hanzi.unihan.com.cn/Search?key=%E6%AF%94', 'Common-1']\n",
      "笔 ['https://hanzi.unihan.com.cn/Search?key=%E7%AC%94', 'Common-10']\n",
      "必 ['https://hanzi.unihan.com.cn/Search?key=%E5%BF%85', 'Common-2']\n",
      "边 ['https://hanzi.unihan.com.cn/Search?key=%E8%BE%B9', 'Common-2']\n",
      "便 ['https://hanzi.unihan.com.cn/Search?key=%E4%BE%BF', 'Common-8']\n",
      "变 ['https://hanzi.unihan.com.cn/Search?key=%E5%8F%98', 'Common-7']\n",
      "遍 ['https://hanzi.unihan.com.cn/Search?key=%E9%81%8D', 'Common-14']\n",
      "表 ['https://hanzi.unihan.com.cn/Search?key=%E8%A1%A8', 'Common-5']\n",
      "别 ['https://hanzi.unihan.com.cn/Search?key=%E5%88%AB', 'Common-5']\n",
      "病 ['https://hanzi.unihan.com.cn/Search?key=%E7%97%85', 'Common-10']\n",
      "播 ['https://hanzi.unihan.com.cn/Search?key=%E6%92%AD', 'Common-15']\n",
      "不 ['https://hanzi.unihan.com.cn/Search?key=%E4%B8%8D', 'Common-1']\n",
      "布 ['https://hanzi.unihan.com.cn/Search?key=%E5%B8%83', 'Common-2']\n",
      "步 ['https://hanzi.unihan.com.cn/Search?key=%E6%AD%A5', 'Common-4']\n",
      "部 ['https://hanzi.unihan.com.cn/Search?key=%E9%83%A8', 'Common-11']\n",
      "擦 ['https://hanzi.unihan.com.cn/Search?key=%E6%93%A6', 'Common-16']\n",
      "才 ['https://hanzi.unihan.com.cn/Search?key=%E6%89%8D', 'Common-1']\n",
      "彩 ['https://hanzi.unihan.com.cn/Search?key=%E5%BD%A9', 'Common-12']\n",
      "菜 ['https://hanzi.unihan.com.cn/Search?key=%E8%8F%9C', 'Common-11']\n",
      "参 ['https://hanzi.unihan.com.cn/Search?key=%E5%8F%82', 'Common-7']\n",
      "操 ['https://hanzi.unihan.com.cn/Search?key=%E6%93%8D', 'Common-16']\n",
      "草 ['https://hanzi.unihan.com.cn/Search?key=%E8%8D%89', 'Common-8']\n",
      "层 ['https://hanzi.unihan.com.cn/Search?key=%E5%B1%82', 'Common-5']\n",
      "茶 ['https://hanzi.unihan.com.cn/Search?key=%E8%8C%B6', 'Common-8']\n",
      "查 ['https://hanzi.unihan.com.cn/Search?key=%E6%9F%A5', 'Common-8']\n",
      "差 ['https://hanzi.unihan.com.cn/Search?key=%E5%B7%AE', 'Common-9']\n",
      "产 ['https://hanzi.unihan.com.cn/Search?key=%E4%BA%A7', 'Common-3']\n",
      "常 ['https://hanzi.unihan.com.cn/Search?key=%E5%B8%B8', 'Common-12']\n",
      "长 ['https://hanzi.unihan.com.cn/Search?key=%E9%95%BF', 'Common-1']\n",
      "厂 ['https://hanzi.unihan.com.cn/Search?key=%E5%8E%82', 'Common-1']\n",
      "场 ['https://hanzi.unihan.com.cn/Search?key=%E5%9C%BA', 'Common-3']\n",
      "唱 ['https://hanzi.unihan.com.cn/Search?key=%E5%94%B1', 'Common-12']\n",
      "朝 ['https://hanzi.unihan.com.cn/Search?key=%E6%9C%9D', 'Common-13']\n",
      "车 ['https://hanzi.unihan.com.cn/Search?key=%E8%BD%A6', 'Common-1']\n",
      "晨 ['https://hanzi.unihan.com.cn/Search?key=%E6%99%A8', 'Common-12']\n",
      "城 ['https://hanzi.unihan.com.cn/Search?key=%E5%9F%8E', 'Common-7']\n",
      "成 ['https://hanzi.unihan.com.cn/Search?key=%E6%88%90', 'Common-3']\n",
      "吃 ['https://hanzi.unihan.com.cn/Search?key=%E5%90%83', 'Common-3']\n",
      "持 ['https://hanzi.unihan.com.cn/Search?key=%E6%8C%81', 'Common-7']\n",
      "迟 ['https://hanzi.unihan.com.cn/Search?key=%E8%BF%9F', 'Common-5']\n",
      "抽 ['https://hanzi.unihan.com.cn/Search?key=%E6%8A%BD', 'Common-6']\n",
      "初 ['https://hanzi.unihan.com.cn/Search?key=%E5%88%9D', 'Common-5']\n",
      "出 ['https://hanzi.unihan.com.cn/Search?key=%E5%87%BA', 'Common-2']\n",
      "除 ['https://hanzi.unihan.com.cn/Search?key=%E9%99%A4', 'Common-9']\n",
      "楚 ['https://hanzi.unihan.com.cn/Search?key=%E6%A5%9A', 'Common-14']\n",
      "础 ['https://hanzi.unihan.com.cn/Search?key=%E7%A1%80', 'Common-10']\n",
      "处 ['https://hanzi.unihan.com.cn/Search?key=%E5%A4%84', 'Common-2']\n",
      "穿 ['https://hanzi.unihan.com.cn/Search?key=%E7%A9%BF', 'Common-9']\n",
      "船 ['https://hanzi.unihan.com.cn/Search?key=%E8%88%B9', 'Common-12']\n",
      "窗 ['https://hanzi.unihan.com.cn/Search?key=%E7%AA%97', 'Common-14']\n",
      "床 ['https://hanzi.unihan.com.cn/Search?key=%E5%BA%8A', 'Common-5']\n",
      "吹 ['https://hanzi.unihan.com.cn/Search?key=%E5%90%B9', 'Common-4']\n",
      "春 ['https://hanzi.unihan.com.cn/Search?key=%E6%98%A5', 'Common-7']\n",
      "磁 ['https://hanzi.unihan.com.cn/Search?key=%E7%A3%81', 'Common-15']\n",
      "词 ['https://hanzi.unihan.com.cn/Search?key=%E8%AF%8D', 'Common-5']\n",
      "次 ['https://hanzi.unihan.com.cn/Search?key=%E6%AC%A1', 'Common-3']\n",
      "从 ['https://hanzi.unihan.com.cn/Search?key=%E4%BB%8E', 'Common-1']\n",
      "村 ['https://hanzi.unihan.com.cn/Search?key=%E6%9D%91', 'Common-4']\n",
      "错 ['https://hanzi.unihan.com.cn/Search?key=%E9%94%99', 'Common-14']\n",
      "答 ['https://hanzi.unihan.com.cn/Search?key=%E7%AD%94', 'Common-13']\n",
      "打 ['https://hanzi.unihan.com.cn/Search?key=%E6%89%93', 'Common-2']\n",
      "大 ['https://hanzi.unihan.com.cn/Search?key=%E5%A4%A7', 'Common-1']\n",
      "戴 ['https://hanzi.unihan.com.cn/Search?key=%E6%88%B4', 'Common-16']\n",
      "带 ['https://hanzi.unihan.com.cn/Search?key=%E5%B8%A6', 'Common-8']\n",
      "代 ['https://hanzi.unihan.com.cn/Search?key=%E4%BB%A3', 'Common-2']\n",
      "单 ['https://hanzi.unihan.com.cn/Search?key=%E5%8D%95', 'Common-7']\n",
      "但 ['https://hanzi.unihan.com.cn/Search?key=%E4%BD%86', 'Common-5']\n",
      "蛋 ['https://hanzi.unihan.com.cn/Search?key=%E8%9B%8B', 'Common-12']\n",
      "当 ['https://hanzi.unihan.com.cn/Search?key=%E5%BD%93', 'Common-3']\n",
      "刀 ['https://hanzi.unihan.com.cn/Search?key=%E5%88%80', 'Common-1']\n",
      "倒 ['https://hanzi.unihan.com.cn/Search?key=%E5%80%92', 'Common-10']\n",
      "导 ['https://hanzi.unihan.com.cn/Search?key=%E5%AF%BC', 'Common-4']\n",
      "到 ['https://hanzi.unihan.com.cn/Search?key=%E5%88%B0', 'Common-6']\n"
     ]
    }
   ],
   "source": [
    "n = 0\n",
    "for k,v in zi_dict.items():\n",
    "    if n > 100: break\n",
    "    print(k, v)\n",
    "    n += 1 "
   ]
  },
  {
   "cell_type": "code",
   "execution_count": 7,
   "id": "aa16abcb",
   "metadata": {},
   "outputs": [
    {
     "data": {
      "text/plain": [
       "3535"
      ]
     },
     "execution_count": 7,
     "metadata": {},
     "output_type": "execute_result"
    }
   ],
   "source": [
    "len(zi_dict)  # 3535"
   ]
  },
  {
   "cell_type": "markdown",
   "id": "31eaabf1",
   "metadata": {},
   "source": [
    "## Load zi_dict to table t_zi_hsk"
   ]
  },
  {
   "cell_type": "code",
   "execution_count": 11,
   "id": "af1a6496",
   "metadata": {},
   "outputs": [],
   "source": [
    "data_zi = []\n",
    "for zi, url_level in zi_dict.items():\n",
    "    data_zi.append([zi] + url_level)"
   ]
  },
  {
   "cell_type": "code",
   "execution_count": 12,
   "id": "bb6ff306",
   "metadata": {},
   "outputs": [
    {
     "data": {
      "text/plain": [
       "(3535,\n",
       " [['啊', 'https://hanzi.unihan.com.cn/Search?key=%E5%95%8A', 'Common-10'],\n",
       "  ['矮', 'https://hanzi.unihan.com.cn/Search?key=%E7%9F%AE', 'Common-14'],\n",
       "  ['爱', 'https://hanzi.unihan.com.cn/Search?key=%E7%88%B1', 'Common-10'],\n",
       "  ['安', 'https://hanzi.unihan.com.cn/Search?key=%E5%AE%89', 'Common-4']])"
      ]
     },
     "execution_count": 12,
     "metadata": {},
     "output_type": "execute_result"
    }
   ],
   "source": [
    "len(data_zi), data_zi[:4]"
   ]
  },
  {
   "cell_type": "code",
   "execution_count": 14,
   "id": "23965401",
   "metadata": {},
   "outputs": [],
   "source": [
    "df_zi = pd.DataFrame(data_zi, columns=[\"zi\", \"url\", \"hsk_level\"])"
   ]
  },
  {
   "cell_type": "code",
   "execution_count": 15,
   "id": "17d2be0c",
   "metadata": {},
   "outputs": [
    {
     "data": {
      "text/html": [
       "<div>\n",
       "<style scoped>\n",
       "    .dataframe tbody tr th:only-of-type {\n",
       "        vertical-align: middle;\n",
       "    }\n",
       "\n",
       "    .dataframe tbody tr th {\n",
       "        vertical-align: top;\n",
       "    }\n",
       "\n",
       "    .dataframe thead th {\n",
       "        text-align: right;\n",
       "    }\n",
       "</style>\n",
       "<table border=\"1\" class=\"dataframe\">\n",
       "  <thead>\n",
       "    <tr style=\"text-align: right;\">\n",
       "      <th></th>\n",
       "      <th>zi</th>\n",
       "      <th>url</th>\n",
       "      <th>hsk_level</th>\n",
       "    </tr>\n",
       "  </thead>\n",
       "  <tbody>\n",
       "    <tr>\n",
       "      <th>0</th>\n",
       "      <td>啊</td>\n",
       "      <td>https://hanzi.unihan.com.cn/Search?key=%E5%95%8A</td>\n",
       "      <td>Common-10</td>\n",
       "    </tr>\n",
       "    <tr>\n",
       "      <th>1</th>\n",
       "      <td>矮</td>\n",
       "      <td>https://hanzi.unihan.com.cn/Search?key=%E7%9F%AE</td>\n",
       "      <td>Common-14</td>\n",
       "    </tr>\n",
       "    <tr>\n",
       "      <th>2</th>\n",
       "      <td>爱</td>\n",
       "      <td>https://hanzi.unihan.com.cn/Search?key=%E7%88%B1</td>\n",
       "      <td>Common-10</td>\n",
       "    </tr>\n",
       "    <tr>\n",
       "      <th>3</th>\n",
       "      <td>安</td>\n",
       "      <td>https://hanzi.unihan.com.cn/Search?key=%E5%AE%89</td>\n",
       "      <td>Common-4</td>\n",
       "    </tr>\n",
       "    <tr>\n",
       "      <th>4</th>\n",
       "      <td>吧</td>\n",
       "      <td>https://hanzi.unihan.com.cn/Search?key=%E5%90%A7</td>\n",
       "      <td>Common-4</td>\n",
       "    </tr>\n",
       "    <tr>\n",
       "      <th>...</th>\n",
       "      <td>...</td>\n",
       "      <td>...</td>\n",
       "      <td>...</td>\n",
       "    </tr>\n",
       "    <tr>\n",
       "      <th>3530</th>\n",
       "      <td>躏</td>\n",
       "      <td>https://hanzi.unihan.com.cn/Search?key=%E8%BA%8F</td>\n",
       "      <td>CommonLow-7</td>\n",
       "    </tr>\n",
       "    <tr>\n",
       "      <th>3531</th>\n",
       "      <td>髓</td>\n",
       "      <td>https://hanzi.unihan.com.cn/Search?key=%E9%AB%93</td>\n",
       "      <td>CommonLow-7</td>\n",
       "    </tr>\n",
       "    <tr>\n",
       "      <th>3532</th>\n",
       "      <td>蘸</td>\n",
       "      <td>https://hanzi.unihan.com.cn/Search?key=%E8%98%B8</td>\n",
       "      <td>CommonLow-7</td>\n",
       "    </tr>\n",
       "    <tr>\n",
       "      <th>3533</th>\n",
       "      <td>瓤</td>\n",
       "      <td>https://hanzi.unihan.com.cn/Search?key=%E7%93%A4</td>\n",
       "      <td>CommonLow-7</td>\n",
       "    </tr>\n",
       "    <tr>\n",
       "      <th>3534</th>\n",
       "      <td>矗</td>\n",
       "      <td>https://hanzi.unihan.com.cn/Search?key=%E7%9F%97</td>\n",
       "      <td>CommonLow-7</td>\n",
       "    </tr>\n",
       "  </tbody>\n",
       "</table>\n",
       "<p>3535 rows × 3 columns</p>\n",
       "</div>"
      ],
      "text/plain": [
       "     zi                                               url    hsk_level\n",
       "0     啊  https://hanzi.unihan.com.cn/Search?key=%E5%95%8A    Common-10\n",
       "1     矮  https://hanzi.unihan.com.cn/Search?key=%E7%9F%AE    Common-14\n",
       "2     爱  https://hanzi.unihan.com.cn/Search?key=%E7%88%B1    Common-10\n",
       "3     安  https://hanzi.unihan.com.cn/Search?key=%E5%AE%89     Common-4\n",
       "4     吧  https://hanzi.unihan.com.cn/Search?key=%E5%90%A7     Common-4\n",
       "...  ..                                               ...          ...\n",
       "3530  躏  https://hanzi.unihan.com.cn/Search?key=%E8%BA%8F  CommonLow-7\n",
       "3531  髓  https://hanzi.unihan.com.cn/Search?key=%E9%AB%93  CommonLow-7\n",
       "3532  蘸  https://hanzi.unihan.com.cn/Search?key=%E8%98%B8  CommonLow-7\n",
       "3533  瓤  https://hanzi.unihan.com.cn/Search?key=%E7%93%A4  CommonLow-7\n",
       "3534  矗  https://hanzi.unihan.com.cn/Search?key=%E7%9F%97  CommonLow-7\n",
       "\n",
       "[3535 rows x 3 columns]"
      ]
     },
     "execution_count": 15,
     "metadata": {},
     "output_type": "execute_result"
    }
   ],
   "source": [
    "df_zi "
   ]
  },
  {
   "cell_type": "code",
   "execution_count": 17,
   "id": "65484625",
   "metadata": {},
   "outputs": [],
   "source": [
    "with DBConn(db_file=\"zinets.sqlite\") as _conn:\n",
    "    df_zi.to_sql(\"t_zi_hsk\", con=_conn, if_exists=\"append\", index=False)"
   ]
  },
  {
   "cell_type": "code",
   "execution_count": 16,
   "id": "53dae4a5",
   "metadata": {},
   "outputs": [
    {
     "name": "stdout",
     "output_type": "stream",
     "text": [
      " Volume in drive C is Windows\n",
      " Volume Serial Number is 6EA7-3DCA\n",
      "\n",
      " Directory of C:\\Users\\p2p2l\\projects\\wgong\\zistory\\zinets\\app\n",
      "\n",
      "08/11/2023  10:11 PM            32,768 apple.sqlite\n",
      "08/26/2023  09:07 PM                 0 chats.sqlite\n",
      "08/29/2023  12:04 AM            73,728 zinets.sqlite\n",
      "               3 File(s)        106,496 bytes\n",
      "               0 Dir(s)  271,492,538,368 bytes free\n"
     ]
    }
   ],
   "source": [
    "!dir *.sqlite "
   ]
  },
  {
   "cell_type": "code",
   "execution_count": null,
   "id": "3a90fa5e",
   "metadata": {},
   "outputs": [],
   "source": []
  },
  {
   "cell_type": "markdown",
   "id": "51d1c7ac",
   "metadata": {},
   "source": [
    "## Load radicals\n",
    "\n",
    "### radicals.csv to table t_radical_1"
   ]
  },
  {
   "cell_type": "code",
   "execution_count": 18,
   "id": "a31baacd",
   "metadata": {},
   "outputs": [],
   "source": [
    "df_rad_1 = pd.read_csv(\"../resources/radicals.csv\")"
   ]
  },
  {
   "cell_type": "code",
   "execution_count": 20,
   "id": "7f474e3a",
   "metadata": {},
   "outputs": [],
   "source": [
    "df_rad_1.fillna(\"\", inplace=True)"
   ]
  },
  {
   "cell_type": "code",
   "execution_count": 21,
   "id": "53ceee0c",
   "metadata": {},
   "outputs": [
    {
     "data": {
      "text/html": [
       "<div>\n",
       "<style scoped>\n",
       "    .dataframe tbody tr th:only-of-type {\n",
       "        vertical-align: middle;\n",
       "    }\n",
       "\n",
       "    .dataframe tbody tr th {\n",
       "        vertical-align: top;\n",
       "    }\n",
       "\n",
       "    .dataframe thead th {\n",
       "        text-align: right;\n",
       "    }\n",
       "</style>\n",
       "<table border=\"1\" class=\"dataframe\">\n",
       "  <thead>\n",
       "    <tr style=\"text-align: right;\">\n",
       "      <th></th>\n",
       "      <th>zi</th>\n",
       "      <th>is_radical</th>\n",
       "      <th>is_zi</th>\n",
       "      <th>simplified</th>\n",
       "    </tr>\n",
       "  </thead>\n",
       "  <tbody>\n",
       "    <tr>\n",
       "      <th>0</th>\n",
       "      <td>⼀</td>\n",
       "      <td>1</td>\n",
       "      <td>1</td>\n",
       "      <td></td>\n",
       "    </tr>\n",
       "    <tr>\n",
       "      <th>1</th>\n",
       "      <td>⼁</td>\n",
       "      <td>1</td>\n",
       "      <td>0</td>\n",
       "      <td></td>\n",
       "    </tr>\n",
       "    <tr>\n",
       "      <th>2</th>\n",
       "      <td>⼂</td>\n",
       "      <td>1</td>\n",
       "      <td>0</td>\n",
       "      <td></td>\n",
       "    </tr>\n",
       "    <tr>\n",
       "      <th>3</th>\n",
       "      <td>⼃</td>\n",
       "      <td>1</td>\n",
       "      <td>0</td>\n",
       "      <td></td>\n",
       "    </tr>\n",
       "    <tr>\n",
       "      <th>4</th>\n",
       "      <td>⼄</td>\n",
       "      <td>1</td>\n",
       "      <td>1</td>\n",
       "      <td></td>\n",
       "    </tr>\n",
       "    <tr>\n",
       "      <th>...</th>\n",
       "      <td>...</td>\n",
       "      <td>...</td>\n",
       "      <td>...</td>\n",
       "      <td>...</td>\n",
       "    </tr>\n",
       "    <tr>\n",
       "      <th>209</th>\n",
       "      <td>⿆</td>\n",
       "      <td>1</td>\n",
       "      <td>1</td>\n",
       "      <td>麦</td>\n",
       "    </tr>\n",
       "    <tr>\n",
       "      <th>210</th>\n",
       "      <td>⿑</td>\n",
       "      <td>1</td>\n",
       "      <td>0</td>\n",
       "      <td>齐</td>\n",
       "    </tr>\n",
       "    <tr>\n",
       "      <th>211</th>\n",
       "      <td>⿒</td>\n",
       "      <td>1</td>\n",
       "      <td>1</td>\n",
       "      <td>齿</td>\n",
       "    </tr>\n",
       "    <tr>\n",
       "      <th>212</th>\n",
       "      <td>⿓</td>\n",
       "      <td>1</td>\n",
       "      <td>1</td>\n",
       "      <td>龙</td>\n",
       "    </tr>\n",
       "    <tr>\n",
       "      <th>213</th>\n",
       "      <td>⿔</td>\n",
       "      <td>1</td>\n",
       "      <td>0</td>\n",
       "      <td>龟</td>\n",
       "    </tr>\n",
       "  </tbody>\n",
       "</table>\n",
       "<p>214 rows × 4 columns</p>\n",
       "</div>"
      ],
      "text/plain": [
       "    zi  is_radical  is_zi simplified\n",
       "0    ⼀           1      1           \n",
       "1    ⼁           1      0           \n",
       "2    ⼂           1      0           \n",
       "3    ⼃           1      0           \n",
       "4    ⼄           1      1           \n",
       "..  ..         ...    ...        ...\n",
       "209  ⿆           1      1          麦\n",
       "210  ⿑           1      0          齐\n",
       "211  ⿒           1      1          齿\n",
       "212  ⿓           1      1          龙\n",
       "213  ⿔           1      0         龟 \n",
       "\n",
       "[214 rows x 4 columns]"
      ]
     },
     "execution_count": 21,
     "metadata": {},
     "output_type": "execute_result"
    }
   ],
   "source": [
    "df_rad_1"
   ]
  },
  {
   "cell_type": "code",
   "execution_count": 22,
   "id": "1323181c",
   "metadata": {},
   "outputs": [
    {
     "data": {
      "text/plain": [
       "Index(['zi', 'is_radical', 'is_zi', 'simplified'], dtype='object')"
      ]
     },
     "execution_count": 22,
     "metadata": {},
     "output_type": "execute_result"
    }
   ],
   "source": [
    "df_rad_1.columns"
   ]
  },
  {
   "cell_type": "code",
   "execution_count": 23,
   "id": "f4cc6652",
   "metadata": {},
   "outputs": [],
   "source": [
    "with DBConn(db_file=\"zinets.sqlite\") as _conn:\n",
    "    df_rad_1.to_sql(\"t_radical_1\", con=_conn, if_exists=\"append\", index=False)"
   ]
  },
  {
   "cell_type": "markdown",
   "id": "3b78ef30",
   "metadata": {},
   "source": [
    "### radicals-2.md to table t_radical_2"
   ]
  },
  {
   "cell_type": "code",
   "execution_count": 24,
   "id": "3f17d876",
   "metadata": {},
   "outputs": [],
   "source": [
    "with open(\"../resources/radicals-2.md\", encoding=\"utf-8\") as f:\n",
    "    lines = [i for i in f.read().split(\"\\n\") if i.strip() and not i.strip().startswith(\"#\")]"
   ]
  },
  {
   "cell_type": "code",
   "execution_count": 25,
   "id": "23b6750d",
   "metadata": {},
   "outputs": [
    {
     "data": {
      "text/plain": [
       "(88, ['一 (yī, one)', '丨 (gùn, line)', '丶 (zhǔ, dot)', '丿 (piě, slash)'])"
      ]
     },
     "execution_count": 25,
     "metadata": {},
     "output_type": "execute_result"
    }
   ],
   "source": [
    "len(lines), lines[:4]"
   ]
  },
  {
   "cell_type": "code",
   "execution_count": 38,
   "id": "1554740d",
   "metadata": {},
   "outputs": [],
   "source": [
    "import re\n",
    "\n",
    "def parse_text_string_regex(text_string):\n",
    "  \"\"\"\n",
    "  Parses a text string with the pattern \"word1 (word2, word3)\" using regex.\n",
    "\n",
    "  Args:\n",
    "    text_string: The text string to parse.\n",
    "\n",
    "  Returns:\n",
    "    A tuple of the words \"word1\", \"word2\", and \"word3\".\n",
    "  \"\"\"\n",
    "\n",
    "  pattern = r\"^(\\w+) \\((\\w+), (.*)\\)$\"\n",
    "  match = re.match(pattern, text_string)\n",
    "\n",
    "  if match is None:\n",
    "    print(f\"The text string does not match the expected pattern: {line}\")\n",
    "    return []\n",
    "\n",
    "  return match.groups()"
   ]
  },
  {
   "cell_type": "code",
   "execution_count": 39,
   "id": "5447d480",
   "metadata": {},
   "outputs": [
    {
     "data": {
      "text/plain": [
       "('一', 'yī', 'one')"
      ]
     },
     "execution_count": 39,
     "metadata": {},
     "output_type": "execute_result"
    }
   ],
   "source": [
    "parse_text_string_regex('一 (yī, one)')"
   ]
  },
  {
   "cell_type": "code",
   "execution_count": 40,
   "id": "512a62bc",
   "metadata": {},
   "outputs": [],
   "source": [
    "data_rad = []\n",
    "for line in lines:\n",
    "    t = parse_text_string_regex(line)\n",
    "    if t:\n",
    "        data_rad.append(t)"
   ]
  },
  {
   "cell_type": "code",
   "execution_count": 42,
   "id": "d63f2198",
   "metadata": {},
   "outputs": [],
   "source": [
    "df_rad_2 = pd.DataFrame(data_rad, columns=[\"zi\",\"pinyin\", \"meaning\"])"
   ]
  },
  {
   "cell_type": "code",
   "execution_count": 43,
   "id": "4a4cb66a",
   "metadata": {},
   "outputs": [
    {
     "data": {
      "text/html": [
       "<div>\n",
       "<style scoped>\n",
       "    .dataframe tbody tr th:only-of-type {\n",
       "        vertical-align: middle;\n",
       "    }\n",
       "\n",
       "    .dataframe tbody tr th {\n",
       "        vertical-align: top;\n",
       "    }\n",
       "\n",
       "    .dataframe thead th {\n",
       "        text-align: right;\n",
       "    }\n",
       "</style>\n",
       "<table border=\"1\" class=\"dataframe\">\n",
       "  <thead>\n",
       "    <tr style=\"text-align: right;\">\n",
       "      <th></th>\n",
       "      <th>zi</th>\n",
       "      <th>pinyin</th>\n",
       "      <th>meaning</th>\n",
       "    </tr>\n",
       "  </thead>\n",
       "  <tbody>\n",
       "    <tr>\n",
       "      <th>0</th>\n",
       "      <td>一</td>\n",
       "      <td>yī</td>\n",
       "      <td>one</td>\n",
       "    </tr>\n",
       "    <tr>\n",
       "      <th>1</th>\n",
       "      <td>丨</td>\n",
       "      <td>gùn</td>\n",
       "      <td>line</td>\n",
       "    </tr>\n",
       "    <tr>\n",
       "      <th>2</th>\n",
       "      <td>丶</td>\n",
       "      <td>zhǔ</td>\n",
       "      <td>dot</td>\n",
       "    </tr>\n",
       "    <tr>\n",
       "      <th>3</th>\n",
       "      <td>丿</td>\n",
       "      <td>piě</td>\n",
       "      <td>slash</td>\n",
       "    </tr>\n",
       "    <tr>\n",
       "      <th>4</th>\n",
       "      <td>乙</td>\n",
       "      <td>yǐ</td>\n",
       "      <td>second</td>\n",
       "    </tr>\n",
       "    <tr>\n",
       "      <th>...</th>\n",
       "      <td>...</td>\n",
       "      <td>...</td>\n",
       "      <td>...</td>\n",
       "    </tr>\n",
       "    <tr>\n",
       "      <th>83</th>\n",
       "      <td>干</td>\n",
       "      <td>gān</td>\n",
       "      <td>dry</td>\n",
       "    </tr>\n",
       "    <tr>\n",
       "      <th>84</th>\n",
       "      <td>幺</td>\n",
       "      <td>yāo</td>\n",
       "      <td>small</td>\n",
       "    </tr>\n",
       "    <tr>\n",
       "      <th>85</th>\n",
       "      <td>广</td>\n",
       "      <td>guǎng</td>\n",
       "      <td>wide</td>\n",
       "    </tr>\n",
       "    <tr>\n",
       "      <th>86</th>\n",
       "      <td>火</td>\n",
       "      <td>huǒ</td>\n",
       "      <td>fire</td>\n",
       "    </tr>\n",
       "    <tr>\n",
       "      <th>87</th>\n",
       "      <td>厶</td>\n",
       "      <td>sī</td>\n",
       "      <td>heart</td>\n",
       "    </tr>\n",
       "  </tbody>\n",
       "</table>\n",
       "<p>88 rows × 3 columns</p>\n",
       "</div>"
      ],
      "text/plain": [
       "   zi pinyin meaning\n",
       "0   一     yī     one\n",
       "1   丨    gùn    line\n",
       "2   丶    zhǔ     dot\n",
       "3   丿    piě   slash\n",
       "4   乙     yǐ  second\n",
       ".. ..    ...     ...\n",
       "83  干    gān     dry\n",
       "84  幺    yāo   small\n",
       "85  广  guǎng    wide\n",
       "86  火    huǒ    fire\n",
       "87  厶     sī   heart\n",
       "\n",
       "[88 rows x 3 columns]"
      ]
     },
     "execution_count": 43,
     "metadata": {},
     "output_type": "execute_result"
    }
   ],
   "source": [
    "df_rad_2"
   ]
  },
  {
   "cell_type": "code",
   "execution_count": 44,
   "id": "d3c98a21",
   "metadata": {},
   "outputs": [],
   "source": [
    "with DBConn(db_file=\"zinets.sqlite\") as _conn:\n",
    "    df_rad_2.to_sql(\"t_radical_2\", con=_conn, if_exists=\"append\", index=False)"
   ]
  },
  {
   "cell_type": "code",
   "execution_count": null,
   "id": "901915c3",
   "metadata": {},
   "outputs": [],
   "source": []
  },
  {
   "cell_type": "markdown",
   "id": "66a72366",
   "metadata": {},
   "source": [
    "## Load Zi from cc_cedict\n"
   ]
  },
  {
   "cell_type": "code",
   "execution_count": 54,
   "id": "ef0857f6",
   "metadata": {},
   "outputs": [],
   "source": [
    "db_file_cc_cedict = \"../resources/MDBG/cedict_1_0_ts_utf-8_mdbg/cc_cedict.db\"\n",
    "with DBConn(db_file=db_file_cc_cedict) as _conn:\n",
    "    sql_stmt = \"\"\" \n",
    "        select \n",
    "            simplified as zi,\n",
    "            '' as desc,\n",
    "            pinyin,\n",
    "            null as nstrokes,\n",
    "            traditional as alias,\n",
    "            0 as is_radical,\n",
    "            1 as is_zi,\n",
    "            0 as is_traditional,\n",
    "            english as desc_en,\n",
    "            1 as is_active\n",
    "        from t_mdbg_dict \n",
    "        where length(traditional) = 1 \n",
    "        order by pinyin  \n",
    "        ;\n",
    "    \"\"\"\n",
    "    df_cedict = pd.read_sql(sql_stmt, _conn)"
   ]
  },
  {
   "cell_type": "code",
   "execution_count": 55,
   "id": "a1701cf0",
   "metadata": {},
   "outputs": [
    {
     "data": {
      "text/html": [
       "<div>\n",
       "<style scoped>\n",
       "    .dataframe tbody tr th:only-of-type {\n",
       "        vertical-align: middle;\n",
       "    }\n",
       "\n",
       "    .dataframe tbody tr th {\n",
       "        vertical-align: top;\n",
       "    }\n",
       "\n",
       "    .dataframe thead th {\n",
       "        text-align: right;\n",
       "    }\n",
       "</style>\n",
       "<table border=\"1\" class=\"dataframe\">\n",
       "  <thead>\n",
       "    <tr style=\"text-align: right;\">\n",
       "      <th></th>\n",
       "      <th>zi</th>\n",
       "      <th>desc</th>\n",
       "      <th>pinyin</th>\n",
       "      <th>nstrokes</th>\n",
       "      <th>alias</th>\n",
       "      <th>is_radical</th>\n",
       "      <th>is_zi</th>\n",
       "      <th>is_traditional</th>\n",
       "      <th>desc_en</th>\n",
       "      <th>is_active</th>\n",
       "    </tr>\n",
       "  </thead>\n",
       "  <tbody>\n",
       "    <tr>\n",
       "      <th>0</th>\n",
       "      <td>A</td>\n",
       "      <td></td>\n",
       "      <td>A</td>\n",
       "      <td>None</td>\n",
       "      <td>A</td>\n",
       "      <td>0</td>\n",
       "      <td>1</td>\n",
       "      <td>0</td>\n",
       "      <td>(slang) (Tw) to steal</td>\n",
       "      <td>1</td>\n",
       "    </tr>\n",
       "    <tr>\n",
       "      <th>1</th>\n",
       "      <td>阿</td>\n",
       "      <td></td>\n",
       "      <td>A1</td>\n",
       "      <td>None</td>\n",
       "      <td>阿</td>\n",
       "      <td>0</td>\n",
       "      <td>1</td>\n",
       "      <td>0</td>\n",
       "      <td>abbr. for Afghanistan 阿富汗[A1 fu4 han4]</td>\n",
       "      <td>1</td>\n",
       "    </tr>\n",
       "    <tr>\n",
       "      <th>2</th>\n",
       "      <td>哀</td>\n",
       "      <td></td>\n",
       "      <td>Ai1</td>\n",
       "      <td>None</td>\n",
       "      <td>哀</td>\n",
       "      <td>0</td>\n",
       "      <td>1</td>\n",
       "      <td>0</td>\n",
       "      <td>Ai (c. 2000 BC), sixth of legendary Flame Empe...</td>\n",
       "      <td>1</td>\n",
       "    </tr>\n",
       "    <tr>\n",
       "      <th>3</th>\n",
       "      <td>埃</td>\n",
       "      <td></td>\n",
       "      <td>Ai1</td>\n",
       "      <td>None</td>\n",
       "      <td>埃</td>\n",
       "      <td>0</td>\n",
       "      <td>1</td>\n",
       "      <td>0</td>\n",
       "      <td>abbr. for Egypt 埃及[Ai1 ji2]</td>\n",
       "      <td>1</td>\n",
       "    </tr>\n",
       "    <tr>\n",
       "      <th>4</th>\n",
       "      <td>毐</td>\n",
       "      <td></td>\n",
       "      <td>Ai3</td>\n",
       "      <td>None</td>\n",
       "      <td>毐</td>\n",
       "      <td>0</td>\n",
       "      <td>1</td>\n",
       "      <td>0</td>\n",
       "      <td>see historical character Lao Ai 嫪毐/by extensio...</td>\n",
       "      <td>1</td>\n",
       "    </tr>\n",
       "    <tr>\n",
       "      <th>...</th>\n",
       "      <td>...</td>\n",
       "      <td>...</td>\n",
       "      <td>...</td>\n",
       "      <td>...</td>\n",
       "      <td>...</td>\n",
       "      <td>...</td>\n",
       "      <td>...</td>\n",
       "      <td>...</td>\n",
       "      <td>...</td>\n",
       "      <td>...</td>\n",
       "    </tr>\n",
       "    <tr>\n",
       "      <th>13559</th>\n",
       "      <td>祚</td>\n",
       "      <td></td>\n",
       "      <td>zuo4</td>\n",
       "      <td>None</td>\n",
       "      <td>祚</td>\n",
       "      <td>0</td>\n",
       "      <td>1</td>\n",
       "      <td>0</td>\n",
       "      <td>blessing/the throne</td>\n",
       "      <td>1</td>\n",
       "    </tr>\n",
       "    <tr>\n",
       "      <th>13560</th>\n",
       "      <td>胙</td>\n",
       "      <td></td>\n",
       "      <td>zuo4</td>\n",
       "      <td>None</td>\n",
       "      <td>胙</td>\n",
       "      <td>0</td>\n",
       "      <td>1</td>\n",
       "      <td>0</td>\n",
       "      <td>to grant or bestow/sacrificial flesh offered t...</td>\n",
       "      <td>1</td>\n",
       "    </tr>\n",
       "    <tr>\n",
       "      <th>13561</th>\n",
       "      <td>葄</td>\n",
       "      <td></td>\n",
       "      <td>zuo4</td>\n",
       "      <td>None</td>\n",
       "      <td>葄</td>\n",
       "      <td>0</td>\n",
       "      <td>1</td>\n",
       "      <td>0</td>\n",
       "      <td>straw cushion/pillow</td>\n",
       "      <td>1</td>\n",
       "    </tr>\n",
       "    <tr>\n",
       "      <th>13562</th>\n",
       "      <td>酢</td>\n",
       "      <td></td>\n",
       "      <td>zuo4</td>\n",
       "      <td>None</td>\n",
       "      <td>酢</td>\n",
       "      <td>0</td>\n",
       "      <td>1</td>\n",
       "      <td>0</td>\n",
       "      <td>toast to host by guest</td>\n",
       "      <td>1</td>\n",
       "    </tr>\n",
       "    <tr>\n",
       "      <th>13563</th>\n",
       "      <td>阼</td>\n",
       "      <td></td>\n",
       "      <td>zuo4</td>\n",
       "      <td>None</td>\n",
       "      <td>阼</td>\n",
       "      <td>0</td>\n",
       "      <td>1</td>\n",
       "      <td>0</td>\n",
       "      <td>steps leading to the eastern door</td>\n",
       "      <td>1</td>\n",
       "    </tr>\n",
       "  </tbody>\n",
       "</table>\n",
       "<p>13564 rows × 10 columns</p>\n",
       "</div>"
      ],
      "text/plain": [
       "      zi desc pinyin nstrokes alias  is_radical  is_zi  is_traditional  \\\n",
       "0      A           A     None     A           0      1               0   \n",
       "1      阿          A1     None     阿           0      1               0   \n",
       "2      哀         Ai1     None     哀           0      1               0   \n",
       "3      埃         Ai1     None     埃           0      1               0   \n",
       "4      毐         Ai3     None     毐           0      1               0   \n",
       "...   ..  ...    ...      ...   ...         ...    ...             ...   \n",
       "13559  祚        zuo4     None     祚           0      1               0   \n",
       "13560  胙        zuo4     None     胙           0      1               0   \n",
       "13561  葄        zuo4     None     葄           0      1               0   \n",
       "13562  酢        zuo4     None     酢           0      1               0   \n",
       "13563  阼        zuo4     None     阼           0      1               0   \n",
       "\n",
       "                                                 desc_en  is_active  \n",
       "0                                  (slang) (Tw) to steal          1  \n",
       "1                 abbr. for Afghanistan 阿富汗[A1 fu4 han4]          1  \n",
       "2      Ai (c. 2000 BC), sixth of legendary Flame Empe...          1  \n",
       "3                            abbr. for Egypt 埃及[Ai1 ji2]          1  \n",
       "4      see historical character Lao Ai 嫪毐/by extensio...          1  \n",
       "...                                                  ...        ...  \n",
       "13559                                blessing/the throne          1  \n",
       "13560  to grant or bestow/sacrificial flesh offered t...          1  \n",
       "13561                               straw cushion/pillow          1  \n",
       "13562                             toast to host by guest          1  \n",
       "13563                  steps leading to the eastern door          1  \n",
       "\n",
       "[13564 rows x 10 columns]"
      ]
     },
     "execution_count": 55,
     "metadata": {},
     "output_type": "execute_result"
    }
   ],
   "source": [
    "df_cedict"
   ]
  },
  {
   "cell_type": "code",
   "execution_count": 56,
   "id": "fe67a7db",
   "metadata": {},
   "outputs": [
    {
     "data": {
      "text/plain": [
       "Index(['zi', 'desc', 'pinyin', 'nstrokes', 'alias', 'is_radical', 'is_zi',\n",
       "       'is_traditional', 'desc_en', 'is_active'],\n",
       "      dtype='object')"
      ]
     },
     "execution_count": 56,
     "metadata": {},
     "output_type": "execute_result"
    }
   ],
   "source": [
    "df_cedict.columns "
   ]
  },
  {
   "cell_type": "code",
   "execution_count": 58,
   "id": "cacd3617",
   "metadata": {},
   "outputs": [],
   "source": [
    "df_cedict.to_csv(\"../resources/zi_cedict.csv\", index=False)"
   ]
  },
  {
   "cell_type": "markdown",
   "id": "4323025f",
   "metadata": {},
   "source": [
    "Edit above spreadsheet and load it into table=t_zi_cedict"
   ]
  },
  {
   "cell_type": "code",
   "execution_count": null,
   "id": "7e59ffcc",
   "metadata": {},
   "outputs": [],
   "source": []
  },
  {
   "cell_type": "markdown",
   "id": "7675204d",
   "metadata": {},
   "source": [
    "### Load Zi of cc_cedict into t_zi_cedict table"
   ]
  },
  {
   "cell_type": "code",
   "execution_count": 1,
   "id": "1002eaa2",
   "metadata": {},
   "outputs": [],
   "source": [
    "file_csv = \"../resources/zi_cedict-revise.csv\"\n",
    "with open(file_csv, encoding=\"utf-8\") as f:\n",
    "    lines = [i.strip() for i in f.read().split(\"\\n\") if i.strip()]"
   ]
  },
  {
   "cell_type": "code",
   "execution_count": 11,
   "id": "acfd9c2a",
   "metadata": {},
   "outputs": [
    {
     "data": {
      "text/plain": [
       "(13528,\n",
       " ['zi\\tdesc\\tpinyin\\tnstrokes\\talias\\tis_radical\\tis_zi\\tis_traditional\\tis_active\\tdesc_en_2\\tdesc_en',\n",
       "  '雏\\t\\tchu2\\t\\t雛\\t0\\t1\\t0\\t\\t young bird\\t(bound form) chick',\n",
       "  '仍\\t\\treng2\\t\\t仍\\t0\\t1\\t0\\t\\t yet/to remain/(literary) frequently\\tstill',\n",
       "  '但\\t\\tdan4\\t\\t但\\t0\\t1\\t0\\t\\t yet\\tbut'],\n",
       " ['豳\\t\\tBin1\\t\\t豳\\t0\\t1\\t0\\t0\\t\\tname of an ancient county in Shaanxi/variant of 彬[bin1]',\n",
       "  '鼂\\t\\tChao2\\t\\t鼂\\t0\\t1\\t0\\t0\\t\\tsurname Chao',\n",
       "  '爨\\t\\tCuan4\\t\\t爨\\t0\\t1\\t0\\t0\\t\\tsurname Cuan',\n",
       "  '甪\\t\\tLu4\\t\\t甪\\t0\\t1\\t0\\t0\\t\\tsurname Lu/place name'])"
      ]
     },
     "execution_count": 11,
     "metadata": {},
     "output_type": "execute_result"
    }
   ],
   "source": [
    "len(lines), lines[:4], lines[-4:]"
   ]
  },
  {
   "cell_type": "code",
   "execution_count": 3,
   "id": "0f65f510",
   "metadata": {},
   "outputs": [],
   "source": [
    "headers = lines[0].split(\"\\t\")"
   ]
  },
  {
   "cell_type": "code",
   "execution_count": 4,
   "id": "caf01e2a",
   "metadata": {},
   "outputs": [
    {
     "data": {
      "text/plain": [
       "['zi',\n",
       " 'desc',\n",
       " 'pinyin',\n",
       " 'nstrokes',\n",
       " 'alias',\n",
       " 'is_radical',\n",
       " 'is_zi',\n",
       " 'is_traditional',\n",
       " 'is_active',\n",
       " 'desc_en_2',\n",
       " 'desc_en']"
      ]
     },
     "execution_count": 4,
     "metadata": {},
     "output_type": "execute_result"
    }
   ],
   "source": [
    "headers"
   ]
  },
  {
   "cell_type": "code",
   "execution_count": 6,
   "id": "3fbf3fe6",
   "metadata": {},
   "outputs": [],
   "source": [
    "col_map = {}\n",
    "for n,col in enumerate(headers):\n",
    "    col_map[col] = n "
   ]
  },
  {
   "cell_type": "code",
   "execution_count": 30,
   "id": "023ad8e7",
   "metadata": {},
   "outputs": [],
   "source": [
    "zi_headers = ['zi',\n",
    " 'desc',\n",
    " 'pinyin',\n",
    " 'nstrokes',\n",
    " 'alias',\n",
    " 'is_radical',\n",
    " 'is_zi',\n",
    " 'is_traditional',\n",
    " 'is_active',\n",
    " 'desc_en']"
   ]
  },
  {
   "cell_type": "code",
   "execution_count": 31,
   "id": "6b5a07ce",
   "metadata": {},
   "outputs": [],
   "source": [
    "def parse_line_zi(line):\n",
    "    vals = line.split(\"\\t\")\n",
    "    if vals[col_map[\"is_active\"]] == \"\":\n",
    "        vals[col_map[\"is_active\"]] = \"1\"\n",
    "        \n",
    "    if vals[col_map[\"desc_en_2\"]]:\n",
    "        vals[col_map[\"desc_en\"]] += \"; \" + vals[col_map[\"desc_en_2\"]]\n",
    "    temp = vals[:col_map[\"desc_en_2\"]] + vals[(col_map[\"desc_en_2\"]+1):]\n",
    "    if len(temp) > len(zi_headers):\n",
    "        # concat remainders\n",
    "        temp_2 = []\n",
    "        for i in temp[len(zi_headers)-1:]:\n",
    "            if not i or i == \"1\": continue \n",
    "            temp_2.append(i)\n",
    "        return temp[:len(zi_headers)-1] + [\" \".join(temp_2)]\n",
    "    else:\n",
    "        return temp  "
   ]
  },
  {
   "cell_type": "code",
   "execution_count": 32,
   "id": "e4f040f0",
   "metadata": {},
   "outputs": [
    {
     "data": {
      "text/plain": [
       "(10,\n",
       " ['雏',\n",
       "  '',\n",
       "  'chu2',\n",
       "  '',\n",
       "  '雛',\n",
       "  '0',\n",
       "  '1',\n",
       "  '0',\n",
       "  '1',\n",
       "  '(bound form) chick;  young bird'])"
      ]
     },
     "execution_count": 32,
     "metadata": {},
     "output_type": "execute_result"
    }
   ],
   "source": [
    "line = '雏\\t\\tchu2\\t\\t雛\\t0\\t1\\t0\\t\\t young bird\\t(bound form) chick'\n",
    "x = parse_line_zi(line)\n",
    "len(x), x"
   ]
  },
  {
   "cell_type": "raw",
   "id": "348f87aa",
   "metadata": {},
   "source": [
    "line = '甪\\t\\tLu4\\t\\t甪\\t0\\t1\\t0\\t0\\t\\tsurname Lu/place name'\n",
    "x = parse_line_zi(line)\n",
    "len(x), x"
   ]
  },
  {
   "cell_type": "code",
   "execution_count": 33,
   "id": "14c795b5",
   "metadata": {},
   "outputs": [],
   "source": [
    "zi_data = []\n",
    "for line in lines[1:]:\n",
    "    zi_data.append(parse_line_zi(line))"
   ]
  },
  {
   "cell_type": "code",
   "execution_count": 34,
   "id": "b135458a",
   "metadata": {},
   "outputs": [
    {
     "data": {
      "text/plain": [
       "(13527,\n",
       " [['雏',\n",
       "   '',\n",
       "   'chu2',\n",
       "   '',\n",
       "   '雛',\n",
       "   '0',\n",
       "   '1',\n",
       "   '0',\n",
       "   '1',\n",
       "   '(bound form) chick;  young bird'],\n",
       "  ['仍',\n",
       "   '',\n",
       "   'reng2',\n",
       "   '',\n",
       "   '仍',\n",
       "   '0',\n",
       "   '1',\n",
       "   '0',\n",
       "   '1',\n",
       "   'still;  yet/to remain/(literary) frequently'],\n",
       "  ['但', '', 'dan4', '', '但', '0', '1', '0', '1', 'but;  yet']],\n",
       " [['鼂', '', 'Chao2', '', '鼂', '0', '1', '0', '0', 'surname Chao'],\n",
       "  ['爨', '', 'Cuan4', '', '爨', '0', '1', '0', '0', 'surname Cuan'],\n",
       "  ['甪', '', 'Lu4', '', '甪', '0', '1', '0', '0', 'surname Lu/place name']])"
      ]
     },
     "execution_count": 34,
     "metadata": {},
     "output_type": "execute_result"
    }
   ],
   "source": [
    "len(zi_data), zi_data[:3], zi_data[-3:]"
   ]
  },
  {
   "cell_type": "code",
   "execution_count": null,
   "id": "5501902d",
   "metadata": {},
   "outputs": [],
   "source": []
  },
  {
   "cell_type": "code",
   "execution_count": 35,
   "id": "5d3e9d14",
   "metadata": {},
   "outputs": [
    {
     "data": {
      "text/plain": [
       "10"
      ]
     },
     "execution_count": 35,
     "metadata": {},
     "output_type": "execute_result"
    }
   ],
   "source": [
    "len(zi_headers)"
   ]
  },
  {
   "cell_type": "code",
   "execution_count": 36,
   "id": "080a7b4d",
   "metadata": {},
   "outputs": [],
   "source": [
    "for i in zi_data:\n",
    "    if len(i) != len(zi_headers):\n",
    "        print(i)"
   ]
  },
  {
   "cell_type": "code",
   "execution_count": 37,
   "id": "06a42e3e",
   "metadata": {},
   "outputs": [],
   "source": [
    "df = pd.DataFrame(zi_data, columns=zi_headers)"
   ]
  },
  {
   "cell_type": "code",
   "execution_count": 38,
   "id": "f51fc038",
   "metadata": {},
   "outputs": [
    {
     "data": {
      "text/html": [
       "<div>\n",
       "<style scoped>\n",
       "    .dataframe tbody tr th:only-of-type {\n",
       "        vertical-align: middle;\n",
       "    }\n",
       "\n",
       "    .dataframe tbody tr th {\n",
       "        vertical-align: top;\n",
       "    }\n",
       "\n",
       "    .dataframe thead th {\n",
       "        text-align: right;\n",
       "    }\n",
       "</style>\n",
       "<table border=\"1\" class=\"dataframe\">\n",
       "  <thead>\n",
       "    <tr style=\"text-align: right;\">\n",
       "      <th></th>\n",
       "      <th>zi</th>\n",
       "      <th>desc</th>\n",
       "      <th>pinyin</th>\n",
       "      <th>nstrokes</th>\n",
       "      <th>alias</th>\n",
       "      <th>is_radical</th>\n",
       "      <th>is_zi</th>\n",
       "      <th>is_traditional</th>\n",
       "      <th>is_active</th>\n",
       "      <th>desc_en</th>\n",
       "    </tr>\n",
       "  </thead>\n",
       "  <tbody>\n",
       "    <tr>\n",
       "      <th>0</th>\n",
       "      <td>雏</td>\n",
       "      <td></td>\n",
       "      <td>chu2</td>\n",
       "      <td></td>\n",
       "      <td>雛</td>\n",
       "      <td>0</td>\n",
       "      <td>1</td>\n",
       "      <td>0</td>\n",
       "      <td>1</td>\n",
       "      <td>(bound form) chick;  young bird</td>\n",
       "    </tr>\n",
       "    <tr>\n",
       "      <th>1</th>\n",
       "      <td>仍</td>\n",
       "      <td></td>\n",
       "      <td>reng2</td>\n",
       "      <td></td>\n",
       "      <td>仍</td>\n",
       "      <td>0</td>\n",
       "      <td>1</td>\n",
       "      <td>0</td>\n",
       "      <td>1</td>\n",
       "      <td>still;  yet/to remain/(literary) frequently</td>\n",
       "    </tr>\n",
       "    <tr>\n",
       "      <th>2</th>\n",
       "      <td>但</td>\n",
       "      <td></td>\n",
       "      <td>dan4</td>\n",
       "      <td></td>\n",
       "      <td>但</td>\n",
       "      <td>0</td>\n",
       "      <td>1</td>\n",
       "      <td>0</td>\n",
       "      <td>1</td>\n",
       "      <td>but;  yet</td>\n",
       "    </tr>\n",
       "    <tr>\n",
       "      <th>3</th>\n",
       "      <td>脩</td>\n",
       "      <td></td>\n",
       "      <td>xiu1</td>\n",
       "      <td></td>\n",
       "      <td>脩</td>\n",
       "      <td>0</td>\n",
       "      <td>1</td>\n",
       "      <td>0</td>\n",
       "      <td>1</td>\n",
       "      <td>dried meat presented by pupils to their teache...</td>\n",
       "    </tr>\n",
       "    <tr>\n",
       "      <th>4</th>\n",
       "      <td>智</td>\n",
       "      <td></td>\n",
       "      <td>zhi4</td>\n",
       "      <td></td>\n",
       "      <td>智</td>\n",
       "      <td>0</td>\n",
       "      <td>1</td>\n",
       "      <td>0</td>\n",
       "      <td>1</td>\n",
       "      <td>(literary) wise;  wisdom</td>\n",
       "    </tr>\n",
       "    <tr>\n",
       "      <th>...</th>\n",
       "      <td>...</td>\n",
       "      <td>...</td>\n",
       "      <td>...</td>\n",
       "      <td>...</td>\n",
       "      <td>...</td>\n",
       "      <td>...</td>\n",
       "      <td>...</td>\n",
       "      <td>...</td>\n",
       "      <td>...</td>\n",
       "      <td>...</td>\n",
       "    </tr>\n",
       "    <tr>\n",
       "      <th>13522</th>\n",
       "      <td>卬</td>\n",
       "      <td></td>\n",
       "      <td>Ang2</td>\n",
       "      <td></td>\n",
       "      <td>卬</td>\n",
       "      <td>0</td>\n",
       "      <td>1</td>\n",
       "      <td>0</td>\n",
       "      <td>0</td>\n",
       "      <td>surname Ang</td>\n",
       "    </tr>\n",
       "    <tr>\n",
       "      <th>13523</th>\n",
       "      <td>豳</td>\n",
       "      <td></td>\n",
       "      <td>Bin1</td>\n",
       "      <td></td>\n",
       "      <td>豳</td>\n",
       "      <td>0</td>\n",
       "      <td>1</td>\n",
       "      <td>0</td>\n",
       "      <td>0</td>\n",
       "      <td>name of an ancient county in Shaanxi/variant o...</td>\n",
       "    </tr>\n",
       "    <tr>\n",
       "      <th>13524</th>\n",
       "      <td>鼂</td>\n",
       "      <td></td>\n",
       "      <td>Chao2</td>\n",
       "      <td></td>\n",
       "      <td>鼂</td>\n",
       "      <td>0</td>\n",
       "      <td>1</td>\n",
       "      <td>0</td>\n",
       "      <td>0</td>\n",
       "      <td>surname Chao</td>\n",
       "    </tr>\n",
       "    <tr>\n",
       "      <th>13525</th>\n",
       "      <td>爨</td>\n",
       "      <td></td>\n",
       "      <td>Cuan4</td>\n",
       "      <td></td>\n",
       "      <td>爨</td>\n",
       "      <td>0</td>\n",
       "      <td>1</td>\n",
       "      <td>0</td>\n",
       "      <td>0</td>\n",
       "      <td>surname Cuan</td>\n",
       "    </tr>\n",
       "    <tr>\n",
       "      <th>13526</th>\n",
       "      <td>甪</td>\n",
       "      <td></td>\n",
       "      <td>Lu4</td>\n",
       "      <td></td>\n",
       "      <td>甪</td>\n",
       "      <td>0</td>\n",
       "      <td>1</td>\n",
       "      <td>0</td>\n",
       "      <td>0</td>\n",
       "      <td>surname Lu/place name</td>\n",
       "    </tr>\n",
       "  </tbody>\n",
       "</table>\n",
       "<p>13527 rows × 10 columns</p>\n",
       "</div>"
      ],
      "text/plain": [
       "      zi desc pinyin nstrokes alias is_radical is_zi is_traditional is_active  \\\n",
       "0      雏        chu2              雛          0     1              0         1   \n",
       "1      仍       reng2              仍          0     1              0         1   \n",
       "2      但        dan4              但          0     1              0         1   \n",
       "3      脩        xiu1              脩          0     1              0         1   \n",
       "4      智        zhi4              智          0     1              0         1   \n",
       "...   ..  ...    ...      ...   ...        ...   ...            ...       ...   \n",
       "13522  卬        Ang2              卬          0     1              0         0   \n",
       "13523  豳        Bin1              豳          0     1              0         0   \n",
       "13524  鼂       Chao2              鼂          0     1              0         0   \n",
       "13525  爨       Cuan4              爨          0     1              0         0   \n",
       "13526  甪         Lu4              甪          0     1              0         0   \n",
       "\n",
       "                                                 desc_en  \n",
       "0                        (bound form) chick;  young bird  \n",
       "1            still;  yet/to remain/(literary) frequently  \n",
       "2                                              but;  yet  \n",
       "3      dried meat presented by pupils to their teache...  \n",
       "4                               (literary) wise;  wisdom  \n",
       "...                                                  ...  \n",
       "13522                                        surname Ang  \n",
       "13523  name of an ancient county in Shaanxi/variant o...  \n",
       "13524                                       surname Chao  \n",
       "13525                                       surname Cuan  \n",
       "13526                              surname Lu/place name  \n",
       "\n",
       "[13527 rows x 10 columns]"
      ]
     },
     "execution_count": 38,
     "metadata": {},
     "output_type": "execute_result"
    }
   ],
   "source": [
    "df "
   ]
  },
  {
   "cell_type": "code",
   "execution_count": 40,
   "id": "cfb4f45f",
   "metadata": {},
   "outputs": [],
   "source": [
    "with DBConn(db_file=\"zinets.sqlite\") as _conn:\n",
    "    df.to_sql(\"t_zi_cedict\", con=_conn, if_exists=\"append\", index=False)"
   ]
  },
  {
   "cell_type": "markdown",
   "id": "c218c615",
   "metadata": {},
   "source": [
    "#### export duplicates from t_zi_cedict table"
   ]
  },
  {
   "cell_type": "code",
   "execution_count": 3,
   "id": "87fe1b2c",
   "metadata": {},
   "outputs": [],
   "source": [
    "sql_stmt = \"\"\"\n",
    "with dup as (\n",
    "\tselect zi,count(*) from t_zi_cedict group by zi having count(*) > 1\n",
    ")\n",
    "select \n",
    "    id, zi,alias,pinyin,is_radical,\n",
    "    0 as is_active\n",
    "    , desc_en\n",
    "from t_zi_cedict where zi in (\n",
    "\tselect zi from dup\n",
    ")\n",
    "order by zi,pinyin\n",
    ";\n",
    "\"\"\""
   ]
  },
  {
   "cell_type": "code",
   "execution_count": 4,
   "id": "c522df1d",
   "metadata": {},
   "outputs": [],
   "source": [
    "with DBConn(db_file=\"zinets.sqlite\") as _conn:\n",
    "    df_dup = pd.read_sql(sql_stmt, _conn)"
   ]
  },
  {
   "cell_type": "code",
   "execution_count": 5,
   "id": "b5f1d174",
   "metadata": {},
   "outputs": [
    {
     "data": {
      "text/html": [
       "<div>\n",
       "<style scoped>\n",
       "    .dataframe tbody tr th:only-of-type {\n",
       "        vertical-align: middle;\n",
       "    }\n",
       "\n",
       "    .dataframe tbody tr th {\n",
       "        vertical-align: top;\n",
       "    }\n",
       "\n",
       "    .dataframe thead th {\n",
       "        text-align: right;\n",
       "    }\n",
       "</style>\n",
       "<table border=\"1\" class=\"dataframe\">\n",
       "  <thead>\n",
       "    <tr style=\"text-align: right;\">\n",
       "      <th></th>\n",
       "      <th>id</th>\n",
       "      <th>zi</th>\n",
       "      <th>alias</th>\n",
       "      <th>pinyin</th>\n",
       "      <th>is_radical</th>\n",
       "      <th>is_active</th>\n",
       "      <th>desc_en</th>\n",
       "    </tr>\n",
       "  </thead>\n",
       "  <tbody>\n",
       "    <tr>\n",
       "      <th>0</th>\n",
       "      <td>1756</td>\n",
       "      <td>□</td>\n",
       "      <td>□</td>\n",
       "      <td>biang4</td>\n",
       "      <td>0</td>\n",
       "      <td>0</td>\n",
       "      <td>(Tw) (coll.) cool/awesome/(etymologically, a c...</td>\n",
       "    </tr>\n",
       "    <tr>\n",
       "      <th>1</th>\n",
       "      <td>1851</td>\n",
       "      <td>□</td>\n",
       "      <td>□</td>\n",
       "      <td>biu1</td>\n",
       "      <td>0</td>\n",
       "      <td>0</td>\n",
       "      <td>(onom.) pew! (sound of a bullet fired from a g...</td>\n",
       "    </tr>\n",
       "    <tr>\n",
       "      <th>2</th>\n",
       "      <td>3974</td>\n",
       "      <td>□</td>\n",
       "      <td>□</td>\n",
       "      <td>ging1</td>\n",
       "      <td>0</td>\n",
       "      <td>0</td>\n",
       "      <td>uptight; obstinate; to awkwardly force oneself...</td>\n",
       "    </tr>\n",
       "    <tr>\n",
       "      <th>3</th>\n",
       "      <td>1298</td>\n",
       "      <td>㝵</td>\n",
       "      <td>㝵</td>\n",
       "      <td>ai4</td>\n",
       "      <td>0</td>\n",
       "      <td>0</td>\n",
       "      <td>variant of 礙|碍[ai4]</td>\n",
       "    </tr>\n",
       "    <tr>\n",
       "      <th>4</th>\n",
       "      <td>2895</td>\n",
       "      <td>㝵</td>\n",
       "      <td>㝵</td>\n",
       "      <td>de2</td>\n",
       "      <td>0</td>\n",
       "      <td>0</td>\n",
       "      <td>to obtain (old variant of 得[de2])</td>\n",
       "    </tr>\n",
       "    <tr>\n",
       "      <th>...</th>\n",
       "      <td>...</td>\n",
       "      <td>...</td>\n",
       "      <td>...</td>\n",
       "      <td>...</td>\n",
       "      <td>...</td>\n",
       "      <td>...</td>\n",
       "      <td>...</td>\n",
       "    </tr>\n",
       "    <tr>\n",
       "      <th>4603</th>\n",
       "      <td>4411</td>\n",
       "      <td>𬮤</td>\n",
       "      <td>閤</td>\n",
       "      <td>he2</td>\n",
       "      <td>0</td>\n",
       "      <td>0</td>\n",
       "      <td>variant of 闔|阖[he2]  smooth/sly  slippery  not...</td>\n",
       "    </tr>\n",
       "    <tr>\n",
       "      <th>4604</th>\n",
       "      <td>1141</td>\n",
       "      <td>𬮱</td>\n",
       "      <td>闉</td>\n",
       "      <td>yin1</td>\n",
       "      <td>0</td>\n",
       "      <td>0</td>\n",
       "      <td>surname Yin</td>\n",
       "    </tr>\n",
       "    <tr>\n",
       "      <th>4605</th>\n",
       "      <td>12004</td>\n",
       "      <td>𬮱</td>\n",
       "      <td>闉</td>\n",
       "      <td>yin1</td>\n",
       "      <td>0</td>\n",
       "      <td>0</td>\n",
       "      <td>inner gates</td>\n",
       "    </tr>\n",
       "    <tr>\n",
       "      <th>4606</th>\n",
       "      <td>1132</td>\n",
       "      <td>𬺈</td>\n",
       "      <td>齮</td>\n",
       "      <td>yi3</td>\n",
       "      <td>0</td>\n",
       "      <td>0</td>\n",
       "      <td>surname Yi</td>\n",
       "    </tr>\n",
       "    <tr>\n",
       "      <th>4607</th>\n",
       "      <td>11881</td>\n",
       "      <td>𬺈</td>\n",
       "      <td>齮</td>\n",
       "      <td>yi3</td>\n",
       "      <td>0</td>\n",
       "      <td>0</td>\n",
       "      <td>to bite</td>\n",
       "    </tr>\n",
       "  </tbody>\n",
       "</table>\n",
       "<p>4608 rows × 7 columns</p>\n",
       "</div>"
      ],
      "text/plain": [
       "         id zi alias  pinyin is_radical  is_active  \\\n",
       "0      1756  □     □  biang4          0          0   \n",
       "1      1851  □     □    biu1          0          0   \n",
       "2      3974  □     □   ging1          0          0   \n",
       "3      1298  㝵     㝵     ai4          0          0   \n",
       "4      2895  㝵     㝵     de2          0          0   \n",
       "...     ... ..   ...     ...        ...        ...   \n",
       "4603   4411  𬮤     閤     he2          0          0   \n",
       "4604   1141  𬮱     闉    yin1          0          0   \n",
       "4605  12004  𬮱     闉    yin1          0          0   \n",
       "4606   1132  𬺈     齮     yi3          0          0   \n",
       "4607  11881  𬺈     齮     yi3          0          0   \n",
       "\n",
       "                                                desc_en  \n",
       "0     (Tw) (coll.) cool/awesome/(etymologically, a c...  \n",
       "1     (onom.) pew! (sound of a bullet fired from a g...  \n",
       "2     uptight; obstinate; to awkwardly force oneself...  \n",
       "3                                   variant of 礙|碍[ai4]  \n",
       "4                     to obtain (old variant of 得[de2])  \n",
       "...                                                 ...  \n",
       "4603  variant of 闔|阖[he2]  smooth/sly  slippery  not...  \n",
       "4604                                        surname Yin  \n",
       "4605                                        inner gates  \n",
       "4606                                         surname Yi  \n",
       "4607                                            to bite  \n",
       "\n",
       "[4608 rows x 7 columns]"
      ]
     },
     "execution_count": 5,
     "metadata": {},
     "output_type": "execute_result"
    }
   ],
   "source": [
    "df_dup  "
   ]
  },
  {
   "cell_type": "code",
   "execution_count": 6,
   "id": "6b5c60cc",
   "metadata": {},
   "outputs": [],
   "source": [
    "file_csv = \"../resources/zi_cedict-dup.csv\"\n",
    "df_dup.to_csv(file_csv, sep='\\t', encoding='utf-8', index=False)"
   ]
  },
  {
   "cell_type": "markdown",
   "id": "393d41b6",
   "metadata": {},
   "source": [
    "manually edit duplicate files, then update back to set is_active=1 for those Zi to keep,\n",
    "\n",
    "2023-08-30: @line 570"
   ]
  },
  {
   "cell_type": "code",
   "execution_count": null,
   "id": "4ccf4cde",
   "metadata": {},
   "outputs": [],
   "source": []
  }
 ],
 "metadata": {
  "kernelspec": {
   "display_name": "Python 3 (ipykernel)",
   "language": "python",
   "name": "python3"
  },
  "language_info": {
   "codemirror_mode": {
    "name": "ipython",
    "version": 3
   },
   "file_extension": ".py",
   "mimetype": "text/x-python",
   "name": "python",
   "nbconvert_exporter": "python",
   "pygments_lexer": "ipython3",
   "version": "3.9.13"
  },
  "nbTranslate": {
   "displayLangs": [
    "*"
   ],
   "hotkey": "alt-t",
   "langInMainMenu": true,
   "sourceLang": "en",
   "targetLang": "fr",
   "useGoogleTranslate": true
  },
  "toc": {
   "base_numbering": 1,
   "nav_menu": {},
   "number_sections": true,
   "sideBar": true,
   "skip_h1_title": false,
   "title_cell": "Table of Contents",
   "title_sidebar": "Contents",
   "toc_cell": false,
   "toc_position": {},
   "toc_section_display": true,
   "toc_window_display": false
  }
 },
 "nbformat": 4,
 "nbformat_minor": 5
}
